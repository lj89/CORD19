{
  "nbformat": 4,
  "nbformat_minor": 0,
  "metadata": {
    "kernelspec": {
      "display_name": "Python 3",
      "language": "python",
      "name": "python3"
    },
    "language_info": {
      "codemirror_mode": {
        "name": "ipython",
        "version": 3
      },
      "file_extension": ".py",
      "mimetype": "text/x-python",
      "name": "python",
      "nbconvert_exporter": "python",
      "pygments_lexer": "ipython3",
      "version": "3.6.5"
    },
    "colab": {
      "name": "T5 validation of Question Answering Outputs.ipynb",
      "provenance": [],
      "collapsed_sections": [],
      "include_colab_link": true
    },
    "widgets": {
      "application/vnd.jupyter.widget-state+json": {
        "e64354df4bc5415292e40443385e7115": {
          "model_module": "@jupyter-widgets/controls",
          "model_name": "HBoxModel",
          "state": {
            "_view_name": "HBoxView",
            "_dom_classes": [],
            "_model_name": "HBoxModel",
            "_view_module": "@jupyter-widgets/controls",
            "_model_module_version": "1.5.0",
            "_view_count": null,
            "_view_module_version": "1.5.0",
            "box_style": "",
            "layout": "IPY_MODEL_3c9a2c63b4544dddae029695206fc6ab",
            "_model_module": "@jupyter-widgets/controls",
            "children": [
              "IPY_MODEL_4e1e123b256c4e18bd82a60c624ac2f8",
              "IPY_MODEL_22dec36ac3ef43c5b87d14acfa1b0b5c"
            ]
          }
        },
        "3c9a2c63b4544dddae029695206fc6ab": {
          "model_module": "@jupyter-widgets/base",
          "model_name": "LayoutModel",
          "state": {
            "_view_name": "LayoutView",
            "grid_template_rows": null,
            "right": null,
            "justify_content": null,
            "_view_module": "@jupyter-widgets/base",
            "overflow": null,
            "_model_module_version": "1.2.0",
            "_view_count": null,
            "flex_flow": null,
            "width": null,
            "min_width": null,
            "border": null,
            "align_items": null,
            "bottom": null,
            "_model_module": "@jupyter-widgets/base",
            "top": null,
            "grid_column": null,
            "overflow_y": null,
            "overflow_x": null,
            "grid_auto_flow": null,
            "grid_area": null,
            "grid_template_columns": null,
            "flex": null,
            "_model_name": "LayoutModel",
            "justify_items": null,
            "grid_row": null,
            "max_height": null,
            "align_content": null,
            "visibility": null,
            "align_self": null,
            "height": null,
            "min_height": null,
            "padding": null,
            "grid_auto_rows": null,
            "grid_gap": null,
            "max_width": null,
            "order": null,
            "_view_module_version": "1.2.0",
            "grid_template_areas": null,
            "object_position": null,
            "object_fit": null,
            "grid_auto_columns": null,
            "margin": null,
            "display": null,
            "left": null
          }
        },
        "4e1e123b256c4e18bd82a60c624ac2f8": {
          "model_module": "@jupyter-widgets/controls",
          "model_name": "IntProgressModel",
          "state": {
            "_view_name": "ProgressView",
            "style": "IPY_MODEL_9ec6b8df88c94bc49640d7e4abc98343",
            "_dom_classes": [],
            "description": "Downloading: 100%",
            "_model_name": "IntProgressModel",
            "bar_style": "success",
            "max": 230,
            "_view_module": "@jupyter-widgets/controls",
            "_model_module_version": "1.5.0",
            "value": 230,
            "_view_count": null,
            "_view_module_version": "1.5.0",
            "orientation": "horizontal",
            "min": 0,
            "description_tooltip": null,
            "_model_module": "@jupyter-widgets/controls",
            "layout": "IPY_MODEL_d09bf42dd05043dead78f5c09d042652"
          }
        },
        "22dec36ac3ef43c5b87d14acfa1b0b5c": {
          "model_module": "@jupyter-widgets/controls",
          "model_name": "HTMLModel",
          "state": {
            "_view_name": "HTMLView",
            "style": "IPY_MODEL_5205fbb34e1f413ebc860df06e9dc495",
            "_dom_classes": [],
            "description": "",
            "_model_name": "HTMLModel",
            "placeholder": "​",
            "_view_module": "@jupyter-widgets/controls",
            "_model_module_version": "1.5.0",
            "value": " 230/230 [00:00&lt;00:00, 353B/s]",
            "_view_count": null,
            "_view_module_version": "1.5.0",
            "description_tooltip": null,
            "_model_module": "@jupyter-widgets/controls",
            "layout": "IPY_MODEL_11578f616ee8422aa30cc6a6d5fc434c"
          }
        },
        "9ec6b8df88c94bc49640d7e4abc98343": {
          "model_module": "@jupyter-widgets/controls",
          "model_name": "ProgressStyleModel",
          "state": {
            "_view_name": "StyleView",
            "_model_name": "ProgressStyleModel",
            "description_width": "initial",
            "_view_module": "@jupyter-widgets/base",
            "_model_module_version": "1.5.0",
            "_view_count": null,
            "_view_module_version": "1.2.0",
            "bar_color": null,
            "_model_module": "@jupyter-widgets/controls"
          }
        },
        "d09bf42dd05043dead78f5c09d042652": {
          "model_module": "@jupyter-widgets/base",
          "model_name": "LayoutModel",
          "state": {
            "_view_name": "LayoutView",
            "grid_template_rows": null,
            "right": null,
            "justify_content": null,
            "_view_module": "@jupyter-widgets/base",
            "overflow": null,
            "_model_module_version": "1.2.0",
            "_view_count": null,
            "flex_flow": null,
            "width": null,
            "min_width": null,
            "border": null,
            "align_items": null,
            "bottom": null,
            "_model_module": "@jupyter-widgets/base",
            "top": null,
            "grid_column": null,
            "overflow_y": null,
            "overflow_x": null,
            "grid_auto_flow": null,
            "grid_area": null,
            "grid_template_columns": null,
            "flex": null,
            "_model_name": "LayoutModel",
            "justify_items": null,
            "grid_row": null,
            "max_height": null,
            "align_content": null,
            "visibility": null,
            "align_self": null,
            "height": null,
            "min_height": null,
            "padding": null,
            "grid_auto_rows": null,
            "grid_gap": null,
            "max_width": null,
            "order": null,
            "_view_module_version": "1.2.0",
            "grid_template_areas": null,
            "object_position": null,
            "object_fit": null,
            "grid_auto_columns": null,
            "margin": null,
            "display": null,
            "left": null
          }
        },
        "5205fbb34e1f413ebc860df06e9dc495": {
          "model_module": "@jupyter-widgets/controls",
          "model_name": "DescriptionStyleModel",
          "state": {
            "_view_name": "StyleView",
            "_model_name": "DescriptionStyleModel",
            "description_width": "",
            "_view_module": "@jupyter-widgets/base",
            "_model_module_version": "1.5.0",
            "_view_count": null,
            "_view_module_version": "1.2.0",
            "_model_module": "@jupyter-widgets/controls"
          }
        },
        "11578f616ee8422aa30cc6a6d5fc434c": {
          "model_module": "@jupyter-widgets/base",
          "model_name": "LayoutModel",
          "state": {
            "_view_name": "LayoutView",
            "grid_template_rows": null,
            "right": null,
            "justify_content": null,
            "_view_module": "@jupyter-widgets/base",
            "overflow": null,
            "_model_module_version": "1.2.0",
            "_view_count": null,
            "flex_flow": null,
            "width": null,
            "min_width": null,
            "border": null,
            "align_items": null,
            "bottom": null,
            "_model_module": "@jupyter-widgets/base",
            "top": null,
            "grid_column": null,
            "overflow_y": null,
            "overflow_x": null,
            "grid_auto_flow": null,
            "grid_area": null,
            "grid_template_columns": null,
            "flex": null,
            "_model_name": "LayoutModel",
            "justify_items": null,
            "grid_row": null,
            "max_height": null,
            "align_content": null,
            "visibility": null,
            "align_self": null,
            "height": null,
            "min_height": null,
            "padding": null,
            "grid_auto_rows": null,
            "grid_gap": null,
            "max_width": null,
            "order": null,
            "_view_module_version": "1.2.0",
            "grid_template_areas": null,
            "object_position": null,
            "object_fit": null,
            "grid_auto_columns": null,
            "margin": null,
            "display": null,
            "left": null
          }
        }
      }
    }
  },
  "cells": [
    {
      "cell_type": "markdown",
      "metadata": {
        "id": "view-in-github",
        "colab_type": "text"
      },
      "source": [
        "<a href=\"https://colab.research.google.com/github/lj89/CORD19/blob/master/T5_validation_of_Question_Answering_Outputs.ipynb\" target=\"_parent\"><img src=\"https://colab.research.google.com/assets/colab-badge.svg\" alt=\"Open In Colab\"/></a>"
      ]
    },
    {
      "cell_type": "code",
      "metadata": {
        "id": "mxsSu6YvMj6Y",
        "colab_type": "code",
        "outputId": "104b91c3-e8b8-4a0f-bd1c-092e5039c21a",
        "colab": {
          "base_uri": "https://localhost:8080/",
          "height": 1000
        }
      },
      "source": [
        "!pip install tensorflow==2.1"
      ],
      "execution_count": 0,
      "outputs": [
        {
          "output_type": "stream",
          "text": [
            "Collecting tensorflow==2.1\n",
            "\u001b[?25l  Downloading https://files.pythonhosted.org/packages/85/d4/c0cd1057b331bc38b65478302114194bd8e1b9c2bbc06e300935c0e93d90/tensorflow-2.1.0-cp36-cp36m-manylinux2010_x86_64.whl (421.8MB)\n",
            "\u001b[K     |████████████████████████████████| 421.8MB 37kB/s \n",
            "\u001b[?25hRequirement already satisfied: six>=1.12.0 in /usr/local/lib/python3.6/dist-packages (from tensorflow==2.1) (1.12.0)\n",
            "Requirement already satisfied: numpy<2.0,>=1.16.0 in /usr/local/lib/python3.6/dist-packages (from tensorflow==2.1) (1.18.2)\n",
            "Collecting gast==0.2.2\n",
            "  Downloading https://files.pythonhosted.org/packages/4e/35/11749bf99b2d4e3cceb4d55ca22590b0d7c2c62b9de38ac4a4a7f4687421/gast-0.2.2.tar.gz\n",
            "Requirement already satisfied: google-pasta>=0.1.6 in /usr/local/lib/python3.6/dist-packages (from tensorflow==2.1) (0.2.0)\n",
            "Requirement already satisfied: protobuf>=3.8.0 in /usr/local/lib/python3.6/dist-packages (from tensorflow==2.1) (3.10.0)\n",
            "Requirement already satisfied: keras-applications>=1.0.8 in /usr/local/lib/python3.6/dist-packages (from tensorflow==2.1) (1.0.8)\n",
            "Collecting tensorflow-estimator<2.2.0,>=2.1.0rc0\n",
            "\u001b[?25l  Downloading https://files.pythonhosted.org/packages/18/90/b77c328a1304437ab1310b463e533fa7689f4bfc41549593056d812fab8e/tensorflow_estimator-2.1.0-py2.py3-none-any.whl (448kB)\n",
            "\u001b[K     |████████████████████████████████| 450kB 47.3MB/s \n",
            "\u001b[?25hRequirement already satisfied: termcolor>=1.1.0 in /usr/local/lib/python3.6/dist-packages (from tensorflow==2.1) (1.1.0)\n",
            "Requirement already satisfied: keras-preprocessing>=1.1.0 in /usr/local/lib/python3.6/dist-packages (from tensorflow==2.1) (1.1.0)\n",
            "Requirement already satisfied: wrapt>=1.11.1 in /usr/local/lib/python3.6/dist-packages (from tensorflow==2.1) (1.12.1)\n",
            "Requirement already satisfied: opt-einsum>=2.3.2 in /usr/local/lib/python3.6/dist-packages (from tensorflow==2.1) (3.2.0)\n",
            "Requirement already satisfied: absl-py>=0.7.0 in /usr/local/lib/python3.6/dist-packages (from tensorflow==2.1) (0.9.0)\n",
            "Requirement already satisfied: scipy==1.4.1; python_version >= \"3\" in /usr/local/lib/python3.6/dist-packages (from tensorflow==2.1) (1.4.1)\n",
            "Requirement already satisfied: wheel>=0.26; python_version >= \"3\" in /usr/local/lib/python3.6/dist-packages (from tensorflow==2.1) (0.34.2)\n",
            "Requirement already satisfied: grpcio>=1.8.6 in /usr/local/lib/python3.6/dist-packages (from tensorflow==2.1) (1.27.2)\n",
            "Requirement already satisfied: astor>=0.6.0 in /usr/local/lib/python3.6/dist-packages (from tensorflow==2.1) (0.8.1)\n",
            "Collecting tensorboard<2.2.0,>=2.1.0\n",
            "\u001b[?25l  Downloading https://files.pythonhosted.org/packages/d9/41/bbf49b61370e4f4d245d4c6051dfb6db80cec672605c91b1652ac8cc3d38/tensorboard-2.1.1-py3-none-any.whl (3.8MB)\n",
            "\u001b[K     |████████████████████████████████| 3.9MB 48.1MB/s \n",
            "\u001b[?25hRequirement already satisfied: setuptools in /usr/local/lib/python3.6/dist-packages (from protobuf>=3.8.0->tensorflow==2.1) (46.0.0)\n",
            "Requirement already satisfied: h5py in /usr/local/lib/python3.6/dist-packages (from keras-applications>=1.0.8->tensorflow==2.1) (2.10.0)\n",
            "Requirement already satisfied: werkzeug>=0.11.15 in /usr/local/lib/python3.6/dist-packages (from tensorboard<2.2.0,>=2.1.0->tensorflow==2.1) (1.0.0)\n",
            "Requirement already satisfied: google-auth-oauthlib<0.5,>=0.4.1 in /usr/local/lib/python3.6/dist-packages (from tensorboard<2.2.0,>=2.1.0->tensorflow==2.1) (0.4.1)\n",
            "Requirement already satisfied: requests<3,>=2.21.0 in /usr/local/lib/python3.6/dist-packages (from tensorboard<2.2.0,>=2.1.0->tensorflow==2.1) (2.21.0)\n",
            "Requirement already satisfied: google-auth<2,>=1.6.3 in /usr/local/lib/python3.6/dist-packages (from tensorboard<2.2.0,>=2.1.0->tensorflow==2.1) (1.7.2)\n",
            "Requirement already satisfied: markdown>=2.6.8 in /usr/local/lib/python3.6/dist-packages (from tensorboard<2.2.0,>=2.1.0->tensorflow==2.1) (3.2.1)\n",
            "Requirement already satisfied: requests-oauthlib>=0.7.0 in /usr/local/lib/python3.6/dist-packages (from google-auth-oauthlib<0.5,>=0.4.1->tensorboard<2.2.0,>=2.1.0->tensorflow==2.1) (1.3.0)\n",
            "Requirement already satisfied: idna<2.9,>=2.5 in /usr/local/lib/python3.6/dist-packages (from requests<3,>=2.21.0->tensorboard<2.2.0,>=2.1.0->tensorflow==2.1) (2.8)\n",
            "Requirement already satisfied: chardet<3.1.0,>=3.0.2 in /usr/local/lib/python3.6/dist-packages (from requests<3,>=2.21.0->tensorboard<2.2.0,>=2.1.0->tensorflow==2.1) (3.0.4)\n",
            "Requirement already satisfied: certifi>=2017.4.17 in /usr/local/lib/python3.6/dist-packages (from requests<3,>=2.21.0->tensorboard<2.2.0,>=2.1.0->tensorflow==2.1) (2019.11.28)\n",
            "Requirement already satisfied: urllib3<1.25,>=1.21.1 in /usr/local/lib/python3.6/dist-packages (from requests<3,>=2.21.0->tensorboard<2.2.0,>=2.1.0->tensorflow==2.1) (1.24.3)\n",
            "Requirement already satisfied: pyasn1-modules>=0.2.1 in /usr/local/lib/python3.6/dist-packages (from google-auth<2,>=1.6.3->tensorboard<2.2.0,>=2.1.0->tensorflow==2.1) (0.2.8)\n",
            "Requirement already satisfied: rsa<4.1,>=3.1.4 in /usr/local/lib/python3.6/dist-packages (from google-auth<2,>=1.6.3->tensorboard<2.2.0,>=2.1.0->tensorflow==2.1) (4.0)\n",
            "Requirement already satisfied: cachetools<3.2,>=2.0.0 in /usr/local/lib/python3.6/dist-packages (from google-auth<2,>=1.6.3->tensorboard<2.2.0,>=2.1.0->tensorflow==2.1) (3.1.1)\n",
            "Requirement already satisfied: oauthlib>=3.0.0 in /usr/local/lib/python3.6/dist-packages (from requests-oauthlib>=0.7.0->google-auth-oauthlib<0.5,>=0.4.1->tensorboard<2.2.0,>=2.1.0->tensorflow==2.1) (3.1.0)\n",
            "Requirement already satisfied: pyasn1<0.5.0,>=0.4.6 in /usr/local/lib/python3.6/dist-packages (from pyasn1-modules>=0.2.1->google-auth<2,>=1.6.3->tensorboard<2.2.0,>=2.1.0->tensorflow==2.1) (0.4.8)\n",
            "Building wheels for collected packages: gast\n",
            "  Building wheel for gast (setup.py) ... \u001b[?25l\u001b[?25hdone\n",
            "  Created wheel for gast: filename=gast-0.2.2-cp36-none-any.whl size=7540 sha256=2cce3dc47dc82c03d2c1292e36eef6c8b2cdc7a25424577edeac2b737f9cabfa\n",
            "  Stored in directory: /root/.cache/pip/wheels/5c/2e/7e/a1d4d4fcebe6c381f378ce7743a3ced3699feb89bcfbdadadd\n",
            "Successfully built gast\n",
            "Installing collected packages: gast, tensorflow-estimator, tensorboard, tensorflow\n",
            "  Found existing installation: gast 0.3.3\n",
            "    Uninstalling gast-0.3.3:\n",
            "      Successfully uninstalled gast-0.3.3\n",
            "  Found existing installation: tensorflow-estimator 2.2.0rc0\n",
            "    Uninstalling tensorflow-estimator-2.2.0rc0:\n",
            "      Successfully uninstalled tensorflow-estimator-2.2.0rc0\n",
            "  Found existing installation: tensorboard 2.2.0\n",
            "    Uninstalling tensorboard-2.2.0:\n",
            "      Successfully uninstalled tensorboard-2.2.0\n",
            "  Found existing installation: tensorflow 2.2.0rc2\n",
            "    Uninstalling tensorflow-2.2.0rc2:\n",
            "      Successfully uninstalled tensorflow-2.2.0rc2\n",
            "Successfully installed gast-0.2.2 tensorboard-2.1.1 tensorflow-2.1.0 tensorflow-estimator-2.1.0\n"
          ],
          "name": "stdout"
        },
        {
          "output_type": "display_data",
          "data": {
            "application/vnd.colab-display-data+json": {
              "pip_warning": {
                "packages": [
                  "gast",
                  "tensorboard",
                  "tensorflow"
                ]
              }
            }
          },
          "metadata": {
            "tags": []
          }
        }
      ]
    },
    {
      "cell_type": "code",
      "metadata": {
        "id": "CeRwjj9lMPN6",
        "colab_type": "code",
        "outputId": "dac1a187-db66-4e08-a397-e98c7b4d94a5",
        "colab": {
          "base_uri": "https://localhost:8080/",
          "height": 715
        }
      },
      "source": [
        "!pip install transformers"
      ],
      "execution_count": 0,
      "outputs": [
        {
          "output_type": "stream",
          "text": [
            "Collecting transformers\n",
            "\u001b[?25l  Downloading https://files.pythonhosted.org/packages/37/ba/dda44bbf35b071441635708a3dd568a5ca6bf29f77389f7c7c6818ae9498/transformers-2.7.0-py3-none-any.whl (544kB)\n",
            "\u001b[K     |████████████████████████████████| 552kB 4.7MB/s \n",
            "\u001b[?25hCollecting sacremoses\n",
            "\u001b[?25l  Downloading https://files.pythonhosted.org/packages/a6/b4/7a41d630547a4afd58143597d5a49e07bfd4c42914d8335b2a5657efc14b/sacremoses-0.0.38.tar.gz (860kB)\n",
            "\u001b[K     |████████████████████████████████| 870kB 15.5MB/s \n",
            "\u001b[?25hRequirement already satisfied: dataclasses; python_version < \"3.7\" in /usr/local/lib/python3.6/dist-packages (from transformers) (0.7)\n",
            "Requirement already satisfied: numpy in /usr/local/lib/python3.6/dist-packages (from transformers) (1.18.2)\n",
            "Requirement already satisfied: requests in /usr/local/lib/python3.6/dist-packages (from transformers) (2.21.0)\n",
            "Requirement already satisfied: tqdm>=4.27 in /usr/local/lib/python3.6/dist-packages (from transformers) (4.38.0)\n",
            "Requirement already satisfied: regex!=2019.12.17 in /usr/local/lib/python3.6/dist-packages (from transformers) (2019.12.20)\n",
            "Requirement already satisfied: filelock in /usr/local/lib/python3.6/dist-packages (from transformers) (3.0.12)\n",
            "Collecting sentencepiece\n",
            "\u001b[?25l  Downloading https://files.pythonhosted.org/packages/74/f4/2d5214cbf13d06e7cb2c20d84115ca25b53ea76fa1f0ade0e3c9749de214/sentencepiece-0.1.85-cp36-cp36m-manylinux1_x86_64.whl (1.0MB)\n",
            "\u001b[K     |████████████████████████████████| 1.0MB 30.2MB/s \n",
            "\u001b[?25hCollecting tokenizers==0.5.2\n",
            "\u001b[?25l  Downloading https://files.pythonhosted.org/packages/d1/3f/73c881ea4723e43c1e9acf317cf407fab3a278daab3a69c98dcac511c04f/tokenizers-0.5.2-cp36-cp36m-manylinux1_x86_64.whl (3.7MB)\n",
            "\u001b[K     |████████████████████████████████| 3.7MB 37.7MB/s \n",
            "\u001b[?25hRequirement already satisfied: boto3 in /usr/local/lib/python3.6/dist-packages (from transformers) (1.12.31)\n",
            "Requirement already satisfied: six in /usr/local/lib/python3.6/dist-packages (from sacremoses->transformers) (1.12.0)\n",
            "Requirement already satisfied: click in /usr/local/lib/python3.6/dist-packages (from sacremoses->transformers) (7.1.1)\n",
            "Requirement already satisfied: joblib in /usr/local/lib/python3.6/dist-packages (from sacremoses->transformers) (0.14.1)\n",
            "Requirement already satisfied: idna<2.9,>=2.5 in /usr/local/lib/python3.6/dist-packages (from requests->transformers) (2.8)\n",
            "Requirement already satisfied: certifi>=2017.4.17 in /usr/local/lib/python3.6/dist-packages (from requests->transformers) (2019.11.28)\n",
            "Requirement already satisfied: urllib3<1.25,>=1.21.1 in /usr/local/lib/python3.6/dist-packages (from requests->transformers) (1.24.3)\n",
            "Requirement already satisfied: chardet<3.1.0,>=3.0.2 in /usr/local/lib/python3.6/dist-packages (from requests->transformers) (3.0.4)\n",
            "Requirement already satisfied: s3transfer<0.4.0,>=0.3.0 in /usr/local/lib/python3.6/dist-packages (from boto3->transformers) (0.3.3)\n",
            "Requirement already satisfied: botocore<1.16.0,>=1.15.31 in /usr/local/lib/python3.6/dist-packages (from boto3->transformers) (1.15.31)\n",
            "Requirement already satisfied: jmespath<1.0.0,>=0.7.1 in /usr/local/lib/python3.6/dist-packages (from boto3->transformers) (0.9.5)\n",
            "Requirement already satisfied: docutils<0.16,>=0.10 in /usr/local/lib/python3.6/dist-packages (from botocore<1.16.0,>=1.15.31->boto3->transformers) (0.15.2)\n",
            "Requirement already satisfied: python-dateutil<3.0.0,>=2.1 in /usr/local/lib/python3.6/dist-packages (from botocore<1.16.0,>=1.15.31->boto3->transformers) (2.8.1)\n",
            "Building wheels for collected packages: sacremoses\n",
            "  Building wheel for sacremoses (setup.py) ... \u001b[?25l\u001b[?25hdone\n",
            "  Created wheel for sacremoses: filename=sacremoses-0.0.38-cp36-none-any.whl size=884628 sha256=d43d4373eac36f0805ab3d41df4728d3f050968e6e03a746f127fdd412a4c9c4\n",
            "  Stored in directory: /root/.cache/pip/wheels/6d/ec/1a/21b8912e35e02741306f35f66c785f3afe94de754a0eaf1422\n",
            "Successfully built sacremoses\n",
            "Installing collected packages: sacremoses, sentencepiece, tokenizers, transformers\n",
            "Successfully installed sacremoses-0.0.38 sentencepiece-0.1.85 tokenizers-0.5.2 transformers-2.7.0\n"
          ],
          "name": "stdout"
        }
      ]
    },
    {
      "cell_type": "code",
      "metadata": {
        "id": "p2Cj6t_KL_0t",
        "colab_type": "code",
        "colab": {}
      },
      "source": [
        "from transformers import pipeline"
      ],
      "execution_count": 0,
      "outputs": []
    },
    {
      "cell_type": "code",
      "metadata": {
        "id": "nCmf9YoML_06",
        "colab_type": "code",
        "outputId": "9f6ad39a-27ed-46f4-8f37-cde9a8a2f1e3",
        "colab": {
          "base_uri": "https://localhost:8080/",
          "height": 104,
          "referenced_widgets": [
            "e64354df4bc5415292e40443385e7115",
            "3c9a2c63b4544dddae029695206fc6ab",
            "4e1e123b256c4e18bd82a60c624ac2f8",
            "22dec36ac3ef43c5b87d14acfa1b0b5c",
            "9ec6b8df88c94bc49640d7e4abc98343",
            "d09bf42dd05043dead78f5c09d042652",
            "5205fbb34e1f413ebc860df06e9dc495",
            "11578f616ee8422aa30cc6a6d5fc434c"
          ]
        }
      },
      "source": [
        "summarizer = pipeline(\"summarization\", model=\"t5-base\", tokenizer=\"t5-base\", framework=\"tf\") # T5 (Text-To-Text Transfer Transformer) 's summarizer function\n",
        "\n",
        "summarizer(\"Sam Shleifer writes the best docstring examples in the whole world.\", min_length=5, max_length=10)"
      ],
      "execution_count": 0,
      "outputs": [
        {
          "output_type": "display_data",
          "data": {
            "application/vnd.jupyter.widget-view+json": {
              "model_id": "e64354df4bc5415292e40443385e7115",
              "version_minor": 0,
              "version_major": 2
            },
            "text/plain": [
              "HBox(children=(IntProgress(value=0, description='Downloading', max=230, style=ProgressStyle(description_width=…"
            ]
          },
          "metadata": {
            "tags": []
          }
        },
        {
          "output_type": "stream",
          "text": [
            "\n"
          ],
          "name": "stdout"
        },
        {
          "output_type": "stream",
          "text": [
            "Your max_length is set to 200, but you input_length is only 18. You might consider decreasing max_length manually, e.g. summarizer('...', max_length=50)\n"
          ],
          "name": "stderr"
        },
        {
          "output_type": "execute_result",
          "data": {
            "text/plain": [
              "[{'summary_text': 'Sam Shleifer writes the best doc'}]"
            ]
          },
          "metadata": {
            "tags": []
          },
          "execution_count": 2
        }
      ]
    },
    {
      "cell_type": "code",
      "metadata": {
        "id": "U0pzmGS8L_1F",
        "colab_type": "code",
        "colab": {}
      },
      "source": [
        "# directory = 'C:/Users/N1110/Desktop/CORD19/march30KeywordSearchQ1/'\n",
        "# df = pd.read_csv(directory + 'mostRelatedQ1POLYMERASEabstract.csv')  #20 paper abstracts of size 300 on average"
      ],
      "execution_count": 0,
      "outputs": []
    },
    {
      "cell_type": "code",
      "metadata": {
        "id": "JP6Y2ZmTMLsJ",
        "colab_type": "code",
        "colab": {}
      },
      "source": [
        "abs1=\"ltpgtltbgtltbgt there is no specific drug that has been approved for 2019ncov there are a number of factors that pose major challenges in their development approaches to the development of anti2019ncov include screening existing broadspectrum antiviral drugs repositioning of readily available clinical compounds and ltitalicgtde novoltitalicgt development of novel and specific agents for 2019ncov candidate compounds can be developed either to inhibit virusbased targets such as rna proteases polymerase spike glycoproteins and viral envelop and membrane proteins or to inhibit hostbased targets such as receptors and proteases that are utilized by virus for viral entry and endocytosis recently the rna polymerase remdesivir had demonstrated clinical efficacy in one patient with severe novel coronavirus pneumonia ncp the broadspectrum viral protease inhibitor kaletraltsupgtregltsupgt is also recommended in the current ncp clinical practice both drugs had lately been proceeded into multiple controlled phase iii clinical trials to test their safety and efficacy in ncp combinational therapies consisting of multiple drugs provide other viable options against 2019ncov based on scientific and clinical rationales using bioinformatics and database analysis we have identified 75 clinically compounds including 20 marketed compounds that are efficacious in inhibiting key targets in virus and hostbased approaches which may facilitate the development of new therapeutic options for 2019ncov ltpgt\""
      ],
      "execution_count": 0,
      "outputs": []
    },
    {
      "cell_type": "code",
      "metadata": {
        "id": "tlqsA49aNet9",
        "colab_type": "code",
        "outputId": "6a6106cb-eb43-4a6f-abcd-2dc9edd75266",
        "colab": {
          "base_uri": "https://localhost:8080/",
          "height": 55
        }
      },
      "source": [
        "summarizer(abs1, min_length=50, max_length=100) # 300 words summary run for so long?"
      ],
      "execution_count": 0,
      "outputs": [
        {
          "output_type": "execute_result",
          "data": {
            "text/plain": [
              "[{'summary_text': 'there is no specific drug that has been approved for 2019ncov there are a number of factors that pose major challenges in their development approaches to the development of anti2019ncov . screening existing broadspectrum antiviral drugs repositioning of readily available clinical compounds and ltitalicgtde novoltitaligt development of novel and specific agents for 2018ncov candidate compounds can be developed either to inhibit virusbased targets such as rna prote'}]"
            ]
          },
          "metadata": {
            "tags": []
          },
          "execution_count": 4
        }
      ]
    },
    {
      "cell_type": "code",
      "metadata": {
        "id": "EtBxDiE_NkVo",
        "colab_type": "code",
        "colab": {}
      },
      "source": [
        "# original 208 words; summary 67 words\n",
        "\n"
      ],
      "execution_count": 0,
      "outputs": []
    },
    {
      "cell_type": "code",
      "metadata": {
        "id": "A731Lv_aQCst",
        "colab_type": "code",
        "outputId": "a237d2b1-95e2-40d4-dd0c-2ab1010d7116",
        "colab": {
          "base_uri": "https://localhost:8080/",
          "height": 55
        }
      },
      "source": [
        "summarizer(abs1, min_length=20, max_length=50)"
      ],
      "execution_count": 0,
      "outputs": [
        {
          "output_type": "execute_result",
          "data": {
            "text/plain": [
              "[{'summary_text': 'there is no specific drug that has been approved for 2019ncov there are a number of factors that pose major challenges in their development approaches to the development of anti2019ncov . screening existing broadspectrum antiviral drugs re'}]"
            ]
          },
          "metadata": {
            "tags": []
          },
          "execution_count": 5
        }
      ]
    },
    {
      "cell_type": "code",
      "metadata": {
        "id": "CXOG6HYjQFNH",
        "colab_type": "code",
        "colab": {}
      },
      "source": [
        "#even short summary 37 words and still valid\n",
        "# so start to apply summarizer on the Question Answering Outputs (20 paper abstracts of size 300 on average)"
      ],
      "execution_count": 0,
      "outputs": []
    },
    {
      "cell_type": "code",
      "metadata": {
        "id": "ytn6PgxPQvvw",
        "colab_type": "code",
        "colab": {}
      },
      "source": [
        "import numpy as np\n",
        "import pandas as pd"
      ],
      "execution_count": 0,
      "outputs": []
    },
    {
      "cell_type": "code",
      "metadata": {
        "id": "6gK0DEHOQ0qd",
        "colab_type": "code",
        "outputId": "2eb25d5f-b203-46b1-9c7f-9c778b90b03f",
        "colab": {
          "base_uri": "https://localhost:8080/",
          "height": 35
        }
      },
      "source": [
        "data_path = \"/content/drive/My Drive/Colab Notebooks/cord19/data/\"\n",
        "data_filename = data_path +\"mostRelatedQ1POLYMERASEabstract.csv\"\n",
        "print(data_filename)"
      ],
      "execution_count": 0,
      "outputs": [
        {
          "output_type": "stream",
          "text": [
            "/content/drive/My Drive/Colab Notebooks/cord19/data/mostRelatedQ1POLYMERASEabstract.csv\n"
          ],
          "name": "stdout"
        }
      ]
    },
    {
      "cell_type": "code",
      "metadata": {
        "id": "VrtI3NTDQ29E",
        "colab_type": "code",
        "outputId": "55ad9b84-93d0-48cd-ccf0-25219272849a",
        "colab": {
          "base_uri": "https://localhost:8080/",
          "height": 129
        }
      },
      "source": [
        "# allow access to google drive files\n",
        "from google.colab import drive\n",
        "drive.mount('/content/drive')"
      ],
      "execution_count": 0,
      "outputs": [
        {
          "output_type": "stream",
          "text": [
            "Go to this URL in a browser: https://accounts.google.com/o/oauth2/auth?client_id=947318989803-6bn6qk8qdgf4n4g3pfee6491hc0brc4i.apps.googleusercontent.com&redirect_uri=urn%3aietf%3awg%3aoauth%3a2.0%3aoob&response_type=code&scope=email%20https%3a%2f%2fwww.googleapis.com%2fauth%2fdocs.test%20https%3a%2f%2fwww.googleapis.com%2fauth%2fdrive%20https%3a%2f%2fwww.googleapis.com%2fauth%2fdrive.photos.readonly%20https%3a%2f%2fwww.googleapis.com%2fauth%2fpeopleapi.readonly\n",
            "\n",
            "Enter your authorization code:\n",
            "··········\n",
            "Mounted at /content/drive\n"
          ],
          "name": "stdout"
        }
      ]
    },
    {
      "cell_type": "code",
      "metadata": {
        "id": "tlq5SJWQQ5Zk",
        "colab_type": "code",
        "outputId": "5f95d221-35c3-4583-fa0a-77d3f4eb84b7",
        "colab": {
          "base_uri": "https://localhost:8080/",
          "height": 206
        }
      },
      "source": [
        "df = pd.read_csv(data_filename)\n",
        "df.head(5)"
      ],
      "execution_count": 0,
      "outputs": [
        {
          "output_type": "execute_result",
          "data": {
            "text/html": [
              "<div>\n",
              "<style scoped>\n",
              "    .dataframe tbody tr th:only-of-type {\n",
              "        vertical-align: middle;\n",
              "    }\n",
              "\n",
              "    .dataframe tbody tr th {\n",
              "        vertical-align: top;\n",
              "    }\n",
              "\n",
              "    .dataframe thead th {\n",
              "        text-align: right;\n",
              "    }\n",
              "</style>\n",
              "<table border=\"1\" class=\"dataframe\">\n",
              "  <thead>\n",
              "    <tr style=\"text-align: right;\">\n",
              "      <th></th>\n",
              "      <th>index</th>\n",
              "      <th>ABS</th>\n",
              "    </tr>\n",
              "  </thead>\n",
              "  <tbody>\n",
              "    <tr>\n",
              "      <th>0</th>\n",
              "      <td>0</td>\n",
              "      <td>ltpgtltbgtltbgt there is no specific drug that...</td>\n",
              "    </tr>\n",
              "    <tr>\n",
              "      <th>1</th>\n",
              "      <td>1</td>\n",
              "      <td>limited data is available on feline leishmanio...</td>\n",
              "    </tr>\n",
              "    <tr>\n",
              "      <th>2</th>\n",
              "      <td>2</td>\n",
              "      <td>please cite this paper as wathen et al 2012 an...</td>\n",
              "    </tr>\n",
              "    <tr>\n",
              "      <th>3</th>\n",
              "      <td>3</td>\n",
              "      <td>background rapid molecular methods have create...</td>\n",
              "    </tr>\n",
              "    <tr>\n",
              "      <th>4</th>\n",
              "      <td>4</td>\n",
              "      <td>introduction the differentiation of viral from...</td>\n",
              "    </tr>\n",
              "  </tbody>\n",
              "</table>\n",
              "</div>"
            ],
            "text/plain": [
              "   index                                                ABS\n",
              "0      0  ltpgtltbgtltbgt there is no specific drug that...\n",
              "1      1  limited data is available on feline leishmanio...\n",
              "2      2  please cite this paper as wathen et al 2012 an...\n",
              "3      3  background rapid molecular methods have create...\n",
              "4      4  introduction the differentiation of viral from..."
            ]
          },
          "metadata": {
            "tags": []
          },
          "execution_count": 10
        }
      ]
    },
    {
      "cell_type": "code",
      "metadata": {
        "id": "Yq5_OBFJRSBk",
        "colab_type": "code",
        "outputId": "88f35f59-de59-4ca2-ce60-2d5ac1caf6e0",
        "colab": {
          "base_uri": "https://localhost:8080/",
          "height": 35
        }
      },
      "source": [
        "df.shape[0]"
      ],
      "execution_count": 0,
      "outputs": [
        {
          "output_type": "execute_result",
          "data": {
            "text/plain": [
              "20"
            ]
          },
          "metadata": {
            "tags": []
          },
          "execution_count": 11
        }
      ]
    },
    {
      "cell_type": "code",
      "metadata": {
        "id": "Cq2jLRBrR7g7",
        "colab_type": "code",
        "outputId": "96cdcff4-b381-4300-caef-5b0dfe0180c7",
        "colab": {
          "base_uri": "https://localhost:8080/",
          "height": 55
        }
      },
      "source": [
        "df.ABS[0]"
      ],
      "execution_count": 0,
      "outputs": [
        {
          "output_type": "execute_result",
          "data": {
            "text/plain": [
              "'ltpgtltbgtltbgt there is no specific drug that has been approved for 2019ncov there are a number of factors that pose major challenges in their development approaches to the development of anti2019ncov include screening existing broadspectrum antiviral drugs repositioning of readily available clinical compounds and ltitalicgtde novoltitalicgt development of novel and specific agents for 2019ncov candidate compounds can be developed either to inhibit virusbased targets such as rna proteases polymerase spike glycoproteins and viral envelop and membrane proteins or to inhibit hostbased targets such as receptors and proteases that are utilized by virus for viral entry and endocytosis recently the rna polymerase remdesivir had demonstrated clinical efficacy in one patient with severe novel coronavirus pneumonia ncp the broadspectrum viral protease inhibitor kaletraltsupgtregltsupgt is also recommended in the current ncp clinical practice both drugs had lately been proceeded into multiple controlled phase iii clinical trials to test their safety and efficacy in ncp combinational therapies consisting of multiple drugs provide other viable options against 2019ncov based on scientific and clinical rationales using bioinformatics and database analysis we have identified 75 clinically compounds including 20 marketed compounds that are efficacious in inhibiting key targets in virus and hostbased approaches which may facilitate the development of new therapeutic options for 2019ncov ltpgt'"
            ]
          },
          "metadata": {
            "tags": []
          },
          "execution_count": 13
        }
      ]
    },
    {
      "cell_type": "code",
      "metadata": {
        "id": "GZDCwkcrR3AW",
        "colab_type": "code",
        "colab": {}
      },
      "source": [
        "abs=[]\n",
        "\n"
      ],
      "execution_count": 0,
      "outputs": []
    },
    {
      "cell_type": "code",
      "metadata": {
        "id": "rXaFNzdpRrB4",
        "colab_type": "code",
        "outputId": "a1db8ab3-c4d4-408b-fcd5-aac6c4f35f8c",
        "colab": {
          "base_uri": "https://localhost:8080/",
          "height": 772
        }
      },
      "source": [
        "for i in range(df.shape[0]):\n",
        "  abs.append(df.ABS[i])\n",
        "  print(\"Summary for \" + str(i)+\"th Abstract is:\")\n",
        "  print(summarizer(abs[i], min_length=20, max_length=50))\n",
        "  "
      ],
      "execution_count": 0,
      "outputs": [
        {
          "output_type": "stream",
          "text": [
            "Summary for 0th Abstract is:\n",
            "[{'summary_text': 'there is no specific drug that has been approved for 2019ncov there are a number of factors that pose major challenges in their development approaches to the development of anti2019ncov . screening existing broadspectrum antiviral drugs re'}]\n",
            "Summary for 1th Abstract is:\n",
            "[{'summary_text': 'limited data is available on feline leishmaniosis fel caused by leishmania infantum . leishvet group presents in this report a review of the current knowledge on fel the epidemiological role of the cat'}]\n",
            "Summary for 2th Abstract is:\n",
            "[{'summary_text': 'there is no specific drug that has been approved for 2019ncov there are a number of factors that pose major challenges in their development approaches to the development of anti2019ncov . screening existing broadspectrum antiviral drugs re'}]\n",
            "Summary for 3th Abstract is:\n",
            "[{'summary_text': 'limited data is available on feline leishmaniosis fel caused by leishmania infantum . leishvet group presents in this report a review of the current knowledge on fel the epidemiological role of the cat'}]\n",
            "Summary for 4th Abstract is:\n",
            "[{'summary_text': 'antiviral drugs continue to be an important option for the treatment of influenza disease and will likely be the only option during the early phases of pandemic . however the limited number of drug classes licensed for treatment raises several issues particularly in'}]\n",
            "Summary for 5th Abstract is:\n",
            "[{'summary_text': 'background rapid molecular methods have created new opportunities for the clinical microbiology laboratory to affect patient care in the areas of initial diagnosis and therapy rapid diagnostic tests provide collaborative opportunities for antimicrobial stewardship teams ast to improve patient'}]\n",
            "Summary for 6th Abstract is:\n",
            "[{'summary_text': 'the differentiation of viral from bacterial pneumonia is important in determining whether antibiotics are appropriate for treatment of these infections advances in diagnostic technologies such as respiratory panels rp may aid in this differentiation however some studies have shown limited impact for this purpose'}]\n",
            "Summary for 7th Abstract is:\n",
            "[{'summary_text': 'the arsenal of antivirals is complex as of march 2014 it consists of approximately 50 drugs approved by the fda approximately half of which are directed against hiv antiviral drug creation strategies focus on two different approaches targeting the viruses'}]\n",
            "Summary for 8th Abstract is:\n",
            "[{'summary_text': 'we developed a datadriven drug repositioning framework which applies both machine learning and statistical analysis approaches to systematically integrate and mine largescale knowledge graph literature and transcriptome data to discover the potential drug candidates against sarscov2'}]\n",
            "Summary for 9th Abstract is:\n",
            "[{'summary_text': 'in this study 26 blood samples were collected from 25 healthy cats and one cat with clinical signs suggestive of feline infectious peritonitis fip namely fever weight loss enlarged abdomen and ascites . the high rate of'}]\n",
            "Summary for 10th Abstract is:\n",
            "[{'summary_text': 'the current available antiviral drugs target 3 main groups of viruses herpes hepatitis and influenza viruses with the exception of the antisense molecule fomivirsen all antiherpes drugs inhibit viral replication'}]\n",
            "Summary for 11th Abstract is:\n",
            "[{'summary_text': 'a 2019ncov related pangolin coronavirus gxp2vpangolin2017 guangxi was described . a library of 2406 clinically approved drugs were screened for their ability to'}]\n",
            "Summary for 12th Abstract is:\n",
            "[{'summary_text': 'abstract since the last handbook of clinical neurology volume on this topic viral diagnosis has made tremendous strides moving from the margin to the mainstream of clinical care for many years conventional virus isolation was the mainstay of viral diagnosis since it was sensitive and'}]\n",
            "Summary for 13th Abstract is:\n",
            "[{'summary_text': 'zika fever is a mosquitoborne infectious disease caused by zika virus zikv is an epidemic disease for which no effective therapy has been established . outbreaks of zika in brazil and french polynesia have been'}]\n",
            "Summary for 14th Abstract is:\n",
            "[{'summary_text': 'a positive rvp n 127 63 was associated with a more complicated clinical course . this was due largely to more severe disease seen in younger children . those with respiratory syncytial virus '}]\n",
            "Summary for 15th Abstract is:\n",
            "[{'summary_text': 'there has been a wealth of promising clinical data suggesting that a more effective treatment regimen and potentially a cure for hepatitis c virus hcv infection is close at hand . direct acting antivirals da'}]\n",
            "Summary for 16th Abstract is:\n",
            "[{'summary_text': 'nitazoxanide ntz may be beneficial for treating acute respiratory viral illness methods from march 2014 through march 2017 a doubleblind placebocontrolled trial was conducted in 260 participants 1 year old hospitalized with influenzalike illness at'}]\n",
            "Summary for 17th Abstract is:\n",
            "[{'summary_text': 'abstract bovine respirovirus 3 also known as bovine parainfluenza virus type 3 bpiv3 rapid diagnosis could contribute greatly in containing epidemics and thus avoid economic losses . the lack of robust isother'}]\n",
            "Summary for 18th Abstract is:\n",
            "[{'summary_text': 'up to 25 of patients with profound neutropenia lasting for 10 days develop lung infiltrates which rarely respond to broadspectrum antibacterial therapy . a causative pathogen remains undetected in the majority of'}]\n",
            "Summary for 19th Abstract is:\n",
            "[{'summary_text': 'biocentury lists some of the drugs that are being developed for the coronavirus epidemic . remdesivir from gilead is one of the most advanced rna virus therapies . covid19'}]\n"
          ],
          "name": "stdout"
        }
      ]
    },
    {
      "cell_type": "code",
      "metadata": {
        "id": "WCHO00wgd1BY",
        "colab_type": "code",
        "outputId": "3b17e742-ff13-4528-a569-877fb23da3c4",
        "colab": {
          "base_uri": "https://localhost:8080/",
          "height": 772
        }
      },
      "source": [
        "for i in range(df.shape[0]):\n",
        "  abs.append(df.ABS[i])\n",
        "  print(\"Summary for \" + str(i)+\"th Abstract is:\")\n",
        "  #print(summarizer(abs[i], min_length=20, max_length=50))\n",
        "  df[\"index\"].iloc[i]= str(summarizer(abs[i], min_length=20, max_length=50)[0].values()) #df[\"index\"].iloc[0]= str(summary0[0].values())\n",
        "  print(df[\"index\"].iloc[i]) #index should be named \"summary\""
      ],
      "execution_count": 0,
      "outputs": [
        {
          "output_type": "stream",
          "text": [
            "Summary for 0th Abstract is:\n",
            "dict_values(['there is no specific drug that has been approved for 2019ncov there are a number of factors that pose major challenges in their development approaches to the development of anti2019ncov . screening existing broadspectrum antiviral drugs re'])\n",
            "Summary for 1th Abstract is:\n",
            "dict_values(['limited data is available on feline leishmaniosis fel caused by leishmania infantum . leishvet group presents in this report a review of the current knowledge on fel the epidemiological role of the cat'])\n",
            "Summary for 2th Abstract is:\n",
            "dict_values(['there is no specific drug that has been approved for 2019ncov there are a number of factors that pose major challenges in their development approaches to the development of anti2019ncov . screening existing broadspectrum antiviral drugs re'])\n",
            "Summary for 3th Abstract is:\n",
            "dict_values(['limited data is available on feline leishmaniosis fel caused by leishmania infantum . leishvet group presents in this report a review of the current knowledge on fel the epidemiological role of the cat'])\n",
            "Summary for 4th Abstract is:\n",
            "dict_values(['antiviral drugs continue to be an important option for the treatment of influenza disease and will likely be the only option during the early phases of pandemic . however the limited number of drug classes licensed for treatment raises several issues particularly in'])\n",
            "Summary for 5th Abstract is:\n",
            "dict_values(['background rapid molecular methods have created new opportunities for the clinical microbiology laboratory to affect patient care in the areas of initial diagnosis and therapy rapid diagnostic tests provide collaborative opportunities for antimicrobial stewardship teams ast to improve patient'])\n",
            "Summary for 6th Abstract is:\n",
            "dict_values(['the differentiation of viral from bacterial pneumonia is important in determining whether antibiotics are appropriate for treatment of these infections advances in diagnostic technologies such as respiratory panels rp may aid in this differentiation however some studies have shown limited impact for this purpose'])\n",
            "Summary for 7th Abstract is:\n",
            "dict_values(['the arsenal of antivirals is complex as of march 2014 it consists of approximately 50 drugs approved by the fda approximately half of which are directed against hiv antiviral drug creation strategies focus on two different approaches targeting the viruses'])\n",
            "Summary for 8th Abstract is:\n",
            "dict_values(['we developed a datadriven drug repositioning framework which applies both machine learning and statistical analysis approaches to systematically integrate and mine largescale knowledge graph literature and transcriptome data to discover the potential drug candidates against sarscov2'])\n",
            "Summary for 9th Abstract is:\n",
            "dict_values(['in this study 26 blood samples were collected from 25 healthy cats and one cat with clinical signs suggestive of feline infectious peritonitis fip namely fever weight loss enlarged abdomen and ascites . the high rate of'])\n",
            "Summary for 10th Abstract is:\n",
            "dict_values(['the current available antiviral drugs target 3 main groups of viruses herpes hepatitis and influenza viruses with the exception of the antisense molecule fomivirsen all antiherpes drugs inhibit viral replication'])\n",
            "Summary for 11th Abstract is:\n",
            "dict_values(['a 2019ncov related pangolin coronavirus gxp2vpangolin2017 guangxi was described . a library of 2406 clinically approved drugs were screened for their ability to'])\n",
            "Summary for 12th Abstract is:\n",
            "dict_values(['abstract since the last handbook of clinical neurology volume on this topic viral diagnosis has made tremendous strides moving from the margin to the mainstream of clinical care for many years conventional virus isolation was the mainstay of viral diagnosis since it was sensitive and'])\n",
            "Summary for 13th Abstract is:\n",
            "dict_values(['zika fever is a mosquitoborne infectious disease caused by zika virus zikv is an epidemic disease for which no effective therapy has been established . outbreaks of zika in brazil and french polynesia have been'])\n",
            "Summary for 14th Abstract is:\n",
            "dict_values(['a positive rvp n 127 63 was associated with a more complicated clinical course . this was due largely to more severe disease seen in younger children . those with respiratory syncytial virus '])\n",
            "Summary for 15th Abstract is:\n",
            "dict_values(['there has been a wealth of promising clinical data suggesting that a more effective treatment regimen and potentially a cure for hepatitis c virus hcv infection is close at hand . direct acting antivirals da'])\n",
            "Summary for 16th Abstract is:\n",
            "dict_values(['nitazoxanide ntz may be beneficial for treating acute respiratory viral illness methods from march 2014 through march 2017 a doubleblind placebocontrolled trial was conducted in 260 participants 1 year old hospitalized with influenzalike illness at'])\n",
            "Summary for 17th Abstract is:\n",
            "dict_values(['abstract bovine respirovirus 3 also known as bovine parainfluenza virus type 3 bpiv3 rapid diagnosis could contribute greatly in containing epidemics and thus avoid economic losses . the lack of robust isother'])\n",
            "Summary for 18th Abstract is:\n",
            "dict_values(['up to 25 of patients with profound neutropenia lasting for 10 days develop lung infiltrates which rarely respond to broadspectrum antibacterial therapy . a causative pathogen remains undetected in the majority of'])\n",
            "Summary for 19th Abstract is:\n",
            "dict_values(['biocentury lists some of the drugs that are being developed for the coronavirus epidemic . remdesivir from gilead is one of the most advanced rna virus therapies . covid19'])\n"
          ],
          "name": "stdout"
        }
      ]
    },
    {
      "cell_type": "code",
      "metadata": {
        "id": "aj1mQ3B1WKTc",
        "colab_type": "code",
        "outputId": "a55b6d67-8680-490a-8e1e-5db9fe6b776d",
        "colab": {
          "base_uri": "https://localhost:8080/",
          "height": 35
        }
      },
      "source": [
        "type(summarizer(abs1, min_length=20, max_length=50))"
      ],
      "execution_count": 0,
      "outputs": [
        {
          "output_type": "execute_result",
          "data": {
            "text/plain": [
              "list"
            ]
          },
          "metadata": {
            "tags": []
          },
          "execution_count": 22
        }
      ]
    },
    {
      "cell_type": "code",
      "metadata": {
        "id": "Cq-uPZmXXpIp",
        "colab_type": "code",
        "colab": {}
      },
      "source": [
        "summary0= summarizer(abs[0], min_length=20, max_length=50)\n",
        "\n"
      ],
      "execution_count": 0,
      "outputs": []
    },
    {
      "cell_type": "code",
      "metadata": {
        "id": "YrMWFD6Xb7oe",
        "colab_type": "code",
        "outputId": "6fde87f3-aa93-427d-b9a5-d19c1da0f43a",
        "colab": {
          "base_uri": "https://localhost:8080/",
          "height": 55
        }
      },
      "source": [
        "# summary0.values()\n",
        "\n",
        "summary0"
      ],
      "execution_count": 0,
      "outputs": [
        {
          "output_type": "execute_result",
          "data": {
            "text/plain": [
              "[{'summary_text': 'there is no specific drug that has been approved for 2019ncov there are a number of factors that pose major challenges in their development approaches to the development of anti2019ncov . screening existing broadspectrum antiviral drugs re'}]"
            ]
          },
          "metadata": {
            "tags": []
          },
          "execution_count": 25
        }
      ]
    },
    {
      "cell_type": "code",
      "metadata": {
        "id": "1BdfTQtXcg2R",
        "colab_type": "code",
        "outputId": "f0a0f5a5-3ac1-4a7e-acbe-fb6155d3026c",
        "colab": {
          "base_uri": "https://localhost:8080/",
          "height": 55
        }
      },
      "source": [
        "summary0[0].values()"
      ],
      "execution_count": 0,
      "outputs": [
        {
          "output_type": "execute_result",
          "data": {
            "text/plain": [
              "dict_values(['there is no specific drug that has been approved for 2019ncov there are a number of factors that pose major challenges in their development approaches to the development of anti2019ncov . screening existing broadspectrum antiviral drugs re'])"
            ]
          },
          "metadata": {
            "tags": []
          },
          "execution_count": 29
        }
      ]
    },
    {
      "cell_type": "code",
      "metadata": {
        "id": "jsui2Xb4WCdm",
        "colab_type": "code",
        "colab": {}
      },
      "source": [
        "df[\"index\"].iloc[0]= str(summary0[0].values())\n"
      ],
      "execution_count": 0,
      "outputs": []
    },
    {
      "cell_type": "code",
      "metadata": {
        "id": "sgUpV4gddjmU",
        "colab_type": "code",
        "outputId": "9f4875e4-e325-46cf-cd44-09d33db43133",
        "colab": {
          "base_uri": "https://localhost:8080/",
          "height": 403
        }
      },
      "source": [
        "df[\"index\"]"
      ],
      "execution_count": 0,
      "outputs": [
        {
          "output_type": "execute_result",
          "data": {
            "text/plain": [
              "0     dict_values(['there is no specific drug that h...\n",
              "1     dict_values(['limited data is available on fel...\n",
              "2     dict_values(['there is no specific drug that h...\n",
              "3     dict_values(['limited data is available on fel...\n",
              "4     dict_values(['antiviral drugs continue to be a...\n",
              "5     dict_values(['background rapid molecular metho...\n",
              "6     dict_values(['the differentiation of viral fro...\n",
              "7     dict_values(['the arsenal of antivirals is com...\n",
              "8     dict_values(['we developed a datadriven drug r...\n",
              "9     dict_values(['in this study 26 blood samples w...\n",
              "10    dict_values(['the current available antiviral ...\n",
              "11    dict_values(['a 2019ncov related pangolin coro...\n",
              "12    dict_values(['abstract since the last handbook...\n",
              "13    dict_values(['zika fever is a mosquitoborne in...\n",
              "14    dict_values(['a positive rvp n 127 63 was asso...\n",
              "15    dict_values(['there has been a wealth of promi...\n",
              "16    dict_values(['nitazoxanide ntz may be benefici...\n",
              "17    dict_values(['abstract bovine respirovirus 3 a...\n",
              "18    dict_values(['up to 25 of patients with profou...\n",
              "19    dict_values(['biocentury lists some of the dru...\n",
              "Name: index, dtype: object"
            ]
          },
          "metadata": {
            "tags": []
          },
          "execution_count": 41
        }
      ]
    },
    {
      "cell_type": "code",
      "metadata": {
        "id": "GDwyT7kCWFYi",
        "colab_type": "code",
        "colab": {}
      },
      "source": [
        "ABSsummary = ' '.join(df[\"index\"])"
      ],
      "execution_count": 0,
      "outputs": []
    },
    {
      "cell_type": "code",
      "metadata": {
        "id": "1Yt7KjgIomD-",
        "colab_type": "code",
        "outputId": "a1463750-217d-48b5-83c2-aab5a555389f",
        "colab": {
          "base_uri": "https://localhost:8080/",
          "height": 55
        }
      },
      "source": [
        "ABSsummary"
      ],
      "execution_count": 0,
      "outputs": [
        {
          "output_type": "execute_result",
          "data": {
            "text/plain": [
              "\"dict_values(['there is no specific drug that has been approved for 2019ncov there are a number of factors that pose major challenges in their development approaches to the development of anti2019ncov . screening existing broadspectrum antiviral drugs re']) dict_values(['limited data is available on feline leishmaniosis fel caused by leishmania infantum . leishvet group presents in this report a review of the current knowledge on fel the epidemiological role of the cat']) dict_values(['there is no specific drug that has been approved for 2019ncov there are a number of factors that pose major challenges in their development approaches to the development of anti2019ncov . screening existing broadspectrum antiviral drugs re']) dict_values(['limited data is available on feline leishmaniosis fel caused by leishmania infantum . leishvet group presents in this report a review of the current knowledge on fel the epidemiological role of the cat']) dict_values(['antiviral drugs continue to be an important option for the treatment of influenza disease and will likely be the only option during the early phases of pandemic . however the limited number of drug classes licensed for treatment raises several issues particularly in']) dict_values(['background rapid molecular methods have created new opportunities for the clinical microbiology laboratory to affect patient care in the areas of initial diagnosis and therapy rapid diagnostic tests provide collaborative opportunities for antimicrobial stewardship teams ast to improve patient']) dict_values(['the differentiation of viral from bacterial pneumonia is important in determining whether antibiotics are appropriate for treatment of these infections advances in diagnostic technologies such as respiratory panels rp may aid in this differentiation however some studies have shown limited impact for this purpose']) dict_values(['the arsenal of antivirals is complex as of march 2014 it consists of approximately 50 drugs approved by the fda approximately half of which are directed against hiv antiviral drug creation strategies focus on two different approaches targeting the viruses']) dict_values(['we developed a datadriven drug repositioning framework which applies both machine learning and statistical analysis approaches to systematically integrate and mine largescale knowledge graph literature and transcriptome data to discover the potential drug candidates against sarscov2']) dict_values(['in this study 26 blood samples were collected from 25 healthy cats and one cat with clinical signs suggestive of feline infectious peritonitis fip namely fever weight loss enlarged abdomen and ascites . the high rate of']) dict_values(['the current available antiviral drugs target 3 main groups of viruses herpes hepatitis and influenza viruses with the exception of the antisense molecule fomivirsen all antiherpes drugs inhibit viral replication']) dict_values(['a 2019ncov related pangolin coronavirus gxp2vpangolin2017 guangxi was described . a library of 2406 clinically approved drugs were screened for their ability to']) dict_values(['abstract since the last handbook of clinical neurology volume on this topic viral diagnosis has made tremendous strides moving from the margin to the mainstream of clinical care for many years conventional virus isolation was the mainstay of viral diagnosis since it was sensitive and']) dict_values(['zika fever is a mosquitoborne infectious disease caused by zika virus zikv is an epidemic disease for which no effective therapy has been established . outbreaks of zika in brazil and french polynesia have been']) dict_values(['a positive rvp n 127 63 was associated with a more complicated clinical course . this was due largely to more severe disease seen in younger children . those with respiratory syncytial virus ']) dict_values(['there has been a wealth of promising clinical data suggesting that a more effective treatment regimen and potentially a cure for hepatitis c virus hcv infection is close at hand . direct acting antivirals da']) dict_values(['nitazoxanide ntz may be beneficial for treating acute respiratory viral illness methods from march 2014 through march 2017 a doubleblind placebocontrolled trial was conducted in 260 participants 1 year old hospitalized with influenzalike illness at']) dict_values(['abstract bovine respirovirus 3 also known as bovine parainfluenza virus type 3 bpiv3 rapid diagnosis could contribute greatly in containing epidemics and thus avoid economic losses . the lack of robust isother']) dict_values(['up to 25 of patients with profound neutropenia lasting for 10 days develop lung infiltrates which rarely respond to broadspectrum antibacterial therapy . a causative pathogen remains undetected in the majority of']) dict_values(['biocentury lists some of the drugs that are being developed for the coronavirus epidemic . remdesivir from gilead is one of the most advanced rna virus therapies . covid19'])\""
            ]
          },
          "metadata": {
            "tags": []
          },
          "execution_count": 43
        }
      ]
    },
    {
      "cell_type": "code",
      "metadata": {
        "id": "e6vpCl8rShQe",
        "colab_type": "code",
        "colab": {}
      },
      "source": [
        "# put all the summaries of 20 paper abstracts together to generate a 600-1000 words summary\n",
        "\n",
        "# in this way we let T5 help us read the 20 abstracts output\n",
        "# further generate word cloud for ABSsummary to viz info"
      ],
      "execution_count": 0,
      "outputs": []
    }
  ]
}