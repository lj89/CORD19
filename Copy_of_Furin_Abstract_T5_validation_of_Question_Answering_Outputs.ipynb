{
  "nbformat": 4,
  "nbformat_minor": 0,
  "metadata": {
    "kernelspec": {
      "name": "python3",
      "display_name": "Python 3"
    },
    "language_info": {
      "codemirror_mode": {
        "name": "ipython",
        "version": 3
      },
      "file_extension": ".py",
      "mimetype": "text/x-python",
      "name": "python",
      "nbconvert_exporter": "python",
      "pygments_lexer": "ipython3",
      "version": "3.6.5"
    },
    "colab": {
      "name": "Copy of Furin_Abstract_T5_validation_of_Question_Answering_Outputs.ipynb",
      "provenance": [],
      "collapsed_sections": [],
      "include_colab_link": true
    },
    "widgets": {
      "application/vnd.jupyter.widget-state+json": {
        "a82c843ffd324dbd97eb7c7e3c6407a0": {
          "model_module": "@jupyter-widgets/controls",
          "model_name": "HBoxModel",
          "state": {
            "_view_name": "HBoxView",
            "_dom_classes": [],
            "_model_name": "HBoxModel",
            "_view_module": "@jupyter-widgets/controls",
            "_model_module_version": "1.5.0",
            "_view_count": null,
            "_view_module_version": "1.5.0",
            "box_style": "",
            "layout": "IPY_MODEL_70413ab4f68843379b0b4ed6b04cd6b9",
            "_model_module": "@jupyter-widgets/controls",
            "children": [
              "IPY_MODEL_161ee178f05f4c6ca72c0915a6fe9bb4",
              "IPY_MODEL_0d7e8f5edfbf4575919f7c6808e2841f"
            ]
          }
        },
        "70413ab4f68843379b0b4ed6b04cd6b9": {
          "model_module": "@jupyter-widgets/base",
          "model_name": "LayoutModel",
          "state": {
            "_view_name": "LayoutView",
            "grid_template_rows": null,
            "right": null,
            "justify_content": null,
            "_view_module": "@jupyter-widgets/base",
            "overflow": null,
            "_model_module_version": "1.2.0",
            "_view_count": null,
            "flex_flow": null,
            "width": null,
            "min_width": null,
            "border": null,
            "align_items": null,
            "bottom": null,
            "_model_module": "@jupyter-widgets/base",
            "top": null,
            "grid_column": null,
            "overflow_y": null,
            "overflow_x": null,
            "grid_auto_flow": null,
            "grid_area": null,
            "grid_template_columns": null,
            "flex": null,
            "_model_name": "LayoutModel",
            "justify_items": null,
            "grid_row": null,
            "max_height": null,
            "align_content": null,
            "visibility": null,
            "align_self": null,
            "height": null,
            "min_height": null,
            "padding": null,
            "grid_auto_rows": null,
            "grid_gap": null,
            "max_width": null,
            "order": null,
            "_view_module_version": "1.2.0",
            "grid_template_areas": null,
            "object_position": null,
            "object_fit": null,
            "grid_auto_columns": null,
            "margin": null,
            "display": null,
            "left": null
          }
        },
        "161ee178f05f4c6ca72c0915a6fe9bb4": {
          "model_module": "@jupyter-widgets/controls",
          "model_name": "IntProgressModel",
          "state": {
            "_view_name": "ProgressView",
            "style": "IPY_MODEL_c1e23d25235a43b480dc50c22f9d3138",
            "_dom_classes": [],
            "description": "Downloading: 100%",
            "_model_name": "IntProgressModel",
            "bar_style": "success",
            "max": 1394,
            "_view_module": "@jupyter-widgets/controls",
            "_model_module_version": "1.5.0",
            "value": 1394,
            "_view_count": null,
            "_view_module_version": "1.5.0",
            "orientation": "horizontal",
            "min": 0,
            "description_tooltip": null,
            "_model_module": "@jupyter-widgets/controls",
            "layout": "IPY_MODEL_0e8f4c68155045da92dd243f6b4eb1e7"
          }
        },
        "0d7e8f5edfbf4575919f7c6808e2841f": {
          "model_module": "@jupyter-widgets/controls",
          "model_name": "HTMLModel",
          "state": {
            "_view_name": "HTMLView",
            "style": "IPY_MODEL_1b7c2c21be3845ae942000f45a43a8cb",
            "_dom_classes": [],
            "description": "",
            "_model_name": "HTMLModel",
            "placeholder": "​",
            "_view_module": "@jupyter-widgets/controls",
            "_model_module_version": "1.5.0",
            "value": " 1.39k/1.39k [00:20&lt;00:00, 66.7B/s]",
            "_view_count": null,
            "_view_module_version": "1.5.0",
            "description_tooltip": null,
            "_model_module": "@jupyter-widgets/controls",
            "layout": "IPY_MODEL_f5d2b168d95d412db807dc8ac4375384"
          }
        },
        "c1e23d25235a43b480dc50c22f9d3138": {
          "model_module": "@jupyter-widgets/controls",
          "model_name": "ProgressStyleModel",
          "state": {
            "_view_name": "StyleView",
            "_model_name": "ProgressStyleModel",
            "description_width": "initial",
            "_view_module": "@jupyter-widgets/base",
            "_model_module_version": "1.5.0",
            "_view_count": null,
            "_view_module_version": "1.2.0",
            "bar_color": null,
            "_model_module": "@jupyter-widgets/controls"
          }
        },
        "0e8f4c68155045da92dd243f6b4eb1e7": {
          "model_module": "@jupyter-widgets/base",
          "model_name": "LayoutModel",
          "state": {
            "_view_name": "LayoutView",
            "grid_template_rows": null,
            "right": null,
            "justify_content": null,
            "_view_module": "@jupyter-widgets/base",
            "overflow": null,
            "_model_module_version": "1.2.0",
            "_view_count": null,
            "flex_flow": null,
            "width": null,
            "min_width": null,
            "border": null,
            "align_items": null,
            "bottom": null,
            "_model_module": "@jupyter-widgets/base",
            "top": null,
            "grid_column": null,
            "overflow_y": null,
            "overflow_x": null,
            "grid_auto_flow": null,
            "grid_area": null,
            "grid_template_columns": null,
            "flex": null,
            "_model_name": "LayoutModel",
            "justify_items": null,
            "grid_row": null,
            "max_height": null,
            "align_content": null,
            "visibility": null,
            "align_self": null,
            "height": null,
            "min_height": null,
            "padding": null,
            "grid_auto_rows": null,
            "grid_gap": null,
            "max_width": null,
            "order": null,
            "_view_module_version": "1.2.0",
            "grid_template_areas": null,
            "object_position": null,
            "object_fit": null,
            "grid_auto_columns": null,
            "margin": null,
            "display": null,
            "left": null
          }
        },
        "1b7c2c21be3845ae942000f45a43a8cb": {
          "model_module": "@jupyter-widgets/controls",
          "model_name": "DescriptionStyleModel",
          "state": {
            "_view_name": "StyleView",
            "_model_name": "DescriptionStyleModel",
            "description_width": "",
            "_view_module": "@jupyter-widgets/base",
            "_model_module_version": "1.5.0",
            "_view_count": null,
            "_view_module_version": "1.2.0",
            "_model_module": "@jupyter-widgets/controls"
          }
        },
        "f5d2b168d95d412db807dc8ac4375384": {
          "model_module": "@jupyter-widgets/base",
          "model_name": "LayoutModel",
          "state": {
            "_view_name": "LayoutView",
            "grid_template_rows": null,
            "right": null,
            "justify_content": null,
            "_view_module": "@jupyter-widgets/base",
            "overflow": null,
            "_model_module_version": "1.2.0",
            "_view_count": null,
            "flex_flow": null,
            "width": null,
            "min_width": null,
            "border": null,
            "align_items": null,
            "bottom": null,
            "_model_module": "@jupyter-widgets/base",
            "top": null,
            "grid_column": null,
            "overflow_y": null,
            "overflow_x": null,
            "grid_auto_flow": null,
            "grid_area": null,
            "grid_template_columns": null,
            "flex": null,
            "_model_name": "LayoutModel",
            "justify_items": null,
            "grid_row": null,
            "max_height": null,
            "align_content": null,
            "visibility": null,
            "align_self": null,
            "height": null,
            "min_height": null,
            "padding": null,
            "grid_auto_rows": null,
            "grid_gap": null,
            "max_width": null,
            "order": null,
            "_view_module_version": "1.2.0",
            "grid_template_areas": null,
            "object_position": null,
            "object_fit": null,
            "grid_auto_columns": null,
            "margin": null,
            "display": null,
            "left": null
          }
        },
        "badc573b1d1b421081e610833de6b38f": {
          "model_module": "@jupyter-widgets/controls",
          "model_name": "HBoxModel",
          "state": {
            "_view_name": "HBoxView",
            "_dom_classes": [],
            "_model_name": "HBoxModel",
            "_view_module": "@jupyter-widgets/controls",
            "_model_module_version": "1.5.0",
            "_view_count": null,
            "_view_module_version": "1.5.0",
            "box_style": "",
            "layout": "IPY_MODEL_b512745065d3453099d0a20b7405ade3",
            "_model_module": "@jupyter-widgets/controls",
            "children": [
              "IPY_MODEL_7d8b898a84334a0d9913a77b6744d06c",
              "IPY_MODEL_c922bdd71e424c8cb87cf908406a1a0a"
            ]
          }
        },
        "b512745065d3453099d0a20b7405ade3": {
          "model_module": "@jupyter-widgets/base",
          "model_name": "LayoutModel",
          "state": {
            "_view_name": "LayoutView",
            "grid_template_rows": null,
            "right": null,
            "justify_content": null,
            "_view_module": "@jupyter-widgets/base",
            "overflow": null,
            "_model_module_version": "1.2.0",
            "_view_count": null,
            "flex_flow": null,
            "width": null,
            "min_width": null,
            "border": null,
            "align_items": null,
            "bottom": null,
            "_model_module": "@jupyter-widgets/base",
            "top": null,
            "grid_column": null,
            "overflow_y": null,
            "overflow_x": null,
            "grid_auto_flow": null,
            "grid_area": null,
            "grid_template_columns": null,
            "flex": null,
            "_model_name": "LayoutModel",
            "justify_items": null,
            "grid_row": null,
            "max_height": null,
            "align_content": null,
            "visibility": null,
            "align_self": null,
            "height": null,
            "min_height": null,
            "padding": null,
            "grid_auto_rows": null,
            "grid_gap": null,
            "max_width": null,
            "order": null,
            "_view_module_version": "1.2.0",
            "grid_template_areas": null,
            "object_position": null,
            "object_fit": null,
            "grid_auto_columns": null,
            "margin": null,
            "display": null,
            "left": null
          }
        },
        "7d8b898a84334a0d9913a77b6744d06c": {
          "model_module": "@jupyter-widgets/controls",
          "model_name": "IntProgressModel",
          "state": {
            "_view_name": "ProgressView",
            "style": "IPY_MODEL_dd64058580dd4b7cbfc9b5d61ed3eb6f",
            "_dom_classes": [],
            "description": "Downloading: 100%",
            "_model_name": "IntProgressModel",
            "bar_style": "success",
            "max": 791656,
            "_view_module": "@jupyter-widgets/controls",
            "_model_module_version": "1.5.0",
            "value": 791656,
            "_view_count": null,
            "_view_module_version": "1.5.0",
            "orientation": "horizontal",
            "min": 0,
            "description_tooltip": null,
            "_model_module": "@jupyter-widgets/controls",
            "layout": "IPY_MODEL_384fd57b9e8b49ee8144d9a9254e549c"
          }
        },
        "c922bdd71e424c8cb87cf908406a1a0a": {
          "model_module": "@jupyter-widgets/controls",
          "model_name": "HTMLModel",
          "state": {
            "_view_name": "HTMLView",
            "style": "IPY_MODEL_d064d56df5434c9397c60115c9e2c601",
            "_dom_classes": [],
            "description": "",
            "_model_name": "HTMLModel",
            "placeholder": "​",
            "_view_module": "@jupyter-widgets/controls",
            "_model_module_version": "1.5.0",
            "value": " 792k/792k [00:00&lt;00:00, 2.54MB/s]",
            "_view_count": null,
            "_view_module_version": "1.5.0",
            "description_tooltip": null,
            "_model_module": "@jupyter-widgets/controls",
            "layout": "IPY_MODEL_64a2ba99a8d7441c80ead63d1ecfee25"
          }
        },
        "dd64058580dd4b7cbfc9b5d61ed3eb6f": {
          "model_module": "@jupyter-widgets/controls",
          "model_name": "ProgressStyleModel",
          "state": {
            "_view_name": "StyleView",
            "_model_name": "ProgressStyleModel",
            "description_width": "initial",
            "_view_module": "@jupyter-widgets/base",
            "_model_module_version": "1.5.0",
            "_view_count": null,
            "_view_module_version": "1.2.0",
            "bar_color": null,
            "_model_module": "@jupyter-widgets/controls"
          }
        },
        "384fd57b9e8b49ee8144d9a9254e549c": {
          "model_module": "@jupyter-widgets/base",
          "model_name": "LayoutModel",
          "state": {
            "_view_name": "LayoutView",
            "grid_template_rows": null,
            "right": null,
            "justify_content": null,
            "_view_module": "@jupyter-widgets/base",
            "overflow": null,
            "_model_module_version": "1.2.0",
            "_view_count": null,
            "flex_flow": null,
            "width": null,
            "min_width": null,
            "border": null,
            "align_items": null,
            "bottom": null,
            "_model_module": "@jupyter-widgets/base",
            "top": null,
            "grid_column": null,
            "overflow_y": null,
            "overflow_x": null,
            "grid_auto_flow": null,
            "grid_area": null,
            "grid_template_columns": null,
            "flex": null,
            "_model_name": "LayoutModel",
            "justify_items": null,
            "grid_row": null,
            "max_height": null,
            "align_content": null,
            "visibility": null,
            "align_self": null,
            "height": null,
            "min_height": null,
            "padding": null,
            "grid_auto_rows": null,
            "grid_gap": null,
            "max_width": null,
            "order": null,
            "_view_module_version": "1.2.0",
            "grid_template_areas": null,
            "object_position": null,
            "object_fit": null,
            "grid_auto_columns": null,
            "margin": null,
            "display": null,
            "left": null
          }
        },
        "d064d56df5434c9397c60115c9e2c601": {
          "model_module": "@jupyter-widgets/controls",
          "model_name": "DescriptionStyleModel",
          "state": {
            "_view_name": "StyleView",
            "_model_name": "DescriptionStyleModel",
            "description_width": "",
            "_view_module": "@jupyter-widgets/base",
            "_model_module_version": "1.5.0",
            "_view_count": null,
            "_view_module_version": "1.2.0",
            "_model_module": "@jupyter-widgets/controls"
          }
        },
        "64a2ba99a8d7441c80ead63d1ecfee25": {
          "model_module": "@jupyter-widgets/base",
          "model_name": "LayoutModel",
          "state": {
            "_view_name": "LayoutView",
            "grid_template_rows": null,
            "right": null,
            "justify_content": null,
            "_view_module": "@jupyter-widgets/base",
            "overflow": null,
            "_model_module_version": "1.2.0",
            "_view_count": null,
            "flex_flow": null,
            "width": null,
            "min_width": null,
            "border": null,
            "align_items": null,
            "bottom": null,
            "_model_module": "@jupyter-widgets/base",
            "top": null,
            "grid_column": null,
            "overflow_y": null,
            "overflow_x": null,
            "grid_auto_flow": null,
            "grid_area": null,
            "grid_template_columns": null,
            "flex": null,
            "_model_name": "LayoutModel",
            "justify_items": null,
            "grid_row": null,
            "max_height": null,
            "align_content": null,
            "visibility": null,
            "align_self": null,
            "height": null,
            "min_height": null,
            "padding": null,
            "grid_auto_rows": null,
            "grid_gap": null,
            "max_width": null,
            "order": null,
            "_view_module_version": "1.2.0",
            "grid_template_areas": null,
            "object_position": null,
            "object_fit": null,
            "grid_auto_columns": null,
            "margin": null,
            "display": null,
            "left": null
          }
        },
        "4547e55f09984956a64e384374fd0584": {
          "model_module": "@jupyter-widgets/controls",
          "model_name": "HBoxModel",
          "state": {
            "_view_name": "HBoxView",
            "_dom_classes": [],
            "_model_name": "HBoxModel",
            "_view_module": "@jupyter-widgets/controls",
            "_model_module_version": "1.5.0",
            "_view_count": null,
            "_view_module_version": "1.5.0",
            "box_style": "",
            "layout": "IPY_MODEL_75b7b553dfa94dafabd052f9fefd655d",
            "_model_module": "@jupyter-widgets/controls",
            "children": [
              "IPY_MODEL_1ddd5612f5b34cd6a37d8457ee76c1ee",
              "IPY_MODEL_ef5405a83d634040a75b4fd387989828"
            ]
          }
        },
        "75b7b553dfa94dafabd052f9fefd655d": {
          "model_module": "@jupyter-widgets/base",
          "model_name": "LayoutModel",
          "state": {
            "_view_name": "LayoutView",
            "grid_template_rows": null,
            "right": null,
            "justify_content": null,
            "_view_module": "@jupyter-widgets/base",
            "overflow": null,
            "_model_module_version": "1.2.0",
            "_view_count": null,
            "flex_flow": null,
            "width": null,
            "min_width": null,
            "border": null,
            "align_items": null,
            "bottom": null,
            "_model_module": "@jupyter-widgets/base",
            "top": null,
            "grid_column": null,
            "overflow_y": null,
            "overflow_x": null,
            "grid_auto_flow": null,
            "grid_area": null,
            "grid_template_columns": null,
            "flex": null,
            "_model_name": "LayoutModel",
            "justify_items": null,
            "grid_row": null,
            "max_height": null,
            "align_content": null,
            "visibility": null,
            "align_self": null,
            "height": null,
            "min_height": null,
            "padding": null,
            "grid_auto_rows": null,
            "grid_gap": null,
            "max_width": null,
            "order": null,
            "_view_module_version": "1.2.0",
            "grid_template_areas": null,
            "object_position": null,
            "object_fit": null,
            "grid_auto_columns": null,
            "margin": null,
            "display": null,
            "left": null
          }
        },
        "1ddd5612f5b34cd6a37d8457ee76c1ee": {
          "model_module": "@jupyter-widgets/controls",
          "model_name": "IntProgressModel",
          "state": {
            "_view_name": "ProgressView",
            "style": "IPY_MODEL_1bbcba18917a42a8876e29af8a972173",
            "_dom_classes": [],
            "description": "Downloading: 100%",
            "_model_name": "IntProgressModel",
            "bar_style": "success",
            "max": 230,
            "_view_module": "@jupyter-widgets/controls",
            "_model_module_version": "1.5.0",
            "value": 230,
            "_view_count": null,
            "_view_module_version": "1.5.0",
            "orientation": "horizontal",
            "min": 0,
            "description_tooltip": null,
            "_model_module": "@jupyter-widgets/controls",
            "layout": "IPY_MODEL_e9d86d161d614e83a7ceac50378591b9"
          }
        },
        "ef5405a83d634040a75b4fd387989828": {
          "model_module": "@jupyter-widgets/controls",
          "model_name": "HTMLModel",
          "state": {
            "_view_name": "HTMLView",
            "style": "IPY_MODEL_b213b783d35946a08e7a28392cb21b9f",
            "_dom_classes": [],
            "description": "",
            "_model_name": "HTMLModel",
            "placeholder": "​",
            "_view_module": "@jupyter-widgets/controls",
            "_model_module_version": "1.5.0",
            "value": " 230/230 [00:20&lt;00:00, 11.3B/s]",
            "_view_count": null,
            "_view_module_version": "1.5.0",
            "description_tooltip": null,
            "_model_module": "@jupyter-widgets/controls",
            "layout": "IPY_MODEL_ed51217bb5864623a91b9857e21ae0d8"
          }
        },
        "1bbcba18917a42a8876e29af8a972173": {
          "model_module": "@jupyter-widgets/controls",
          "model_name": "ProgressStyleModel",
          "state": {
            "_view_name": "StyleView",
            "_model_name": "ProgressStyleModel",
            "description_width": "initial",
            "_view_module": "@jupyter-widgets/base",
            "_model_module_version": "1.5.0",
            "_view_count": null,
            "_view_module_version": "1.2.0",
            "bar_color": null,
            "_model_module": "@jupyter-widgets/controls"
          }
        },
        "e9d86d161d614e83a7ceac50378591b9": {
          "model_module": "@jupyter-widgets/base",
          "model_name": "LayoutModel",
          "state": {
            "_view_name": "LayoutView",
            "grid_template_rows": null,
            "right": null,
            "justify_content": null,
            "_view_module": "@jupyter-widgets/base",
            "overflow": null,
            "_model_module_version": "1.2.0",
            "_view_count": null,
            "flex_flow": null,
            "width": null,
            "min_width": null,
            "border": null,
            "align_items": null,
            "bottom": null,
            "_model_module": "@jupyter-widgets/base",
            "top": null,
            "grid_column": null,
            "overflow_y": null,
            "overflow_x": null,
            "grid_auto_flow": null,
            "grid_area": null,
            "grid_template_columns": null,
            "flex": null,
            "_model_name": "LayoutModel",
            "justify_items": null,
            "grid_row": null,
            "max_height": null,
            "align_content": null,
            "visibility": null,
            "align_self": null,
            "height": null,
            "min_height": null,
            "padding": null,
            "grid_auto_rows": null,
            "grid_gap": null,
            "max_width": null,
            "order": null,
            "_view_module_version": "1.2.0",
            "grid_template_areas": null,
            "object_position": null,
            "object_fit": null,
            "grid_auto_columns": null,
            "margin": null,
            "display": null,
            "left": null
          }
        },
        "b213b783d35946a08e7a28392cb21b9f": {
          "model_module": "@jupyter-widgets/controls",
          "model_name": "DescriptionStyleModel",
          "state": {
            "_view_name": "StyleView",
            "_model_name": "DescriptionStyleModel",
            "description_width": "",
            "_view_module": "@jupyter-widgets/base",
            "_model_module_version": "1.5.0",
            "_view_count": null,
            "_view_module_version": "1.2.0",
            "_model_module": "@jupyter-widgets/controls"
          }
        },
        "ed51217bb5864623a91b9857e21ae0d8": {
          "model_module": "@jupyter-widgets/base",
          "model_name": "LayoutModel",
          "state": {
            "_view_name": "LayoutView",
            "grid_template_rows": null,
            "right": null,
            "justify_content": null,
            "_view_module": "@jupyter-widgets/base",
            "overflow": null,
            "_model_module_version": "1.2.0",
            "_view_count": null,
            "flex_flow": null,
            "width": null,
            "min_width": null,
            "border": null,
            "align_items": null,
            "bottom": null,
            "_model_module": "@jupyter-widgets/base",
            "top": null,
            "grid_column": null,
            "overflow_y": null,
            "overflow_x": null,
            "grid_auto_flow": null,
            "grid_area": null,
            "grid_template_columns": null,
            "flex": null,
            "_model_name": "LayoutModel",
            "justify_items": null,
            "grid_row": null,
            "max_height": null,
            "align_content": null,
            "visibility": null,
            "align_self": null,
            "height": null,
            "min_height": null,
            "padding": null,
            "grid_auto_rows": null,
            "grid_gap": null,
            "max_width": null,
            "order": null,
            "_view_module_version": "1.2.0",
            "grid_template_areas": null,
            "object_position": null,
            "object_fit": null,
            "grid_auto_columns": null,
            "margin": null,
            "display": null,
            "left": null
          }
        },
        "d1a9b318094641d4acfa72e30a0d314a": {
          "model_module": "@jupyter-widgets/controls",
          "model_name": "HBoxModel",
          "state": {
            "_view_name": "HBoxView",
            "_dom_classes": [],
            "_model_name": "HBoxModel",
            "_view_module": "@jupyter-widgets/controls",
            "_model_module_version": "1.5.0",
            "_view_count": null,
            "_view_module_version": "1.5.0",
            "box_style": "",
            "layout": "IPY_MODEL_91bbf449ccd84ccaa4a61031f0fbcf81",
            "_model_module": "@jupyter-widgets/controls",
            "children": [
              "IPY_MODEL_4576bc46ec464c56b0942c2dadfd76eb",
              "IPY_MODEL_6f21833822424847a28e800c46fb6a98"
            ]
          }
        },
        "91bbf449ccd84ccaa4a61031f0fbcf81": {
          "model_module": "@jupyter-widgets/base",
          "model_name": "LayoutModel",
          "state": {
            "_view_name": "LayoutView",
            "grid_template_rows": null,
            "right": null,
            "justify_content": null,
            "_view_module": "@jupyter-widgets/base",
            "overflow": null,
            "_model_module_version": "1.2.0",
            "_view_count": null,
            "flex_flow": null,
            "width": null,
            "min_width": null,
            "border": null,
            "align_items": null,
            "bottom": null,
            "_model_module": "@jupyter-widgets/base",
            "top": null,
            "grid_column": null,
            "overflow_y": null,
            "overflow_x": null,
            "grid_auto_flow": null,
            "grid_area": null,
            "grid_template_columns": null,
            "flex": null,
            "_model_name": "LayoutModel",
            "justify_items": null,
            "grid_row": null,
            "max_height": null,
            "align_content": null,
            "visibility": null,
            "align_self": null,
            "height": null,
            "min_height": null,
            "padding": null,
            "grid_auto_rows": null,
            "grid_gap": null,
            "max_width": null,
            "order": null,
            "_view_module_version": "1.2.0",
            "grid_template_areas": null,
            "object_position": null,
            "object_fit": null,
            "grid_auto_columns": null,
            "margin": null,
            "display": null,
            "left": null
          }
        },
        "4576bc46ec464c56b0942c2dadfd76eb": {
          "model_module": "@jupyter-widgets/controls",
          "model_name": "IntProgressModel",
          "state": {
            "_view_name": "ProgressView",
            "style": "IPY_MODEL_976f357705e3446c9d27c943146109bb",
            "_dom_classes": [],
            "description": "Downloading: 100%",
            "_model_name": "IntProgressModel",
            "bar_style": "success",
            "max": 892146080,
            "_view_module": "@jupyter-widgets/controls",
            "_model_module_version": "1.5.0",
            "value": 892146080,
            "_view_count": null,
            "_view_module_version": "1.5.0",
            "orientation": "horizontal",
            "min": 0,
            "description_tooltip": null,
            "_model_module": "@jupyter-widgets/controls",
            "layout": "IPY_MODEL_1cae6db1638043f0a91298c009746c78"
          }
        },
        "6f21833822424847a28e800c46fb6a98": {
          "model_module": "@jupyter-widgets/controls",
          "model_name": "HTMLModel",
          "state": {
            "_view_name": "HTMLView",
            "style": "IPY_MODEL_a96a2f6cd69642039ed094f3fbeb9560",
            "_dom_classes": [],
            "description": "",
            "_model_name": "HTMLModel",
            "placeholder": "​",
            "_view_module": "@jupyter-widgets/controls",
            "_model_module_version": "1.5.0",
            "value": " 892M/892M [00:19&lt;00:00, 44.9MB/s]",
            "_view_count": null,
            "_view_module_version": "1.5.0",
            "description_tooltip": null,
            "_model_module": "@jupyter-widgets/controls",
            "layout": "IPY_MODEL_ad0ff122a4f64de0abe75b482c603fa5"
          }
        },
        "976f357705e3446c9d27c943146109bb": {
          "model_module": "@jupyter-widgets/controls",
          "model_name": "ProgressStyleModel",
          "state": {
            "_view_name": "StyleView",
            "_model_name": "ProgressStyleModel",
            "description_width": "initial",
            "_view_module": "@jupyter-widgets/base",
            "_model_module_version": "1.5.0",
            "_view_count": null,
            "_view_module_version": "1.2.0",
            "bar_color": null,
            "_model_module": "@jupyter-widgets/controls"
          }
        },
        "1cae6db1638043f0a91298c009746c78": {
          "model_module": "@jupyter-widgets/base",
          "model_name": "LayoutModel",
          "state": {
            "_view_name": "LayoutView",
            "grid_template_rows": null,
            "right": null,
            "justify_content": null,
            "_view_module": "@jupyter-widgets/base",
            "overflow": null,
            "_model_module_version": "1.2.0",
            "_view_count": null,
            "flex_flow": null,
            "width": null,
            "min_width": null,
            "border": null,
            "align_items": null,
            "bottom": null,
            "_model_module": "@jupyter-widgets/base",
            "top": null,
            "grid_column": null,
            "overflow_y": null,
            "overflow_x": null,
            "grid_auto_flow": null,
            "grid_area": null,
            "grid_template_columns": null,
            "flex": null,
            "_model_name": "LayoutModel",
            "justify_items": null,
            "grid_row": null,
            "max_height": null,
            "align_content": null,
            "visibility": null,
            "align_self": null,
            "height": null,
            "min_height": null,
            "padding": null,
            "grid_auto_rows": null,
            "grid_gap": null,
            "max_width": null,
            "order": null,
            "_view_module_version": "1.2.0",
            "grid_template_areas": null,
            "object_position": null,
            "object_fit": null,
            "grid_auto_columns": null,
            "margin": null,
            "display": null,
            "left": null
          }
        },
        "a96a2f6cd69642039ed094f3fbeb9560": {
          "model_module": "@jupyter-widgets/controls",
          "model_name": "DescriptionStyleModel",
          "state": {
            "_view_name": "StyleView",
            "_model_name": "DescriptionStyleModel",
            "description_width": "",
            "_view_module": "@jupyter-widgets/base",
            "_model_module_version": "1.5.0",
            "_view_count": null,
            "_view_module_version": "1.2.0",
            "_model_module": "@jupyter-widgets/controls"
          }
        },
        "ad0ff122a4f64de0abe75b482c603fa5": {
          "model_module": "@jupyter-widgets/base",
          "model_name": "LayoutModel",
          "state": {
            "_view_name": "LayoutView",
            "grid_template_rows": null,
            "right": null,
            "justify_content": null,
            "_view_module": "@jupyter-widgets/base",
            "overflow": null,
            "_model_module_version": "1.2.0",
            "_view_count": null,
            "flex_flow": null,
            "width": null,
            "min_width": null,
            "border": null,
            "align_items": null,
            "bottom": null,
            "_model_module": "@jupyter-widgets/base",
            "top": null,
            "grid_column": null,
            "overflow_y": null,
            "overflow_x": null,
            "grid_auto_flow": null,
            "grid_area": null,
            "grid_template_columns": null,
            "flex": null,
            "_model_name": "LayoutModel",
            "justify_items": null,
            "grid_row": null,
            "max_height": null,
            "align_content": null,
            "visibility": null,
            "align_self": null,
            "height": null,
            "min_height": null,
            "padding": null,
            "grid_auto_rows": null,
            "grid_gap": null,
            "max_width": null,
            "order": null,
            "_view_module_version": "1.2.0",
            "grid_template_areas": null,
            "object_position": null,
            "object_fit": null,
            "grid_auto_columns": null,
            "margin": null,
            "display": null,
            "left": null
          }
        }
      }
    },
    "accelerator": "GPU"
  },
  "cells": [
    {
      "cell_type": "markdown",
      "metadata": {
        "id": "view-in-github",
        "colab_type": "text"
      },
      "source": [
        "<a href=\"https://colab.research.google.com/github/lj89/CORD19/blob/master/Copy_of_Furin_Abstract_T5_validation_of_Question_Answering_Outputs.ipynb\" target=\"_parent\"><img src=\"https://colab.research.google.com/assets/colab-badge.svg\" alt=\"Open In Colab\"/></a>"
      ]
    },
    {
      "cell_type": "markdown",
      "metadata": {
        "id": "GnknnYdqT61a",
        "colab_type": "text"
      },
      "source": [
        "#remember to change to gpu"
      ]
    },
    {
      "cell_type": "code",
      "metadata": {
        "id": "mxsSu6YvMj6Y",
        "colab_type": "code",
        "outputId": "8eb39eb4-0f6b-4aba-df31-b177fb672b7b",
        "colab": {
          "base_uri": "https://localhost:8080/",
          "height": 691
        }
      },
      "source": [
        "!pip install tensorflow==2.1"
      ],
      "execution_count": 2,
      "outputs": [
        {
          "output_type": "stream",
          "text": [
            "Requirement already satisfied: tensorflow==2.1 in /usr/local/lib/python3.6/dist-packages (2.1.0)\n",
            "Requirement already satisfied: numpy<2.0,>=1.16.0 in /usr/local/lib/python3.6/dist-packages (from tensorflow==2.1) (1.18.2)\n",
            "Requirement already satisfied: wheel>=0.26; python_version >= \"3\" in /usr/local/lib/python3.6/dist-packages (from tensorflow==2.1) (0.34.2)\n",
            "Requirement already satisfied: absl-py>=0.7.0 in /usr/local/lib/python3.6/dist-packages (from tensorflow==2.1) (0.9.0)\n",
            "Requirement already satisfied: wrapt>=1.11.1 in /usr/local/lib/python3.6/dist-packages (from tensorflow==2.1) (1.12.1)\n",
            "Requirement already satisfied: termcolor>=1.1.0 in /usr/local/lib/python3.6/dist-packages (from tensorflow==2.1) (1.1.0)\n",
            "Requirement already satisfied: gast==0.2.2 in /usr/local/lib/python3.6/dist-packages (from tensorflow==2.1) (0.2.2)\n",
            "Requirement already satisfied: keras-applications>=1.0.8 in /usr/local/lib/python3.6/dist-packages (from tensorflow==2.1) (1.0.8)\n",
            "Requirement already satisfied: astor>=0.6.0 in /usr/local/lib/python3.6/dist-packages (from tensorflow==2.1) (0.8.1)\n",
            "Requirement already satisfied: tensorboard<2.2.0,>=2.1.0 in /usr/local/lib/python3.6/dist-packages (from tensorflow==2.1) (2.1.1)\n",
            "Requirement already satisfied: keras-preprocessing>=1.1.0 in /usr/local/lib/python3.6/dist-packages (from tensorflow==2.1) (1.1.0)\n",
            "Requirement already satisfied: six>=1.12.0 in /usr/local/lib/python3.6/dist-packages (from tensorflow==2.1) (1.12.0)\n",
            "Requirement already satisfied: grpcio>=1.8.6 in /usr/local/lib/python3.6/dist-packages (from tensorflow==2.1) (1.27.2)\n",
            "Requirement already satisfied: opt-einsum>=2.3.2 in /usr/local/lib/python3.6/dist-packages (from tensorflow==2.1) (3.2.0)\n",
            "Requirement already satisfied: scipy==1.4.1; python_version >= \"3\" in /usr/local/lib/python3.6/dist-packages (from tensorflow==2.1) (1.4.1)\n",
            "Requirement already satisfied: tensorflow-estimator<2.2.0,>=2.1.0rc0 in /usr/local/lib/python3.6/dist-packages (from tensorflow==2.1) (2.1.0)\n",
            "Requirement already satisfied: protobuf>=3.8.0 in /usr/local/lib/python3.6/dist-packages (from tensorflow==2.1) (3.10.0)\n",
            "Requirement already satisfied: google-pasta>=0.1.6 in /usr/local/lib/python3.6/dist-packages (from tensorflow==2.1) (0.2.0)\n",
            "Requirement already satisfied: h5py in /usr/local/lib/python3.6/dist-packages (from keras-applications>=1.0.8->tensorflow==2.1) (2.10.0)\n",
            "Requirement already satisfied: google-auth-oauthlib<0.5,>=0.4.1 in /usr/local/lib/python3.6/dist-packages (from tensorboard<2.2.0,>=2.1.0->tensorflow==2.1) (0.4.1)\n",
            "Requirement already satisfied: requests<3,>=2.21.0 in /usr/local/lib/python3.6/dist-packages (from tensorboard<2.2.0,>=2.1.0->tensorflow==2.1) (2.21.0)\n",
            "Requirement already satisfied: werkzeug>=0.11.15 in /usr/local/lib/python3.6/dist-packages (from tensorboard<2.2.0,>=2.1.0->tensorflow==2.1) (1.0.1)\n",
            "Requirement already satisfied: google-auth<2,>=1.6.3 in /usr/local/lib/python3.6/dist-packages (from tensorboard<2.2.0,>=2.1.0->tensorflow==2.1) (1.7.2)\n",
            "Requirement already satisfied: markdown>=2.6.8 in /usr/local/lib/python3.6/dist-packages (from tensorboard<2.2.0,>=2.1.0->tensorflow==2.1) (3.2.1)\n",
            "Requirement already satisfied: setuptools>=41.0.0 in /usr/local/lib/python3.6/dist-packages (from tensorboard<2.2.0,>=2.1.0->tensorflow==2.1) (46.0.0)\n",
            "Requirement already satisfied: requests-oauthlib>=0.7.0 in /usr/local/lib/python3.6/dist-packages (from google-auth-oauthlib<0.5,>=0.4.1->tensorboard<2.2.0,>=2.1.0->tensorflow==2.1) (1.3.0)\n",
            "Requirement already satisfied: urllib3<1.25,>=1.21.1 in /usr/local/lib/python3.6/dist-packages (from requests<3,>=2.21.0->tensorboard<2.2.0,>=2.1.0->tensorflow==2.1) (1.24.3)\n",
            "Requirement already satisfied: certifi>=2017.4.17 in /usr/local/lib/python3.6/dist-packages (from requests<3,>=2.21.0->tensorboard<2.2.0,>=2.1.0->tensorflow==2.1) (2019.11.28)\n",
            "Requirement already satisfied: chardet<3.1.0,>=3.0.2 in /usr/local/lib/python3.6/dist-packages (from requests<3,>=2.21.0->tensorboard<2.2.0,>=2.1.0->tensorflow==2.1) (3.0.4)\n",
            "Requirement already satisfied: idna<2.9,>=2.5 in /usr/local/lib/python3.6/dist-packages (from requests<3,>=2.21.0->tensorboard<2.2.0,>=2.1.0->tensorflow==2.1) (2.8)\n",
            "Requirement already satisfied: cachetools<3.2,>=2.0.0 in /usr/local/lib/python3.6/dist-packages (from google-auth<2,>=1.6.3->tensorboard<2.2.0,>=2.1.0->tensorflow==2.1) (3.1.1)\n",
            "Requirement already satisfied: pyasn1-modules>=0.2.1 in /usr/local/lib/python3.6/dist-packages (from google-auth<2,>=1.6.3->tensorboard<2.2.0,>=2.1.0->tensorflow==2.1) (0.2.8)\n",
            "Requirement already satisfied: rsa<4.1,>=3.1.4 in /usr/local/lib/python3.6/dist-packages (from google-auth<2,>=1.6.3->tensorboard<2.2.0,>=2.1.0->tensorflow==2.1) (4.0)\n",
            "Requirement already satisfied: oauthlib>=3.0.0 in /usr/local/lib/python3.6/dist-packages (from requests-oauthlib>=0.7.0->google-auth-oauthlib<0.5,>=0.4.1->tensorboard<2.2.0,>=2.1.0->tensorflow==2.1) (3.1.0)\n",
            "Requirement already satisfied: pyasn1<0.5.0,>=0.4.6 in /usr/local/lib/python3.6/dist-packages (from pyasn1-modules>=0.2.1->google-auth<2,>=1.6.3->tensorboard<2.2.0,>=2.1.0->tensorflow==2.1) (0.4.8)\n"
          ],
          "name": "stdout"
        }
      ]
    },
    {
      "cell_type": "code",
      "metadata": {
        "id": "CeRwjj9lMPN6",
        "colab_type": "code",
        "outputId": "8d0f64dc-2292-4a37-bf00-bb496213c2fe",
        "colab": {
          "base_uri": "https://localhost:8080/",
          "height": 727
        }
      },
      "source": [
        "!pip install transformers"
      ],
      "execution_count": 1,
      "outputs": [
        {
          "output_type": "stream",
          "text": [
            "Collecting transformers\n",
            "\u001b[?25l  Downloading https://files.pythonhosted.org/packages/37/ba/dda44bbf35b071441635708a3dd568a5ca6bf29f77389f7c7c6818ae9498/transformers-2.7.0-py3-none-any.whl (544kB)\n",
            "\u001b[K     |████████████████████████████████| 552kB 2.8MB/s \n",
            "\u001b[?25hCollecting sentencepiece\n",
            "\u001b[?25l  Downloading https://files.pythonhosted.org/packages/74/f4/2d5214cbf13d06e7cb2c20d84115ca25b53ea76fa1f0ade0e3c9749de214/sentencepiece-0.1.85-cp36-cp36m-manylinux1_x86_64.whl (1.0MB)\n",
            "\u001b[K     |████████████████████████████████| 1.0MB 60.9MB/s \n",
            "\u001b[?25hRequirement already satisfied: tqdm>=4.27 in /usr/local/lib/python3.6/dist-packages (from transformers) (4.38.0)\n",
            "Requirement already satisfied: filelock in /usr/local/lib/python3.6/dist-packages (from transformers) (3.0.12)\n",
            "Requirement already satisfied: requests in /usr/local/lib/python3.6/dist-packages (from transformers) (2.21.0)\n",
            "Requirement already satisfied: boto3 in /usr/local/lib/python3.6/dist-packages (from transformers) (1.12.33)\n",
            "Requirement already satisfied: dataclasses; python_version < \"3.7\" in /usr/local/lib/python3.6/dist-packages (from transformers) (0.7)\n",
            "Requirement already satisfied: regex!=2019.12.17 in /usr/local/lib/python3.6/dist-packages (from transformers) (2019.12.20)\n",
            "Collecting sacremoses\n",
            "\u001b[?25l  Downloading https://files.pythonhosted.org/packages/a6/b4/7a41d630547a4afd58143597d5a49e07bfd4c42914d8335b2a5657efc14b/sacremoses-0.0.38.tar.gz (860kB)\n",
            "\u001b[K     |████████████████████████████████| 870kB 54.1MB/s \n",
            "\u001b[?25hCollecting tokenizers==0.5.2\n",
            "\u001b[?25l  Downloading https://files.pythonhosted.org/packages/d1/3f/73c881ea4723e43c1e9acf317cf407fab3a278daab3a69c98dcac511c04f/tokenizers-0.5.2-cp36-cp36m-manylinux1_x86_64.whl (3.7MB)\n",
            "\u001b[K     |████████████████████████████████| 3.7MB 27.9MB/s \n",
            "\u001b[?25hRequirement already satisfied: numpy in /usr/local/lib/python3.6/dist-packages (from transformers) (1.18.2)\n",
            "Requirement already satisfied: idna<2.9,>=2.5 in /usr/local/lib/python3.6/dist-packages (from requests->transformers) (2.8)\n",
            "Requirement already satisfied: certifi>=2017.4.17 in /usr/local/lib/python3.6/dist-packages (from requests->transformers) (2019.11.28)\n",
            "Requirement already satisfied: chardet<3.1.0,>=3.0.2 in /usr/local/lib/python3.6/dist-packages (from requests->transformers) (3.0.4)\n",
            "Requirement already satisfied: urllib3<1.25,>=1.21.1 in /usr/local/lib/python3.6/dist-packages (from requests->transformers) (1.24.3)\n",
            "Requirement already satisfied: s3transfer<0.4.0,>=0.3.0 in /usr/local/lib/python3.6/dist-packages (from boto3->transformers) (0.3.3)\n",
            "Requirement already satisfied: botocore<1.16.0,>=1.15.33 in /usr/local/lib/python3.6/dist-packages (from boto3->transformers) (1.15.33)\n",
            "Requirement already satisfied: jmespath<1.0.0,>=0.7.1 in /usr/local/lib/python3.6/dist-packages (from boto3->transformers) (0.9.5)\n",
            "Requirement already satisfied: six in /usr/local/lib/python3.6/dist-packages (from sacremoses->transformers) (1.12.0)\n",
            "Requirement already satisfied: click in /usr/local/lib/python3.6/dist-packages (from sacremoses->transformers) (7.1.1)\n",
            "Requirement already satisfied: joblib in /usr/local/lib/python3.6/dist-packages (from sacremoses->transformers) (0.14.1)\n",
            "Requirement already satisfied: docutils<0.16,>=0.10 in /usr/local/lib/python3.6/dist-packages (from botocore<1.16.0,>=1.15.33->boto3->transformers) (0.15.2)\n",
            "Requirement already satisfied: python-dateutil<3.0.0,>=2.1 in /usr/local/lib/python3.6/dist-packages (from botocore<1.16.0,>=1.15.33->boto3->transformers) (2.8.1)\n",
            "Building wheels for collected packages: sacremoses\n",
            "  Building wheel for sacremoses (setup.py) ... \u001b[?25l\u001b[?25hdone\n",
            "  Created wheel for sacremoses: filename=sacremoses-0.0.38-cp36-none-any.whl size=884628 sha256=db8a431e83f93bfaf015e965ed820571532c91234323a10095ab3aa8be22c54a\n",
            "  Stored in directory: /root/.cache/pip/wheels/6d/ec/1a/21b8912e35e02741306f35f66c785f3afe94de754a0eaf1422\n",
            "Successfully built sacremoses\n",
            "Installing collected packages: sentencepiece, sacremoses, tokenizers, transformers\n",
            "Successfully installed sacremoses-0.0.38 sentencepiece-0.1.85 tokenizers-0.5.2 transformers-2.7.0\n"
          ],
          "name": "stdout"
        }
      ]
    },
    {
      "cell_type": "code",
      "metadata": {
        "id": "p2Cj6t_KL_0t",
        "colab_type": "code",
        "colab": {}
      },
      "source": [
        "from transformers import pipeline"
      ],
      "execution_count": 0,
      "outputs": []
    },
    {
      "cell_type": "code",
      "metadata": {
        "id": "nCmf9YoML_06",
        "colab_type": "code",
        "outputId": "f1766468-65bd-4d69-a8c4-3d96009c1bb9",
        "colab": {
          "base_uri": "https://localhost:8080/",
          "height": 220,
          "referenced_widgets": [
            "a82c843ffd324dbd97eb7c7e3c6407a0",
            "70413ab4f68843379b0b4ed6b04cd6b9",
            "161ee178f05f4c6ca72c0915a6fe9bb4",
            "0d7e8f5edfbf4575919f7c6808e2841f",
            "c1e23d25235a43b480dc50c22f9d3138",
            "0e8f4c68155045da92dd243f6b4eb1e7",
            "1b7c2c21be3845ae942000f45a43a8cb",
            "f5d2b168d95d412db807dc8ac4375384",
            "badc573b1d1b421081e610833de6b38f",
            "b512745065d3453099d0a20b7405ade3",
            "7d8b898a84334a0d9913a77b6744d06c",
            "c922bdd71e424c8cb87cf908406a1a0a",
            "dd64058580dd4b7cbfc9b5d61ed3eb6f",
            "384fd57b9e8b49ee8144d9a9254e549c",
            "d064d56df5434c9397c60115c9e2c601",
            "64a2ba99a8d7441c80ead63d1ecfee25",
            "4547e55f09984956a64e384374fd0584",
            "75b7b553dfa94dafabd052f9fefd655d",
            "1ddd5612f5b34cd6a37d8457ee76c1ee",
            "ef5405a83d634040a75b4fd387989828",
            "1bbcba18917a42a8876e29af8a972173",
            "e9d86d161d614e83a7ceac50378591b9",
            "b213b783d35946a08e7a28392cb21b9f",
            "ed51217bb5864623a91b9857e21ae0d8",
            "d1a9b318094641d4acfa72e30a0d314a",
            "91bbf449ccd84ccaa4a61031f0fbcf81",
            "4576bc46ec464c56b0942c2dadfd76eb",
            "6f21833822424847a28e800c46fb6a98",
            "976f357705e3446c9d27c943146109bb",
            "1cae6db1638043f0a91298c009746c78",
            "a96a2f6cd69642039ed094f3fbeb9560",
            "ad0ff122a4f64de0abe75b482c603fa5"
          ]
        }
      },
      "source": [
        "summarizer = pipeline(\"summarization\", model=\"t5-base\", tokenizer=\"t5-base\", framework=\"tf\") # T5 (Text-To-Text Transfer Transformer) 's summarizer function\n",
        "\n",
        "#summarizer(\"Sam Shleifer writes the best docstring examples in the whole world.\", min_length=5, max_length=10)"
      ],
      "execution_count": 4,
      "outputs": [
        {
          "output_type": "display_data",
          "data": {
            "application/vnd.jupyter.widget-view+json": {
              "model_id": "a82c843ffd324dbd97eb7c7e3c6407a0",
              "version_minor": 0,
              "version_major": 2
            },
            "text/plain": [
              "HBox(children=(IntProgress(value=0, description='Downloading', max=1394, style=ProgressStyle(description_width…"
            ]
          },
          "metadata": {
            "tags": []
          }
        },
        {
          "output_type": "stream",
          "text": [
            "\n"
          ],
          "name": "stdout"
        },
        {
          "output_type": "display_data",
          "data": {
            "application/vnd.jupyter.widget-view+json": {
              "model_id": "badc573b1d1b421081e610833de6b38f",
              "version_minor": 0,
              "version_major": 2
            },
            "text/plain": [
              "HBox(children=(IntProgress(value=0, description='Downloading', max=791656, style=ProgressStyle(description_wid…"
            ]
          },
          "metadata": {
            "tags": []
          }
        },
        {
          "output_type": "stream",
          "text": [
            "\n"
          ],
          "name": "stdout"
        },
        {
          "output_type": "display_data",
          "data": {
            "application/vnd.jupyter.widget-view+json": {
              "model_id": "4547e55f09984956a64e384374fd0584",
              "version_minor": 0,
              "version_major": 2
            },
            "text/plain": [
              "HBox(children=(IntProgress(value=0, description='Downloading', max=230, style=ProgressStyle(description_width=…"
            ]
          },
          "metadata": {
            "tags": []
          }
        },
        {
          "output_type": "stream",
          "text": [
            "\n"
          ],
          "name": "stdout"
        },
        {
          "output_type": "display_data",
          "data": {
            "application/vnd.jupyter.widget-view+json": {
              "model_id": "d1a9b318094641d4acfa72e30a0d314a",
              "version_minor": 0,
              "version_major": 2
            },
            "text/plain": [
              "HBox(children=(IntProgress(value=0, description='Downloading', max=892146080, style=ProgressStyle(description_…"
            ]
          },
          "metadata": {
            "tags": []
          }
        },
        {
          "output_type": "stream",
          "text": [
            "\n"
          ],
          "name": "stdout"
        }
      ]
    },
    {
      "cell_type": "code",
      "metadata": {
        "id": "U0pzmGS8L_1F",
        "colab_type": "code",
        "colab": {}
      },
      "source": [
        "# directory = 'C:/Users/N1110/Desktop/CORD19/march30KeywordSearchQ1/'\n",
        "# df = pd.read_csv(directory + 'mostRelatedQ1POLYMERASEabstract.csv')  #20 paper abstracts of size 300 on average"
      ],
      "execution_count": 0,
      "outputs": []
    },
    {
      "cell_type": "code",
      "metadata": {
        "id": "Iz6q_KcbUKj-",
        "colab_type": "code",
        "outputId": "918db3d5-8fc7-4a71-ced0-3d36e467eb7d",
        "colab": {
          "base_uri": "https://localhost:8080/",
          "height": 54
        }
      },
      "source": [
        "summarizer(\"Sam Shleifer writes the best docstring examples in the whole world.\", min_length=5, max_length=10) # use a smaller tester, abs1 too large as a tester, run for too long"
      ],
      "execution_count": 5,
      "outputs": [
        {
          "output_type": "stream",
          "text": [
            "Your max_length is set to 200, but you input_length is only 18. You might consider decreasing max_length manually, e.g. summarizer('...', max_length=50)\n"
          ],
          "name": "stderr"
        },
        {
          "output_type": "execute_result",
          "data": {
            "text/plain": [
              "[{'summary_text': 'Sam Shleifer writes the best doc'}]"
            ]
          },
          "metadata": {
            "tags": []
          },
          "execution_count": 5
        }
      ]
    },
    {
      "cell_type": "code",
      "metadata": {
        "id": "JP6Y2ZmTMLsJ",
        "colab_type": "code",
        "colab": {}
      },
      "source": [
        "# abs1=\"ltpgtltbgtltbgt there is no specific drug that has been approved for 2019ncov there are a number of factors that pose major challenges in their development approaches to the development of anti2019ncov include screening existing broadspectrum antiviral drugs repositioning of readily available clinical compounds and ltitalicgtde novoltitalicgt development of novel and specific agents for 2019ncov candidate compounds can be developed either to inhibit virusbased targets such as rna proteases polymerase spike glycoproteins and viral envelop and membrane proteins or to inhibit hostbased targets such as receptors and proteases that are utilized by virus for viral entry and endocytosis recently the rna polymerase remdesivir had demonstrated clinical efficacy in one patient with severe novel coronavirus pneumonia ncp the broadspectrum viral protease inhibitor kaletraltsupgtregltsupgt is also recommended in the current ncp clinical practice both drugs had lately been proceeded into multiple controlled phase iii clinical trials to test their safety and efficacy in ncp combinational therapies consisting of multiple drugs provide other viable options against 2019ncov based on scientific and clinical rationales using bioinformatics and database analysis we have identified 75 clinically compounds including 20 marketed compounds that are efficacious in inhibiting key targets in virus and hostbased approaches which may facilitate the development of new therapeutic options for 2019ncov ltpgt\""
      ],
      "execution_count": 0,
      "outputs": []
    },
    {
      "cell_type": "code",
      "metadata": {
        "id": "tlqsA49aNet9",
        "colab_type": "code",
        "outputId": "b78432c7-bde4-4d36-f10b-4e2d50ea6fb7",
        "colab": {
          "base_uri": "https://localhost:8080/",
          "height": 55
        }
      },
      "source": [
        "# summarizer(abs1, min_length=50, max_length=100) # 300 words summary run for so long? #first one run long?"
      ],
      "execution_count": 0,
      "outputs": [
        {
          "output_type": "execute_result",
          "data": {
            "text/plain": [
              "[{'summary_text': 'there is no specific drug that has been approved for 2019ncov there are a number of factors that pose major challenges in their development approaches to the development of anti2019ncov . screening existing broadspectrum antiviral drugs repositioning of readily available clinical compounds and ltitalicgtde novoltitaligt development of novel and specific agents for 2018ncov candidate compounds can be developed either to inhibit virusbased targets such as rna prote'}]"
            ]
          },
          "metadata": {
            "tags": []
          },
          "execution_count": 7
        }
      ]
    },
    {
      "cell_type": "code",
      "metadata": {
        "id": "EtBxDiE_NkVo",
        "colab_type": "code",
        "colab": {}
      },
      "source": [
        "# original 208 words; summary 67 words\n",
        "\n"
      ],
      "execution_count": 0,
      "outputs": []
    },
    {
      "cell_type": "code",
      "metadata": {
        "id": "A731Lv_aQCst",
        "colab_type": "code",
        "outputId": "d2bab472-ce43-40a3-8ee1-a506043d9bf7",
        "colab": {
          "base_uri": "https://localhost:8080/",
          "height": 55
        }
      },
      "source": [
        "# summarizer(abs1, min_length=20, max_length=50)"
      ],
      "execution_count": 0,
      "outputs": [
        {
          "output_type": "execute_result",
          "data": {
            "text/plain": [
              "[{'summary_text': 'there is no specific drug that has been approved for 2019ncov there are a number of factors that pose major challenges in their development approaches to the development of anti2019ncov . screening existing broadspectrum antiviral drugs re'}]"
            ]
          },
          "metadata": {
            "tags": []
          },
          "execution_count": 8
        }
      ]
    },
    {
      "cell_type": "code",
      "metadata": {
        "id": "CXOG6HYjQFNH",
        "colab_type": "code",
        "colab": {}
      },
      "source": [
        "#even short summary 37 words and still valid\n",
        "# so start to apply summarizer on the Question Answering Outputs (20 paper abstracts of size 300 on average)"
      ],
      "execution_count": 0,
      "outputs": []
    },
    {
      "cell_type": "code",
      "metadata": {
        "id": "ytn6PgxPQvvw",
        "colab_type": "code",
        "colab": {}
      },
      "source": [
        "import numpy as np\n",
        "import pandas as pd"
      ],
      "execution_count": 0,
      "outputs": []
    },
    {
      "cell_type": "code",
      "metadata": {
        "id": "VrtI3NTDQ29E",
        "colab_type": "code",
        "outputId": "a518ce3b-1acc-4c08-a3a6-92c4ef674c04",
        "colab": {
          "base_uri": "https://localhost:8080/",
          "height": 130
        }
      },
      "source": [
        "# allow access to google drive files\n",
        "from google.colab import drive\n",
        "drive.mount('/content/drive')"
      ],
      "execution_count": 6,
      "outputs": [
        {
          "output_type": "stream",
          "text": [
            "Go to this URL in a browser: https://accounts.google.com/o/oauth2/auth?client_id=947318989803-6bn6qk8qdgf4n4g3pfee6491hc0brc4i.apps.googleusercontent.com&redirect_uri=urn%3aietf%3awg%3aoauth%3a2.0%3aoob&response_type=code&scope=email%20https%3a%2f%2fwww.googleapis.com%2fauth%2fdocs.test%20https%3a%2f%2fwww.googleapis.com%2fauth%2fdrive%20https%3a%2f%2fwww.googleapis.com%2fauth%2fdrive.photos.readonly%20https%3a%2f%2fwww.googleapis.com%2fauth%2fpeopleapi.readonly\n",
            "\n",
            "Enter your authorization code:\n",
            "··········\n",
            "Mounted at /content/drive\n"
          ],
          "name": "stdout"
        }
      ]
    },
    {
      "cell_type": "code",
      "metadata": {
        "id": "6gK0DEHOQ0qd",
        "colab_type": "code",
        "outputId": "5e910a01-c469-4e8f-82a7-ac9629984b22",
        "colab": {
          "base_uri": "https://localhost:8080/",
          "height": 36
        }
      },
      "source": [
        "data_path = \"/content/drive/My Drive/Colab Notebooks/cord19/data/\"\n",
        "data_filename = data_path +\"V2FurinAbstractmostRelatedQ4.csv\"\n",
        "print(data_filename)"
      ],
      "execution_count": 10,
      "outputs": [
        {
          "output_type": "stream",
          "text": [
            "/content/drive/My Drive/Colab Notebooks/cord19/data/V2FurinAbstractmostRelatedQ4.csv\n"
          ],
          "name": "stdout"
        }
      ]
    },
    {
      "cell_type": "code",
      "metadata": {
        "id": "tlq5SJWQQ5Zk",
        "colab_type": "code",
        "outputId": "40443ca9-d47b-42d5-a5f7-7d4fbdeb9afd",
        "colab": {
          "base_uri": "https://localhost:8080/",
          "height": 206
        }
      },
      "source": [
        "df = pd.read_csv(data_filename)\n",
        "df.head(5)"
      ],
      "execution_count": 11,
      "outputs": [
        {
          "output_type": "execute_result",
          "data": {
            "text/html": [
              "<div>\n",
              "<style scoped>\n",
              "    .dataframe tbody tr th:only-of-type {\n",
              "        vertical-align: middle;\n",
              "    }\n",
              "\n",
              "    .dataframe tbody tr th {\n",
              "        vertical-align: top;\n",
              "    }\n",
              "\n",
              "    .dataframe thead th {\n",
              "        text-align: right;\n",
              "    }\n",
              "</style>\n",
              "<table border=\"1\" class=\"dataframe\">\n",
              "  <thead>\n",
              "    <tr style=\"text-align: right;\">\n",
              "      <th></th>\n",
              "      <th>Summary</th>\n",
              "      <th>abstract</th>\n",
              "    </tr>\n",
              "  </thead>\n",
              "  <tbody>\n",
              "    <tr>\n",
              "      <th>0</th>\n",
              "      <td>1</td>\n",
              "      <td>To evaluate the role of the F protein cleavage...</td>\n",
              "    </tr>\n",
              "    <tr>\n",
              "      <th>1</th>\n",
              "      <td>2</td>\n",
              "      <td>Bats of different species play a major role in...</td>\n",
              "    </tr>\n",
              "    <tr>\n",
              "      <th>2</th>\n",
              "      <td>3</td>\n",
              "      <td>Flaviviruses bud into the endoplasmic reticulu...</td>\n",
              "    </tr>\n",
              "    <tr>\n",
              "      <th>3</th>\n",
              "      <td>4</td>\n",
              "      <td>Abstract Infectious HIV-1 requires gp160 cleav...</td>\n",
              "    </tr>\n",
              "    <tr>\n",
              "      <th>4</th>\n",
              "      <td>5</td>\n",
              "      <td>Abstract Cyclopentenylcytosine (Ce-Cyd) is a b...</td>\n",
              "    </tr>\n",
              "  </tbody>\n",
              "</table>\n",
              "</div>"
            ],
            "text/plain": [
              "   Summary                                           abstract\n",
              "0        1  To evaluate the role of the F protein cleavage...\n",
              "1        2  Bats of different species play a major role in...\n",
              "2        3  Flaviviruses bud into the endoplasmic reticulu...\n",
              "3        4  Abstract Infectious HIV-1 requires gp160 cleav...\n",
              "4        5  Abstract Cyclopentenylcytosine (Ce-Cyd) is a b..."
            ]
          },
          "metadata": {
            "tags": []
          },
          "execution_count": 11
        }
      ]
    },
    {
      "cell_type": "code",
      "metadata": {
        "id": "Yq5_OBFJRSBk",
        "colab_type": "code",
        "outputId": "1732583a-0997-4712-e5a6-e15860fcb23a",
        "colab": {
          "base_uri": "https://localhost:8080/",
          "height": 36
        }
      },
      "source": [
        "df.shape[0] # top 50 abstracts related to Question2=['What are the therapeutic target genes for COVID-19 or coronavirus?']"
      ],
      "execution_count": 12,
      "outputs": [
        {
          "output_type": "execute_result",
          "data": {
            "text/plain": [
              "20"
            ]
          },
          "metadata": {
            "tags": []
          },
          "execution_count": 12
        }
      ]
    },
    {
      "cell_type": "code",
      "metadata": {
        "id": "Cq2jLRBrR7g7",
        "colab_type": "code",
        "outputId": "2cf2406a-46d3-4d1a-ff73-ed9abfb3a92b",
        "colab": {
          "base_uri": "https://localhost:8080/",
          "height": 56
        }
      },
      "source": [
        "# df.ABS[0]\n",
        "df.abstract[0]"
      ],
      "execution_count": 0,
      "outputs": [
        {
          "output_type": "execute_result",
          "data": {
            "text/plain": [
              "'acids with a molecular weight of 128079. The use of a recent algorithm to predict membrane-protein interactions led to the unambiguous localization of the signah peptide and a transmembrane anchor α-helix'"
            ]
          },
          "metadata": {
            "tags": []
          },
          "execution_count": 11
        }
      ]
    },
    {
      "cell_type": "code",
      "metadata": {
        "id": "8hUKOk9dxk8J",
        "colab_type": "code",
        "colab": {}
      },
      "source": [
        "#df.abstract.dropna(inplace=True)\n",
        "\n",
        "df.dropna(inplace=True)"
      ],
      "execution_count": 0,
      "outputs": []
    },
    {
      "cell_type": "code",
      "metadata": {
        "id": "IQX3JcGk_J_f",
        "colab_type": "code",
        "outputId": "c4d70fcd-6232-4751-9254-830b7ab99361",
        "colab": {
          "base_uri": "https://localhost:8080/",
          "height": 36
        }
      },
      "source": [
        "df.shape"
      ],
      "execution_count": 14,
      "outputs": [
        {
          "output_type": "execute_result",
          "data": {
            "text/plain": [
              "(20, 2)"
            ]
          },
          "metadata": {
            "tags": []
          },
          "execution_count": 14
        }
      ]
    },
    {
      "cell_type": "code",
      "metadata": {
        "id": "TD_I0Tps_cFw",
        "colab_type": "code",
        "colab": {}
      },
      "source": [
        "# df2=df\n",
        "# df2.head(45)"
      ],
      "execution_count": 0,
      "outputs": []
    },
    {
      "cell_type": "code",
      "metadata": {
        "id": "j3OcLDHExuPD",
        "colab_type": "code",
        "outputId": "bc37f9e8-11f0-4871-f4d8-9bfa23d4dc34",
        "colab": {
          "base_uri": "https://localhost:8080/",
          "height": 36
        }
      },
      "source": [
        "df.abstract.shape[0]"
      ],
      "execution_count": 0,
      "outputs": [
        {
          "output_type": "execute_result",
          "data": {
            "text/plain": [
              "269"
            ]
          },
          "metadata": {
            "tags": []
          },
          "execution_count": 34
        }
      ]
    },
    {
      "cell_type": "code",
      "metadata": {
        "id": "GZDCwkcrR3AW",
        "colab_type": "code",
        "colab": {}
      },
      "source": [
        "# abs=[]\n",
        "\n"
      ],
      "execution_count": 0,
      "outputs": []
    },
    {
      "cell_type": "code",
      "metadata": {
        "id": "rXaFNzdpRrB4",
        "colab_type": "code",
        "colab": {}
      },
      "source": [
        "# DO NOT USE\n",
        "# for i in range(df.shape[0]):\n",
        "#   abs.append(df.WINDOW[i])\n",
        "#   print(\"Summary for \" + str(i)+\"th Abstract is:\")\n",
        "#   print(summarizer(abs[i], min_length=20, max_length=50))\n",
        "  "
      ],
      "execution_count": 0,
      "outputs": []
    },
    {
      "cell_type": "code",
      "metadata": {
        "id": "WCHO00wgd1BY",
        "colab_type": "code",
        "outputId": "09ab18a1-052a-41f3-9c79-cf7a4e750b97",
        "colab": {
          "base_uri": "https://localhost:8080/",
          "height": 723
        }
      },
      "source": [
        "# for i in range(df.shape[0]):\n",
        "#   abs.append(df.abstract[i])\n",
        "#   print(\"Summary for \" + str(i)+\"th Abstract is:\")\n",
        "#   #print(summarizer(abs[i], min_length=15, max_length=20))\n",
        "#   df[\"Summary\"].iloc[i]= str(summarizer(abs[i], min_length=20, max_length=50)[0].values()) #df[\"index\"].iloc[0]= str(summary0[0].values())\n",
        "#   print(df[\"Summary\"].iloc[i]) #index should be named \"summary\""
      ],
      "execution_count": 0,
      "outputs": [
        {
          "output_type": "stream",
          "text": [
            "Your max_length is set to 200, but you input_length is only 58. You might consider decreasing max_length manually, e.g. summarizer('...', max_length=50)\n"
          ],
          "name": "stderr"
        },
        {
          "output_type": "stream",
          "text": [
            "Summary for 0th Abstract is:\n"
          ],
          "name": "stdout"
        },
        {
          "output_type": "stream",
          "text": [
            "/usr/local/lib/python3.6/dist-packages/pandas/core/indexing.py:671: SettingWithCopyWarning: \n",
            "A value is trying to be set on a copy of a slice from a DataFrame\n",
            "\n",
            "See the caveats in the documentation: https://pandas.pydata.org/pandas-docs/stable/user_guide/indexing.html#returning-a-view-versus-a-copy\n",
            "  self._setitem_with_indexer(indexer, value)\n",
            "Your max_length is set to 200, but you input_length is only 56. You might consider decreasing max_length manually, e.g. summarizer('...', max_length=50)\n"
          ],
          "name": "stderr"
        },
        {
          "output_type": "stream",
          "text": [
            "dict_values(['acids with a molecular weight of 128079 . the use of a recent algorithm to predict membrane-protein interactions led to the unambiguous localization of the signah peptide and a transmembr'])\n",
            "Summary for 1th Abstract is:\n"
          ],
          "name": "stdout"
        },
        {
          "output_type": "stream",
          "text": [
            "Your max_length is set to 200, but you input_length is only 37. You might consider decreasing max_length manually, e.g. summarizer('...', max_length=50)\n"
          ],
          "name": "stderr"
        },
        {
          "output_type": "stream",
          "text": [
            "dict_values(['technology development. Biophysical, biochemical, and immunological methods have proven very valuable in studying carbohydrate–carbohydrate . many well established immunochemical methods have been applied to determine the specificity and cross-reactivity '])\n",
            "Summary for 2th Abstract is:\n"
          ],
          "name": "stdout"
        },
        {
          "output_type": "error",
          "ename": "KeyboardInterrupt",
          "evalue": "ignored",
          "traceback": [
            "\u001b[0;31m---------------------------------------------------------------------------\u001b[0m",
            "\u001b[0;31m_FallbackException\u001b[0m                        Traceback (most recent call last)",
            "\u001b[0;32m/usr/local/lib/python3.6/dist-packages/tensorflow_core/python/ops/gen_array_ops.py\u001b[0m in \u001b[0;36mtranspose\u001b[0;34m(x, perm, name)\u001b[0m\n\u001b[1;32m  10524\u001b[0m         \u001b[0m_ctx\u001b[0m\u001b[0;34m.\u001b[0m\u001b[0m_context_handle\u001b[0m\u001b[0;34m,\u001b[0m \u001b[0mtld\u001b[0m\u001b[0;34m.\u001b[0m\u001b[0mdevice_name\u001b[0m\u001b[0;34m,\u001b[0m \u001b[0;34m\"Transpose\"\u001b[0m\u001b[0;34m,\u001b[0m \u001b[0mname\u001b[0m\u001b[0;34m,\u001b[0m\u001b[0;34m\u001b[0m\u001b[0;34m\u001b[0m\u001b[0m\n\u001b[0;32m> 10525\u001b[0;31m         tld.op_callbacks, x, perm)\n\u001b[0m\u001b[1;32m  10526\u001b[0m       \u001b[0;32mreturn\u001b[0m \u001b[0m_result\u001b[0m\u001b[0;34m\u001b[0m\u001b[0;34m\u001b[0m\u001b[0m\n",
            "\u001b[0;31m_FallbackException\u001b[0m: This function does not handle the case of the path where all inputs are not already EagerTensors.",
            "\nDuring handling of the above exception, another exception occurred:\n",
            "\u001b[0;31mKeyboardInterrupt\u001b[0m                         Traceback (most recent call last)",
            "\u001b[0;32m<ipython-input-27-57a47a4cb358>\u001b[0m in \u001b[0;36m<module>\u001b[0;34m()\u001b[0m\n\u001b[1;32m      3\u001b[0m   \u001b[0mprint\u001b[0m\u001b[0;34m(\u001b[0m\u001b[0;34m\"Summary for \"\u001b[0m \u001b[0;34m+\u001b[0m \u001b[0mstr\u001b[0m\u001b[0;34m(\u001b[0m\u001b[0mi\u001b[0m\u001b[0;34m)\u001b[0m\u001b[0;34m+\u001b[0m\u001b[0;34m\"th Abstract is:\"\u001b[0m\u001b[0;34m)\u001b[0m\u001b[0;34m\u001b[0m\u001b[0;34m\u001b[0m\u001b[0m\n\u001b[1;32m      4\u001b[0m   \u001b[0;31m#print(summarizer(abs[i], min_length=15, max_length=20))\u001b[0m\u001b[0;34m\u001b[0m\u001b[0;34m\u001b[0m\u001b[0;34m\u001b[0m\u001b[0m\n\u001b[0;32m----> 5\u001b[0;31m   \u001b[0mdf\u001b[0m\u001b[0;34m[\u001b[0m\u001b[0;34m\"Summary\"\u001b[0m\u001b[0;34m]\u001b[0m\u001b[0;34m.\u001b[0m\u001b[0miloc\u001b[0m\u001b[0;34m[\u001b[0m\u001b[0mi\u001b[0m\u001b[0;34m]\u001b[0m\u001b[0;34m=\u001b[0m \u001b[0mstr\u001b[0m\u001b[0;34m(\u001b[0m\u001b[0msummarizer\u001b[0m\u001b[0;34m(\u001b[0m\u001b[0mabs\u001b[0m\u001b[0;34m[\u001b[0m\u001b[0mi\u001b[0m\u001b[0;34m]\u001b[0m\u001b[0;34m,\u001b[0m \u001b[0mmin_length\u001b[0m\u001b[0;34m=\u001b[0m\u001b[0;36m20\u001b[0m\u001b[0;34m,\u001b[0m \u001b[0mmax_length\u001b[0m\u001b[0;34m=\u001b[0m\u001b[0;36m50\u001b[0m\u001b[0;34m)\u001b[0m\u001b[0;34m[\u001b[0m\u001b[0;36m0\u001b[0m\u001b[0;34m]\u001b[0m\u001b[0;34m.\u001b[0m\u001b[0mvalues\u001b[0m\u001b[0;34m(\u001b[0m\u001b[0;34m)\u001b[0m\u001b[0;34m)\u001b[0m \u001b[0;31m#df[\"index\"].iloc[0]= str(summary0[0].values())\u001b[0m\u001b[0;34m\u001b[0m\u001b[0;34m\u001b[0m\u001b[0m\n\u001b[0m\u001b[1;32m      6\u001b[0m   \u001b[0mprint\u001b[0m\u001b[0;34m(\u001b[0m\u001b[0mdf\u001b[0m\u001b[0;34m[\u001b[0m\u001b[0;34m\"Summary\"\u001b[0m\u001b[0;34m]\u001b[0m\u001b[0;34m.\u001b[0m\u001b[0miloc\u001b[0m\u001b[0;34m[\u001b[0m\u001b[0mi\u001b[0m\u001b[0;34m]\u001b[0m\u001b[0;34m)\u001b[0m \u001b[0;31m#index should be named \"summary\"\u001b[0m\u001b[0;34m\u001b[0m\u001b[0;34m\u001b[0m\u001b[0m\n",
            "\u001b[0;32m/usr/local/lib/python3.6/dist-packages/transformers/pipelines.py\u001b[0m in \u001b[0;36m__call__\u001b[0;34m(self, return_tensors, return_text, clean_up_tokenization_spaces, *documents, **generate_kwargs)\u001b[0m\n\u001b[1;32m   1251\u001b[0m \u001b[0;34m\u001b[0m\u001b[0m\n\u001b[1;32m   1252\u001b[0m             summaries = self.model.generate(\n\u001b[0;32m-> 1253\u001b[0;31m                 \u001b[0minputs\u001b[0m\u001b[0;34m[\u001b[0m\u001b[0;34m\"input_ids\"\u001b[0m\u001b[0;34m]\u001b[0m\u001b[0;34m,\u001b[0m \u001b[0mattention_mask\u001b[0m\u001b[0;34m=\u001b[0m\u001b[0minputs\u001b[0m\u001b[0;34m[\u001b[0m\u001b[0;34m\"attention_mask\"\u001b[0m\u001b[0;34m]\u001b[0m\u001b[0;34m,\u001b[0m \u001b[0;34m**\u001b[0m\u001b[0mgenerate_kwargs\u001b[0m\u001b[0;34m,\u001b[0m\u001b[0;34m\u001b[0m\u001b[0;34m\u001b[0m\u001b[0m\n\u001b[0m\u001b[1;32m   1254\u001b[0m             )\n\u001b[1;32m   1255\u001b[0m \u001b[0;34m\u001b[0m\u001b[0m\n",
            "\u001b[0;32m/usr/local/lib/python3.6/dist-packages/transformers/modeling_tf_utils.py\u001b[0m in \u001b[0;36mgenerate\u001b[0;34m(self, input_ids, max_length, min_length, do_sample, early_stopping, num_beams, temperature, top_k, top_p, repetition_penalty, bos_token_id, pad_token_id, eos_token_id, length_penalty, no_repeat_ngram_size, num_return_sequences, attention_mask, decoder_start_token_id)\u001b[0m\n\u001b[1;32m    753\u001b[0m                 \u001b[0mvocab_size\u001b[0m\u001b[0;34m=\u001b[0m\u001b[0mvocab_size\u001b[0m\u001b[0;34m,\u001b[0m\u001b[0;34m\u001b[0m\u001b[0;34m\u001b[0m\u001b[0m\n\u001b[1;32m    754\u001b[0m                 \u001b[0mencoder_outputs\u001b[0m\u001b[0;34m=\u001b[0m\u001b[0mencoder_outputs\u001b[0m\u001b[0;34m,\u001b[0m\u001b[0;34m\u001b[0m\u001b[0;34m\u001b[0m\u001b[0m\n\u001b[0;32m--> 755\u001b[0;31m                 \u001b[0mattention_mask\u001b[0m\u001b[0;34m=\u001b[0m\u001b[0mattention_mask\u001b[0m\u001b[0;34m,\u001b[0m\u001b[0;34m\u001b[0m\u001b[0;34m\u001b[0m\u001b[0m\n\u001b[0m\u001b[1;32m    756\u001b[0m             )\n\u001b[1;32m    757\u001b[0m         \u001b[0;32melse\u001b[0m\u001b[0;34m:\u001b[0m\u001b[0;34m\u001b[0m\u001b[0;34m\u001b[0m\u001b[0m\n",
            "\u001b[0;32m/usr/local/lib/python3.6/dist-packages/transformers/modeling_tf_utils.py\u001b[0m in \u001b[0;36m_generate_beam_search\u001b[0;34m(self, input_ids, cur_len, max_length, min_length, do_sample, early_stopping, temperature, top_k, top_p, repetition_penalty, no_repeat_ngram_size, bos_token_id, pad_token_id, decoder_start_token_id, eos_token_id, batch_size, num_return_sequences, length_penalty, num_beams, vocab_size, encoder_outputs, attention_mask)\u001b[0m\n\u001b[1;32m    976\u001b[0m         \u001b[0;32mwhile\u001b[0m \u001b[0mcur_len\u001b[0m \u001b[0;34m<\u001b[0m \u001b[0mmax_length\u001b[0m\u001b[0;34m:\u001b[0m\u001b[0;34m\u001b[0m\u001b[0;34m\u001b[0m\u001b[0m\n\u001b[1;32m    977\u001b[0m             \u001b[0mmodel_inputs\u001b[0m \u001b[0;34m=\u001b[0m \u001b[0mself\u001b[0m\u001b[0;34m.\u001b[0m\u001b[0mprepare_inputs_for_generation\u001b[0m\u001b[0;34m(\u001b[0m\u001b[0minput_ids\u001b[0m\u001b[0;34m,\u001b[0m \u001b[0mpast\u001b[0m\u001b[0;34m=\u001b[0m\u001b[0mpast\u001b[0m\u001b[0;34m,\u001b[0m \u001b[0mattention_mask\u001b[0m\u001b[0;34m=\u001b[0m\u001b[0mattention_mask\u001b[0m\u001b[0;34m)\u001b[0m\u001b[0;34m\u001b[0m\u001b[0;34m\u001b[0m\u001b[0m\n\u001b[0;32m--> 978\u001b[0;31m             \u001b[0moutputs\u001b[0m \u001b[0;34m=\u001b[0m \u001b[0mself\u001b[0m\u001b[0;34m(\u001b[0m\u001b[0;34m**\u001b[0m\u001b[0mmodel_inputs\u001b[0m\u001b[0;34m)\u001b[0m  \u001b[0;31m# (batch_size * num_beams, cur_len, vocab_size)\u001b[0m\u001b[0;34m\u001b[0m\u001b[0;34m\u001b[0m\u001b[0m\n\u001b[0m\u001b[1;32m    979\u001b[0m             \u001b[0mnext_token_logits\u001b[0m \u001b[0;34m=\u001b[0m \u001b[0moutputs\u001b[0m\u001b[0;34m[\u001b[0m\u001b[0;36m0\u001b[0m\u001b[0;34m]\u001b[0m\u001b[0;34m[\u001b[0m\u001b[0;34m:\u001b[0m\u001b[0;34m,\u001b[0m \u001b[0;34m-\u001b[0m\u001b[0;36m1\u001b[0m\u001b[0;34m,\u001b[0m \u001b[0;34m:\u001b[0m\u001b[0;34m]\u001b[0m  \u001b[0;31m# (batch_size * num_beams, vocab_size)\u001b[0m\u001b[0;34m\u001b[0m\u001b[0;34m\u001b[0m\u001b[0m\n\u001b[1;32m    980\u001b[0m \u001b[0;34m\u001b[0m\u001b[0m\n",
            "\u001b[0;32m/usr/local/lib/python3.6/dist-packages/tensorflow_core/python/keras/engine/base_layer.py\u001b[0m in \u001b[0;36m__call__\u001b[0;34m(self, inputs, *args, **kwargs)\u001b[0m\n\u001b[1;32m    820\u001b[0m           with base_layer_utils.autocast_context_manager(\n\u001b[1;32m    821\u001b[0m               self._compute_dtype):\n\u001b[0;32m--> 822\u001b[0;31m             \u001b[0moutputs\u001b[0m \u001b[0;34m=\u001b[0m \u001b[0mself\u001b[0m\u001b[0;34m.\u001b[0m\u001b[0mcall\u001b[0m\u001b[0;34m(\u001b[0m\u001b[0mcast_inputs\u001b[0m\u001b[0;34m,\u001b[0m \u001b[0;34m*\u001b[0m\u001b[0margs\u001b[0m\u001b[0;34m,\u001b[0m \u001b[0;34m**\u001b[0m\u001b[0mkwargs\u001b[0m\u001b[0;34m)\u001b[0m\u001b[0;34m\u001b[0m\u001b[0;34m\u001b[0m\u001b[0m\n\u001b[0m\u001b[1;32m    823\u001b[0m           \u001b[0mself\u001b[0m\u001b[0;34m.\u001b[0m\u001b[0m_handle_activity_regularization\u001b[0m\u001b[0;34m(\u001b[0m\u001b[0minputs\u001b[0m\u001b[0;34m,\u001b[0m \u001b[0moutputs\u001b[0m\u001b[0;34m)\u001b[0m\u001b[0;34m\u001b[0m\u001b[0;34m\u001b[0m\u001b[0m\n\u001b[1;32m    824\u001b[0m           \u001b[0mself\u001b[0m\u001b[0;34m.\u001b[0m\u001b[0m_set_mask_metadata\u001b[0m\u001b[0;34m(\u001b[0m\u001b[0minputs\u001b[0m\u001b[0;34m,\u001b[0m \u001b[0moutputs\u001b[0m\u001b[0;34m,\u001b[0m \u001b[0minput_masks\u001b[0m\u001b[0;34m)\u001b[0m\u001b[0;34m\u001b[0m\u001b[0;34m\u001b[0m\u001b[0m\n",
            "\u001b[0;32m/usr/local/lib/python3.6/dist-packages/transformers/modeling_tf_t5.py\u001b[0m in \u001b[0;36mcall\u001b[0;34m(self, decoder_input_ids, **kwargs)\u001b[0m\n\u001b[1;32m    865\u001b[0m             \u001b[0mencoder_hidden_states\u001b[0m\u001b[0;34m=\u001b[0m\u001b[0mhidden_states\u001b[0m\u001b[0;34m,\u001b[0m\u001b[0;34m\u001b[0m\u001b[0;34m\u001b[0m\u001b[0m\n\u001b[1;32m    866\u001b[0m             \u001b[0mencoder_attention_mask\u001b[0m\u001b[0;34m=\u001b[0m\u001b[0mattention_mask\u001b[0m\u001b[0;34m,\u001b[0m\u001b[0;34m\u001b[0m\u001b[0;34m\u001b[0m\u001b[0m\n\u001b[0;32m--> 867\u001b[0;31m             \u001b[0mhead_mask\u001b[0m\u001b[0;34m=\u001b[0m\u001b[0mhead_mask\u001b[0m\u001b[0;34m,\u001b[0m\u001b[0;34m\u001b[0m\u001b[0;34m\u001b[0m\u001b[0m\n\u001b[0m\u001b[1;32m    868\u001b[0m         )\n\u001b[1;32m    869\u001b[0m \u001b[0;34m\u001b[0m\u001b[0m\n",
            "\u001b[0;32m/usr/local/lib/python3.6/dist-packages/tensorflow_core/python/keras/engine/base_layer.py\u001b[0m in \u001b[0;36m__call__\u001b[0;34m(self, inputs, *args, **kwargs)\u001b[0m\n\u001b[1;32m    820\u001b[0m           with base_layer_utils.autocast_context_manager(\n\u001b[1;32m    821\u001b[0m               self._compute_dtype):\n\u001b[0;32m--> 822\u001b[0;31m             \u001b[0moutputs\u001b[0m \u001b[0;34m=\u001b[0m \u001b[0mself\u001b[0m\u001b[0;34m.\u001b[0m\u001b[0mcall\u001b[0m\u001b[0;34m(\u001b[0m\u001b[0mcast_inputs\u001b[0m\u001b[0;34m,\u001b[0m \u001b[0;34m*\u001b[0m\u001b[0margs\u001b[0m\u001b[0;34m,\u001b[0m \u001b[0;34m**\u001b[0m\u001b[0mkwargs\u001b[0m\u001b[0;34m)\u001b[0m\u001b[0;34m\u001b[0m\u001b[0;34m\u001b[0m\u001b[0m\n\u001b[0m\u001b[1;32m    823\u001b[0m           \u001b[0mself\u001b[0m\u001b[0;34m.\u001b[0m\u001b[0m_handle_activity_regularization\u001b[0m\u001b[0;34m(\u001b[0m\u001b[0minputs\u001b[0m\u001b[0;34m,\u001b[0m \u001b[0moutputs\u001b[0m\u001b[0;34m)\u001b[0m\u001b[0;34m\u001b[0m\u001b[0;34m\u001b[0m\u001b[0m\n\u001b[1;32m    824\u001b[0m           \u001b[0mself\u001b[0m\u001b[0;34m.\u001b[0m\u001b[0m_set_mask_metadata\u001b[0m\u001b[0;34m(\u001b[0m\u001b[0minputs\u001b[0m\u001b[0;34m,\u001b[0m \u001b[0moutputs\u001b[0m\u001b[0;34m,\u001b[0m \u001b[0minput_masks\u001b[0m\u001b[0;34m)\u001b[0m\u001b[0;34m\u001b[0m\u001b[0;34m\u001b[0m\u001b[0m\n",
            "\u001b[0;32m/usr/local/lib/python3.6/dist-packages/transformers/modeling_tf_t5.py\u001b[0m in \u001b[0;36mcall\u001b[0;34m(self, input_ids, attention_mask, encoder_hidden_states, encoder_attention_mask, inputs_embeds, head_mask, training)\u001b[0m\n\u001b[1;32m    538\u001b[0m                 \u001b[0mencoder_decoder_position_bias\u001b[0m\u001b[0;34m=\u001b[0m\u001b[0mencoder_decoder_position_bias\u001b[0m\u001b[0;34m,\u001b[0m\u001b[0;34m\u001b[0m\u001b[0;34m\u001b[0m\u001b[0m\n\u001b[1;32m    539\u001b[0m                 \u001b[0mhead_mask\u001b[0m\u001b[0;34m=\u001b[0m\u001b[0mhead_mask\u001b[0m\u001b[0;34m[\u001b[0m\u001b[0mi\u001b[0m\u001b[0;34m]\u001b[0m\u001b[0;34m,\u001b[0m\u001b[0;34m\u001b[0m\u001b[0;34m\u001b[0m\u001b[0m\n\u001b[0;32m--> 540\u001b[0;31m                 \u001b[0mtraining\u001b[0m\u001b[0;34m=\u001b[0m\u001b[0mtraining\u001b[0m\u001b[0;34m,\u001b[0m\u001b[0;34m\u001b[0m\u001b[0;34m\u001b[0m\u001b[0m\n\u001b[0m\u001b[1;32m    541\u001b[0m             )\n\u001b[1;32m    542\u001b[0m             \u001b[0mhidden_states\u001b[0m \u001b[0;34m=\u001b[0m \u001b[0mlayer_outputs\u001b[0m\u001b[0;34m[\u001b[0m\u001b[0;36m0\u001b[0m\u001b[0;34m]\u001b[0m\u001b[0;34m\u001b[0m\u001b[0;34m\u001b[0m\u001b[0m\n",
            "\u001b[0;32m/usr/local/lib/python3.6/dist-packages/tensorflow_core/python/keras/engine/base_layer.py\u001b[0m in \u001b[0;36m__call__\u001b[0;34m(self, inputs, *args, **kwargs)\u001b[0m\n\u001b[1;32m    820\u001b[0m           with base_layer_utils.autocast_context_manager(\n\u001b[1;32m    821\u001b[0m               self._compute_dtype):\n\u001b[0;32m--> 822\u001b[0;31m             \u001b[0moutputs\u001b[0m \u001b[0;34m=\u001b[0m \u001b[0mself\u001b[0m\u001b[0;34m.\u001b[0m\u001b[0mcall\u001b[0m\u001b[0;34m(\u001b[0m\u001b[0mcast_inputs\u001b[0m\u001b[0;34m,\u001b[0m \u001b[0;34m*\u001b[0m\u001b[0margs\u001b[0m\u001b[0;34m,\u001b[0m \u001b[0;34m**\u001b[0m\u001b[0mkwargs\u001b[0m\u001b[0;34m)\u001b[0m\u001b[0;34m\u001b[0m\u001b[0;34m\u001b[0m\u001b[0m\n\u001b[0m\u001b[1;32m    823\u001b[0m           \u001b[0mself\u001b[0m\u001b[0;34m.\u001b[0m\u001b[0m_handle_activity_regularization\u001b[0m\u001b[0;34m(\u001b[0m\u001b[0minputs\u001b[0m\u001b[0;34m,\u001b[0m \u001b[0moutputs\u001b[0m\u001b[0;34m)\u001b[0m\u001b[0;34m\u001b[0m\u001b[0;34m\u001b[0m\u001b[0m\n\u001b[1;32m    824\u001b[0m           \u001b[0mself\u001b[0m\u001b[0;34m.\u001b[0m\u001b[0m_set_mask_metadata\u001b[0m\u001b[0;34m(\u001b[0m\u001b[0minputs\u001b[0m\u001b[0;34m,\u001b[0m \u001b[0moutputs\u001b[0m\u001b[0;34m,\u001b[0m \u001b[0minput_masks\u001b[0m\u001b[0;34m)\u001b[0m\u001b[0;34m\u001b[0m\u001b[0;34m\u001b[0m\u001b[0m\n",
            "\u001b[0;32m/usr/local/lib/python3.6/dist-packages/transformers/modeling_tf_t5.py\u001b[0m in \u001b[0;36mcall\u001b[0;34m(self, hidden_states, attention_mask, position_bias, encoder_hidden_states, encoder_attention_mask, encoder_decoder_position_bias, head_mask, training)\u001b[0m\n\u001b[1;32m    346\u001b[0m                 \u001b[0mposition_bias\u001b[0m\u001b[0;34m=\u001b[0m\u001b[0mencoder_decoder_position_bias\u001b[0m\u001b[0;34m,\u001b[0m\u001b[0;34m\u001b[0m\u001b[0;34m\u001b[0m\u001b[0m\n\u001b[1;32m    347\u001b[0m                 \u001b[0mhead_mask\u001b[0m\u001b[0;34m=\u001b[0m\u001b[0mhead_mask\u001b[0m\u001b[0;34m,\u001b[0m\u001b[0;34m\u001b[0m\u001b[0;34m\u001b[0m\u001b[0m\n\u001b[0;32m--> 348\u001b[0;31m                 \u001b[0mtraining\u001b[0m\u001b[0;34m=\u001b[0m\u001b[0mtraining\u001b[0m\u001b[0;34m,\u001b[0m\u001b[0;34m\u001b[0m\u001b[0;34m\u001b[0m\u001b[0m\n\u001b[0m\u001b[1;32m    349\u001b[0m             )\n\u001b[1;32m    350\u001b[0m             \u001b[0mhidden_states\u001b[0m \u001b[0;34m=\u001b[0m \u001b[0mcross_attention_outputs\u001b[0m\u001b[0;34m[\u001b[0m\u001b[0;36m0\u001b[0m\u001b[0;34m]\u001b[0m\u001b[0;34m\u001b[0m\u001b[0;34m\u001b[0m\u001b[0m\n",
            "\u001b[0;32m/usr/local/lib/python3.6/dist-packages/tensorflow_core/python/keras/engine/base_layer.py\u001b[0m in \u001b[0;36m__call__\u001b[0;34m(self, inputs, *args, **kwargs)\u001b[0m\n\u001b[1;32m    820\u001b[0m           with base_layer_utils.autocast_context_manager(\n\u001b[1;32m    821\u001b[0m               self._compute_dtype):\n\u001b[0;32m--> 822\u001b[0;31m             \u001b[0moutputs\u001b[0m \u001b[0;34m=\u001b[0m \u001b[0mself\u001b[0m\u001b[0;34m.\u001b[0m\u001b[0mcall\u001b[0m\u001b[0;34m(\u001b[0m\u001b[0mcast_inputs\u001b[0m\u001b[0;34m,\u001b[0m \u001b[0;34m*\u001b[0m\u001b[0margs\u001b[0m\u001b[0;34m,\u001b[0m \u001b[0;34m**\u001b[0m\u001b[0mkwargs\u001b[0m\u001b[0;34m)\u001b[0m\u001b[0;34m\u001b[0m\u001b[0;34m\u001b[0m\u001b[0m\n\u001b[0m\u001b[1;32m    823\u001b[0m           \u001b[0mself\u001b[0m\u001b[0;34m.\u001b[0m\u001b[0m_handle_activity_regularization\u001b[0m\u001b[0;34m(\u001b[0m\u001b[0minputs\u001b[0m\u001b[0;34m,\u001b[0m \u001b[0moutputs\u001b[0m\u001b[0;34m)\u001b[0m\u001b[0;34m\u001b[0m\u001b[0;34m\u001b[0m\u001b[0m\n\u001b[1;32m    824\u001b[0m           \u001b[0mself\u001b[0m\u001b[0;34m.\u001b[0m\u001b[0m_set_mask_metadata\u001b[0m\u001b[0;34m(\u001b[0m\u001b[0minputs\u001b[0m\u001b[0;34m,\u001b[0m \u001b[0moutputs\u001b[0m\u001b[0;34m,\u001b[0m \u001b[0minput_masks\u001b[0m\u001b[0;34m)\u001b[0m\u001b[0;34m\u001b[0m\u001b[0;34m\u001b[0m\u001b[0m\n",
            "\u001b[0;32m/usr/local/lib/python3.6/dist-packages/transformers/modeling_tf_t5.py\u001b[0m in \u001b[0;36mcall\u001b[0;34m(self, hidden_states, kv, attention_mask, position_bias, head_mask, training)\u001b[0m\n\u001b[1;32m    290\u001b[0m         \u001b[0mnorm_x\u001b[0m \u001b[0;34m=\u001b[0m \u001b[0mself\u001b[0m\u001b[0;34m.\u001b[0m\u001b[0mlayer_norm\u001b[0m\u001b[0;34m(\u001b[0m\u001b[0mhidden_states\u001b[0m\u001b[0;34m)\u001b[0m\u001b[0;34m\u001b[0m\u001b[0;34m\u001b[0m\u001b[0m\n\u001b[1;32m    291\u001b[0m         attention_output = self.EncDecAttention(\n\u001b[0;32m--> 292\u001b[0;31m             \u001b[0mnorm_x\u001b[0m\u001b[0;34m,\u001b[0m \u001b[0mmask\u001b[0m\u001b[0;34m=\u001b[0m\u001b[0mattention_mask\u001b[0m\u001b[0;34m,\u001b[0m \u001b[0mkv\u001b[0m\u001b[0;34m=\u001b[0m\u001b[0mkv\u001b[0m\u001b[0;34m,\u001b[0m \u001b[0mposition_bias\u001b[0m\u001b[0;34m=\u001b[0m\u001b[0mposition_bias\u001b[0m\u001b[0;34m,\u001b[0m \u001b[0mhead_mask\u001b[0m\u001b[0;34m=\u001b[0m\u001b[0mhead_mask\u001b[0m\u001b[0;34m,\u001b[0m \u001b[0mtraining\u001b[0m\u001b[0;34m=\u001b[0m\u001b[0mtraining\u001b[0m\u001b[0;34m\u001b[0m\u001b[0;34m\u001b[0m\u001b[0m\n\u001b[0m\u001b[1;32m    293\u001b[0m         )\n\u001b[1;32m    294\u001b[0m         \u001b[0my\u001b[0m \u001b[0;34m=\u001b[0m \u001b[0mattention_output\u001b[0m\u001b[0;34m[\u001b[0m\u001b[0;36m0\u001b[0m\u001b[0;34m]\u001b[0m\u001b[0;34m\u001b[0m\u001b[0;34m\u001b[0m\u001b[0m\n",
            "\u001b[0;32m/usr/local/lib/python3.6/dist-packages/tensorflow_core/python/keras/engine/base_layer.py\u001b[0m in \u001b[0;36m__call__\u001b[0;34m(self, inputs, *args, **kwargs)\u001b[0m\n\u001b[1;32m    820\u001b[0m           with base_layer_utils.autocast_context_manager(\n\u001b[1;32m    821\u001b[0m               self._compute_dtype):\n\u001b[0;32m--> 822\u001b[0;31m             \u001b[0moutputs\u001b[0m \u001b[0;34m=\u001b[0m \u001b[0mself\u001b[0m\u001b[0;34m.\u001b[0m\u001b[0mcall\u001b[0m\u001b[0;34m(\u001b[0m\u001b[0mcast_inputs\u001b[0m\u001b[0;34m,\u001b[0m \u001b[0;34m*\u001b[0m\u001b[0margs\u001b[0m\u001b[0;34m,\u001b[0m \u001b[0;34m**\u001b[0m\u001b[0mkwargs\u001b[0m\u001b[0;34m)\u001b[0m\u001b[0;34m\u001b[0m\u001b[0;34m\u001b[0m\u001b[0m\n\u001b[0m\u001b[1;32m    823\u001b[0m           \u001b[0mself\u001b[0m\u001b[0;34m.\u001b[0m\u001b[0m_handle_activity_regularization\u001b[0m\u001b[0;34m(\u001b[0m\u001b[0minputs\u001b[0m\u001b[0;34m,\u001b[0m \u001b[0moutputs\u001b[0m\u001b[0;34m)\u001b[0m\u001b[0;34m\u001b[0m\u001b[0;34m\u001b[0m\u001b[0m\n\u001b[1;32m    824\u001b[0m           \u001b[0mself\u001b[0m\u001b[0;34m.\u001b[0m\u001b[0m_set_mask_metadata\u001b[0m\u001b[0;34m(\u001b[0m\u001b[0minputs\u001b[0m\u001b[0;34m,\u001b[0m \u001b[0moutputs\u001b[0m\u001b[0;34m,\u001b[0m \u001b[0minput_masks\u001b[0m\u001b[0;34m)\u001b[0m\u001b[0;34m\u001b[0m\u001b[0;34m\u001b[0m\u001b[0m\n",
            "\u001b[0;32m/usr/local/lib/python3.6/dist-packages/transformers/modeling_tf_t5.py\u001b[0m in \u001b[0;36mcall\u001b[0;34m(self, input, mask, kv, position_bias, cache, head_mask, training)\u001b[0m\n\u001b[1;32m    205\u001b[0m             \u001b[0;32mreturn\u001b[0m \u001b[0mtf\u001b[0m\u001b[0;34m.\u001b[0m\u001b[0mreshape\u001b[0m\u001b[0;34m(\u001b[0m\u001b[0mtf\u001b[0m\u001b[0;34m.\u001b[0m\u001b[0mtranspose\u001b[0m\u001b[0;34m(\u001b[0m\u001b[0mx\u001b[0m\u001b[0;34m,\u001b[0m \u001b[0mperm\u001b[0m\u001b[0;34m=\u001b[0m\u001b[0;34m(\u001b[0m\u001b[0;36m0\u001b[0m\u001b[0;34m,\u001b[0m \u001b[0;36m2\u001b[0m\u001b[0;34m,\u001b[0m \u001b[0;36m1\u001b[0m\u001b[0;34m,\u001b[0m \u001b[0;36m3\u001b[0m\u001b[0;34m)\u001b[0m\u001b[0;34m)\u001b[0m\u001b[0;34m,\u001b[0m \u001b[0;34m(\u001b[0m\u001b[0mbs\u001b[0m\u001b[0;34m,\u001b[0m \u001b[0;34m-\u001b[0m\u001b[0;36m1\u001b[0m\u001b[0;34m,\u001b[0m \u001b[0mself\u001b[0m\u001b[0;34m.\u001b[0m\u001b[0minner_dim\u001b[0m\u001b[0;34m)\u001b[0m\u001b[0;34m)\u001b[0m\u001b[0;34m\u001b[0m\u001b[0;34m\u001b[0m\u001b[0m\n\u001b[1;32m    206\u001b[0m \u001b[0;34m\u001b[0m\u001b[0m\n\u001b[0;32m--> 207\u001b[0;31m         \u001b[0mq\u001b[0m \u001b[0;34m=\u001b[0m \u001b[0mshape\u001b[0m\u001b[0;34m(\u001b[0m\u001b[0mself\u001b[0m\u001b[0;34m.\u001b[0m\u001b[0mq\u001b[0m\u001b[0;34m(\u001b[0m\u001b[0minput\u001b[0m\u001b[0;34m)\u001b[0m\u001b[0;34m)\u001b[0m  \u001b[0;31m# (bs, n_heads, qlen, dim_per_head)\u001b[0m\u001b[0;34m\u001b[0m\u001b[0;34m\u001b[0m\u001b[0m\n\u001b[0m\u001b[1;32m    208\u001b[0m         \u001b[0;32mif\u001b[0m \u001b[0mkv\u001b[0m \u001b[0;32mis\u001b[0m \u001b[0;32mNone\u001b[0m\u001b[0;34m:\u001b[0m\u001b[0;34m\u001b[0m\u001b[0;34m\u001b[0m\u001b[0m\n\u001b[1;32m    209\u001b[0m             \u001b[0mk\u001b[0m \u001b[0;34m=\u001b[0m \u001b[0mshape\u001b[0m\u001b[0;34m(\u001b[0m\u001b[0mself\u001b[0m\u001b[0;34m.\u001b[0m\u001b[0mk\u001b[0m\u001b[0;34m(\u001b[0m\u001b[0minput\u001b[0m\u001b[0;34m)\u001b[0m\u001b[0;34m)\u001b[0m  \u001b[0;31m# (bs, n_heads, qlen, dim_per_head)\u001b[0m\u001b[0;34m\u001b[0m\u001b[0;34m\u001b[0m\u001b[0m\n",
            "\u001b[0;32m/usr/local/lib/python3.6/dist-packages/tensorflow_core/python/keras/engine/base_layer.py\u001b[0m in \u001b[0;36m__call__\u001b[0;34m(self, inputs, *args, **kwargs)\u001b[0m\n\u001b[1;32m    820\u001b[0m           with base_layer_utils.autocast_context_manager(\n\u001b[1;32m    821\u001b[0m               self._compute_dtype):\n\u001b[0;32m--> 822\u001b[0;31m             \u001b[0moutputs\u001b[0m \u001b[0;34m=\u001b[0m \u001b[0mself\u001b[0m\u001b[0;34m.\u001b[0m\u001b[0mcall\u001b[0m\u001b[0;34m(\u001b[0m\u001b[0mcast_inputs\u001b[0m\u001b[0;34m,\u001b[0m \u001b[0;34m*\u001b[0m\u001b[0margs\u001b[0m\u001b[0;34m,\u001b[0m \u001b[0;34m**\u001b[0m\u001b[0mkwargs\u001b[0m\u001b[0;34m)\u001b[0m\u001b[0;34m\u001b[0m\u001b[0;34m\u001b[0m\u001b[0m\n\u001b[0m\u001b[1;32m    823\u001b[0m           \u001b[0mself\u001b[0m\u001b[0;34m.\u001b[0m\u001b[0m_handle_activity_regularization\u001b[0m\u001b[0;34m(\u001b[0m\u001b[0minputs\u001b[0m\u001b[0;34m,\u001b[0m \u001b[0moutputs\u001b[0m\u001b[0;34m)\u001b[0m\u001b[0;34m\u001b[0m\u001b[0;34m\u001b[0m\u001b[0m\n\u001b[1;32m    824\u001b[0m           \u001b[0mself\u001b[0m\u001b[0;34m.\u001b[0m\u001b[0m_set_mask_metadata\u001b[0m\u001b[0;34m(\u001b[0m\u001b[0minputs\u001b[0m\u001b[0;34m,\u001b[0m \u001b[0moutputs\u001b[0m\u001b[0;34m,\u001b[0m \u001b[0minput_masks\u001b[0m\u001b[0;34m)\u001b[0m\u001b[0;34m\u001b[0m\u001b[0;34m\u001b[0m\u001b[0m\n",
            "\u001b[0;32m/usr/local/lib/python3.6/dist-packages/tensorflow_core/python/keras/layers/core.py\u001b[0m in \u001b[0;36mcall\u001b[0;34m(self, inputs)\u001b[0m\n\u001b[1;32m   1129\u001b[0m     \u001b[0;32mif\u001b[0m \u001b[0mrank\u001b[0m \u001b[0;34m>\u001b[0m \u001b[0;36m2\u001b[0m\u001b[0;34m:\u001b[0m\u001b[0;34m\u001b[0m\u001b[0;34m\u001b[0m\u001b[0m\n\u001b[1;32m   1130\u001b[0m       \u001b[0;31m# Broadcasting is required for the inputs.\u001b[0m\u001b[0;34m\u001b[0m\u001b[0;34m\u001b[0m\u001b[0;34m\u001b[0m\u001b[0m\n\u001b[0;32m-> 1131\u001b[0;31m       \u001b[0moutputs\u001b[0m \u001b[0;34m=\u001b[0m \u001b[0mstandard_ops\u001b[0m\u001b[0;34m.\u001b[0m\u001b[0mtensordot\u001b[0m\u001b[0;34m(\u001b[0m\u001b[0minputs\u001b[0m\u001b[0;34m,\u001b[0m \u001b[0mself\u001b[0m\u001b[0;34m.\u001b[0m\u001b[0mkernel\u001b[0m\u001b[0;34m,\u001b[0m \u001b[0;34m[\u001b[0m\u001b[0;34m[\u001b[0m\u001b[0mrank\u001b[0m \u001b[0;34m-\u001b[0m \u001b[0;36m1\u001b[0m\u001b[0;34m]\u001b[0m\u001b[0;34m,\u001b[0m \u001b[0;34m[\u001b[0m\u001b[0;36m0\u001b[0m\u001b[0;34m]\u001b[0m\u001b[0;34m]\u001b[0m\u001b[0;34m)\u001b[0m\u001b[0;34m\u001b[0m\u001b[0;34m\u001b[0m\u001b[0m\n\u001b[0m\u001b[1;32m   1132\u001b[0m       \u001b[0;31m# Reshape the output back to the original ndim of the input.\u001b[0m\u001b[0;34m\u001b[0m\u001b[0;34m\u001b[0m\u001b[0;34m\u001b[0m\u001b[0m\n\u001b[1;32m   1133\u001b[0m       \u001b[0;32mif\u001b[0m \u001b[0;32mnot\u001b[0m \u001b[0mcontext\u001b[0m\u001b[0;34m.\u001b[0m\u001b[0mexecuting_eagerly\u001b[0m\u001b[0;34m(\u001b[0m\u001b[0;34m)\u001b[0m\u001b[0;34m:\u001b[0m\u001b[0;34m\u001b[0m\u001b[0;34m\u001b[0m\u001b[0m\n",
            "\u001b[0;32m/usr/local/lib/python3.6/dist-packages/tensorflow_core/python/ops/math_ops.py\u001b[0m in \u001b[0;36mtensordot\u001b[0;34m(a, b, axes, name)\u001b[0m\n\u001b[1;32m   4103\u001b[0m     \u001b[0ma_reshape\u001b[0m\u001b[0;34m,\u001b[0m \u001b[0ma_free_dims\u001b[0m\u001b[0;34m,\u001b[0m \u001b[0ma_free_dims_static\u001b[0m \u001b[0;34m=\u001b[0m \u001b[0m_tensordot_reshape\u001b[0m\u001b[0;34m(\u001b[0m\u001b[0ma\u001b[0m\u001b[0;34m,\u001b[0m \u001b[0ma_axes\u001b[0m\u001b[0;34m)\u001b[0m\u001b[0;34m\u001b[0m\u001b[0;34m\u001b[0m\u001b[0m\n\u001b[1;32m   4104\u001b[0m     b_reshape, b_free_dims, b_free_dims_static = _tensordot_reshape(\n\u001b[0;32m-> 4105\u001b[0;31m         b, b_axes, True)\n\u001b[0m\u001b[1;32m   4106\u001b[0m     \u001b[0mab_matmul\u001b[0m \u001b[0;34m=\u001b[0m \u001b[0mmatmul\u001b[0m\u001b[0;34m(\u001b[0m\u001b[0ma_reshape\u001b[0m\u001b[0;34m,\u001b[0m \u001b[0mb_reshape\u001b[0m\u001b[0;34m)\u001b[0m\u001b[0;34m\u001b[0m\u001b[0;34m\u001b[0m\u001b[0m\n\u001b[1;32m   4107\u001b[0m     \u001b[0;32mif\u001b[0m \u001b[0misinstance\u001b[0m\u001b[0;34m(\u001b[0m\u001b[0ma_free_dims\u001b[0m\u001b[0;34m,\u001b[0m \u001b[0mlist\u001b[0m\u001b[0;34m)\u001b[0m \u001b[0;32mand\u001b[0m \u001b[0misinstance\u001b[0m\u001b[0;34m(\u001b[0m\u001b[0mb_free_dims\u001b[0m\u001b[0;34m,\u001b[0m \u001b[0mlist\u001b[0m\u001b[0;34m)\u001b[0m\u001b[0;34m:\u001b[0m\u001b[0;34m\u001b[0m\u001b[0;34m\u001b[0m\u001b[0m\n",
            "\u001b[0;32m/usr/local/lib/python3.6/dist-packages/tensorflow_core/python/ops/math_ops.py\u001b[0m in \u001b[0;36m_tensordot_reshape\u001b[0;34m(a, axes, flipped)\u001b[0m\n\u001b[1;32m   4030\u001b[0m       \u001b[0mperm\u001b[0m \u001b[0;34m=\u001b[0m \u001b[0mlist\u001b[0m\u001b[0;34m(\u001b[0m\u001b[0maxes\u001b[0m\u001b[0;34m)\u001b[0m \u001b[0;34m+\u001b[0m \u001b[0mfree\u001b[0m \u001b[0;32mif\u001b[0m \u001b[0mflipped\u001b[0m \u001b[0;32melse\u001b[0m \u001b[0mfree\u001b[0m \u001b[0;34m+\u001b[0m \u001b[0mlist\u001b[0m\u001b[0;34m(\u001b[0m\u001b[0maxes\u001b[0m\u001b[0;34m)\u001b[0m\u001b[0;34m\u001b[0m\u001b[0;34m\u001b[0m\u001b[0m\n\u001b[1;32m   4031\u001b[0m       \u001b[0mnew_shape\u001b[0m \u001b[0;34m=\u001b[0m \u001b[0;34m[\u001b[0m\u001b[0mprod_axes\u001b[0m\u001b[0;34m,\u001b[0m \u001b[0mprod_free\u001b[0m\u001b[0;34m]\u001b[0m \u001b[0;32mif\u001b[0m \u001b[0mflipped\u001b[0m \u001b[0;32melse\u001b[0m \u001b[0;34m[\u001b[0m\u001b[0mprod_free\u001b[0m\u001b[0;34m,\u001b[0m \u001b[0mprod_axes\u001b[0m\u001b[0;34m]\u001b[0m\u001b[0;34m\u001b[0m\u001b[0;34m\u001b[0m\u001b[0m\n\u001b[0;32m-> 4032\u001b[0;31m       \u001b[0mreshaped_a\u001b[0m \u001b[0;34m=\u001b[0m \u001b[0marray_ops\u001b[0m\u001b[0;34m.\u001b[0m\u001b[0mreshape\u001b[0m\u001b[0;34m(\u001b[0m\u001b[0marray_ops\u001b[0m\u001b[0;34m.\u001b[0m\u001b[0mtranspose\u001b[0m\u001b[0;34m(\u001b[0m\u001b[0ma\u001b[0m\u001b[0;34m,\u001b[0m \u001b[0mperm\u001b[0m\u001b[0;34m)\u001b[0m\u001b[0;34m,\u001b[0m \u001b[0mnew_shape\u001b[0m\u001b[0;34m)\u001b[0m\u001b[0;34m\u001b[0m\u001b[0;34m\u001b[0m\u001b[0m\n\u001b[0m\u001b[1;32m   4033\u001b[0m       \u001b[0;32mreturn\u001b[0m \u001b[0mreshaped_a\u001b[0m\u001b[0;34m,\u001b[0m \u001b[0mfree_dims\u001b[0m\u001b[0;34m,\u001b[0m \u001b[0mfree_dims\u001b[0m\u001b[0;34m\u001b[0m\u001b[0;34m\u001b[0m\u001b[0m\n\u001b[1;32m   4034\u001b[0m     \u001b[0;32melse\u001b[0m\u001b[0;34m:\u001b[0m\u001b[0;34m\u001b[0m\u001b[0;34m\u001b[0m\u001b[0m\n",
            "\u001b[0;32m/usr/local/lib/python3.6/dist-packages/tensorflow_core/python/ops/array_ops.py\u001b[0m in \u001b[0;36mtranspose\u001b[0;34m(a, perm, name, conjugate)\u001b[0m\n\u001b[1;32m   1944\u001b[0m \u001b[0;34m\u001b[0m\u001b[0m\n\u001b[1;32m   1945\u001b[0m     \u001b[0;32mif\u001b[0m \u001b[0mperm\u001b[0m \u001b[0;32mis\u001b[0m \u001b[0;32mnot\u001b[0m \u001b[0;32mNone\u001b[0m\u001b[0;34m:\u001b[0m\u001b[0;34m\u001b[0m\u001b[0;34m\u001b[0m\u001b[0m\n\u001b[0;32m-> 1946\u001b[0;31m       \u001b[0;32mreturn\u001b[0m \u001b[0mtranspose_fn\u001b[0m\u001b[0;34m(\u001b[0m\u001b[0ma\u001b[0m\u001b[0;34m,\u001b[0m \u001b[0mperm\u001b[0m\u001b[0;34m,\u001b[0m \u001b[0mname\u001b[0m\u001b[0;34m=\u001b[0m\u001b[0mname\u001b[0m\u001b[0;34m)\u001b[0m\u001b[0;34m\u001b[0m\u001b[0;34m\u001b[0m\u001b[0m\n\u001b[0m\u001b[1;32m   1947\u001b[0m \u001b[0;34m\u001b[0m\u001b[0m\n\u001b[1;32m   1948\u001b[0m     \u001b[0mrank\u001b[0m \u001b[0;34m=\u001b[0m \u001b[0ma\u001b[0m\u001b[0;34m.\u001b[0m\u001b[0mshape\u001b[0m\u001b[0;34m.\u001b[0m\u001b[0mrank\u001b[0m\u001b[0;34m\u001b[0m\u001b[0;34m\u001b[0m\u001b[0m\n",
            "\u001b[0;32m/usr/local/lib/python3.6/dist-packages/tensorflow_core/python/ops/gen_array_ops.py\u001b[0m in \u001b[0;36mtranspose\u001b[0;34m(x, perm, name)\u001b[0m\n\u001b[1;32m  10528\u001b[0m       \u001b[0;32mtry\u001b[0m\u001b[0;34m:\u001b[0m\u001b[0;34m\u001b[0m\u001b[0;34m\u001b[0m\u001b[0m\n\u001b[1;32m  10529\u001b[0m         return transpose_eager_fallback(\n\u001b[0;32m> 10530\u001b[0;31m             x, perm, name=name, ctx=_ctx)\n\u001b[0m\u001b[1;32m  10531\u001b[0m       \u001b[0;32mexcept\u001b[0m \u001b[0m_core\u001b[0m\u001b[0;34m.\u001b[0m\u001b[0m_SymbolicException\u001b[0m\u001b[0;34m:\u001b[0m\u001b[0;34m\u001b[0m\u001b[0;34m\u001b[0m\u001b[0m\n\u001b[1;32m  10532\u001b[0m         \u001b[0;32mpass\u001b[0m  \u001b[0;31m# Add nodes to the TensorFlow graph.\u001b[0m\u001b[0;34m\u001b[0m\u001b[0;34m\u001b[0m\u001b[0m\n",
            "\u001b[0;32m/usr/local/lib/python3.6/dist-packages/tensorflow_core/python/ops/gen_array_ops.py\u001b[0m in \u001b[0;36mtranspose_eager_fallback\u001b[0;34m(x, perm, name, ctx)\u001b[0m\n\u001b[1;32m  10555\u001b[0m   \u001b[0m_attrs\u001b[0m \u001b[0;34m=\u001b[0m \u001b[0;34m(\u001b[0m\u001b[0;34m\"T\"\u001b[0m\u001b[0;34m,\u001b[0m \u001b[0m_attr_T\u001b[0m\u001b[0;34m,\u001b[0m \u001b[0;34m\"Tperm\"\u001b[0m\u001b[0;34m,\u001b[0m \u001b[0m_attr_Tperm\u001b[0m\u001b[0;34m)\u001b[0m\u001b[0;34m\u001b[0m\u001b[0;34m\u001b[0m\u001b[0m\n\u001b[1;32m  10556\u001b[0m   _result = _execute.execute(b\"Transpose\", 1, inputs=_inputs_flat,\n\u001b[0;32m> 10557\u001b[0;31m                              attrs=_attrs, ctx=ctx, name=name)\n\u001b[0m\u001b[1;32m  10558\u001b[0m   \u001b[0;32mif\u001b[0m \u001b[0m_execute\u001b[0m\u001b[0;34m.\u001b[0m\u001b[0mmust_record_gradient\u001b[0m\u001b[0;34m(\u001b[0m\u001b[0;34m)\u001b[0m\u001b[0;34m:\u001b[0m\u001b[0;34m\u001b[0m\u001b[0;34m\u001b[0m\u001b[0m\n\u001b[1;32m  10559\u001b[0m     _execute.record_gradient(\n",
            "\u001b[0;32m/usr/local/lib/python3.6/dist-packages/tensorflow_core/python/eager/execute.py\u001b[0m in \u001b[0;36mquick_execute\u001b[0;34m(op_name, num_outputs, inputs, attrs, ctx, name)\u001b[0m\n\u001b[1;32m     59\u001b[0m     tensors = pywrap_tensorflow.TFE_Py_Execute(ctx._handle, device_name,\n\u001b[1;32m     60\u001b[0m                                                \u001b[0mop_name\u001b[0m\u001b[0;34m,\u001b[0m \u001b[0minputs\u001b[0m\u001b[0;34m,\u001b[0m \u001b[0mattrs\u001b[0m\u001b[0;34m,\u001b[0m\u001b[0;34m\u001b[0m\u001b[0;34m\u001b[0m\u001b[0m\n\u001b[0;32m---> 61\u001b[0;31m                                                num_outputs)\n\u001b[0m\u001b[1;32m     62\u001b[0m   \u001b[0;32mexcept\u001b[0m \u001b[0mcore\u001b[0m\u001b[0;34m.\u001b[0m\u001b[0m_NotOkStatusException\u001b[0m \u001b[0;32mas\u001b[0m \u001b[0me\u001b[0m\u001b[0;34m:\u001b[0m\u001b[0;34m\u001b[0m\u001b[0;34m\u001b[0m\u001b[0m\n\u001b[1;32m     63\u001b[0m     \u001b[0;32mif\u001b[0m \u001b[0mname\u001b[0m \u001b[0;32mis\u001b[0m \u001b[0;32mnot\u001b[0m \u001b[0;32mNone\u001b[0m\u001b[0;34m:\u001b[0m\u001b[0;34m\u001b[0m\u001b[0;34m\u001b[0m\u001b[0m\n",
            "\u001b[0;31mKeyboardInterrupt\u001b[0m: "
          ]
        }
      ]
    },
    {
      "cell_type": "code",
      "metadata": {
        "id": "jmogJj6m4qB9",
        "colab_type": "code",
        "outputId": "bfed06c8-1045-4a19-9412-4665c62044af",
        "colab": {
          "base_uri": "https://localhost:8080/",
          "height": 1000
        }
      },
      "source": [
        "# NEXT TIME\n",
        "for i in range(df.abstract.shape[0]):\n",
        "  abs.append(df.abstract[i])\n",
        "  print(\"Summary for paper No \" + str(i)+ \"_\" + str(df[\"title\"].iloc[i])+\"_ is:\")\n",
        "  #print(summarizer(abs[i], min_length=15, max_length=20))\n",
        "  df[\"Summary\"].iloc[i]= str(summarizer(abs[i], min_length=15, max_length=20)[0].values()) #df[\"index\"].iloc[0]= str(summary0[0].values())\n",
        "  print(df[\"Summary\"].iloc[i]) #index should be named \"summary\""
      ],
      "execution_count": 0,
      "outputs": [
        {
          "output_type": "stream",
          "text": [
            "Your max_length is set to 200, but you input_length is only 58. You might consider decreasing max_length manually, e.g. summarizer('...', max_length=50)\n"
          ],
          "name": "stderr"
        },
        {
          "output_type": "stream",
          "text": [
            "Summary for paper No 0_The peplomer protein sequence of the M41 strain of coronavirus IBV and its comparison with Beaudette strains_ is:\n"
          ],
          "name": "stdout"
        },
        {
          "output_type": "stream",
          "text": [
            "/usr/local/lib/python3.6/dist-packages/pandas/core/indexing.py:671: SettingWithCopyWarning: \n",
            "A value is trying to be set on a copy of a slice from a DataFrame\n",
            "\n",
            "See the caveats in the documentation: https://pandas.pydata.org/pandas-docs/stable/user_guide/indexing.html#returning-a-view-versus-a-copy\n",
            "  self._setitem_with_indexer(indexer, value)\n",
            "Your max_length is set to 200, but you input_length is only 56. You might consider decreasing max_length manually, e.g. summarizer('...', max_length=50)\n"
          ],
          "name": "stderr"
        },
        {
          "output_type": "stream",
          "text": [
            "dict_values(['acids with a molecular weight of 128079 . the use of a'])\n",
            "Summary for paper No 1_Chapter 16 Carbohydrate Microarrays as Essential Tools of Postgenomic Medicine_ is:\n"
          ],
          "name": "stdout"
        },
        {
          "output_type": "stream",
          "text": [
            "Your max_length is set to 200, but you input_length is only 37. You might consider decreasing max_length manually, e.g. summarizer('...', max_length=50)\n"
          ],
          "name": "stderr"
        },
        {
          "output_type": "stream",
          "text": [
            "dict_values(['biophysical, biochemical, and immunological methods have proven very valuable in studying carbohydrate'])\n",
            "Summary for paper No 2_Chapter 15 Viral surface glycoproteins in carbohydrate recognition Structure and modelling_ is:\n"
          ],
          "name": "stdout"
        },
        {
          "output_type": "stream",
          "text": [
            "Your max_length is set to 200, but you input_length is only 39. You might consider decreasing max_length manually, e.g. summarizer('...', max_length=50)\n"
          ],
          "name": "stderr"
        },
        {
          "output_type": "stream",
          "text": [
            "dict_values(['Publisher Summary A large number of clinically important viruses utilize carbohydrate viral surface protein interactions to'])\n",
            "Summary for paper No 3_Chapter 4 Methods to Study Viruses_ is:\n"
          ],
          "name": "stdout"
        },
        {
          "output_type": "stream",
          "text": [
            "Your max_length is set to 200, but you input_length is only 61. You might consider decreasing max_length manually, e.g. summarizer('...', max_length=50)\n"
          ],
          "name": "stderr"
        },
        {
          "output_type": "stream",
          "text": [
            "dict_values(['the progress of a virus through a cell and can provide a direct window into protein'])\n",
            "Summary for paper No 4_Chapter 1 Sialic acid and biology of life: An introduction_ is:\n"
          ],
          "name": "stdout"
        },
        {
          "output_type": "stream",
          "text": [
            "Your max_length is set to 200, but you input_length is only 42. You might consider decreasing max_length manually, e.g. summarizer('...', max_length=50)\n"
          ],
          "name": "stderr"
        },
        {
          "output_type": "stream",
          "text": [
            "dict_values(['sialic acid play important roles in human physiology of cell-cell interaction, communication'])\n",
            "Summary for paper No 5_La, PTB, and PAB proteins bind to the 3′ untranslated region of Norwalk virus genomic RNA_ is:\n"
          ],
          "name": "stdout"
        },
        {
          "output_type": "stream",
          "text": [
            "Your max_length is set to 200, but you input_length is only 54. You might consider decreasing max_length manually, e.g. summarizer('...', max_length=50)\n"
          ],
          "name": "stderr"
        },
        {
          "output_type": "stream",
          "text": [
            "dict_values(['La, PTB, and PABP are important trans-acting factors required for viral translation'])\n",
            "Summary for paper No 6_Protein oligomerization mediated by the transmembrane carboxyl terminal domain of Bcl-XL_ is:\n"
          ],
          "name": "stdout"
        },
        {
          "output_type": "stream",
          "text": [
            "Your max_length is set to 200, but you input_length is only 48. You might consider decreasing max_length manually, e.g. summarizer('...', max_length=50)\n"
          ],
          "name": "stderr"
        },
        {
          "output_type": "stream",
          "text": [
            "dict_values(['previously reported role in mitochondrial morphology alterations and apoptosis inhibition'])\n",
            "Summary for paper No 7_Pharmacodynamics and Systems Pharmacology Approaches to Repurposing Drugs in the Wake of Global Health Burden_ is:\n"
          ],
          "name": "stdout"
        },
        {
          "output_type": "stream",
          "text": [
            "Your max_length is set to 200, but you input_length is only 49. You might consider decreasing max_length manually, e.g. summarizer('...', max_length=50)\n"
          ],
          "name": "stderr"
        },
        {
          "output_type": "stream",
          "text": [
            "dict_values(['real-world evidences to inform drug repurposing, using omics data ('])\n",
            "Summary for paper No 8_Functional incorporation of green fluorescent protein into hepatitis B virus envelope particles_ is:\n"
          ],
          "name": "stdout"
        },
        {
          "output_type": "stream",
          "text": [
            "Your max_length is set to 200, but you input_length is only 43. You might consider decreasing max_length manually, e.g. summarizer('...', max_length=50)\n"
          ],
          "name": "stderr"
        },
        {
          "output_type": "stream",
          "text": [
            "dict_values(['interprotein interactions with wild-type S. thereby, a dual location of GFP'])\n",
            "Summary for paper No 9_The nonstructural protein 8 (nsp8) of the SARS coronavirus interacts with its ORF6 accessory protein_ is:\n"
          ],
          "name": "stdout"
        },
        {
          "output_type": "stream",
          "text": [
            "Your max_length is set to 200, but you input_length is only 52. You might consider decreasing max_length manually, e.g. summarizer('...', max_length=50)\n"
          ],
          "name": "stderr"
        },
        {
          "output_type": "stream",
          "text": [
            "dict_values(['the two proteins were expressed as fusion proteins in the yeast two-hybrid system'])\n",
            "Summary for paper No 10_Lipidomic study of intracellular Singapore grouper iridovirus_ is:\n"
          ],
          "name": "stdout"
        },
        {
          "output_type": "stream",
          "text": [
            "Your max_length is set to 200, but you input_length is only 44. You might consider decreasing max_length manually, e.g. summarizer('...', max_length=50)\n"
          ],
          "name": "stderr"
        },
        {
          "output_type": "stream",
          "text": [
            "dict_values(['this is the first research detailing the lipidome and lipid–protein interactions of an une'])\n",
            "Summary for paper No 11_Chapter 6 Design and Creativity in Synthesis of Multivalent Neoglycoconjugates_ is:\n"
          ],
          "name": "stdout"
        },
        {
          "output_type": "stream",
          "text": [
            "Your max_length is set to 200, but you input_length is only 41. You might consider decreasing max_length manually, e.g. summarizer('...', max_length=50)\n"
          ],
          "name": "stderr"
        },
        {
          "output_type": "stream",
          "text": [
            "dict_values(['this chapter briefly surveys the concept of multivalency involved in carbohydrate–protein interactions '])\n",
            "Summary for paper No 12_Chapter 5 Lyssaviruses—Current Trends_ is:\n"
          ],
          "name": "stdout"
        },
        {
          "output_type": "stream",
          "text": [
            "Your max_length is set to 200, but you input_length is only 42. You might consider decreasing max_length manually, e.g. summarizer('...', max_length=50)\n"
          ],
          "name": "stderr"
        },
        {
          "output_type": "stream",
          "text": [
            "dict_values(['rabies virus infection on host cell gene expression and two hybrid systems to explore detailed protein–'])\n",
            "Summary for paper No 13_Chapter Two Structures of enveloped virions determined by cryogenic electron microscopy and tomography_ is:\n"
          ],
          "name": "stdout"
        },
        {
          "output_type": "stream",
          "text": [
            "Your max_length is set to 200, but you input_length is only 53. You might consider decreasing max_length manually, e.g. summarizer('...', max_length=50)\n"
          ],
          "name": "stderr"
        },
        {
          "output_type": "stream",
          "text": [
            "dict_values(['locally ordered assemblies are of paramount importance . these structures can reveal how the structure of enveloped'])\n",
            "Summary for paper No 14_Chapter 26 The Molecular Libraries Screening Center Network (MLSCN): Identifying Chemical Probes of Biological Systems_ is:\n"
          ],
          "name": "stdout"
        },
        {
          "output_type": "stream",
          "text": [
            "Your max_length is set to 200, but you input_length is only 47. You might consider decreasing max_length manually, e.g. summarizer('...', max_length=50)\n"
          ],
          "name": "stderr"
        },
        {
          "output_type": "stream",
          "text": [
            "dict_values(['(4) \"non-druggable\" targets, such as inhibitors of aggregat'])\n",
            "Summary for paper No 15_The ADAM metalloproteinases_ is:\n"
          ],
          "name": "stdout"
        },
        {
          "output_type": "stream",
          "text": [
            "Your max_length is set to 200, but you input_length is only 52. You might consider decreasing max_length manually, e.g. summarizer('...', max_length=50)\n"
          ],
          "name": "stderr"
        },
        {
          "output_type": "stream",
          "text": [
            "dict_values(['the family encode functional proteases . protein–protein interactions are critical aspects of their biological'])\n",
            "Summary for paper No 16_Characterization of protein–protein interactions between the nucleocapsid protein and membrane protein of the SARS coronavirus_ is:\n"
          ],
          "name": "stdout"
        },
        {
          "output_type": "stream",
          "text": [
            "Your max_length is set to 200, but you input_length is only 45. You might consider decreasing max_length manually, e.g. summarizer('...', max_length=50)\n"
          ],
          "name": "stderr"
        },
        {
          "output_type": "stream",
          "text": [
            "dict_values(['there is only 20% amino acid (aa) identity with known coronaviruses'])\n",
            "Summary for paper No 17_Characterization of protein–protein interactions between the nucleocapsid protein and membrane protein of the SARS coronavirus_ is:\n"
          ],
          "name": "stdout"
        },
        {
          "output_type": "stream",
          "text": [
            "Your max_length is set to 200, but you input_length is only 47. You might consider decreasing max_length manually, e.g. summarizer('...', max_length=50)\n"
          ],
          "name": "stderr"
        },
        {
          "output_type": "stream",
          "text": [
            "dict_values(['stretch of amino acids (168–208) in the N protein may be critical for such protein'])\n",
            "Summary for paper No 18_The structural biology of PRRSV_ is:\n"
          ],
          "name": "stdout"
        },
        {
          "output_type": "stream",
          "text": [
            "Your max_length is set to 200, but you input_length is only 50. You might consider decreasing max_length manually, e.g. summarizer('...', max_length=50)\n"
          ],
          "name": "stderr"
        },
        {
          "output_type": "stream",
          "text": [
            "dict_values(['electron microscopic studies of the virion, biochemical and in vivo studies on'])\n",
            "Summary for paper No 19_RNA structure analysis of alphacoronavirus terminal genome regions_ is:\n"
          ],
          "name": "stdout"
        },
        {
          "output_type": "stream",
          "text": [
            "Your max_length is set to 200, but you input_length is only 50. You might consider decreasing max_length manually, e.g. summarizer('...', max_length=50)\n"
          ],
          "name": "stderr"
        },
        {
          "output_type": "stream",
          "text": [
            "dict_values(['complex that is comprised of more than a dozen virally encoded and several cellular'])\n",
            "Summary for paper No 20_A health concern regarding the protein corona, aggregation and disaggregation_ is:\n"
          ],
          "name": "stdout"
        },
        {
          "output_type": "stream",
          "text": [
            "Your max_length is set to 200, but you input_length is only 48. You might consider decreasing max_length manually, e.g. summarizer('...', max_length=50)\n"
          ],
          "name": "stderr"
        },
        {
          "output_type": "stream",
          "text": [
            "dict_values(['Nanoparticle (NP)–protein complexes exhibit the “correct identity” of '])\n",
            "Summary for paper No 21_Do viruses subvert cholesterol homeostasis to induce host cubic membranes?_ is:\n"
          ],
          "name": "stdout"
        },
        {
          "output_type": "stream",
          "text": [
            "Your max_length is set to 200, but you input_length is only 45. You might consider decreasing max_length manually, e.g. summarizer('...', max_length=50)\n"
          ],
          "name": "stderr"
        },
        {
          "output_type": "stream",
          "text": [
            "dict_values(['membranes with cubic morphology are a hallmark of stressed or diseased cellular conditions'])\n",
            "Summary for paper No 22_Phage display in the study of infectious diseases_ is:\n"
          ],
          "name": "stdout"
        },
        {
          "output_type": "stream",
          "text": [
            "Your max_length is set to 200, but you input_length is only 48. You might consider decreasing max_length manually, e.g. summarizer('...', max_length=50)\n"
          ],
          "name": "stderr"
        },
        {
          "output_type": "stream",
          "text": [
            "dict_values(['Phage display is a simple functional genomic methodology for screening protein–ligand interactions .'])\n",
            "Summary for paper No 23_Phage display in the study of infectious diseases_ is:\n"
          ],
          "name": "stdout"
        },
        {
          "output_type": "stream",
          "text": [
            "Your max_length is set to 200, but you input_length is only 46. You might consider decreasing max_length manually, e.g. summarizer('...', max_length=50)\n"
          ],
          "name": "stderr"
        },
        {
          "output_type": "stream",
          "text": [
            "dict_values(['use of fragment libraries of whole microbial genomes to identify peptide–ligand'])\n",
            "Summary for paper No 24_I19 Antiviral actions of the interferon-inducible IFIT proteins_ is:\n"
          ],
          "name": "stdout"
        },
        {
          "output_type": "stream",
          "text": [
            "Your max_length is set to 200, but you input_length is only 38. You might consider decreasing max_length manually, e.g. summarizer('...', max_length=50)\n"
          ],
          "name": "stderr"
        },
        {
          "output_type": "stream",
          "text": [
            "dict_values(['all IFIT proteins contain multiple TPR motifs which mediate protein-protein interactions '])\n",
            "Summary for paper No 25_Mendelian resistance to human norovirus infections_ is:\n"
          ],
          "name": "stdout"
        },
        {
          "output_type": "stream",
          "text": [
            "Your max_length is set to 200, but you input_length is only 27. You might consider decreasing max_length manually, e.g. summarizer('...', max_length=50)\n"
          ],
          "name": "stderr"
        },
        {
          "output_type": "stream",
          "text": [
            "dict_values(['capsid protein from distinct strains shows different HBGA specificities . capsi'])\n",
            "Summary for paper No 26_Umbrella Visualization: A method of analysis dedicated to glycan flexibility with UnityMol_ is:\n"
          ],
          "name": "stdout"
        },
        {
          "output_type": "stream",
          "text": [
            "Your max_length is set to 200, but you input_length is only 28. You might consider decreasing max_length manually, e.g. summarizer('...', max_length=50)\n"
          ],
          "name": "stderr"
        },
        {
          "output_type": "stream",
          "text": [
            "dict_values(['displaying the collected data on the protein surface, one is then able to investigate the protein'])\n",
            "Summary for paper No 27_A Heterospecific Leucine Zipper Tetramer_ is:\n"
          ],
          "name": "stdout"
        },
        {
          "output_type": "stream",
          "text": [
            "Your max_length is set to 200, but you input_length is only 63. You might consider decreasing max_length manually, e.g. summarizer('...', max_length=50)\n"
          ],
          "name": "stderr"
        },
        {
          "output_type": "stream",
          "text": [
            "dict_values(['Summary Protein-protein interactions dictate the assembly of the macromolecular complexes essential for'])\n",
            "Summary for paper No 28_Protein-protein interactions of human viruses_ is:\n"
          ],
          "name": "stdout"
        },
        {
          "output_type": "stream",
          "text": [
            "Your max_length is set to 200, but you input_length is only 33. You might consider decreasing max_length manually, e.g. summarizer('...', max_length=50)\n"
          ],
          "name": "stderr"
        },
        {
          "output_type": "stream",
          "text": [
            "dict_values(['including herpesviridae, papillomaviride, ortho'])\n",
            "Summary for paper No 29_Protein-protein interactions of human viruses_ is:\n"
          ],
          "name": "stdout"
        },
        {
          "output_type": "stream",
          "text": [
            "Your max_length is set to 200, but you input_length is only 43. You might consider decreasing max_length manually, e.g. summarizer('...', max_length=50)\n"
          ],
          "name": "stderr"
        },
        {
          "output_type": "stream",
          "text": [
            "dict_values(['host-virus protein interactions on human metabolism . relationships of virus-targeted host proteins'])\n",
            "Summary for paper No 30_Biomolecular NMR: a chaperone to drug discovery_ is:\n"
          ],
          "name": "stdout"
        },
        {
          "output_type": "stream",
          "text": [
            "Your max_length is set to 200, but you input_length is only 44. You might consider decreasing max_length manually, e.g. summarizer('...', max_length=50)\n"
          ],
          "name": "stderr"
        },
        {
          "output_type": "stream",
          "text": [
            "dict_values(['NMR hardware improvements make drug discovery easier . drug discovery still one of the most difficult development'])\n",
            "Summary for paper No 31_Biomolecular NMR: a chaperone to drug discovery_ is:\n"
          ],
          "name": "stdout"
        },
        {
          "output_type": "stream",
          "text": [
            "Your max_length is set to 200, but you input_length is only 43. You might consider decreasing max_length manually, e.g. summarizer('...', max_length=50)\n"
          ],
          "name": "stderr"
        },
        {
          "output_type": "stream",
          "text": [
            "dict_values(['study of protein–ligand interactions has led to impressive success in the development of novel drugs '])\n",
            "Summary for paper No 32_Nanoscale gizmos – the novel fluorescent probes for monitoring protein activity_ is:\n"
          ],
          "name": "stdout"
        },
        {
          "output_type": "stream",
          "text": [
            "Your max_length is set to 200, but you input_length is only 47. You might consider decreasing max_length manually, e.g. summarizer('...', max_length=50)\n"
          ],
          "name": "stderr"
        },
        {
          "output_type": "stream",
          "text": [
            "dict_values(['researchers have been able to design numerous types of nanoscale fluorescent tool kits for monitoring protein–'])\n",
            "Summary for paper No 33_Carbochips: a new energy for old biobuilders_ is:\n"
          ],
          "name": "stdout"
        },
        {
          "output_type": "stream",
          "text": [
            "Your max_length is set to 200, but you input_length is only 39. You might consider decreasing max_length manually, e.g. summarizer('...', max_length=50)\n"
          ],
          "name": "stderr"
        },
        {
          "output_type": "stream",
          "text": [
            "dict_values(['recent developments in the field of carbohydrate microarray technology facilitate applications for different types of'])\n",
            "Summary for paper No 34_Chapter Eight Targeting the Channel Activity of Viroporins_ is:\n"
          ],
          "name": "stdout"
        },
        {
          "output_type": "stream",
          "text": [
            "Your max_length is set to 200, but you input_length is only 38. You might consider decreasing max_length manually, e.g. summarizer('...', max_length=50)\n"
          ],
          "name": "stderr"
        },
        {
          "output_type": "stream",
          "text": [
            "dict_values(['shifting by the difficulties inherent to small viral membrane proteins . shifted by the realization that protein'])\n",
            "Summary for paper No 35_Chapter Two Targeting Intramembrane Protein–Protein Interactions: Novel Therapeutic Strategy of Millions Years Old_ is:\n"
          ],
          "name": "stdout"
        },
        {
          "output_type": "stream",
          "text": [
            "Your max_length is set to 200, but you input_length is only 49. You might consider decreasing max_length manually, e.g. summarizer('...', max_length=50)\n"
          ],
          "name": "stderr"
        },
        {
          "output_type": "stream",
          "text": [
            "dict_values(['Intramembrane protein–protein interactions (PPIs) are involved in trans'])\n",
            "Summary for paper No 36_Chapter Seven Computer simulations of protein–membrane systems_ is:\n"
          ],
          "name": "stdout"
        },
        {
          "output_type": "stream",
          "text": [
            "Your max_length is set to 200, but you input_length is only 21. You might consider decreasing max_length manually, e.g. summarizer('...', max_length=50)\n"
          ],
          "name": "stderr"
        },
        {
          "output_type": "stream",
          "text": [
            "dict_values(['Molecular dynamics (MD) simulations have greatly contributed to our understanding of protein–membr'])\n",
            "Summary for paper No 37_Combining genetic and biochemical approaches to identify functional molecular contact points_ is:\n"
          ],
          "name": "stdout"
        },
        {
          "output_type": "stream",
          "text": [
            "Your max_length is set to 200, but you input_length is only 59. You might consider decreasing max_length manually, e.g. summarizer('...', max_length=50)\n"
          ],
          "name": "stderr"
        },
        {
          "output_type": "stream",
          "text": [
            "dict_values(['Protein-protein interactions are required for many viral and cellular functions and are potential targets for novel'])\n",
            "Summary for paper No 38_Analysis of Intraviral Protein-Protein Interactions of the SARS Coronavirus ORFeome_ is:\n"
          ],
          "name": "stdout"
        },
        {
          "output_type": "stream",
          "text": [
            "Your max_length is set to 200, but you input_length is only 38. You might consider decreasing max_length manually, e.g. summarizer('...', max_length=50)\n"
          ],
          "name": "stderr"
        },
        {
          "output_type": "stream",
          "text": [
            "dict_values(['we cloned the viral ORFeome and performed a genome-wide'])\n",
            "Summary for paper No 39_Analysis of Intraviral Protein-Protein Interactions of the SARS Coronavirus ORFeome_ is:\n"
          ],
          "name": "stdout"
        },
        {
          "output_type": "stream",
          "text": [
            "Your max_length is set to 200, but you input_length is only 28. You might consider decreasing max_length manually, e.g. summarizer('...', max_length=50)\n"
          ],
          "name": "stderr"
        },
        {
          "output_type": "stream",
          "text": [
            "dict_values(['the global stability of the SARS proteome network, or play some unrealized role in'])\n",
            "Summary for paper No 40_Accurate Reproduction of 161 Small-Molecule Complex Crystal Structures using the EUDOC Program: Expanding the Use of EUDOC to Supramolecular Chemistry_ is:\n"
          ],
          "name": "stdout"
        },
        {
          "output_type": "stream",
          "text": [
            "Your max_length is set to 200, but you input_length is only 48. You might consider decreasing max_length manually, e.g. summarizer('...', max_length=50)\n"
          ],
          "name": "stderr"
        },
        {
          "output_type": "stream",
          "text": [
            "dict_values(['it is useful for the design of new materials, molecular sensors, and multimeric inhibitor'])\n",
            "Summary for paper No 41_An emerging cyberinfrastructure for biodefense pathogen and pathogen–host data_ is:\n"
          ],
          "name": "stdout"
        },
        {
          "output_type": "stream",
          "text": [
            "Your max_length is set to 200, but you input_length is only 29. You might consider decreasing max_length manually, e.g. summarizer('...', max_length=50)\n"
          ],
          "name": "stderr"
        },
        {
          "output_type": "stream",
          "text": [
            "dict_values(['pathogen life cycle in vivo and in vitro . data includes transcriptional profiles'])\n",
            "Summary for paper No 42_Genome-Wide Analysis of Protein-Protein Interactions and Involvement of Viral Proteins in SARS-CoV Replication_ is:\n"
          ],
          "name": "stdout"
        },
        {
          "output_type": "stream",
          "text": [
            "Your max_length is set to 200, but you input_length is only 62. You might consider decreasing max_length manually, e.g. summarizer('...', max_length=50)\n"
          ],
          "name": "stderr"
        },
        {
          "output_type": "stream",
          "text": [
            "dict_values(['analyses of viral protein-protein interactions are an important step to understand viral protein functions'])\n",
            "Summary for paper No 43_Genome-Wide Analysis of Protein-Protein Interactions and Involvement of Viral Proteins in SARS-CoV Replication_ is:\n"
          ],
          "name": "stdout"
        },
        {
          "output_type": "stream",
          "text": [
            "Your max_length is set to 200, but you input_length is only 29. You might consider decreasing max_length manually, e.g. summarizer('...', max_length=50)\n"
          ],
          "name": "stderr"
        },
        {
          "output_type": "stream",
          "text": [
            "dict_values(['screens the genome-wide intraviral protein-protein interactions of SARS coronavirus'])\n",
            "Summary for paper No 44_Structure of the C-terminal domain of nsp4 from feline coronavirus_ is:\n"
          ],
          "name": "stdout"
        },
        {
          "output_type": "stream",
          "text": [
            "Your max_length is set to 200, but you input_length is only 61. You might consider decreasing max_length manually, e.g. summarizer('...', max_length=50)\n"
          ],
          "name": "stderr"
        },
        {
          "output_type": "stream",
          "text": [
            "dict_values(['domain with a predominantly -helical content displaying a unique fold .'])\n",
            "Summary for paper No 45_Evolutionarily Conserved Herpesviral Protein Interaction Networks_ is:\n"
          ],
          "name": "stdout"
        },
        {
          "output_type": "stream",
          "text": [
            "Your max_length is set to 200, but you input_length is only 51. You might consider decreasing max_length manually, e.g. summarizer('...', max_length=50)\n"
          ],
          "name": "stderr"
        },
        {
          "output_type": "stream",
          "text": [
            "dict_values(['herpes simplex virus 1 (HSV-1), murine cytomegalo'])\n",
            "Summary for paper No 46_Evolutionarily Conserved Herpesviral Protein Interaction Networks_ is:\n"
          ],
          "name": "stdout"
        },
        {
          "output_type": "stream",
          "text": [
            "Your max_length is set to 200, but you input_length is only 52. You might consider decreasing max_length manually, e.g. summarizer('...', max_length=50)\n"
          ],
          "name": "stderr"
        },
        {
          "output_type": "stream",
          "text": [
            "dict_values(['a total of 1,007 intraviral protein interactions were included in the analysis .'])\n",
            "Summary for paper No 47_Evolutionarily Conserved Herpesviral Protein Interaction Networks_ is:\n"
          ],
          "name": "stdout"
        },
        {
          "output_type": "stream",
          "text": [
            "Your max_length is set to 200, but you input_length is only 72. You might consider decreasing max_length manually, e.g. summarizer('...', max_length=50)\n"
          ],
          "name": "stderr"
        },
        {
          "output_type": "stream",
          "text": [
            "dict_values(['we identified a core set of highly conserved protein interactions, like the interaction between HSV'])\n",
            "Summary for paper No 48_Systems Integration of Biodefense Omics Data for Analysis of Pathogen-Host Interactions and Identification of Potential Targets_ is:\n"
          ],
          "name": "stdout"
        },
        {
          "output_type": "stream",
          "text": [
            "Your max_length is set to 200, but you input_length is only 55. You might consider decreasing max_length manually, e.g. summarizer('...', max_length=50)\n"
          ],
          "name": "stderr"
        },
        {
          "output_type": "stream",
          "text": [
            "dict_values(['The Biodefense Resource Center (www.proteomicsresource.org) has developed '])\n",
            "Summary for paper No 49_High quality protein microarray using in situ protein purification_ is:\n"
          ],
          "name": "stdout"
        },
        {
          "output_type": "stream",
          "text": [
            "Your max_length is set to 200, but you input_length is only 40. You might consider decreasing max_length manually, e.g. summarizer('...', max_length=50)\n"
          ],
          "name": "stderr"
        },
        {
          "output_type": "stream",
          "text": [
            "dict_values(['His-tagged recombinant proteins are a desirable tool for the screening of novel'])\n",
            "Summary for paper No 50_Analysis of virion associated host proteins in vesicular stomatitis virus using a proteomics approach_ is:\n"
          ],
          "name": "stdout"
        },
        {
          "output_type": "stream",
          "text": [
            "Your max_length is set to 200, but you input_length is only 54. You might consider decreasing max_length manually, e.g. summarizer('...', max_length=50)\n"
          ],
          "name": "stderr"
        },
        {
          "output_type": "stream",
          "text": [
            "dict_values(['interactions are beneficial, neutral or antiviral with respect to VSV replication . host proteins'])\n",
            "Summary for paper No 51_CAPIH: A Web interface for comparative analyses and visualization of host-HIV protein-protein interactions_ is:\n"
          ],
          "name": "stdout"
        },
        {
          "output_type": "stream",
          "text": [
            "Your max_length is set to 200, but you input_length is only 49. You might consider decreasing max_length manually, e.g. summarizer('...', max_length=50)\n"
          ],
          "name": "stderr"
        },
        {
          "output_type": "stream",
          "text": [
            "dict_values(['CAPIH is the first web-based interface to provide comparative information between human and the'])\n",
            "Summary for paper No 52_CAPIH: A Web interface for comparative analyses and visualization of host-HIV protein-protein interactions_ is:\n"
          ],
          "name": "stdout"
        },
        {
          "output_type": "stream",
          "text": [
            "Your max_length is set to 200, but you input_length is only 48. You might consider decreasing max_length manually, e.g. summarizer('...', max_length=50)\n"
          ],
          "name": "stderr"
        },
        {
          "output_type": "stream",
          "text": [
            "dict_values(['provide comparative information between human and the three model organisms in the context of host-HI'])\n",
            "Summary for paper No 53_CAPIH: A Web interface for comparative analyses and visualization of host-HIV protein-protein interactions_ is:\n"
          ],
          "name": "stdout"
        },
        {
          "output_type": "stream",
          "text": [
            "Your max_length is set to 200, but you input_length is only 45. You might consider decreasing max_length manually, e.g. summarizer('...', max_length=50)\n"
          ],
          "name": "stderr"
        },
        {
          "output_type": "stream",
          "text": [
            "dict_values(['in the case of AIDS, the host-HIV-1 protein interactions apparently have differe'])\n",
            "Summary for paper No 54_Predicting Drug-Target Interaction Networks Based on Functional Groups and Biological Features_ is:\n"
          ],
          "name": "stdout"
        },
        {
          "output_type": "stream",
          "text": [
            "Your max_length is set to 200, but you input_length is only 37. You might consider decreasing max_length manually, e.g. summarizer('...', max_length=50)\n"
          ],
          "name": "stderr"
        },
        {
          "output_type": "stream",
          "text": [
            "dict_values(['is an important topic for drug development . it is time-consuming and costly to determine compound'])\n",
            "Summary for paper No 55_The Nature of Protein Domain Evolution: Shaping the Interaction Network_ is:\n"
          ],
          "name": "stdout"
        },
        {
          "output_type": "stream",
          "text": [
            "Your max_length is set to 200, but you input_length is only 31. You might consider decreasing max_length manually, e.g. summarizer('...', max_length=50)\n"
          ],
          "name": "stderr"
        },
        {
          "output_type": "stream",
          "text": [
            "dict_values(['components of globular proteins and are the most principal level at which protein function and protein interactions'])\n",
            "Summary for paper No 56_Molecular Mapping of the RNA Cap 2′-O-Methyltransferase Activation Interface between Severe Acute Respiratory Syndrome Coronavirus nsp10 and nsp16_ is:\n"
          ],
          "name": "stdout"
        },
        {
          "output_type": "stream",
          "text": [
            "Your max_length is set to 200, but you input_length is only 46. You might consider decreasing max_length manually, e.g. summarizer('...', max_length=50)\n"
          ],
          "name": "stderr"
        },
        {
          "output_type": "stream",
          "text": [
            "dict_values(['Several protein-protein interactions within the SARS-CoV proteome have been identified '])\n",
            "Summary for paper No 57_Mechanism of Inhibition of Enveloped Virus Membrane Fusion by the Antiviral Drug Arbidol_ is:\n"
          ],
          "name": "stdout"
        },
        {
          "output_type": "stream",
          "text": [
            "Your max_length is set to 200, but you input_length is only 56. You might consider decreasing max_length manually, e.g. summarizer('...', max_length=50)\n"
          ],
          "name": "stderr"
        },
        {
          "output_type": "stream",
          "text": [
            "dict_values([\"arb could increase the strength of virus glycoprotein's interactions with the membrane . ar\"])\n",
            "Summary for paper No 58_NS2 Protein of Hepatitis C Virus Interacts with Structural and Non-Structural Proteins towards Virus Assembly_ is:\n"
          ],
          "name": "stdout"
        },
        {
          "output_type": "stream",
          "text": [
            "Your max_length is set to 200, but you input_length is only 48. You might consider decreasing max_length manually, e.g. summarizer('...', max_length=50)\n"
          ],
          "name": "stderr"
        },
        {
          "output_type": "stream",
          "text": [
            "dict_values(['despite genetic evidences, we have almost no understanding about NS2 protein-protein interactions'])\n",
            "Summary for paper No 59_Antibodies on demand: a fast method for the production of human scFvs with minimal amounts of antigen_ is:\n"
          ],
          "name": "stdout"
        },
        {
          "output_type": "stream",
          "text": [
            "Your max_length is set to 200, but you input_length is only 46. You might consider decreasing max_length manually, e.g. summarizer('...', max_length=50)\n"
          ],
          "name": "stderr"
        },
        {
          "output_type": "stream",
          "text": [
            "dict_values(['high-throughput antibody development requires faster methodologies . BACKGROUND: High-'])\n",
            "Summary for paper No 60_RNA-Binding Domain in the Nucleocapsid Protein of Gill-Associated Nidovirus of Penaeid Shrimp_ is:\n"
          ],
          "name": "stdout"
        },
        {
          "output_type": "stream",
          "text": [
            "Your max_length is set to 200, but you input_length is only 66. You might consider decreasing max_length manually, e.g. summarizer('...', max_length=50)\n"
          ],
          "name": "stderr"
        },
        {
          "output_type": "stream",
          "text": [
            "dict_values(['higher-order complexes in the presence of RNA, the domain might play some role'])\n",
            "Summary for paper No 61_Orthoretroviral-like prototype foamy virus gag-pol expression is compatible with viral replication_ is:\n"
          ],
          "name": "stdout"
        },
        {
          "output_type": "stream",
          "text": [
            "Your max_length is set to 200, but you input_length is only 46. You might consider decreasing max_length manually, e.g. summarizer('...', max_length=50)\n"
          ],
          "name": "stderr"
        },
        {
          "output_type": "stream",
          "text": [
            "dict_values(['briding viral RNA by both Pol precursor and Gag as well as potential Gag'])\n",
            "Summary for paper No 62_Composite Structural Motifs of Binding Sites for Delineating Biological Functions of Proteins_ is:\n"
          ],
          "name": "stdout"
        },
        {
          "output_type": "stream",
          "text": [
            "Your max_length is set to 200, but you input_length is only 58. You might consider decreasing max_length manually, e.g. summarizer('...', max_length=50)\n"
          ],
          "name": "stderr"
        },
        {
          "output_type": "stream",
          "text": [
            "dict_values(['atomic resolution aims to better understand the relation between protein interactions and biological functions . we'])\n",
            "Summary for paper No 63_Using Support Vector Machine and Evolutionary Profiles to Predict Antifreeze Protein Sequences_ is:\n"
          ],
          "name": "stdout"
        },
        {
          "output_type": "stream",
          "text": [
            "Your max_length is set to 200, but you input_length is only 43. You might consider decreasing max_length manually, e.g. summarizer('...', max_length=50)\n"
          ],
          "name": "stderr"
        },
        {
          "output_type": "stream",
          "text": [
            "dict_values(['antifreeze proteins (AFPs) are ice-binding proteins . AFP'])\n",
            "Summary for paper No 64_Filovirus Entry: A Novelty in the Viral Fusion World_ is:\n"
          ],
          "name": "stdout"
        },
        {
          "output_type": "stream",
          "text": [
            "Your max_length is set to 200, but you input_length is only 36. You might consider decreasing max_length manually, e.g. summarizer('...', max_length=50)\n"
          ],
          "name": "stderr"
        },
        {
          "output_type": "stream",
          "text": [
            "dict_values(['studies indicate that cellular entry of this family of viruses requires a series of cellular protein'])\n",
            "Summary for paper No 65_Predicting RNA-Protein Interactions Using Only Sequence Information_ is:\n"
          ],
          "name": "stdout"
        },
        {
          "output_type": "stream",
          "text": [
            "Your max_length is set to 200, but you input_length is only 48. You might consider decreasing max_length manually, e.g. summarizer('...', max_length=50)\n"
          ],
          "name": "stderr"
        },
        {
          "output_type": "stream",
          "text": [
            "dict_values(['RNA-protein interactions (RPIs) play important roles in a wide variety of'])\n",
            "Summary for paper No 66_Predicting RNA-Protein Interactions Using Only Sequence Information_ is:\n"
          ],
          "name": "stdout"
        },
        {
          "output_type": "stream",
          "text": [
            "Your max_length is set to 200, but you input_length is only 59. You might consider decreasing max_length manually, e.g. summarizer('...', max_length=50)\n"
          ],
          "name": "stderr"
        },
        {
          "output_type": "stream",
          "text": [
            "dict_values(['post-transcriptional regulation of gene expression to host defense against pathogens . post'])\n",
            "Summary for paper No 67_Predicting RNA-Protein Interactions Using Only Sequence Information_ is:\n"
          ],
          "name": "stdout"
        },
        {
          "output_type": "stream",
          "text": [
            "Your max_length is set to 200, but you input_length is only 58. You might consider decreasing max_length manually, e.g. summarizer('...', max_length=50)\n"
          ],
          "name": "stderr"
        },
        {
          "output_type": "stream",
          "text": [
            "dict_values(['Hence, there is a need for reliable computational methods for predicting RNA-protein'])\n",
            "Summary for paper No 68_Predicting RNA-Protein Interactions Using Only Sequence Information_ is:\n"
          ],
          "name": "stdout"
        },
        {
          "output_type": "stream",
          "text": [
            "Your max_length is set to 200, but you input_length is only 53. You might consider decreasing max_length manually, e.g. summarizer('...', max_length=50)\n"
          ],
          "name": "stderr"
        },
        {
          "output_type": "stream",
          "text": [
            "dict_values(['RPISeq is a family of classifiers for predicting RNA-'])\n",
            "Summary for paper No 69_Predicting RNA-Protein Interactions Using Only Sequence Information_ is:\n"
          ],
          "name": "stdout"
        },
        {
          "output_type": "stream",
          "text": [
            "Your max_length is set to 200, but you input_length is only 75. You might consider decreasing max_length manually, e.g. summarizer('...', max_length=50)\n"
          ],
          "name": "stderr"
        },
        {
          "output_type": "stream",
          "text": [
            "dict_values(['Receiver Operating Characteristic (ROC) curve) of 0.96 and 0.92 . '])\n",
            "Summary for paper No 70_Predicting RNA-Protein Interactions Using Only Sequence Information_ is:\n"
          ],
          "name": "stdout"
        },
        {
          "output_type": "stream",
          "text": [
            "Your max_length is set to 200, but you input_length is only 70. You might consider decreasing max_length manually, e.g. summarizer('...', max_length=50)\n"
          ],
          "name": "stderr"
        },
        {
          "output_type": "stream",
          "text": [
            "dict_values(['RPISeq classifiers trained using the PRIDB data correctly predicted the majority'])\n",
            "Summary for paper No 71_Predicting RNA-Protein Interactions Using Only Sequence Information_ is:\n"
          ],
          "name": "stdout"
        },
        {
          "output_type": "stream",
          "text": [
            "Your max_length is set to 200, but you input_length is only 51. You might consider decreasing max_length manually, e.g. summarizer('...', max_length=50)\n"
          ],
          "name": "stderr"
        },
        {
          "output_type": "stream",
          "text": [
            "dict_values(['RNA-protein interactions can be reliably predicted using only sequence-derived information . '])\n",
            "Summary for paper No 72_Lipid Rafts and Alzheimer’s Disease: Protein-Lipid Interactions and Perturbation of Signaling_ is:\n"
          ],
          "name": "stdout"
        },
        {
          "output_type": "stream",
          "text": [
            "Your max_length is set to 200, but you input_length is only 34. You might consider decreasing max_length manually, e.g. summarizer('...', max_length=50)\n"
          ],
          "name": "stderr"
        },
        {
          "output_type": "stream",
          "text": [
            "dict_values(['bulk membrane and enriched in cholesterol and sphingolipids . they represent '])\n",
            "Summary for paper No 73_Exploring IRES Region Accessibility by Interference of Foot-and-Mouth Disease Virus Infectivity_ is:\n"
          ],
          "name": "stdout"
        },
        {
          "output_type": "stream",
          "text": [
            "Your max_length is set to 200, but you input_length is only 61. You might consider decreasing max_length manually, e.g. summarizer('...', max_length=50)\n"
          ],
          "name": "stderr"
        },
        {
          "output_type": "stream",
          "text": [
            "dict_values(['small molecules disturb RNA structural organization or RNA-protein interactions needed to initiate translation in FM'])\n",
            "Summary for paper No 74_Discovery and Targeted LC-MS/MS of Purified Polerovirus Reveals Differences in the Virus-Host Interactome Associated with Altered Aphid Transmission_ is:\n"
          ],
          "name": "stdout"
        },
        {
          "output_type": "stream",
          "text": [
            "Your max_length is set to 200, but you input_length is only 66. You might consider decreasing max_length manually, e.g. summarizer('...', max_length=50)\n"
          ],
          "name": "stderr"
        },
        {
          "output_type": "stream",
          "text": [
            "dict_values(['sodium sulfite treatment disrupts critical virion-host protein interactions required for '])\n",
            "Summary for paper No 75_An RNA Aptamer Provides a Novel Approach for the Induction of Apoptosis by Targeting the HPV16 E7 Oncoprotein_ is:\n"
          ],
          "name": "stdout"
        },
        {
          "output_type": "stream",
          "text": [
            "Your max_length is set to 200, but you input_length is only 45. You might consider decreasing max_length manually, e.g. summarizer('...', max_length=50)\n"
          ],
          "name": "stderr"
        },
        {
          "output_type": "stream",
          "text": [
            "dict_values(['high-affinity binding) to HPV16 E7 were employed as molecular tools'])\n",
            "Summary for paper No 76_Multitask learning for host–pathogen protein interactions_ is:\n"
          ],
          "name": "stdout"
        },
        {
          "output_type": "stream",
          "text": [
            "Your max_length is set to 200, but you input_length is only 46. You might consider decreasing max_length manually, e.g. summarizer('...', max_length=50)\n"
          ],
          "name": "stderr"
        },
        {
          "output_type": "stream",
          "text": [
            "dict_values(['a ‘task’ in our scenario is the set of host–pathogen protein interactions involved'])\n",
            "Summary for paper No 77_Towards Systematic Discovery of Signaling Networks in Budding Yeast Filamentous Growth Stress Response Using Interventional Phosphorylation Data_ is:\n"
          ],
          "name": "stdout"
        },
        {
          "output_type": "stream",
          "text": [
            "Your max_length is set to 200, but you input_length is only 48. You might consider decreasing max_length manually, e.g. summarizer('...', max_length=50)\n"
          ],
          "name": "stderr"
        },
        {
          "output_type": "stream",
          "text": [
            "dict_values(['for phosphoproteome data from interventional experiments for identifying key proteins in specific pathways'])\n",
            "Summary for paper No 78_Protein co-expression network analysis (ProCoNA)_ is:\n"
          ],
          "name": "stdout"
        },
        {
          "output_type": "stream",
          "text": [
            "Your max_length is set to 200, but you input_length is only 59. You might consider decreasing max_length manually, e.g. summarizer('...', max_length=50)\n"
          ],
          "name": "stderr"
        },
        {
          "output_type": "stream",
          "text": [
            "dict_values(['within modules, we find significant enrichment for biological function and known interactions . CONCLUS'])\n",
            "Summary for paper No 79_A Systematic Analysis of Host Factors Reveals a Med23-Interferon-λ Regulatory Axis against Herpes Simplex Virus Type 1 Replication_ is:\n"
          ],
          "name": "stdout"
        },
        {
          "output_type": "stream",
          "text": [
            "Your max_length is set to 200, but you input_length is only 61. You might consider decreasing max_length manually, e.g. summarizer('...', max_length=50)\n"
          ],
          "name": "stderr"
        },
        {
          "output_type": "stream",
          "text": [
            "dict_values(['genome-scale screens for host factors (HFs) involved in virus replication . yeast two'])\n",
            "Summary for paper No 80_Broad-spectrum antiviral activity of chebulagic acid and punicalagin against viruses that use glycosaminoglycans for entry_ is:\n"
          ],
          "name": "stdout"
        },
        {
          "output_type": "stream",
          "text": [
            "Your max_length is set to 200, but you input_length is only 61. You might consider decreasing max_length manually, e.g. summarizer('...', max_length=50)\n"
          ],
          "name": "stderr"
        },
        {
          "output_type": "stream",
          "text": [
            "dict_values(['compounds inhibited viral glycoprotein interactions with cell surface glycosaminoglycan'])\n",
            "Summary for paper No 81_The PDZ-Binding Motif of Severe Acute Respiratory Syndrome Coronavirus Envelope Protein Is a Determinant of Viral Pathogenesis_ is:\n"
          ],
          "name": "stdout"
        },
        {
          "output_type": "stream",
          "text": [
            "Your max_length is set to 200, but you input_length is only 45. You might consider decreasing max_length manually, e.g. summarizer('...', max_length=50)\n"
          ],
          "name": "stderr"
        },
        {
          "output_type": "stream",
          "text": [
            "dict_values(['E protein PDZ-binding motif (PBM) is a domain involved in'])\n",
            "Summary for paper No 82_Membrane Interacting Regions of Dengue Virus NS2A Protein_ is:\n"
          ],
          "name": "stdout"
        },
        {
          "output_type": "stream",
          "text": [
            "Your max_length is set to 200, but you input_length is only 51. You might consider decreasing max_length manually, e.g. summarizer('...', max_length=50)\n"
          ],
          "name": "stderr"
        },
        {
          "output_type": "stream",
          "text": [
            "dict_values(['NS2A displays both protein/protein and membrane/protein interactions . neither its functions'])\n",
            "Summary for paper No 83_Identification of Protein Interaction Partners in Mammalian Cells Using SILAC-immunoprecipitation Quantitative Proteomics_ is:\n"
          ],
          "name": "stdout"
        },
        {
          "output_type": "stream",
          "text": [
            "Your max_length is set to 200, but you input_length is only 60. You might consider decreasing max_length manually, e.g. summarizer('...', max_length=50)\n"
          ],
          "name": "stderr"
        },
        {
          "output_type": "stream",
          "text": [
            "dict_values(['SILAC immunoprecipitation enables discovery of novel protein:protein interactions .'])\n",
            "Summary for paper No 84_What Macromolecular Crowding Can Do to a Protein_ is:\n"
          ],
          "name": "stdout"
        },
        {
          "output_type": "stream",
          "text": [
            "Your max_length is set to 200, but you input_length is only 62. You might consider decreasing max_length manually, e.g. summarizer('...', max_length=50)\n"
          ],
          "name": "stderr"
        },
        {
          "output_type": "stream",
          "text": [
            "dict_values(['crowding might affect protein structure, folding, shape, conformational stability, binding of small'])\n",
            "Summary for paper No 85_RPI-Pred: predicting ncRNA-protein interaction using sequence and structural information_ is:\n"
          ],
          "name": "stdout"
        },
        {
          "output_type": "stream",
          "text": [
            "Your max_length is set to 200, but you input_length is only 43. You might consider decreasing max_length manually, e.g. summarizer('...', max_length=50)\n"
          ],
          "name": "stderr"
        },
        {
          "output_type": "stream",
          "text": [
            "dict_values(['ncRNA-protein interactions play an important role in post-transcriptional gene regulation'])\n",
            "Summary for paper No 86_Incorporation of Spike and Membrane Glycoproteins into Coronavirus Virions_ is:\n"
          ],
          "name": "stdout"
        },
        {
          "output_type": "stream",
          "text": [
            "Your max_length is set to 200, but you input_length is only 29. You might consider decreasing max_length manually, e.g. summarizer('...', max_length=50)\n"
          ],
          "name": "stderr"
        },
        {
          "output_type": "stream",
          "text": [
            "dict_values(['the efficient incorporation of viral envelope proteins into CoV virions depends on protein trafficking'])\n",
            "Summary for paper No 87_Incorporation of Spike and Membrane Glycoproteins into Coronavirus Virions_ is:\n"
          ],
          "name": "stdout"
        },
        {
          "output_type": "stream",
          "text": [
            "Your max_length is set to 200, but you input_length is only 48. You might consider decreasing max_length manually, e.g. summarizer('...', max_length=50)\n"
          ],
          "name": "stderr"
        },
        {
          "output_type": "stream",
          "text": [
            "dict_values(['M and S glycoproteins into the CoV virion, focusing on protein trafficking'])\n",
            "Summary for paper No 88_One cannot rule them all: Are bacterial toxins-antitoxins druggable?_ is:\n"
          ],
          "name": "stdout"
        },
        {
          "output_type": "stream",
          "text": [
            "Your max_length is set to 200, but you input_length is only 44. You might consider decreasing max_length manually, e.g. summarizer('...', max_length=50)\n"
          ],
          "name": "stderr"
        },
        {
          "output_type": "stream",
          "text": [
            "dict_values(['use of very small molecules (fragments) as inhibitors of protein–protein interactions .'])\n",
            "Summary for paper No 89_Protein-Protein Interactions of Viroporins in Coronaviruses and Paramyxoviruses: New Targets for Antivirals?_ is:\n"
          ],
          "name": "stdout"
        },
        {
          "output_type": "stream",
          "text": [
            "Your max_length is set to 200, but you input_length is only 47. You might consider decreasing max_length manually, e.g. summarizer('...', max_length=50)\n"
          ],
          "name": "stderr"
        },
        {
          "output_type": "stream",
          "text": [
            "dict_values(['members of these viroporins have been characterized in some detail . searches for'])\n",
            "Summary for paper No 90_Protein-Protein Interactions of Viroporins in Coronaviruses and Paramyxoviruses: New Targets for Antivirals?_ is:\n"
          ],
          "name": "stdout"
        },
        {
          "output_type": "stream",
          "text": [
            "Your max_length is set to 200, but you input_length is only 57. You might consider decreasing max_length manually, e.g. summarizer('...', max_length=50)\n"
          ],
          "name": "stderr"
        },
        {
          "output_type": "stream",
          "text": [
            "dict_values(['novel strategies that target protein-protein interactions as much needed antivirals . these should complement'])\n",
            "Summary for paper No 91_Human Enterovirus Nonstructural Protein 2C(ATPase) Functions as Both an RNA Helicase and ATP-Independent RNA Chaperone_ is:\n"
          ],
          "name": "stdout"
        },
        {
          "output_type": "stream",
          "text": [
            "Your max_length is set to 200, but you input_length is only 50. You might consider decreasing max_length manually, e.g. summarizer('...', max_length=50)\n"
          ],
          "name": "stderr"
        },
        {
          "output_type": "stream",
          "text": [
            "dict_values(['two classes of RNA remodeling proteins function to remodel RNA structures . some virus-en'])\n",
            "Summary for paper No 92_Beyond phage display: non-traditional applications of the filamentous bacteriophage as a vaccine carrier, therapeutic biologic, and bioconjugation scaffold_ is:\n"
          ],
          "name": "stdout"
        },
        {
          "output_type": "stream",
          "text": [
            "Your max_length is set to 200, but you input_length is only 63. You might consider decreasing max_length manually, e.g. summarizer('...', max_length=50)\n"
          ],
          "name": "stderr"
        },
        {
          "output_type": "stream",
          "text": [
            "dict_values(['phage display technology has been an invaluable tool for studies of protein–protein interactions .'])\n",
            "Summary for paper No 93_Structural basis for the neutralization of MERS-CoV by a human monoclonal antibody MERS-27_ is:\n"
          ],
          "name": "stdout"
        },
        {
          "output_type": "stream",
          "text": [
            "Your max_length is set to 200, but you input_length is only 60. You might consider decreasing max_length manually, e.g. summarizer('...', max_length=50)\n"
          ],
          "name": "stderr"
        },
        {
          "output_type": "stream",
          "text": [
            "dict_values(['MERS-27 blocks protein-protein and protein-carbohydrate interactions between MERS'])\n",
            "Summary for paper No 94_The Hepatitis E virus intraviral interactome_ is:\n"
          ],
          "name": "stdout"
        },
        {
          "output_type": "stream",
          "text": [
            "Your max_length is set to 200, but you input_length is only 45. You might consider decreasing max_length manually, e.g. summarizer('...', max_length=50)\n"
          ],
          "name": "stderr"
        },
        {
          "output_type": "stream",
          "text": [
            "dict_values(['all possible intraviral protein-protein interactions (PPIs) of HEV are examined'])\n",
            "Summary for paper No 95_Sculpting the proteome with small molecules_ is:\n"
          ],
          "name": "stdout"
        },
        {
          "output_type": "stream",
          "text": [
            "Your max_length is set to 200, but you input_length is only 38. You might consider decreasing max_length manually, e.g. summarizer('...', max_length=50)\n"
          ],
          "name": "stderr"
        },
        {
          "output_type": "stream",
          "text": [
            "dict_values(['UPS provides many opportunities for selective modulation of the pathway with small molecules . biology of '])\n",
            "Summary for paper No 96_Identification of Peptide Inhibitors of Enveloped Viruses Using Support Vector Machine_ is:\n"
          ],
          "name": "stdout"
        },
        {
          "output_type": "stream",
          "text": [
            "Your max_length is set to 200, but you input_length is only 44. You might consider decreasing max_length manually, e.g. summarizer('...', max_length=50)\n"
          ],
          "name": "stderr"
        },
        {
          "output_type": "stream",
          "text": [
            "dict_values(['peptides derived from envelope proteins inhibit protein-protein interactions in virus membrane fusion'])\n",
            "Summary for paper No 97_Advancement and applications of peptide phage display technology in biomedical science_ is:\n"
          ],
          "name": "stdout"
        },
        {
          "output_type": "stream",
          "text": [
            "Your max_length is set to 200, but you input_length is only 33. You might consider decreasing max_length manually, e.g. summarizer('...', max_length=50)\n"
          ],
          "name": "stderr"
        },
        {
          "output_type": "stream",
          "text": [
            "dict_values(['Combinatorial phage library is a powerful research tool for high-throughput screening'])\n",
            "Summary for paper No 98_The Roles of RNase-L in Antimicrobial Immunity and the Cytoskeleton-Associated Innate Response_ is:\n"
          ],
          "name": "stdout"
        },
        {
          "output_type": "stream",
          "text": [
            "Your max_length is set to 200, but you input_length is only 48. You might consider decreasing max_length manually, e.g. summarizer('...', max_length=50)\n"
          ],
          "name": "stderr"
        },
        {
          "output_type": "stream",
          "text": [
            "dict_values(['innate immune protein interactions with the cytoskeleton are also discussed . significance and context'])\n",
            "Summary for paper No 99_Long noncoding RNAs in innate immunity_ is:\n"
          ],
          "name": "stdout"
        },
        {
          "output_type": "stream",
          "text": [
            "Your max_length is set to 200, but you input_length is only 49. You might consider decreasing max_length manually, e.g. summarizer('...', max_length=50)\n"
          ],
          "name": "stderr"
        },
        {
          "output_type": "stream",
          "text": [
            "dict_values(['transcriptional or post-transcriptional regulation of the innate and adaptive immune responses via new'])\n",
            "Summary for paper No 100_Viral Interactions with PDZ Domain-Containing Proteins—An Oncogenic Trait?_ is:\n"
          ],
          "name": "stdout"
        },
        {
          "output_type": "stream",
          "text": [
            "Your max_length is set to 200, but you input_length is only 45. You might consider decreasing max_length manually, e.g. summarizer('...', max_length=50)\n"
          ],
          "name": "stderr"
        },
        {
          "output_type": "stream",
          "text": [
            "dict_values(['short linear peptide motifs found in host protein-PDZ interactions . to '])\n",
            "Summary for paper No 101_Viral Interactions with PDZ Domain-Containing Proteins—An Oncogenic Trait?_ is:\n"
          ],
          "name": "stdout"
        },
        {
          "output_type": "stream",
          "text": [
            "Your max_length is set to 200, but you input_length is only 48. You might consider decreasing max_length manually, e.g. summarizer('...', max_length=50)\n"
          ],
          "name": "stderr"
        },
        {
          "output_type": "stream",
          "text": [
            "dict_values(['the contribution of virus-PDZ protein interactions to virus-mediated oncogenesis . we'])\n",
            "Summary for paper No 102_The new (dis)order in RNA regulation_ is:\n"
          ],
          "name": "stdout"
        },
        {
          "output_type": "stream",
          "text": [
            "Your max_length is set to 200, but you input_length is only 59. You might consider decreasing max_length manually, e.g. summarizer('...', max_length=50)\n"
          ],
          "name": "stderr"
        },
        {
          "output_type": "stream",
          "text": [
            "dict_values(['regulation of all aspects of RNA metabolism, from synthesis to decay . protein-RNA'])\n",
            "Summary for paper No 103_The new (dis)order in RNA regulation_ is:\n"
          ],
          "name": "stdout"
        },
        {
          "output_type": "stream",
          "text": [
            "Your max_length is set to 200, but you input_length is only 56. You might consider decreasing max_length manually, e.g. summarizer('...', max_length=50)\n"
          ],
          "name": "stderr"
        },
        {
          "output_type": "stream",
          "text": [
            "dict_values(['disordered protein regions mediate protein-RNA interactions . these regions can mediat'])\n",
            "Summary for paper No 104_The new (dis)order in RNA regulation_ is:\n"
          ],
          "name": "stdout"
        },
        {
          "output_type": "stream",
          "text": [
            "Your max_length is set to 200, but you input_length is only 66. You might consider decreasing max_length manually, e.g. summarizer('...', max_length=50)\n"
          ],
          "name": "stderr"
        },
        {
          "output_type": "stream",
          "text": [
            "dict_values(['Disordered regions can influence RNA metabolism through protein aggregation and hydrogel formation'])\n",
            "Summary for paper No 105_Identification of four novel DC-SIGN ligands on Mycobacterium bovis BCG_ is:\n"
          ],
          "name": "stdout"
        },
        {
          "output_type": "stream",
          "text": [
            "Your max_length is set to 200, but you input_length is only 53. You might consider decreasing max_length manually, e.g. summarizer('...', max_length=50)\n"
          ],
          "name": "stderr"
        },
        {
          "output_type": "stream",
          "text": [
            "dict_values(['lprG appears to bind DC-SIGN via typical proteingly'])\n",
            "Summary for paper No 106_Proteomic approaches to uncovering virus–host protein interactions during the progression of viral infection_ is:\n"
          ],
          "name": "stdout"
        },
        {
          "output_type": "stream",
          "text": [
            "Your max_length is set to 200, but you input_length is only 51. You might consider decreasing max_length manually, e.g. summarizer('...', max_length=50)\n"
          ],
          "name": "stderr"
        },
        {
          "output_type": "stream",
          "text": [
            "dict_values(['proteomic-based approaches have been used to characterize this dynamic virus–host interaction '])\n",
            "Summary for paper No 107_Structural basis for viral 5′-PPP-RNA recognition by human IFIT proteins_ is:\n"
          ],
          "name": "stdout"
        },
        {
          "output_type": "stream",
          "text": [
            "Your max_length is set to 200, but you input_length is only 62. You might consider decreasing max_length manually, e.g. summarizer('...', max_length=50)\n"
          ],
          "name": "stderr"
        },
        {
          "output_type": "stream",
          "text": [
            "dict_values(['interferon-inducible, innate immune effector molecules thought to confer antivir'])\n",
            "Summary for paper No 108_A small stem-loop structure of the Ebola virus trailer is essential for replication and interacts with heat-shock protein A8_ is:\n"
          ],
          "name": "stdout"
        },
        {
          "output_type": "stream",
          "text": [
            "Your max_length is set to 200, but you input_length is only 48. You might consider decreasing max_length manually, e.g. summarizer('...', max_length=50)\n"
          ],
          "name": "stderr"
        },
        {
          "output_type": "stream",
          "text": [
            "dict_values(['cis-acting RNA signals regulate replication of eGFP-encoding'])\n",
            "Summary for paper No 109_A Review of Functional Motifs Utilized by Viruses_ is:\n"
          ],
          "name": "stdout"
        },
        {
          "output_type": "stream",
          "text": [
            "Your max_length is set to 200, but you input_length is only 44. You might consider decreasing max_length manually, e.g. summarizer('...', max_length=50)\n"
          ],
          "name": "stderr"
        },
        {
          "output_type": "stream",
          "text": [
            "dict_values(['short linear motifs (SLiM) are short peptides that facilitate protein function'])\n",
            "Summary for paper No 110_Human enterovirus 71 protein interaction network prompts antiviral drug repositioning_ is:\n"
          ],
          "name": "stdout"
        },
        {
          "output_type": "stream",
          "text": [
            "Your max_length is set to 200, but you input_length is only 44. You might consider decreasing max_length manually, e.g. summarizer('...', max_length=50)\n"
          ],
          "name": "stderr"
        },
        {
          "output_type": "stream",
          "text": [
            "dict_values(['EV71-host protein interactions have not been explored . cellular interactions between EV'])\n",
            "Summary for paper No 111_Human enterovirus 71 protein interaction network prompts antiviral drug repositioning_ is:\n"
          ],
          "name": "stdout"
        },
        {
          "output_type": "stream",
          "text": [
            "Your max_length is set to 200, but you input_length is only 40. You might consider decreasing max_length manually, e.g. summarizer('...', max_length=50)\n"
          ],
          "name": "stderr"
        },
        {
          "output_type": "stream",
          "text": [
            "dict_values(['demonstrated its antiviral efficiency in vitro. These findings provide the first systematic identification of '])\n",
            "Summary for paper No 112_Technologies for Proteome-Wide Discovery of Extracellular Host-Pathogen Interactions_ is:\n"
          ],
          "name": "stdout"
        },
        {
          "output_type": "stream",
          "text": [
            "Your max_length is set to 200, but you input_length is only 47. You might consider decreasing max_length manually, e.g. summarizer('...', max_length=50)\n"
          ],
          "name": "stderr"
        },
        {
          "output_type": "stream",
          "text": [
            "dict_values(['this review discusses available technologies for the high throughput study of extracellular protein interactions .'])\n",
            "Summary for paper No 113_Technologies for Proteome-Wide Discovery of Extracellular Host-Pathogen Interactions_ is:\n"
          ],
          "name": "stdout"
        },
        {
          "output_type": "stream",
          "text": [
            "Your max_length is set to 200, but you input_length is only 51. You might consider decreasing max_length manually, e.g. summarizer('...', max_length=50)\n"
          ],
          "name": "stderr"
        },
        {
          "output_type": "stream",
          "text": [
            "dict_values(['this review discusses available technologies for the high throughput study of extracellular protein interactions .'])\n",
            "Summary for paper No 114_Technologies for Proteome-Wide Discovery of Extracellular Host-Pathogen Interactions_ is:\n"
          ],
          "name": "stdout"
        },
        {
          "output_type": "stream",
          "text": [
            "Your max_length is set to 200, but you input_length is only 65. You might consider decreasing max_length manually, e.g. summarizer('...', max_length=50)\n"
          ],
          "name": "stderr"
        },
        {
          "output_type": "stream",
          "text": [
            "dict_values(['further development and application of technologies for genome-wide identification of extracellular protein interactions will be important'])\n",
            "Summary for paper No 115_Prediction of lncRNA-protein interactions using HeteSim scores based on heterogeneous networks_ is:\n"
          ],
          "name": "stdout"
        },
        {
          "output_type": "stream",
          "text": [
            "Your max_length is set to 200, but you input_length is only 70. You might consider decreasing max_length manually, e.g. summarizer('...', max_length=50)\n"
          ],
          "name": "stderr"
        },
        {
          "output_type": "stream",
          "text": [
            "dict_values(['PLPIHS is an effective computational method for Predicting lncRNA-'])\n",
            "Summary for paper No 116_Prediction of lncRNA-protein interactions using HeteSim scores based on heterogeneous networks_ is:\n"
          ],
          "name": "stdout"
        },
        {
          "output_type": "stream",
          "text": [
            "Your max_length is set to 200, but you input_length is only 48. You might consider decreasing max_length manually, e.g. summarizer('...', max_length=50)\n"
          ],
          "name": "stderr"
        },
        {
          "output_type": "stream",
          "text": [
            "dict_values(['an SVM classifier to predict lncRNA-protein interactions is built with the'])\n",
            "Summary for paper No 117_Sugar-Binding Profiles of Chitin-Binding Lectins from the Hevein Family: A Comprehensive Study_ is:\n"
          ],
          "name": "stdout"
        },
        {
          "output_type": "stream",
          "text": [
            "Your max_length is set to 200, but you input_length is only 57. You might consider decreasing max_length manually, e.g. summarizer('...', max_length=50)\n"
          ],
          "name": "stderr"
        },
        {
          "output_type": "stream",
          "text": [
            "dict_values(['WGA showed strong binding to heavily sialylated glycoproteins . observations will'])\n",
            "Summary for paper No 118_Intracellular Crosslinking of Filoviral Nucleoproteins with Xintrabodies Restricts Viral Packaging_ is:\n"
          ],
          "name": "stdout"
        },
        {
          "output_type": "stream",
          "text": [
            "Your max_length is set to 200, but you input_length is only 46. You might consider decreasing max_length manually, e.g. summarizer('...', max_length=50)\n"
          ],
          "name": "stderr"
        },
        {
          "output_type": "stream",
          "text": [
            "dict_values(['membranes. We hypothesized that RNC would be ideal targets for crosslinkers engine'])\n",
            "Summary for paper No 119_Targeting Hsp27/eIF4E interaction with phenazine compound: a promising alternative for castration-resistant prostate cancer treatment_ is:\n"
          ],
          "name": "stdout"
        },
        {
          "output_type": "stream",
          "text": [
            "Your max_length is set to 200, but you input_length is only 46. You might consider decreasing max_length manually, e.g. summarizer('...', max_length=50)\n"
          ],
          "name": "stderr"
        },
        {
          "output_type": "stream",
          "text": [
            "dict_values(['an alternative therapeutic strategy relies on the identification and use of compounds that disrupt specific protein-protein'])\n",
            "Summary for paper No 120_Multiplexed Nucleic Acid Programmable Protein Arrays_ is:\n"
          ],
          "name": "stdout"
        },
        {
          "output_type": "stream",
          "text": [
            "Your max_length is set to 200, but you input_length is only 56. You might consider decreasing max_length manually, e.g. summarizer('...', max_length=50)\n"
          ],
          "name": "stderr"
        },
        {
          "output_type": "stream",
          "text": [
            "dict_values(['similar hits were displayed within the same feature, they were readily detected using protein-specific antibodies '])\n",
            "Summary for paper No 121_Predicted protein interactions of IFITMs may shed light on mechanisms of Zika virus-induced microcephaly and host invasion_ is:\n"
          ],
          "name": "stdout"
        },
        {
          "output_type": "stream",
          "text": [
            "Your max_length is set to 200, but you input_length is only 55. You might consider decreasing max_length manually, e.g. summarizer('...', max_length=50)\n"
          ],
          "name": "stderr"
        },
        {
          "output_type": "stream",
          "text": [
            "dict_values(['virus are yet unknown. here, we assembled an interactome of IFITM1 and I'])\n",
            "Summary for paper No 122_Host-Virus Protein Interaction Network Reveals the Involvement of Multiple Host Processes in the Life Cycle of Hepatitis E Virus_ is:\n"
          ],
          "name": "stdout"
        },
        {
          "output_type": "stream",
          "text": [
            "Your max_length is set to 200, but you input_length is only 55. You might consider decreasing max_length manually, e.g. summarizer('...', max_length=50)\n"
          ],
          "name": "stderr"
        },
        {
          "output_type": "stream",
          "text": [
            "dict_values(['protein-protein interactions (PPIs) are key mediators of host-pathogen interactions'])\n",
            "Summary for paper No 123_New Insights from Elucidating the Role of LMP1 in Nasopharyngeal Carcinoma_ is:\n"
          ],
          "name": "stdout"
        },
        {
          "output_type": "stream",
          "text": [
            "Your max_length is set to 200, but you input_length is only 46. You might consider decreasing max_length manually, e.g. summarizer('...', max_length=50)\n"
          ],
          "name": "stderr"
        },
        {
          "output_type": "stream",
          "text": [
            "dict_values(['the oncogenic potential of LMP1 has been ascribed to pleio'])\n",
            "Summary for paper No 124_Polysialic acid is a cellular receptor for human adenovirus 52_ is:\n"
          ],
          "name": "stdout"
        },
        {
          "output_type": "stream",
          "text": [
            "Your max_length is set to 200, but you input_length is only 56. You might consider decreasing max_length manually, e.g. summarizer('...', max_length=50)\n"
          ],
          "name": "stderr"
        },
        {
          "output_type": "stream",
          "text": [
            "dict_values(['analysis of the determinants of specificity for this interaction has implications for protein–carb'])\n",
            "Summary for paper No 125_Computer-aided design of amino acid-based therapeutics: a review_ is:\n"
          ],
          "name": "stdout"
        },
        {
          "output_type": "stream",
          "text": [
            "Your max_length is set to 200, but you input_length is only 36. You might consider decreasing max_length manually, e.g. summarizer('...', max_length=50)\n"
          ],
          "name": "stderr"
        },
        {
          "output_type": "stream",
          "text": [
            "dict_values(['it is hoped that they can target “undruggable” intracellular protein–protein'])\n",
            "Summary for paper No 126_Predicting Interactions between Virus and Host Proteins Using Repeat Patterns and Composition of Amino Acids_ is:\n"
          ],
          "name": "stdout"
        },
        {
          "output_type": "stream",
          "text": [
            "Your max_length is set to 200, but you input_length is only 36. You might consider decreasing max_length manually, e.g. summarizer('...', max_length=50)\n"
          ],
          "name": "stderr"
        },
        {
          "output_type": "stream",
          "text": [
            "dict_values(['Previous methods for predicting protein-protein interactions (PPIs) were mainly focused on'])\n",
            "Summary for paper No 127_An effective strategy for recapitulating N-terminal heptad repeat trimers in enveloped virus surface glycoproteins for therapeutic applications_ is:\n"
          ],
          "name": "stdout"
        },
        {
          "output_type": "stream",
          "text": [
            "Your max_length is set to 200, but you input_length is only 31. You might consider decreasing max_length manually, e.g. summarizer('...', max_length=50)\n"
          ],
          "name": "stderr"
        },
        {
          "output_type": "stream",
          "text": [
            "dict_values(['other class I enveloped viruses and to prepare helical tertiary structure mi'])\n",
            "Summary for paper No 128_RPiRLS: Quantitative Predictions of RNA Interacting with Any Protein of Known Sequence_ is:\n"
          ],
          "name": "stdout"
        },
        {
          "output_type": "stream",
          "text": [
            "Your max_length is set to 200, but you input_length is only 47. You might consider decreasing max_length manually, e.g. summarizer('...', max_length=50)\n"
          ],
          "name": "stderr"
        },
        {
          "output_type": "stream",
          "text": [
            "dict_values(['RNA-protein interactions (RPIs) play critical roles in numerous fundamental biological processes '])\n",
            "Summary for paper No 129_RPiRLS: Quantitative Predictions of RNA Interacting with Any Protein of Known Sequence_ is:\n"
          ],
          "name": "stdout"
        },
        {
          "output_type": "stream",
          "text": [
            "Your max_length is set to 200, but you input_length is only 58. You might consider decreasing max_length manually, e.g. summarizer('...', max_length=50)\n"
          ],
          "name": "stderr"
        },
        {
          "output_type": "stream",
          "text": [
            "dict_values(['high-throughput sequencing methods have made it possible to measure and understand RNA-protein interactions'])\n",
            "Summary for paper No 130_RPiRLS: Quantitative Predictions of RNA Interacting with Any Protein of Known Sequence_ is:\n"
          ],
          "name": "stdout"
        },
        {
          "output_type": "stream",
          "text": [
            "Your max_length is set to 200, but you input_length is only 46. You might consider decreasing max_length manually, e.g. summarizer('...', max_length=50)\n"
          ],
          "name": "stderr"
        },
        {
          "output_type": "stream",
          "text": [
            "dict_values(['RPiRLS achieved an accuracy of 92% on the prediction of lnc'])\n",
            "Summary for paper No 131_Hepatitis C virus enters liver cells using the CD81 receptor complex proteins calpain-5 and CBLB_ is:\n"
          ],
          "name": "stdout"
        },
        {
          "output_type": "stream",
          "text": [
            "Your max_length is set to 200, but you input_length is only 40. You might consider decreasing max_length manually, e.g. summarizer('...', max_length=50)\n"
          ],
          "name": "stderr"
        },
        {
          "output_type": "stream",
          "text": [
            "dict_values(['mapped 33 host protein interactions of CD81 in primary human liver and hepatoma'])\n",
            "Summary for paper No 132_A generalized approach to predicting protein-protein interactions between virus and host_ is:\n"
          ],
          "name": "stdout"
        },
        {
          "output_type": "stream",
          "text": [
            "Your max_length is set to 200, but you input_length is only 58. You might consider decreasing max_length manually, e.g. summarizer('...', max_length=50)\n"
          ],
          "name": "stderr"
        },
        {
          "output_type": "stream",
          "text": [
            "dict_values(['BACKGROUND: Viral infection involves a large number of protein-protein interactions'])\n",
            "Summary for paper No 133_Computational Molecular Docking and X-ray Crystallographic Studies of Catechins in New Drug Design Strategies_ is:\n"
          ],
          "name": "stdout"
        },
        {
          "output_type": "stream",
          "text": [
            "Your max_length is set to 200, but you input_length is only 43. You might consider decreasing max_length manually, e.g. summarizer('...', max_length=50)\n"
          ],
          "name": "stderr"
        },
        {
          "output_type": "stream",
          "text": [
            "dict_values(['mechanism. Computational docking analysis (CMDA) and X-ray crystall'])\n",
            "Summary for paper No 134_Computational Molecular Docking and X-ray Crystallographic Studies of Catechins in New Drug Design Strategies_ is:\n"
          ],
          "name": "stdout"
        },
        {
          "output_type": "stream",
          "text": [
            "Your max_length is set to 200, but you input_length is only 52. You might consider decreasing max_length manually, e.g. summarizer('...', max_length=50)\n"
          ],
          "name": "stderr"
        },
        {
          "output_type": "stream",
          "text": [
            "dict_values(['review the results of CMDA and XCA of EGCG and other plant cate'])\n",
            "Summary for paper No 135_A Comprehensive In Silico Method to Study the QSTR of the Aconitine Alkaloids for Designing Novel Drugs_ is:\n"
          ],
          "name": "stdout"
        },
        {
          "output_type": "stream",
          "text": [
            "Your max_length is set to 200, but you input_length is only 53. You might consider decreasing max_length manually, e.g. summarizer('...', max_length=50)\n"
          ],
          "name": "stderr"
        },
        {
          "output_type": "stream",
          "text": [
            "dict_values(['research, a Protein-Protein Interaction (PPI) network was built from'])\n",
            "Summary for paper No 136_Bioinformatics Resources and Tools for Phage Display_ is:\n"
          ],
          "name": "stdout"
        },
        {
          "output_type": "stream",
          "text": [
            "Your max_length is set to 200, but you input_length is only 48. You might consider decreasing max_length manually, e.g. summarizer('...', max_length=50)\n"
          ],
          "name": "stderr"
        },
        {
          "output_type": "stream",
          "text": [
            "dict_values(['a lot of problems are still waiting to be solved in bioinformatics .'])\n",
            "Summary for paper No 137_Bioinformatics Resources and Tools for Phage Display_ is:\n"
          ],
          "name": "stdout"
        },
        {
          "output_type": "stream",
          "text": [
            "Your max_length is set to 200, but you input_length is only 43. You might consider decreasing max_length manually, e.g. summarizer('...', max_length=50)\n"
          ],
          "name": "stderr"
        },
        {
          "output_type": "stream",
          "text": [
            "dict_values(['resources have been widely used to exclude target-unrelated peptides, characterize small'])\n",
            "Summary for paper No 138_Targeting Cell Entry of Enveloped Viruses as an Antiviral Strategy_ is:\n"
          ],
          "name": "stdout"
        },
        {
          "output_type": "stream",
          "text": [
            "Your max_length is set to 200, but you input_length is only 45. You might consider decreasing max_length manually, e.g. summarizer('...', max_length=50)\n"
          ],
          "name": "stderr"
        },
        {
          "output_type": "stream",
          "text": [
            "dict_values(['intervention. Entry inhibitors act by targeting viral and/or cellular components . entry inhibitor'])\n",
            "Summary for paper No 139_Targeting Cell Entry of Enveloped Viruses as an Antiviral Strategy_ is:\n"
          ],
          "name": "stdout"
        },
        {
          "output_type": "stream",
          "text": [
            "Your max_length is set to 200, but you input_length is only 51. You might consider decreasing max_length manually, e.g. summarizer('...', max_length=50)\n"
          ],
          "name": "stderr"
        },
        {
          "output_type": "stream",
          "text": [
            "dict_values(['envelope proteins or between viral proteins and host cell receptors, or through the inhibition of protein-'])\n",
            "Summary for paper No 140_Discovery of Potential M2 Channel Inhibitors Based on the Amantadine Scaffold via Virtual Screening and Pharmacophore Modeling_ is:\n"
          ],
          "name": "stdout"
        },
        {
          "output_type": "stream",
          "text": [
            "Your max_length is set to 200, but you input_length is only 24. You might consider decreasing max_length manually, e.g. summarizer('...', max_length=50)\n"
          ],
          "name": "stderr"
        },
        {
          "output_type": "stream",
          "text": [
            "dict_values(['200 new designed ligands . pharmacophore analysis was used to identify'])\n",
            "Summary for paper No 141_iPPBS-Opt: A Sequence-Based Ensemble Classifier for Identifying Protein-Protein Binding Sites by Optimizing Imbalanced Training Datasets_ is:\n"
          ],
          "name": "stdout"
        },
        {
          "output_type": "stream",
          "text": [
            "Your max_length is set to 200, but you input_length is only 43. You might consider decreasing max_length manually, e.g. summarizer('...', max_length=50)\n"
          ],
          "name": "stderr"
        },
        {
          "output_type": "stream",
          "text": [
            "dict_values(['Knowledge of protein-protein interactions and their binding sites is indispensable for in-depth understanding of the'])\n",
            "Summary for paper No 142_The interactome: Predicting the protein-protein interactions in cells_ is:\n"
          ],
          "name": "stdout"
        },
        {
          "output_type": "stream",
          "text": [
            "Your max_length is set to 200, but you input_length is only 39. You might consider decreasing max_length manually, e.g. summarizer('...', max_length=50)\n"
          ],
          "name": "stderr"
        },
        {
          "output_type": "stream",
          "text": [
            "dict_values(['Interactome describes the set of all molecular interactions in cells, especially in the context'])\n",
            "Summary for paper No 143_The interactome: Predicting the protein-protein interactions in cells_ is:\n"
          ],
          "name": "stdout"
        },
        {
          "output_type": "stream",
          "text": [
            "Your max_length is set to 200, but you input_length is only 50. You might consider decreasing max_length manually, e.g. summarizer('...', max_length=50)\n"
          ],
          "name": "stderr"
        },
        {
          "output_type": "stream",
          "text": [
            "dict_values(['in this short review, we compare various methods for predicting protein-protein interactions . the'])\n",
            "Summary for paper No 144_SKEMPI 2.0: an updated benchmark of changes in protein–protein binding energy, kinetics and thermodynamics upon mutation_ is:\n"
          ],
          "name": "stdout"
        },
        {
          "output_type": "stream",
          "text": [
            "Your max_length is set to 200, but you input_length is only 41. You might consider decreasing max_length manually, e.g. summarizer('...', max_length=50)\n"
          ],
          "name": "stderr"
        },
        {
          "output_type": "stream",
          "text": [
            "dict_values(['Understanding the relationship between the sequence, structure, binding energy, binding kinetics and binding thermo'])\n",
            "Summary for paper No 145_SKEMPI 2.0: an updated benchmark of changes in protein–protein binding energy, kinetics and thermodynamics upon mutation_ is:\n"
          ],
          "name": "stdout"
        },
        {
          "output_type": "stream",
          "text": [
            "Your max_length is set to 200, but you input_length is only 50. You might consider decreasing max_length manually, e.g. summarizer('...', max_length=50)\n"
          ],
          "name": "stderr"
        },
        {
          "output_type": "stream",
          "text": [
            "dict_values(['major update to our database of binding free energy changes upon mutation for structurally resolved protein–protein'])\n",
            "Summary for paper No 146_A dual controllability analysis of influenza virus-host protein-protein interaction networks for antiviral drug target discovery_ is:\n"
          ],
          "name": "stdout"
        },
        {
          "output_type": "stream",
          "text": [
            "Your max_length is set to 200, but you input_length is only 79. You might consider decreasing max_length manually, e.g. summarizer('...', max_length=50)\n"
          ],
          "name": "stderr"
        },
        {
          "output_type": "stream",
          "text": [
            "dict_values(['controllability analyses provide evidence of wide-reaching network effects stemming from the addition'])\n",
            "Summary for paper No 147_DCGR: feature extractions from protein sequences based on CGR via remodeling multiple information_ is:\n"
          ],
          "name": "stdout"
        },
        {
          "output_type": "stream",
          "text": [
            "Your max_length is set to 200, but you input_length is only 48. You might consider decreasing max_length manually, e.g. summarizer('...', max_length=50)\n"
          ],
          "name": "stderr"
        },
        {
          "output_type": "stream",
          "text": [
            "dict_values(['features from protein sequences, and therefore important in similarity analysis . study of protein-'])\n",
            "Summary for paper No 148_2HybridTools, a handy software to facilitate clone identification and mutation mapping from yeast two-hybrid screening_ is:\n"
          ],
          "name": "stdout"
        },
        {
          "output_type": "stream",
          "text": [
            "Your max_length is set to 200, but you input_length is only 33. You might consider decreasing max_length manually, e.g. summarizer('...', max_length=50)\n"
          ],
          "name": "stderr"
        },
        {
          "output_type": "stream",
          "text": [
            "dict_values(['Sanger sequencing limited to 500–800 nucleotides . sequencing is carried from'])\n",
            "Summary for paper No 149_2HybridTools, a handy software to facilitate clone identification and mutation mapping from yeast two-hybrid screening_ is:\n"
          ],
          "name": "stdout"
        },
        {
          "output_type": "stream",
          "text": [
            "Your max_length is set to 200, but you input_length is only 54. You might consider decreasing max_length manually, e.g. summarizer('...', max_length=50)\n"
          ],
          "name": "stderr"
        },
        {
          "output_type": "stream",
          "text": [
            "dict_values(['2HybridTools provides detailed mutation reports as a basis for further investigation of'])\n",
            "Summary for paper No 150_Peptide-Protein Interaction Studies of Antimicrobial Peptides Targeting Middle East Respiratory Syndrome Coronavirus Spike Protein: An In Silico Approach_ is:\n"
          ],
          "name": "stdout"
        },
        {
          "output_type": "stream",
          "text": [
            "Your max_length is set to 200, but you input_length is only 62. You might consider decreasing max_length manually, e.g. summarizer('...', max_length=50)\n"
          ],
          "name": "stderr"
        },
        {
          "output_type": "stream",
          "text": [
            "dict_values(['this study attempts to find therapy using peptide by establishing a basis for the '])\n",
            "Summary for paper No 151_Analysis of IFITM-IFITM Interactions by a Flow Cytometry-Based FRET Assay_ is:\n"
          ],
          "name": "stdout"
        },
        {
          "output_type": "stream",
          "text": [
            "Your max_length is set to 200, but you input_length is only 49. You might consider decreasing max_length manually, e.g. summarizer('...', max_length=50)\n"
          ],
          "name": "stderr"
        },
        {
          "output_type": "stream",
          "text": [
            "dict_values(['discriminate background signals resulting from colocalization of proteins at membrane subdomains .'])\n",
            "Summary for paper No 152_Determining the molecular drivers of species-specific interferon-stimulated gene product 15 interactions with nairovirus ovarian tumor domain proteases_ is:\n"
          ],
          "name": "stdout"
        },
        {
          "output_type": "stream",
          "text": [
            "Your max_length is set to 200, but you input_length is only 32. You might consider decreasing max_length manually, e.g. summarizer('...', max_length=50)\n"
          ],
          "name": "stderr"
        },
        {
          "output_type": "stream",
          "text": [
            "dict_values(['prior attempts to address the effect of ISG15 diversity on viral protein-ISG15 interactions'])\n",
            "Summary for paper No 153_Prediction of RNA-protein interactions using conjoint triad feature and chaos game representation_ is:\n"
          ],
          "name": "stdout"
        },
        {
          "output_type": "stream",
          "text": [
            "Your max_length is set to 200, but you input_length is only 45. You might consider decreasing max_length manually, e.g. summarizer('...', max_length=50)\n"
          ],
          "name": "stderr"
        },
        {
          "output_type": "stream",
          "text": [
            "dict_values(['RNA-protein interactions play a very important role in a wide range of post-'])\n",
            "Summary for paper No 154_Strategies to Target ISG15 and USP18 Toward Therapeutic Applications_ is:\n"
          ],
          "name": "stdout"
        },
        {
          "output_type": "stream",
          "text": [
            "Your max_length is set to 200, but you input_length is only 55. You might consider decreasing max_length manually, e.g. summarizer('...', max_length=50)\n"
          ],
          "name": "stderr"
        },
        {
          "output_type": "stream",
          "text": [
            "dict_values(['the negative regulatory function of USP18 in IFN signaling is regulated by various protein'])\n",
            "Summary for paper No 155_Strategies to Target ISG15 and USP18 Toward Therapeutic Applications_ is:\n"
          ],
          "name": "stdout"
        },
        {
          "output_type": "stream",
          "text": [
            "Your max_length is set to 200, but you input_length is only 45. You might consider decreasing max_length manually, e.g. summarizer('...', max_length=50)\n"
          ],
          "name": "stderr"
        },
        {
          "output_type": "stream",
          "text": [
            "dict_values(['strategies comprise mouse models for translational perspectives, cell-based and biochemical assays '])\n",
            "Summary for paper No 156_A creature with a hundred waggly tails: intrinsically disordered proteins in the ribosome_ is:\n"
          ],
          "name": "stdout"
        },
        {
          "output_type": "stream",
          "text": [
            "Your max_length is set to 200, but you input_length is only 52. You might consider decreasing max_length manually, e.g. summarizer('...', max_length=50)\n"
          ],
          "name": "stderr"
        },
        {
          "output_type": "stream",
          "text": [
            "dict_values(['proteins that interact with RNA and DNA including overall abundance, evolutionary conservation, and involvement in protein'])\n",
            "Summary for paper No 157_Protein microarrays: a chance to study microorganisms?_ is:\n"
          ],
          "name": "stdout"
        },
        {
          "output_type": "stream",
          "text": [
            "Your max_length is set to 200, but you input_length is only 44. You might consider decreasing max_length manually, e.g. summarizer('...', max_length=50)\n"
          ],
          "name": "stderr"
        },
        {
          "output_type": "stream",
          "text": [
            "dict_values(['last 5 years, protein microarrays have been developed and applied to multiple approaches .'])\n",
            "Summary for paper No 158_Deoxyribozymes and bioinformatics: complementary tools to investigate axon regeneration_ is:\n"
          ],
          "name": "stdout"
        },
        {
          "output_type": "stream",
          "text": [
            "Your max_length is set to 200, but you input_length is only 53. You might consider decreasing max_length manually, e.g. summarizer('...', max_length=50)\n"
          ],
          "name": "stderr"
        },
        {
          "output_type": "stream",
          "text": [
            "dict_values(['the reader will understand the complex protein-protein interactions that occur after such trauma . the reader'])\n",
            "Summary for paper No 159_Sialylation of N-glycans: mechanism, cellular compartmentalization and function_ is:\n"
          ],
          "name": "stdout"
        },
        {
          "output_type": "stream",
          "text": [
            "Your max_length is set to 200, but you input_length is only 46. You might consider decreasing max_length manually, e.g. summarizer('...', max_length=50)\n"
          ],
          "name": "stderr"
        },
        {
          "output_type": "stream",
          "text": [
            "dict_values(['we discuss the protein interactions underlying the polysialylation of a select group'])\n",
            "Summary for paper No 160_Structure, function and evolution of the hemagglutinin-esterase proteins of corona- and toroviruses_ is:\n"
          ],
          "name": "stdout"
        },
        {
          "output_type": "stream",
          "text": [
            "Your max_length is set to 200, but you input_length is only 57. You might consider decreasing max_length manually, e.g. summarizer('...', max_length=50)\n"
          ],
          "name": "stderr"
        },
        {
          "output_type": "stream",
          "text": [
            "dict_values(['receptor binding often involves protein-protein interactions . carbohydrates may serve as receptor determinants as'])\n",
            "Summary for paper No 161_ToGo-WF: prediction of RNA tertiary structures and RNA–RNA/protein interactions using the KNIME workflow_ is:\n"
          ],
          "name": "stdout"
        },
        {
          "output_type": "stream",
          "text": [
            "Your max_length is set to 200, but you input_length is only 55. You might consider decreasing max_length manually, e.g. summarizer('...', max_length=50)\n"
          ],
          "name": "stderr"
        },
        {
          "output_type": "stream",
          "text": [
            "dict_values(['in this report, we present a workflow to predict RNA tertiary structures'])\n",
            "Summary for paper No 162_Degenerate primer design to clone the human repertoire of immunoglobulin heavy chain variable regions_ is:\n"
          ],
          "name": "stdout"
        },
        {
          "output_type": "stream",
          "text": [
            "Your max_length is set to 200, but you input_length is only 55. You might consider decreasing max_length manually, e.g. summarizer('...', max_length=50)\n"
          ],
          "name": "stderr"
        },
        {
          "output_type": "stream",
          "text": [
            "dict_values(['key parameters used to study protein–protein, protein–peptide, and protein–DNA interactions'])\n",
            "Summary for paper No 163_Interactions between M protein and other structural proteins of severe, acute respiratory syndrome-associated coronavirus_ is:\n"
          ],
          "name": "stdout"
        },
        {
          "output_type": "stream",
          "text": [
            "Your max_length is set to 200, but you input_length is only 49. You might consider decreasing max_length manually, e.g. summarizer('...', max_length=50)\n"
          ],
          "name": "stderr"
        },
        {
          "output_type": "stream",
          "text": [
            "dict_values(['SARS-CoV M protein and other structural proteins is proposed . this study helps us'])\n",
            "Summary for paper No 164_A Novel Strategy for Analyzing RNA-Protein Interactions by Surface Plasmon Resonance Biosensor_ is:\n"
          ],
          "name": "stdout"
        },
        {
          "output_type": "stream",
          "text": [
            "Your max_length is set to 200, but you input_length is only 28. You might consider decreasing max_length manually, e.g. summarizer('...', max_length=50)\n"
          ],
          "name": "stderr"
        },
        {
          "output_type": "stream",
          "text": [
            "dict_values(['method of hybridizing RNAs on the surface of the streptavidin-coated'])\n",
            "Summary for paper No 165_Interferons and viruses: Signaling for supremacy_ is:\n"
          ],
          "name": "stdout"
        },
        {
          "output_type": "stream",
          "text": [
            "Your max_length is set to 200, but you input_length is only 47. You might consider decreasing max_length manually, e.g. summarizer('...', max_length=50)\n"
          ],
          "name": "stderr"
        },
        {
          "output_type": "stream",
          "text": [
            "dict_values(['some insights into the complexity of the IFN system . protein-protein interactions define biological function'])\n",
            "Summary for paper No 166_From carbohydrate leads to glycomimetic drugs_ is:\n"
          ],
          "name": "stdout"
        },
        {
          "output_type": "stream",
          "text": [
            "Your max_length is set to 200, but you input_length is only 49. You might consider decreasing max_length manually, e.g. summarizer('...', max_length=50)\n"
          ],
          "name": "stderr"
        },
        {
          "output_type": "stream",
          "text": [
            "dict_values(['advances in the functional understanding of carbohydrate–protein interactions have enabled the development of a'])\n",
            "Summary for paper No 167_The dependence of viral RNA replication on co-opted host factors_ is:\n"
          ],
          "name": "stdout"
        },
        {
          "output_type": "stream",
          "text": [
            "Your max_length is set to 200, but you input_length is only 44. You might consider decreasing max_length manually, e.g. summarizer('...', max_length=50)\n"
          ],
          "name": "stderr"
        },
        {
          "output_type": "stream",
          "text": [
            "dict_values(['(+)RNA viruses interact with host molecules through protein–protein, RNA–protein and protein'])\n",
            "Summary for paper No 168_Advantages of mRNA display selections over other selection techniques for investigation of protein–protein interactions_ is:\n"
          ],
          "name": "stdout"
        },
        {
          "output_type": "stream",
          "text": [
            "Your max_length is set to 200, but you input_length is only 29. You might consider decreasing max_length manually, e.g. summarizer('...', max_length=50)\n"
          ],
          "name": "stderr"
        },
        {
          "output_type": "stream",
          "text": [
            "dict_values(['natural protein and short synthetic peptide libraries with unusually high diversities for the investigation of'])\n",
            "Summary for paper No 169_Advantages of mRNA display selections over other selection techniques for investigation of protein–protein interactions_ is:\n"
          ],
          "name": "stdout"
        },
        {
          "output_type": "stream",
          "text": [
            "Your max_length is set to 200, but you input_length is only 46. You might consider decreasing max_length manually, e.g. summarizer('...', max_length=50)\n"
          ],
          "name": "stderr"
        },
        {
          "output_type": "stream",
          "text": [
            "dict_values(['widely used peptide or protein-selection techniques, and discuss various applications of this'])\n",
            "Summary for paper No 170_Protein microarrays: high-throughput tools for proteomics_ is:\n"
          ],
          "name": "stdout"
        },
        {
          "output_type": "stream",
          "text": [
            "Your max_length is set to 200, but you input_length is only 41. You might consider decreasing max_length manually, e.g. summarizer('...', max_length=50)\n"
          ],
          "name": "stderr"
        },
        {
          "output_type": "stream",
          "text": [
            "dict_values(['high-throughput protein analyses are increasingly applied for many research areas, such as protein interactions,'])\n",
            "Summary for paper No 171_Quantitative Proteomic Analysis of Host-virus Interactions Reveals a Role for Golgi Brefeldin A Resistance Factor 1 (GBF1) in Dengue Infection_ is:\n"
          ],
          "name": "stdout"
        },
        {
          "output_type": "stream",
          "text": [
            "Your max_length is set to 200, but you input_length is only 37. You might consider decreasing max_length manually, e.g. summarizer('...', max_length=50)\n"
          ],
          "name": "stderr"
        },
        {
          "output_type": "stream",
          "text": [
            "dict_values(['pathways to this process are poorly understood but likely to be mediated by protein-protein interactions '])\n",
            "Summary for paper No 172_Viruses and Interactomes in Translation_ is:\n"
          ],
          "name": "stdout"
        },
        {
          "output_type": "stream",
          "text": [
            "Your max_length is set to 200, but you input_length is only 50. You might consider decreasing max_length manually, e.g. summarizer('...', max_length=50)\n"
          ],
          "name": "stderr"
        },
        {
          "output_type": "stream",
          "text": [
            "dict_values(['high-throughput screenings for intraviral and virus-host protein-protein interactions led'])\n",
            "Summary for paper No 173_RNA-RNA and RNA-protein interactions in coronavirus replication and transcription_ is:\n"
          ],
          "name": "stdout"
        },
        {
          "output_type": "stream",
          "text": [
            "Your max_length is set to 200, but you input_length is only 60. You might consider decreasing max_length manually, e.g. summarizer('...', max_length=50)\n"
          ],
          "name": "stderr"
        },
        {
          "output_type": "stream",
          "text": [
            "dict_values(['distant RNA regulatory sequences interact with each other directly and probably through protein-RNA and protein'])\n",
            "Summary for paper No 174_RNA-RNA and RNA-protein interactions in coronavirus replication and transcription_ is:\n"
          ],
          "name": "stdout"
        },
        {
          "output_type": "stream",
          "text": [
            "Your max_length is set to 200, but you input_length is only 33. You might consider decreasing max_length manually, e.g. summarizer('...', max_length=50)\n"
          ],
          "name": "stderr"
        },
        {
          "output_type": "stream",
          "text": [
            "dict_values(['distant TRS-B, as proposed for CoV discontinuous transcription.5–7 In'])\n",
            "Summary for paper No 175_Melting of duplex DNA in the absence of ATP by NS3 helicase domain through specific interaction with a single-strand/double-strand junction_ is:\n"
          ],
          "name": "stdout"
        },
        {
          "output_type": "stream",
          "text": [
            "Your max_length is set to 200, but you input_length is only 74. You might consider decreasing max_length manually, e.g. summarizer('...', max_length=50)\n"
          ],
          "name": "stderr"
        },
        {
          "output_type": "stream",
          "text": [
            "dict_values(['model of unwinding for NS3 in which the enzyme binds directly to the'])\n",
            "Summary for paper No 176_Diversification of β-Augmentation Interactions between CDI Toxin/ Immunity Proteins_ is:\n"
          ],
          "name": "stdout"
        },
        {
          "output_type": "stream",
          "text": [
            "Your max_length is set to 200, but you input_length is only 40. You might consider decreasing max_length manually, e.g. summarizer('...', max_length=50)\n"
          ],
          "name": "stderr"
        },
        {
          "output_type": "stream",
          "text": [
            "dict_values(['from Escherichia coli EC869 and Yersinia'])\n",
            "Summary for paper No 177_Network representations of immune system complexity_ is:\n"
          ],
          "name": "stdout"
        },
        {
          "output_type": "stream",
          "text": [
            "Your max_length is set to 200, but you input_length is only 47. You might consider decreasing max_length manually, e.g. summarizer('...', max_length=50)\n"
          ],
          "name": "stderr"
        },
        {
          "output_type": "stream",
          "text": [
            "dict_values(['concert to promote effective host defense . these networks range from those involving gene regulatory and protein'])\n",
            "Summary for paper No 178_Diversity in Genetic In Vivo Methods for Protein-Protein Interaction Studies: from the Yeast Two-Hybrid System to the Mammalian Split-Luciferase System_ is:\n"
          ],
          "name": "stdout"
        },
        {
          "output_type": "stream",
          "text": [
            "Your max_length is set to 200, but you input_length is only 46. You might consider decreasing max_length manually, e.g. summarizer('...', max_length=50)\n"
          ],
          "name": "stderr"
        },
        {
          "output_type": "stream",
          "text": [
            "dict_values(['we present an exhaustive overview of the genetic approaches available to study in vivo binary protein interactions'])\n",
            "Summary for paper No 179_Pathogen receptor discovery with a microfluidic human membrane protein array_ is:\n"
          ],
          "name": "stdout"
        },
        {
          "output_type": "stream",
          "text": [
            "Your max_length is set to 200, but you input_length is only 32. You might consider decreasing max_length manually, e.g. summarizer('...', max_length=50)\n"
          ],
          "name": "stderr"
        },
        {
          "output_type": "stream",
          "text": [
            "dict_values(['candidate host receptors expressed on the MPA . membrane protein–pathogen interactions validated'])\n",
            "Summary for paper No 180_Genetic Evidence for a Structural Interaction between the Carboxy Termini of the Membrane and Nucleocapsid Proteins of Mouse Hepatitis Virus_ is:\n"
          ],
          "name": "stdout"
        },
        {
          "output_type": "stream",
          "text": [
            "Your max_length is set to 200, but you input_length is only 28. You might consider decreasing max_length manually, e.g. summarizer('...', max_length=50)\n"
          ],
          "name": "stderr"
        },
        {
          "output_type": "stream",
          "text": [
            "dict_values(['the efficacy of targeted recombination with fMHV for the systematic'])\n",
            "Summary for paper No 181_Structural Genomics of the Severe Acute Respiratory Syndrome Coronavirus: Nuclear Magnetic Resonance Structure of the Protein nsP7_ is:\n"
          ],
          "name": "stdout"
        },
        {
          "output_type": "stream",
          "text": [
            "Your max_length is set to 200, but you input_length is only 44. You might consider decreasing max_length manually, e.g. summarizer('...', max_length=50)\n"
          ],
          "name": "stderr"
        },
        {
          "output_type": "stream",
          "text": [
            "dict_values(['helix 1. Each of these three areas is thus implicated as a potential'])\n",
            "Summary for paper No 182_pH-Dependent Lytic Peptides Discovered by Phage-Display_ is:\n"
          ],
          "name": "stdout"
        },
        {
          "output_type": "stream",
          "text": [
            "Your max_length is set to 200, but you input_length is only 55. You might consider decreasing max_length manually, e.g. summarizer('...', max_length=50)\n"
          ],
          "name": "stderr"
        },
        {
          "output_type": "stream",
          "text": [
            "dict_values(['studies of peptide and protein interactions with membranes have largely been limited to naturally occurring'])\n",
            "Summary for paper No 183_On-Demand Formation of Supported Lipid Membrane Arrays by Trehalose-Assisted Vesicle Delivery for SPR Imaging_ is:\n"
          ],
          "name": "stdout"
        },
        {
          "output_type": "stream",
          "text": [
            "Your max_length is set to 200, but you input_length is only 58. You might consider decreasing max_length manually, e.g. summarizer('...', max_length=50)\n"
          ],
          "name": "stderr"
        },
        {
          "output_type": "stream",
          "text": [
            "dict_values(['SLB arrays to be analyzed with excellent label-free sensitivity in a real'])\n",
            "Summary for paper No 184_Crystal structure of mouse coronavirus receptor-binding domain complexed with its murine receptor_ is:\n"
          ],
          "name": "stdout"
        },
        {
          "output_type": "stream",
          "text": [
            "Your max_length is set to 200, but you input_length is only 44. You might consider decreasing max_length manually, e.g. summarizer('...', max_length=50)\n"
          ],
          "name": "stderr"
        },
        {
          "output_type": "stream",
          "text": [
            "dict_values(['MHV NTD does not bind sugars, but instead binds m'])\n",
            "Summary for paper No 185_Prediction of RNA-binding proteins from primary sequence by a support vector machine approach_ is:\n"
          ],
          "name": "stdout"
        },
        {
          "output_type": "stream",
          "text": [
            "Your max_length is set to 200, but you input_length is only 48. You might consider decreasing max_length manually, e.g. summarizer('...', max_length=50)\n"
          ],
          "name": "stderr"
        },
        {
          "output_type": "stream",
          "text": [
            "dict_values(['insufficient attention has been paid to the prediction of protein–RNA interactions . these play '])\n",
            "Summary for paper No 186_Prediction of RNA-binding proteins from primary sequence by a support vector machine approach_ is:\n"
          ],
          "name": "stdout"
        },
        {
          "output_type": "stream",
          "text": [
            "Your max_length is set to 200, but you input_length is only 25. You might consider decreasing max_length manually, e.g. summarizer('...', max_length=50)\n"
          ],
          "name": "stderr"
        },
        {
          "output_type": "stream",
          "text": [
            "dict_values(['insufficient attention has been paid to the prediction of protein–RNA interactions . but insufficient'])\n",
            "Summary for paper No 187_Prediction of RNA-binding proteins from primary sequence by a support vector machine approach_ is:\n"
          ],
          "name": "stdout"
        },
        {
          "output_type": "stream",
          "text": [
            "Your max_length is set to 200, but you input_length is only 60. You might consider decreasing max_length manually, e.g. summarizer('...', max_length=50)\n"
          ],
          "name": "stderr"
        },
        {
          "output_type": "stream",
          "text": [
            "dict_values(['study suggests potential of SVM as a useful tool for facilitating the prediction of protein–'])\n",
            "Summary for paper No 188_Regulation and Cellular Roles of Ubiquitin-specific Deubiquitinating Enzymes_ is:\n"
          ],
          "name": "stdout"
        },
        {
          "output_type": "stream",
          "text": [
            "Your max_length is set to 200, but you input_length is only 47. You might consider decreasing max_length manually, e.g. summarizer('...', max_length=50)\n"
          ],
          "name": "stderr"
        },
        {
          "output_type": "stream",
          "text": [
            "dict_values(['specificity for ubiquitin contain multiple domains modulating DUB substrate specificity '])\n",
            "Summary for paper No 189_Regulation and Cellular Roles of Ubiquitin-specific Deubiquitinating Enzymes_ is:\n"
          ],
          "name": "stdout"
        },
        {
          "output_type": "stream",
          "text": [
            "Your max_length is set to 200, but you input_length is only 44. You might consider decreasing max_length manually, e.g. summarizer('...', max_length=50)\n"
          ],
          "name": "stderr"
        },
        {
          "output_type": "stream",
          "text": [
            "dict_values(['with which DUBs associate modulate DUB activity and substrate specificity . Quantit'])\n",
            "Summary for paper No 190_The Glycoprotein Cytoplasmic Tail of Uukuniemi Virus (Bunyaviridae) Interacts with Ribonucleoproteins and Is Critical for Genome Packaging_ is:\n"
          ],
          "name": "stdout"
        },
        {
          "output_type": "stream",
          "text": [
            "Your max_length is set to 200, but you input_length is only 73. You might consider decreasing max_length manually, e.g. summarizer('...', max_length=50)\n"
          ],
          "name": "stderr"
        },
        {
          "output_type": "stream",
          "text": [
            "dict_values(['cytoplasmic tail could be observed . we propose that VLP systems are useful tools'])\n",
            "Summary for paper No 191_Homo-Oligomerization of the Porcine Reproductive and Respiratory Syndrome Virus Nucleocapsid Protein and the Role of Disulfide Linkages_ is:\n"
          ],
          "name": "stdout"
        },
        {
          "output_type": "stream",
          "text": [
            "Your max_length is set to 200, but you input_length is only 27. You might consider decreasing max_length manually, e.g. summarizer('...', max_length=50)\n"
          ],
          "name": "stderr"
        },
        {
          "output_type": "stream",
          "text": [
            "dict_values(['noncovalent interactions also play a role in dimerization . non-dis'])\n",
            "Summary for paper No 192_De novo design of covalently constrained mesosize protein scaffolds with unique tertiary structures_ is:\n"
          ],
          "name": "stdout"
        },
        {
          "output_type": "stream",
          "text": [
            "Your max_length is set to 200, but you input_length is only 58. You might consider decreasing max_length manually, e.g. summarizer('...', max_length=50)\n"
          ],
          "name": "stderr"
        },
        {
          "output_type": "stream",
          "text": [
            "dict_values(['synthesis of CovCore proteins should provide versatile templates for developing inhibitors of protein–'])\n",
            "Summary for paper No 193_Solution Structure of Mouse Hepatitis Virus (MHV) nsp3a and Determinants of the Interaction with MHV Nucleocapsid (N) Protein_ is:\n"
          ],
          "name": "stdout"
        },
        {
          "output_type": "stream",
          "text": [
            "Your max_length is set to 200, but you input_length is only 58. You might consider decreasing max_length manually, e.g. summarizer('...', max_length=50)\n"
          ],
          "name": "stderr"
        },
        {
          "output_type": "stream",
          "text": [
            "dict_values(['recent genetic evidence suggests that N interacts with nsp3a, a component'])\n",
            "Summary for paper No 194_Coronavirus receptor switch explained from the stereochemistry of protein–carbohydrate interactions and a single mutation_ is:\n"
          ],
          "name": "stdout"
        },
        {
          "output_type": "stream",
          "text": [
            "Your max_length is set to 200, but you input_length is only 43. You might consider decreasing max_length manually, e.g. summarizer('...', max_length=50)\n"
          ],
          "name": "stderr"
        },
        {
          "output_type": "stream",
          "text": [
            "dict_values(['to 4-O-Ac-Sia substrate switch. lectin ligand'])\n",
            "Summary for paper No 195_Proteomic Analysis of Virus-Host Interactions in an Infectious Context Using Recombinant Viruses_ is:\n"
          ],
          "name": "stdout"
        },
        {
          "output_type": "stream",
          "text": [
            "Your max_length is set to 200, but you input_length is only 46. You might consider decreasing max_length manually, e.g. summarizer('...', max_length=50)\n"
          ],
          "name": "stderr"
        },
        {
          "output_type": "stream",
          "text": [
            "dict_values(['virus-host protein interactions should be mapped directly in infected cell culture . such'])\n",
            "Summary for paper No 196_SARS‐unique fold in the Rousettus bat coronavirus HKU9_ is:\n"
          ],
          "name": "stdout"
        },
        {
          "output_type": "stream",
          "text": [
            "Your max_length is set to 200, but you input_length is only 51. You might consider decreasing max_length manually, e.g. summarizer('...', max_length=50)\n"
          ],
          "name": "stderr"
        },
        {
          "output_type": "stream",
          "text": [
            "dict_values(['fold or doublewing motif, which is an  +  fold . '])\n",
            "Summary for paper No 197_Large-scale interaction profiling of PDZ domains through proteomic peptide-phage display using human and viral phage peptidomes_ is:\n"
          ],
          "name": "stdout"
        },
        {
          "output_type": "stream",
          "text": [
            "Your max_length is set to 200, but you input_length is only 27. You might consider decreasing max_length manually, e.g. summarizer('...', max_length=50)\n"
          ],
          "name": "stderr"
        },
        {
          "output_type": "stream",
          "text": [
            "dict_values(['PDZ domains of Scribble interact with the C terminus of Tax-1 .'])\n",
            "Summary for paper No 198_Large-scale interaction profiling of PDZ domains through proteomic peptide-phage display using human and viral phage peptidomes_ is:\n"
          ],
          "name": "stdout"
        },
        {
          "output_type": "stream",
          "text": [
            "Your max_length is set to 200, but you input_length is only 45. You might consider decreasing max_length manually, e.g. summarizer('...', max_length=50)\n"
          ],
          "name": "stderr"
        },
        {
          "output_type": "stream",
          "text": [
            "dict_values(['we suggest it will be a highly valuable approach for studying cellular and pathogen–host'])\n",
            "Summary for paper No 199_Virus interactions with human signal transduction pathways_ is:\n"
          ],
          "name": "stdout"
        },
        {
          "output_type": "stream",
          "text": [
            "Your max_length is set to 200, but you input_length is only 46. You might consider decreasing max_length manually, e.g. summarizer('...', max_length=50)\n"
          ],
          "name": "stderr"
        },
        {
          "output_type": "stream",
          "text": [
            "dict_values(['hosts must communicate with hosts via Protein-Protein Interactions (PPIs)'])\n",
            "Summary for paper No 200_Coronavirus Replicase-Reporter Fusions Provide Quantitative Analysis of Replication and Replication Complex Formation_ is:\n"
          ],
          "name": "stdout"
        },
        {
          "output_type": "stream",
          "text": [
            "Your max_length is set to 200, but you input_length is only 48. You might consider decreasing max_length manually, e.g. summarizer('...', max_length=50)\n"
          ],
          "name": "stderr"
        },
        {
          "output_type": "stream",
          "text": [
            "dict_values(['studies of coronavirus replication complex organization and protein interactions have utilized protein overexpression studies '])\n",
            "Summary for paper No 201_Viral Proteomics_ is:\n"
          ],
          "name": "stdout"
        },
        {
          "output_type": "stream",
          "text": [
            "Your max_length is set to 200, but you input_length is only 48. You might consider decreasing max_length manually, e.g. summarizer('...', max_length=50)\n"
          ],
          "name": "stderr"
        },
        {
          "output_type": "stream",
          "text": [
            "dict_values(['proteomic approaches have greatly facilitated the detection of virion components, protein interactions in in'])\n",
            "Summary for paper No 202_Viral Proteomics_ is:\n"
          ],
          "name": "stdout"
        },
        {
          "output_type": "stream",
          "text": [
            "Your max_length is set to 200, but you input_length is only 45. You might consider decreasing max_length manually, e.g. summarizer('...', max_length=50)\n"
          ],
          "name": "stderr"
        },
        {
          "output_type": "stream",
          "text": [
            "dict_values(['on all eukaryotic viruses and bacteriophages, covering virion composition'])\n",
            "Summary for paper No 203_Macrophage-Mediated Optic Neuritis Induced by Retrograde Axonal Transport of Spike Gene Recombinant Mouse Hepatitis Virus_ is:\n"
          ],
          "name": "stdout"
        },
        {
          "output_type": "stream",
          "text": [
            "Your max_length is set to 200, but you input_length is only 50. You might consider decreasing max_length manually, e.g. summarizer('...', max_length=50)\n"
          ],
          "name": "stderr"
        },
        {
          "output_type": "stream",
          "text": [
            "dict_values(['MHV spreads by retrograde axonal transport to the eye . targeting'])\n",
            "Summary for paper No 204_To fuse or not to fuse: What is your purpose?_ is:\n"
          ],
          "name": "stdout"
        },
        {
          "output_type": "stream",
          "text": [
            "Your max_length is set to 200, but you input_length is only 49. You might consider decreasing max_length manually, e.g. summarizer('...', max_length=50)\n"
          ],
          "name": "stderr"
        },
        {
          "output_type": "stream",
          "text": [
            "dict_values(['cell biology studies look at protein-protein interactions, post-translational modifications, and regulation'])\n",
            "Summary for paper No 205_Identification of RNA partners of viral proteins in infected cells_ is:\n"
          ],
          "name": "stdout"
        },
        {
          "output_type": "stream",
          "text": [
            "Your max_length is set to 200, but you input_length is only 49. You might consider decreasing max_length manually, e.g. summarizer('...', max_length=50)\n"
          ],
          "name": "stderr"
        },
        {
          "output_type": "stream",
          "text": [
            "dict_values(['viruses exhibit small-sized genomes encoding few proteins . viruses establish complex networks of'])\n",
            "Summary for paper No 206_Model of OSBP-Mediated Cholesterol Supply to Aichi Virus RNA Replication Sites Involving Protein-Protein Interactions among Viral Proteins, ACBD3, OSBP, VAP-A/B, and SAC1_ is:\n"
          ],
          "name": "stdout"
        },
        {
          "output_type": "stream",
          "text": [
            "Your max_length is set to 200, but you input_length is only 25. You might consider decreasing max_length manually, e.g. summarizer('...', max_length=50)\n"
          ],
          "name": "stderr"
        },
        {
          "output_type": "stream",
          "text": [
            "dict_values(['AiV recruits cholesterol transport machinery through protein-protein interactions . formation of membrane contact'])\n",
            "Summary for paper No 207_Model of OSBP-Mediated Cholesterol Supply to Aichi Virus RNA Replication Sites Involving Protein-Protein Interactions among Viral Proteins, ACBD3, OSBP, VAP-A/B, and SAC1_ is:\n"
          ],
          "name": "stdout"
        },
        {
          "output_type": "stream",
          "text": [
            "Your max_length is set to 200, but you input_length is only 64. You might consider decreasing max_length manually, e.g. summarizer('...', max_length=50)\n"
          ],
          "name": "stderr"
        },
        {
          "output_type": "stream",
          "text": [
            "dict_values(['specific strategy employed by AiV to efficiently accumulate cholesterol at the RNA replication sites via protein'])\n",
            "Summary for paper No 208_Zinc Finger-Containing Cellular Transcription Corepressor ZBTB25 Promotes Influenza Virus RNA Transcription and Is a Target for Zinc Ejector Drugs_ is:\n"
          ],
          "name": "stdout"
        },
        {
          "output_type": "stream",
          "text": [
            "Your max_length is set to 200, but you input_length is only 58. You might consider decreasing max_length manually, e.g. summarizer('...', max_length=50)\n"
          ],
          "name": "stderr"
        },
        {
          "output_type": "stream",
          "text": [
            "dict_values(['both protein-protein and protein-RNA interactions involving ZBTB25 facilitated viral '])\n",
            "Summary for paper No 209_Hepatitis C Virus Envelope Glycoprotein E1 Forms Trimers at the Surface of the Virion_ is:\n"
          ],
          "name": "stdout"
        },
        {
          "output_type": "stream",
          "text": [
            "Your max_length is set to 200, but you input_length is only 45. You might consider decreasing max_length manually, e.g. summarizer('...', max_length=50)\n"
          ],
          "name": "stderr"
        },
        {
          "output_type": "stream",
          "text": [
            "dict_values(['motif well documented to be involved in intramembrane protein-protein interactions . single'])\n",
            "Summary for paper No 210_Alternate, virus-induced membrane rearrangements support positive-strand RNA virus genome replication_ is:\n"
          ],
          "name": "stdout"
        },
        {
          "output_type": "stream",
          "text": [
            "Your max_length is set to 200, but you input_length is only 49. You might consider decreasing max_length manually, e.g. summarizer('...', max_length=50)\n"
          ],
          "name": "stderr"
        },
        {
          "output_type": "stream",
          "text": [
            "dict_values(['varied (+)RNA viruses may represent topologically and functionally related structures formed by similar protein'])\n",
            "Summary for paper No 211_RNA helicases: Emerging roles in viral replication and the host innate response_ is:\n"
          ],
          "name": "stdout"
        },
        {
          "output_type": "stream",
          "text": [
            "Your max_length is set to 200, but you input_length is only 27. You might consider decreasing max_length manually, e.g. summarizer('...', max_length=50)\n"
          ],
          "name": "stderr"
        },
        {
          "output_type": "stream",
          "text": [
            "dict_values(['RNA helicases can act as a scaffold for alternative protein-protein interactions '])\n",
            "Summary for paper No 212_Two Distinct Size Classes of Immature and Mature Subviral Particles from Tick-Borne Encephalitis Virus_ is:\n"
          ],
          "name": "stdout"
        },
        {
          "output_type": "stream",
          "text": [
            "Your max_length is set to 200, but you input_length is only 20. You might consider decreasing max_length manually, e.g. summarizer('...', max_length=50)\n"
          ],
          "name": "stderr"
        },
        {
          "output_type": "stream",
          "text": [
            "dict_values(['lateral envelope protein interactions in flavivirus assembly could provide important clues about the role of'])\n",
            "Summary for paper No 213_Evaluation of a Bead-Free Coimmunoprecipitation Technique for Identification of Virus–Host Protein Interactions Using High-Resolution Mass Spectrometry_ is:\n"
          ],
          "name": "stdout"
        },
        {
          "output_type": "stream",
          "text": [
            "Your max_length is set to 200, but you input_length is only 48. You might consider decreasing max_length manually, e.g. summarizer('...', max_length=50)\n"
          ],
          "name": "stderr"
        },
        {
          "output_type": "stream",
          "text": [
            "dict_values(['Protein interactions between virus and host are essential for viral propagation and movement . viruses lack protein'])\n",
            "Summary for paper No 214_Functions of the cytoplasmic RNA sensors RIG-I and MDA-5: Key regulators of innate immunity_ is:\n"
          ],
          "name": "stdout"
        },
        {
          "output_type": "stream",
          "text": [
            "Your max_length is set to 200, but you input_length is only 54. You might consider decreasing max_length manually, e.g. summarizer('...', max_length=50)\n"
          ],
          "name": "stderr"
        },
        {
          "output_type": "stream",
          "text": [
            "dict_values(['lead from pattern recognition to cytokine induction reveal cascades that involve protein-'])\n",
            "Summary for paper No 215_Camouflage and Misdirection: The Full-On Assault of Ebola Virus Disease_ is:\n"
          ],
          "name": "stdout"
        },
        {
          "output_type": "stream",
          "text": [
            "Your max_length is set to 200, but you input_length is only 58. You might consider decreasing max_length manually, e.g. summarizer('...', max_length=50)\n"
          ],
          "name": "stderr"
        },
        {
          "output_type": "stream",
          "text": [
            "dict_values(['hemorrhagic fever syndrome rapidly fatal to humans and non-human primates '])\n",
            "Summary for paper No 216_Human Norovirus NS3 Has RNA Helicase and Chaperoning Activities_ is:\n"
          ],
          "name": "stdout"
        },
        {
          "output_type": "stream",
          "text": [
            "Your max_length is set to 200, but you input_length is only 21. You might consider decreasing max_length manually, e.g. summarizer('...', max_length=50)\n"
          ],
          "name": "stderr"
        },
        {
          "output_type": "stream",
          "text": [
            "dict_values(['RNA-remodeling proteins act to remodel RNA structures and/or protein-RNA'])\n",
            "Summary for paper No 217_The SCHOOL of nature: III. From mechanistic understanding to novel therapies_ is:\n"
          ],
          "name": "stdout"
        },
        {
          "output_type": "stream",
          "text": [
            "Your max_length is set to 200, but you input_length is only 56. You might consider decreasing max_length manually, e.g. summarizer('...', max_length=50)\n"
          ],
          "name": "stderr"
        },
        {
          "output_type": "stream",
          "text": [
            "dict_values(['Protein-protein interactions play a central role in biological processes and thus represent an appealing target for'])\n",
            "Summary for paper No 218_The SCHOOL of nature: III. From mechanistic understanding to novel therapies_ is:\n"
          ],
          "name": "stdout"
        },
        {
          "output_type": "stream",
          "text": [
            "Your max_length is set to 200, but you input_length is only 47. You might consider decreasing max_length manually, e.g. summarizer('...', max_length=50)\n"
          ],
          "name": "stderr"
        },
        {
          "output_type": "stream",
          "text": [
            "dict_values(['fundamentally and clinically important to mechanistically understand how signal transduction occurs .'])\n",
            "Summary for paper No 219_The SCHOOL of nature: III. From mechanistic understanding to novel therapies_ is:\n"
          ],
          "name": "stdout"
        },
        {
          "output_type": "stream",
          "text": [
            "Your max_length is set to 200, but you input_length is only 73. You might consider decreasing max_length manually, e.g. summarizer('...', max_length=50)\n"
          ],
          "name": "stderr"
        },
        {
          "output_type": "stream",
          "text": [
            "dict_values(['global therapeutic strategies targeting key protein-protein interactions may be used to treat a variety of functional'])\n",
            "Summary for paper No 220_A novel mosquito ubiquitin targets viral envelope protein for degradation and reduces virion production during dengue virus infection_ is:\n"
          ],
          "name": "stdout"
        },
        {
          "output_type": "stream",
          "text": [
            "Your max_length is set to 200, but you input_length is only 49. You might consider decreasing max_length manually, e.g. summarizer('...', max_length=50)\n"
          ],
          "name": "stderr"
        },
        {
          "output_type": "stream",
          "text": [
            "dict_values(['immunofluorescence, Co-immunoprecipitation and Western blo'])\n",
            "Summary for paper No 221_Flavivirus Replication Complex Assembly Revealed by DNAJC14 Functional Mapping_ is:\n"
          ],
          "name": "stdout"
        },
        {
          "output_type": "stream",
          "text": [
            "Your max_length is set to 200, but you input_length is only 72. You might consider decreasing max_length manually, e.g. summarizer('...', max_length=50)\n"
          ],
          "name": "stderr"
        },
        {
          "output_type": "stream",
          "text": [
            "dict_values(['that includes specific membrane targeting of both DNAJC14 and YFV replication proteins .'])\n",
            "Summary for paper No 222_A Conserved Domain in the Coronavirus Membrane Protein Tail Is Important for Virus Assembly_ is:\n"
          ],
          "name": "stdout"
        },
        {
          "output_type": "stream",
          "text": [
            "Your max_length is set to 200, but you input_length is only 49. You might consider decreasing max_length manually, e.g. summarizer('...', max_length=50)\n"
          ],
          "name": "stderr"
        },
        {
          "output_type": "stream",
          "text": [
            "dict_values(['(M) proteins play key roles in virus assembly, through M-M, M-spi'])\n",
            "Summary for paper No 223_The Minor Envelope Glycoproteins GP2a and GP4 of Porcine Reproductive and Respiratory Syndrome Virus Interact with the Receptor CD163_ is:\n"
          ],
          "name": "stdout"
        },
        {
          "output_type": "stream",
          "text": [
            "Your max_length is set to 200, but you input_length is only 53. You might consider decreasing max_length manually, e.g. summarizer('...', max_length=50)\n"
          ],
          "name": "stderr"
        },
        {
          "output_type": "stream",
          "text": [
            "dict_values(['GP4 protein is critical for mediating interglycoprotein interactions . GP'])\n",
            "Summary for paper No 224_The Severe Acute Respiratory Syndrome Coronavirus Nucleocapsid Protein Is Phosphorylated and Localizes in the Cytoplasm by 14-3-3-Mediated Translocation_ is:\n"
          ],
          "name": "stdout"
        },
        {
          "output_type": "stream",
          "text": [
            "Your max_length is set to 200, but you input_length is only 58. You might consider decreasing max_length manually, e.g. summarizer('...', max_length=50)\n"
          ],
          "name": "stderr"
        },
        {
          "output_type": "stream",
          "text": [
            "dict_values(['modulate interactions between components of various cellular signaling and cell cycle regulatory pathways through phospho'])\n",
            "Summary for paper No 225_Design: An assay based on single-polypeptide-chain heterodimeric A2AR/D2R and non-oligomerized fusions for in vivo analysis of their allosteric receptor-receptor interactions_ is:\n"
          ],
          "name": "stdout"
        },
        {
          "output_type": "stream",
          "text": [
            "Your max_length is set to 200, but you input_length is only 40. You might consider decreasing max_length manually, e.g. summarizer('...', max_length=50)\n"
          ],
          "name": "stderr"
        },
        {
          "output_type": "stream",
          "text": [
            "dict_values(['through scA2AR/D2R, focusing on the procedure of the'])\n",
            "Summary for paper No 226_Fast assessment of human receptor-binding capability of 2019 novel coronavirus (2019-nCoV)_ is:\n"
          ],
          "name": "stdout"
        },
        {
          "output_type": "stream",
          "text": [
            "Your max_length is set to 200, but you input_length is only 52. You might consider decreasing max_length manually, e.g. summarizer('...', max_length=50)\n"
          ],
          "name": "stderr"
        },
        {
          "output_type": "stream",
          "text": [
            "dict_values(['post-genome analysis of protein-protein interactions may provide early scientific guidance for viral prevention and'])\n",
            "Summary for paper No 227_Prediction of receptorome for human-infecting virome_ is:\n"
          ],
          "name": "stdout"
        },
        {
          "output_type": "stream",
          "text": [
            "Your max_length is set to 200, but you input_length is only 28. You might consider decreasing max_length manually, e.g. summarizer('...', max_length=50)\n"
          ],
          "name": "stderr"
        },
        {
          "output_type": "stream",
          "text": [
            "dict_values(['predicted to constitute the receptorome for the human-infecting virome . combination of'])\n",
            "Summary for paper No 228_Significance of hydrophobic and charged sequence similarities in sodium-bile acid cotransporter and vitamin D-binding protein macrophage activating factor_ is:\n"
          ],
          "name": "stdout"
        },
        {
          "output_type": "stream",
          "text": [
            "Your max_length is set to 200, but you input_length is only 62. You might consider decreasing max_length manually, e.g. summarizer('...', max_length=50)\n"
          ],
          "name": "stderr"
        },
        {
          "output_type": "stream",
          "text": [
            "dict_values(['this paper may help elucidate the biological roles of these proteins as far as protein-'])\n",
            "Summary for paper No 229_A SARS-CoV-2-Human Protein-Protein Interaction Map Reveals Drug Targets and Potential Drug-Repurposing_ is:\n"
          ],
          "name": "stdout"
        },
        {
          "output_type": "stream",
          "text": [
            "Your max_length is set to 200, but you input_length is only 54. You might consider decreasing max_length manually, e.g. summarizer('...', max_length=50)\n"
          ],
          "name": "stderr"
        },
        {
          "output_type": "stream",
          "text": [
            "dict_values(['identified 332 high confidence SARS-CoV-2-human protein-protein interactions (PP'])\n",
            "Summary for paper No 230_Structural analysis of SARS-CoV-2 and prediction of the human interactome_ is:\n"
          ],
          "name": "stdout"
        },
        {
          "output_type": "stream",
          "text": [
            "Your max_length is set to 200, but you input_length is only 58. You might consider decreasing max_length manually, e.g. summarizer('...', max_length=50)\n"
          ],
          "name": "stderr"
        },
        {
          "output_type": "stream",
          "text": [
            "dict_values(['Using the CROSS method, we found >100000 human protein interactions with severe acute'])\n",
            "Summary for paper No 231_Structural analysis of SARS-CoV-2 and prediction of the human interactome_ is:\n"
          ],
          "name": "stdout"
        },
        {
          "output_type": "stream",
          "text": [
            "Your max_length is set to 200, but you input_length is only 56. You might consider decreasing max_length manually, e.g. summarizer('...', max_length=50)\n"
          ],
          "name": "stderr"
        },
        {
          "output_type": "stream",
          "text": [
            "dict_values(['our calculations indicate strong propensity to bind proteins . Using the catRAP'])\n",
            "Summary for paper No 232_Computational Prediction of the Comprehensive SARS-CoV-2 vs. Human Interactome to Guide the Design of Therapeutics_ is:\n"
          ],
          "name": "stdout"
        },
        {
          "output_type": "stream",
          "text": [
            "Your max_length is set to 200, but you input_length is only 49. You might consider decreasing max_length manually, e.g. summarizer('...', max_length=50)\n"
          ],
          "name": "stderr"
        },
        {
          "output_type": "stream",
          "text": [
            "dict_values(['a more holistic understanding of the SARS-CoV-2 vs. human inter'])\n",
            "Summary for paper No 233_Structure of the chromatin remodelling enzyme Chd1 bound to a ubiquitinylated nucleosome_ is:\n"
          ],
          "name": "stdout"
        },
        {
          "output_type": "stream",
          "text": [
            "Your max_length is set to 200, but you input_length is only 57. You might consider decreasing max_length manually, e.g. summarizer('...', max_length=50)\n"
          ],
          "name": "stderr"
        },
        {
          "output_type": "stream",
          "text": [
            "dict_values(['represent a diverse family of proteins that share ATPase domains that are '])\n",
            "Summary for paper No 234_SKEMPI 2.0: An updated benchmark of changes in protein-protein binding energy, kinetics and thermodynamics upon mutation_ is:\n"
          ],
          "name": "stdout"
        },
        {
          "output_type": "stream",
          "text": [
            "Your max_length is set to 200, but you input_length is only 41. You might consider decreasing max_length manually, e.g. summarizer('...', max_length=50)\n"
          ],
          "name": "stderr"
        },
        {
          "output_type": "stream",
          "text": [
            "dict_values(['Understanding the relationship between sequence, structure, binding energy, binding kinetics and binding thermodynamic'])\n",
            "Summary for paper No 235_SKEMPI 2.0: An updated benchmark of changes in protein-protein binding energy, kinetics and thermodynamics upon mutation_ is:\n"
          ],
          "name": "stdout"
        },
        {
          "output_type": "stream",
          "text": [
            "Your max_length is set to 200, but you input_length is only 60. You might consider decreasing max_length manually, e.g. summarizer('...', max_length=50)\n"
          ],
          "name": "stderr"
        },
        {
          "output_type": "stream",
          "text": [
            "dict_values(['major update to our database of binding free energy changes upon mutation for structurally resolved protein-protein'])\n",
            "Summary for paper No 236_Prediction of antiviral drugs against African Swine Fever Viruses based on protein-protein interaction analysis_ is:\n"
          ],
          "name": "stdout"
        },
        {
          "output_type": "stream",
          "text": [
            "Your max_length is set to 200, but you input_length is only 40. You might consider decreasing max_length manually, e.g. summarizer('...', max_length=50)\n"
          ],
          "name": "stderr"
        },
        {
          "output_type": "stream",
          "text": [
            "dict_values(['until now. Identification of new anti-ASFV drugs is urgently needed . here'])\n",
            "Summary for paper No 237_Processing of the SARS-CoV pp1a/ab nsp7-10 region_ is:\n"
          ],
          "name": "stdout"
        },
        {
          "output_type": "stream",
          "text": [
            "Your max_length is set to 200, but you input_length is only 44. You might consider decreasing max_length manually, e.g. summarizer('...', max_length=50)\n"
          ],
          "name": "stderr"
        },
        {
          "output_type": "stream",
          "text": [
            "dict_values(['can expose the processing dynamics of viral polyproteins and the landscape of protein interactions in one set'])\n",
            "Summary for paper No 238_Processing of the SARS-CoV pp1a/ab nsp7-10 region_ is:\n"
          ],
          "name": "stdout"
        },
        {
          "output_type": "stream",
          "text": [
            "Your max_length is set to 200, but you input_length is only 66. You might consider decreasing max_length manually, e.g. summarizer('...', max_length=50)\n"
          ],
          "name": "stderr"
        },
        {
          "output_type": "stream",
          "text": [
            "dict_values(['new insights into protein interactions, essential for generation of viral progeny, were provided .'])\n",
            "Summary for paper No 239_Intraviral interactome of Chikungunya virus reveals the homo-oligomerization and palmitoylation of structural protein TF_ is:\n"
          ],
          "name": "stdout"
        },
        {
          "output_type": "stream",
          "text": [
            "Your max_length is set to 200, but you input_length is only 60. You might consider decreasing max_length manually, e.g. summarizer('...', max_length=50)\n"
          ],
          "name": "stderr"
        },
        {
          "output_type": "stream",
          "text": [
            "dict_values(['CHIKV is a re-emerging mosquito-transmitted RNA'])\n",
            "Summary for paper No 240_Oligomerization of the carboxyl terminal domain of the human coronavirus 229E nucleocapsid protein_ is:\n"
          ],
          "name": "stdout"
        },
        {
          "output_type": "stream",
          "text": [
            "Your max_length is set to 200, but you input_length is only 50. You might consider decreasing max_length manually, e.g. summarizer('...', max_length=50)\n"
          ],
          "name": "stderr"
        },
        {
          "output_type": "stream",
          "text": [
            "dict_values(['HCoV-229E. This study may assist the development of anti-viral'])\n",
            "Summary for paper No 241_Chemical microarray: a new tool for drug screening and discovery_ is:\n"
          ],
          "name": "stdout"
        },
        {
          "output_type": "stream",
          "text": [
            "Your max_length is set to 200, but you input_length is only 26. You might consider decreasing max_length manually, e.g. summarizer('...', max_length=50)\n"
          ],
          "name": "stderr"
        },
        {
          "output_type": "stream",
          "text": [
            "dict_values(['success in evaluation of chemical–protein interactions, enzyme activity inhibition, target identification, signal pathway '])\n",
            "Summary for paper No 242_Interactions among SARS-CoV accessory proteins revealed by bimolecular fluorescence complementation assay_ is:\n"
          ],
          "name": "stdout"
        },
        {
          "output_type": "stream",
          "text": [
            "Your max_length is set to 200, but you input_length is only 47. You might consider decreasing max_length manually, e.g. summarizer('...', max_length=50)\n"
          ],
          "name": "stderr"
        },
        {
          "output_type": "stream",
          "text": [
            "dict_values(['findings attest to the general applicability of the BiFC system for the verification of protein'])\n",
            "Summary for paper No 243_Chapter Seven Defining Pharmacological Targets by Analysis of Virus–Host Protein Interactions_ is:\n"
          ],
          "name": "stdout"
        },
        {
          "output_type": "stream",
          "text": [
            "Your max_length is set to 200, but you input_length is only 59. You might consider decreasing max_length manually, e.g. summarizer('...', max_length=50)\n"
          ],
          "name": "stderr"
        },
        {
          "output_type": "stream",
          "text": [
            "dict_values(['pharmacological disruption of host-pathogen protein–protein interactions (PPIs)'])\n",
            "Summary for paper No 244_Redefining the BH3 Death Domain as a ‘Short Linear Motif’_ is:\n"
          ],
          "name": "stdout"
        },
        {
          "output_type": "stream",
          "text": [
            "Your max_length is set to 200, but you input_length is only 40. You might consider decreasing max_length manually, e.g. summarizer('...', max_length=50)\n"
          ],
          "name": "stderr"
        },
        {
          "output_type": "stream",
          "text": [
            "dict_values(['B cell lymphoma-2 (BCL-2)-related proteins control programmed cell'])\n",
            "Summary for paper No 245_Processing of the SARS-CoV pp1a/ab nsp7–10 region_ is:\n"
          ],
          "name": "stdout"
        },
        {
          "output_type": "stream",
          "text": [
            "Your max_length is set to 200, but you input_length is only 44. You might consider decreasing max_length manually, e.g. summarizer('...', max_length=50)\n"
          ],
          "name": "stderr"
        },
        {
          "output_type": "stream",
          "text": [
            "dict_values(['can expose the processing dynamics of viral polyproteins and the landscape of protein interactions in one set'])\n",
            "Summary for paper No 246_Processing of the SARS-CoV pp1a/ab nsp7–10 region_ is:\n"
          ],
          "name": "stdout"
        },
        {
          "output_type": "stream",
          "text": [
            "Your max_length is set to 200, but you input_length is only 46. You might consider decreasing max_length manually, e.g. summarizer('...', max_length=50)\n"
          ],
          "name": "stderr"
        },
        {
          "output_type": "stream",
          "text": [
            "dict_values(['new insights into protein interactions, essential for generation of viral progeny, were provided .'])\n",
            "Summary for paper No 247_Disease embryo development network reveals the relationship between disease genes and embryo development genes_ is:\n"
          ],
          "name": "stdout"
        },
        {
          "output_type": "stream",
          "text": [
            "Your max_length is set to 200, but you input_length is only 49. You might consider decreasing max_length manually, e.g. summarizer('...', max_length=50)\n"
          ],
          "name": "stderr"
        },
        {
          "output_type": "stream",
          "text": [
            "dict_values(['in this article, we used the human protein–protein interactions (PPIs), disease genes'])\n",
            "Summary for paper No 248_Protein microarray technology_ is:\n"
          ],
          "name": "stdout"
        },
        {
          "output_type": "stream",
          "text": [
            "Your max_length is set to 200, but you input_length is only 49. You might consider decreasing max_length manually, e.g. summarizer('...', max_length=50)\n"
          ],
          "name": "stderr"
        },
        {
          "output_type": "stream",
          "text": [
            "dict_values(['emerged as a promising approach for a wide variety of applications including the identification of protein–'])\n",
            "Summary for paper No 249_Protein microarray technology_ is:\n"
          ],
          "name": "stdout"
        },
        {
          "output_type": "stream",
          "text": [
            "Your max_length is set to 200, but you input_length is only 44. You might consider decreasing max_length manually, e.g. summarizer('...', max_length=50)\n"
          ],
          "name": "stderr"
        },
        {
          "output_type": "stream",
          "text": [
            "dict_values(['a promising approach for a wide variety of applications including the identification of protein–protein interactions'])\n",
            "Summary for paper No 250_Long non-coding RNAs in the regulation of the immune response_ is:\n"
          ],
          "name": "stdout"
        },
        {
          "output_type": "stream",
          "text": [
            "Your max_length is set to 200, but you input_length is only 34. You might consider decreasing max_length manually, e.g. summarizer('...', max_length=50)\n"
          ],
          "name": "stderr"
        },
        {
          "output_type": "stream",
          "text": [
            "dict_values(['aspects of immunity such as production of inflammatory mediators, differentiation, and cell migration through '])\n",
            "Summary for paper No 251_Mutation of Glu-166 Blocks the Substrate-Induced Dimerization of SARS Coronavirus Main Protease_ is:\n"
          ],
          "name": "stdout"
        },
        {
          "output_type": "stream",
          "text": [
            "Your max_length is set to 200, but you input_length is only 46. You might consider decreasing max_length manually, e.g. summarizer('...', max_length=50)\n"
          ],
          "name": "stderr"
        },
        {
          "output_type": "stream",
          "text": [
            "dict_values(['we conclude that protein-ligand and protein-protein interactions are closely correlated in Mpro'])\n",
            "Summary for paper No 252_Quantitative Proteomics Identifies Serum Response Factor Binding Protein 1 as a Host Factor for Hepatitis C Virus Entry_ is:\n"
          ],
          "name": "stdout"
        },
        {
          "output_type": "stream",
          "text": [
            "Your max_length is set to 200, but you input_length is only 31. You might consider decreasing max_length manually, e.g. summarizer('...', max_length=50)\n"
          ],
          "name": "stderr"
        },
        {
          "output_type": "stream",
          "text": [
            "dict_values(['how CD81 governs HCV entry is poorly characterized, and CD81 protein interactions after'])\n",
            "Summary for paper No 253_Quantitative Proteomics Identifies Serum Response Factor Binding Protein 1 as a Host Factor for Hepatitis C Virus Entry_ is:\n"
          ],
          "name": "stdout"
        },
        {
          "output_type": "stream",
          "text": [
            "Your max_length is set to 200, but you input_length is only 35. You might consider decreasing max_length manually, e.g. summarizer('...', max_length=50)\n"
          ],
          "name": "stderr"
        },
        {
          "output_type": "stream",
          "text": [
            "dict_values(['use of quantitative proteomics to elucidate pathogen entry and underscore importance of host protein'])\n",
            "Summary for paper No 254_Yeast surface display for protein engineering and characterization_ is:\n"
          ],
          "name": "stdout"
        },
        {
          "output_type": "stream",
          "text": [
            "Your max_length is set to 200, but you input_length is only 37. You might consider decreasing max_length manually, e.g. summarizer('...', max_length=50)\n"
          ],
          "name": "stderr"
        },
        {
          "output_type": "stream",
          "text": [
            "dict_values(['yeast surface display for protein characterization represents a significant recent advance . mapping of functional epi'])\n",
            "Summary for paper No 255_Connecting viral with cellular interactomes_ is:\n"
          ],
          "name": "stdout"
        },
        {
          "output_type": "stream",
          "text": [
            "Your max_length is set to 200, but you input_length is only 53. You might consider decreasing max_length manually, e.g. summarizer('...', max_length=50)\n"
          ],
          "name": "stderr"
        },
        {
          "output_type": "stream",
          "text": [
            "dict_values(['gene-scale screens for intraviral and virus–host protein interactions and the analysis of literature'])\n",
            "Summary for paper No 256_Connecting viral with cellular interactomes_ is:\n"
          ],
          "name": "stdout"
        },
        {
          "output_type": "stream",
          "text": [
            "Your max_length is set to 200, but you input_length is only 44. You might consider decreasing max_length manually, e.g. summarizer('...', max_length=50)\n"
          ],
          "name": "stderr"
        },
        {
          "output_type": "stream",
          "text": [
            "dict_values(['alternative high-throughput technologies detecting binary protein interactions or protein complexes have been developed'])\n",
            "Summary for paper No 257_Decoding protein networks during virus entry by quantitative proteomics_ is:\n"
          ],
          "name": "stdout"
        },
        {
          "output_type": "stream",
          "text": [
            "Your max_length is set to 200, but you input_length is only 44. You might consider decreasing max_length manually, e.g. summarizer('...', max_length=50)\n"
          ],
          "name": "stderr"
        },
        {
          "output_type": "stream",
          "text": [
            "dict_values(['cells relies on interactions between viral and host structures including lipids, carbohydrates and proteins '])\n",
            "Summary for paper No 258_Decoding protein networks during virus entry by quantitative proteomics_ is:\n"
          ],
          "name": "stdout"
        },
        {
          "output_type": "stream",
          "text": [
            "Your max_length is set to 200, but you input_length is only 41. You might consider decreasing max_length manually, e.g. summarizer('...', max_length=50)\n"
          ],
          "name": "stderr"
        },
        {
          "output_type": "stream",
          "text": [
            "dict_values(['protein–protein interactions between viral surface proteins and host proteins play a pivotal role in '])\n",
            "Summary for paper No 259_Decoding protein networks during virus entry by quantitative proteomics_ is:\n"
          ],
          "name": "stdout"
        },
        {
          "output_type": "stream",
          "text": [
            "Your max_length is set to 200, but you input_length is only 52. You might consider decreasing max_length manually, e.g. summarizer('...', max_length=50)\n"
          ],
          "name": "stderr"
        },
        {
          "output_type": "stream",
          "text": [
            "dict_values(['here we review protein interactions during virus entry . compare classical biochemical methods to study entry with'])\n",
            "Summary for paper No 260_Purification and characterization of HIV–human protein complexes_ is:\n"
          ],
          "name": "stdout"
        },
        {
          "output_type": "stream",
          "text": [
            "Your max_length is set to 200, but you input_length is only 50. You might consider decreasing max_length manually, e.g. summarizer('...', max_length=50)\n"
          ],
          "name": "stderr"
        },
        {
          "output_type": "stream",
          "text": [
            "dict_values(['systematic mapping of intra-pathogenic and pathogen–host protein–protein interactions (PPI'])\n",
            "Summary for paper No 261_Purification and characterization of HIV–human protein complexes_ is:\n"
          ],
          "name": "stdout"
        },
        {
          "output_type": "stream",
          "text": [
            "Your max_length is set to 200, but you input_length is only 62. You might consider decreasing max_length manually, e.g. summarizer('...', max_length=50)\n"
          ],
          "name": "stderr"
        },
        {
          "output_type": "stream",
          "text": [
            "dict_values(['only two-hybrid methodology has been used to characterize viral–host protein–'])\n",
            "Summary for paper No 262_Interactome Mapping: Using Protein Microarray Technology to Reconstruct Diverse Protein Networks_ is:\n"
          ],
          "name": "stdout"
        },
        {
          "output_type": "stream",
          "text": [
            "Your max_length is set to 200, but you input_length is only 47. You might consider decreasing max_length manually, e.g. summarizer('...', max_length=50)\n"
          ],
          "name": "stderr"
        },
        {
          "output_type": "stream",
          "text": [
            "dict_values(['focus on the numerous studies that have utilized protein microarrays to reconstruct biological networks .'])\n",
            "Summary for paper No 263_Location is everything: protein translocations as a viral infection strategy_ is:\n"
          ],
          "name": "stdout"
        },
        {
          "output_type": "stream",
          "text": [
            "Your max_length is set to 200, but you input_length is only 34. You might consider decreasing max_length manually, e.g. summarizer('...', max_length=50)\n"
          ],
          "name": "stderr"
        },
        {
          "output_type": "stream",
          "text": [
            "dict_values(['translocation events facilitate localization-dependent protein interactions and changes in protein functions that contribute to either'])\n",
            "Summary for paper No 264_Crystal structure-based exploration of the important role of Arg106 in the RNA-binding domain of human coronavirus OC43 nucleocapsid protein_ is:\n"
          ],
          "name": "stdout"
        },
        {
          "output_type": "stream",
          "text": [
            "Your max_length is set to 200, but you input_length is only 31. You might consider decreasing max_length manually, e.g. summarizer('...', max_length=50)\n"
          ],
          "name": "stderr"
        },
        {
          "output_type": "stream",
          "text": [
            "dict_values(['strength of N protein/RNA interactions is critical for HCoV-OC43 replication '])\n",
            "Summary for paper No 265_An in vivo cell-based assay for investigating the specific interaction between the SARS-CoV N-protein and its viral RNA packaging sequence_ is:\n"
          ],
          "name": "stdout"
        },
        {
          "output_type": "stream",
          "text": [
            "Your max_length is set to 200, but you input_length is only 40. You might consider decreasing max_length manually, e.g. summarizer('...', max_length=50)\n"
          ],
          "name": "stderr"
        },
        {
          "output_type": "stream",
          "text": [
            "dict_values(['signal RNA, and demonstrate feasibility of using this cell-based assay to further probe viral'])\n",
            "Summary for paper No 266_Structure-Based Stabilization of Non-native Protein–Protein Interactions of Coronavirus Nucleocapsid Proteins in Antiviral Drug Design_ is:\n"
          ],
          "name": "stdout"
        },
        {
          "output_type": "stream",
          "text": [
            "Your max_length is set to 200, but you input_length is only 42. You might consider decreasing max_length manually, e.g. summarizer('...', max_length=50)\n"
          ],
          "name": "stderr"
        },
        {
          "output_type": "stream",
          "text": [
            "dict_values(['Structure-based stabilization of protein–protein interactions (PPIs) is a promising'])\n",
            "Summary for paper No 267_Glycomics and Proteomics Approaches to Investigate Early Adenovirus–Host Cell Interactions_ is:\n"
          ],
          "name": "stdout"
        },
        {
          "output_type": "stream",
          "text": [
            "Your max_length is set to 200, but you input_length is only 47. You might consider decreasing max_length manually, e.g. summarizer('...', max_length=50)\n"
          ],
          "name": "stderr"
        },
        {
          "output_type": "stream",
          "text": [
            "dict_values(['Adenoviruses as most viruses rely on glycan and protein interactions'])\n",
            "Summary for paper No 268_Glycomics and Proteomics Approaches to Investigate Early Adenovirus–Host Cell Interactions_ is:\n",
            "dict_values(['tropism of the different types. methods to systematically identify glycan and protein'])\n"
          ],
          "name": "stdout"
        }
      ]
    },
    {
      "cell_type": "code",
      "metadata": {
        "id": "Cq-uPZmXXpIp",
        "colab_type": "code",
        "outputId": "dde92d45-a79c-49b0-bf76-8a52bfb76490",
        "colab": {
          "base_uri": "https://localhost:8080/",
          "height": 343
        }
      },
      "source": [
        "summary0= summarizer(abs[0], min_length=20, max_length=50)\n",
        "\n"
      ],
      "execution_count": 0,
      "outputs": [
        {
          "output_type": "error",
          "ename": "KeyboardInterrupt",
          "evalue": "ignored",
          "traceback": [
            "\u001b[0;31m---------------------------------------------------------------------------\u001b[0m",
            "\u001b[0;31mKeyboardInterrupt\u001b[0m                         Traceback (most recent call last)",
            "\u001b[0;32m<ipython-input-22-04b1e9c21565>\u001b[0m in \u001b[0;36m<module>\u001b[0;34m()\u001b[0m\n\u001b[0;32m----> 1\u001b[0;31m \u001b[0msummary0\u001b[0m\u001b[0;34m=\u001b[0m \u001b[0msummarizer\u001b[0m\u001b[0;34m(\u001b[0m\u001b[0mabs\u001b[0m\u001b[0;34m[\u001b[0m\u001b[0;36m0\u001b[0m\u001b[0;34m]\u001b[0m\u001b[0;34m,\u001b[0m \u001b[0mmin_length\u001b[0m\u001b[0;34m=\u001b[0m\u001b[0;36m20\u001b[0m\u001b[0;34m,\u001b[0m \u001b[0mmax_length\u001b[0m\u001b[0;34m=\u001b[0m\u001b[0;36m50\u001b[0m\u001b[0;34m)\u001b[0m\u001b[0;34m\u001b[0m\u001b[0;34m\u001b[0m\u001b[0m\n\u001b[0m\u001b[1;32m      2\u001b[0m \u001b[0;34m\u001b[0m\u001b[0m\n",
            "\u001b[0;32m/usr/local/lib/python3.6/dist-packages/transformers/pipelines.py\u001b[0m in \u001b[0;36m__call__\u001b[0;34m(self, return_tensors, return_text, clean_up_tokenization_spaces, *documents, **generate_kwargs)\u001b[0m\n\u001b[1;32m   1251\u001b[0m \u001b[0;34m\u001b[0m\u001b[0m\n\u001b[1;32m   1252\u001b[0m             summaries = self.model.generate(\n\u001b[0;32m-> 1253\u001b[0;31m                 \u001b[0minputs\u001b[0m\u001b[0;34m[\u001b[0m\u001b[0;34m\"input_ids\"\u001b[0m\u001b[0;34m]\u001b[0m\u001b[0;34m,\u001b[0m \u001b[0mattention_mask\u001b[0m\u001b[0;34m=\u001b[0m\u001b[0minputs\u001b[0m\u001b[0;34m[\u001b[0m\u001b[0;34m\"attention_mask\"\u001b[0m\u001b[0;34m]\u001b[0m\u001b[0;34m,\u001b[0m \u001b[0;34m**\u001b[0m\u001b[0mgenerate_kwargs\u001b[0m\u001b[0;34m,\u001b[0m\u001b[0;34m\u001b[0m\u001b[0;34m\u001b[0m\u001b[0m\n\u001b[0m\u001b[1;32m   1254\u001b[0m             )\n\u001b[1;32m   1255\u001b[0m \u001b[0;34m\u001b[0m\u001b[0m\n",
            "\u001b[0;32m/usr/local/lib/python3.6/dist-packages/transformers/modeling_tf_utils.py\u001b[0m in \u001b[0;36mgenerate\u001b[0;34m(self, input_ids, max_length, min_length, do_sample, early_stopping, num_beams, temperature, top_k, top_p, repetition_penalty, bos_token_id, pad_token_id, eos_token_id, length_penalty, no_repeat_ngram_size, num_return_sequences, attention_mask, decoder_start_token_id)\u001b[0m\n\u001b[1;32m    753\u001b[0m                 \u001b[0mvocab_size\u001b[0m\u001b[0;34m=\u001b[0m\u001b[0mvocab_size\u001b[0m\u001b[0;34m,\u001b[0m\u001b[0;34m\u001b[0m\u001b[0;34m\u001b[0m\u001b[0m\n\u001b[1;32m    754\u001b[0m                 \u001b[0mencoder_outputs\u001b[0m\u001b[0;34m=\u001b[0m\u001b[0mencoder_outputs\u001b[0m\u001b[0;34m,\u001b[0m\u001b[0;34m\u001b[0m\u001b[0;34m\u001b[0m\u001b[0m\n\u001b[0;32m--> 755\u001b[0;31m                 \u001b[0mattention_mask\u001b[0m\u001b[0;34m=\u001b[0m\u001b[0mattention_mask\u001b[0m\u001b[0;34m,\u001b[0m\u001b[0;34m\u001b[0m\u001b[0;34m\u001b[0m\u001b[0m\n\u001b[0m\u001b[1;32m    756\u001b[0m             )\n\u001b[1;32m    757\u001b[0m         \u001b[0;32melse\u001b[0m\u001b[0;34m:\u001b[0m\u001b[0;34m\u001b[0m\u001b[0;34m\u001b[0m\u001b[0m\n",
            "\u001b[0;32m/usr/local/lib/python3.6/dist-packages/transformers/modeling_tf_utils.py\u001b[0m in \u001b[0;36m_generate_beam_search\u001b[0;34m(self, input_ids, cur_len, max_length, min_length, do_sample, early_stopping, temperature, top_k, top_p, repetition_penalty, no_repeat_ngram_size, bos_token_id, pad_token_id, decoder_start_token_id, eos_token_id, batch_size, num_return_sequences, length_penalty, num_beams, vocab_size, encoder_outputs, attention_mask)\u001b[0m\n\u001b[1;32m    976\u001b[0m         \u001b[0;32mwhile\u001b[0m \u001b[0mcur_len\u001b[0m \u001b[0;34m<\u001b[0m \u001b[0mmax_length\u001b[0m\u001b[0;34m:\u001b[0m\u001b[0;34m\u001b[0m\u001b[0;34m\u001b[0m\u001b[0m\n\u001b[1;32m    977\u001b[0m             \u001b[0mmodel_inputs\u001b[0m \u001b[0;34m=\u001b[0m \u001b[0mself\u001b[0m\u001b[0;34m.\u001b[0m\u001b[0mprepare_inputs_for_generation\u001b[0m\u001b[0;34m(\u001b[0m\u001b[0minput_ids\u001b[0m\u001b[0;34m,\u001b[0m \u001b[0mpast\u001b[0m\u001b[0;34m=\u001b[0m\u001b[0mpast\u001b[0m\u001b[0;34m,\u001b[0m \u001b[0mattention_mask\u001b[0m\u001b[0;34m=\u001b[0m\u001b[0mattention_mask\u001b[0m\u001b[0;34m)\u001b[0m\u001b[0;34m\u001b[0m\u001b[0;34m\u001b[0m\u001b[0m\n\u001b[0;32m--> 978\u001b[0;31m             \u001b[0moutputs\u001b[0m \u001b[0;34m=\u001b[0m \u001b[0mself\u001b[0m\u001b[0;34m(\u001b[0m\u001b[0;34m**\u001b[0m\u001b[0mmodel_inputs\u001b[0m\u001b[0;34m)\u001b[0m  \u001b[0;31m# (batch_size * num_beams, cur_len, vocab_size)\u001b[0m\u001b[0;34m\u001b[0m\u001b[0;34m\u001b[0m\u001b[0m\n\u001b[0m\u001b[1;32m    979\u001b[0m             \u001b[0mnext_token_logits\u001b[0m \u001b[0;34m=\u001b[0m \u001b[0moutputs\u001b[0m\u001b[0;34m[\u001b[0m\u001b[0;36m0\u001b[0m\u001b[0;34m]\u001b[0m\u001b[0;34m[\u001b[0m\u001b[0;34m:\u001b[0m\u001b[0;34m,\u001b[0m \u001b[0;34m-\u001b[0m\u001b[0;36m1\u001b[0m\u001b[0;34m,\u001b[0m \u001b[0;34m:\u001b[0m\u001b[0;34m]\u001b[0m  \u001b[0;31m# (batch_size * num_beams, vocab_size)\u001b[0m\u001b[0;34m\u001b[0m\u001b[0;34m\u001b[0m\u001b[0m\n\u001b[1;32m    980\u001b[0m \u001b[0;34m\u001b[0m\u001b[0m\n",
            "\u001b[0;32m/usr/local/lib/python3.6/dist-packages/tensorflow_core/python/keras/engine/base_layer.py\u001b[0m in \u001b[0;36m__call__\u001b[0;34m(self, inputs, *args, **kwargs)\u001b[0m\n\u001b[1;32m    820\u001b[0m           with base_layer_utils.autocast_context_manager(\n\u001b[1;32m    821\u001b[0m               self._compute_dtype):\n\u001b[0;32m--> 822\u001b[0;31m             \u001b[0moutputs\u001b[0m \u001b[0;34m=\u001b[0m \u001b[0mself\u001b[0m\u001b[0;34m.\u001b[0m\u001b[0mcall\u001b[0m\u001b[0;34m(\u001b[0m\u001b[0mcast_inputs\u001b[0m\u001b[0;34m,\u001b[0m \u001b[0;34m*\u001b[0m\u001b[0margs\u001b[0m\u001b[0;34m,\u001b[0m \u001b[0;34m**\u001b[0m\u001b[0mkwargs\u001b[0m\u001b[0;34m)\u001b[0m\u001b[0;34m\u001b[0m\u001b[0;34m\u001b[0m\u001b[0m\n\u001b[0m\u001b[1;32m    823\u001b[0m           \u001b[0mself\u001b[0m\u001b[0;34m.\u001b[0m\u001b[0m_handle_activity_regularization\u001b[0m\u001b[0;34m(\u001b[0m\u001b[0minputs\u001b[0m\u001b[0;34m,\u001b[0m \u001b[0moutputs\u001b[0m\u001b[0;34m)\u001b[0m\u001b[0;34m\u001b[0m\u001b[0;34m\u001b[0m\u001b[0m\n\u001b[1;32m    824\u001b[0m           \u001b[0mself\u001b[0m\u001b[0;34m.\u001b[0m\u001b[0m_set_mask_metadata\u001b[0m\u001b[0;34m(\u001b[0m\u001b[0minputs\u001b[0m\u001b[0;34m,\u001b[0m \u001b[0moutputs\u001b[0m\u001b[0;34m,\u001b[0m \u001b[0minput_masks\u001b[0m\u001b[0;34m)\u001b[0m\u001b[0;34m\u001b[0m\u001b[0;34m\u001b[0m\u001b[0m\n",
            "\u001b[0;32m/usr/local/lib/python3.6/dist-packages/transformers/modeling_tf_t5.py\u001b[0m in \u001b[0;36mcall\u001b[0;34m(self, decoder_input_ids, **kwargs)\u001b[0m\n\u001b[1;32m    865\u001b[0m             \u001b[0mencoder_hidden_states\u001b[0m\u001b[0;34m=\u001b[0m\u001b[0mhidden_states\u001b[0m\u001b[0;34m,\u001b[0m\u001b[0;34m\u001b[0m\u001b[0;34m\u001b[0m\u001b[0m\n\u001b[1;32m    866\u001b[0m             \u001b[0mencoder_attention_mask\u001b[0m\u001b[0;34m=\u001b[0m\u001b[0mattention_mask\u001b[0m\u001b[0;34m,\u001b[0m\u001b[0;34m\u001b[0m\u001b[0;34m\u001b[0m\u001b[0m\n\u001b[0;32m--> 867\u001b[0;31m             \u001b[0mhead_mask\u001b[0m\u001b[0;34m=\u001b[0m\u001b[0mhead_mask\u001b[0m\u001b[0;34m,\u001b[0m\u001b[0;34m\u001b[0m\u001b[0;34m\u001b[0m\u001b[0m\n\u001b[0m\u001b[1;32m    868\u001b[0m         )\n\u001b[1;32m    869\u001b[0m \u001b[0;34m\u001b[0m\u001b[0m\n",
            "\u001b[0;32m/usr/local/lib/python3.6/dist-packages/tensorflow_core/python/keras/engine/base_layer.py\u001b[0m in \u001b[0;36m__call__\u001b[0;34m(self, inputs, *args, **kwargs)\u001b[0m\n\u001b[1;32m    820\u001b[0m           with base_layer_utils.autocast_context_manager(\n\u001b[1;32m    821\u001b[0m               self._compute_dtype):\n\u001b[0;32m--> 822\u001b[0;31m             \u001b[0moutputs\u001b[0m \u001b[0;34m=\u001b[0m \u001b[0mself\u001b[0m\u001b[0;34m.\u001b[0m\u001b[0mcall\u001b[0m\u001b[0;34m(\u001b[0m\u001b[0mcast_inputs\u001b[0m\u001b[0;34m,\u001b[0m \u001b[0;34m*\u001b[0m\u001b[0margs\u001b[0m\u001b[0;34m,\u001b[0m \u001b[0;34m**\u001b[0m\u001b[0mkwargs\u001b[0m\u001b[0;34m)\u001b[0m\u001b[0;34m\u001b[0m\u001b[0;34m\u001b[0m\u001b[0m\n\u001b[0m\u001b[1;32m    823\u001b[0m           \u001b[0mself\u001b[0m\u001b[0;34m.\u001b[0m\u001b[0m_handle_activity_regularization\u001b[0m\u001b[0;34m(\u001b[0m\u001b[0minputs\u001b[0m\u001b[0;34m,\u001b[0m \u001b[0moutputs\u001b[0m\u001b[0;34m)\u001b[0m\u001b[0;34m\u001b[0m\u001b[0;34m\u001b[0m\u001b[0m\n\u001b[1;32m    824\u001b[0m           \u001b[0mself\u001b[0m\u001b[0;34m.\u001b[0m\u001b[0m_set_mask_metadata\u001b[0m\u001b[0;34m(\u001b[0m\u001b[0minputs\u001b[0m\u001b[0;34m,\u001b[0m \u001b[0moutputs\u001b[0m\u001b[0;34m,\u001b[0m \u001b[0minput_masks\u001b[0m\u001b[0;34m)\u001b[0m\u001b[0;34m\u001b[0m\u001b[0;34m\u001b[0m\u001b[0m\n",
            "\u001b[0;32m/usr/local/lib/python3.6/dist-packages/transformers/modeling_tf_t5.py\u001b[0m in \u001b[0;36mcall\u001b[0;34m(self, input_ids, attention_mask, encoder_hidden_states, encoder_attention_mask, inputs_embeds, head_mask, training)\u001b[0m\n\u001b[1;32m    538\u001b[0m                 \u001b[0mencoder_decoder_position_bias\u001b[0m\u001b[0;34m=\u001b[0m\u001b[0mencoder_decoder_position_bias\u001b[0m\u001b[0;34m,\u001b[0m\u001b[0;34m\u001b[0m\u001b[0;34m\u001b[0m\u001b[0m\n\u001b[1;32m    539\u001b[0m                 \u001b[0mhead_mask\u001b[0m\u001b[0;34m=\u001b[0m\u001b[0mhead_mask\u001b[0m\u001b[0;34m[\u001b[0m\u001b[0mi\u001b[0m\u001b[0;34m]\u001b[0m\u001b[0;34m,\u001b[0m\u001b[0;34m\u001b[0m\u001b[0;34m\u001b[0m\u001b[0m\n\u001b[0;32m--> 540\u001b[0;31m                 \u001b[0mtraining\u001b[0m\u001b[0;34m=\u001b[0m\u001b[0mtraining\u001b[0m\u001b[0;34m,\u001b[0m\u001b[0;34m\u001b[0m\u001b[0;34m\u001b[0m\u001b[0m\n\u001b[0m\u001b[1;32m    541\u001b[0m             )\n\u001b[1;32m    542\u001b[0m             \u001b[0mhidden_states\u001b[0m \u001b[0;34m=\u001b[0m \u001b[0mlayer_outputs\u001b[0m\u001b[0;34m[\u001b[0m\u001b[0;36m0\u001b[0m\u001b[0;34m]\u001b[0m\u001b[0;34m\u001b[0m\u001b[0;34m\u001b[0m\u001b[0m\n",
            "\u001b[0;32m/usr/local/lib/python3.6/dist-packages/tensorflow_core/python/keras/engine/base_layer.py\u001b[0m in \u001b[0;36m__call__\u001b[0;34m(self, inputs, *args, **kwargs)\u001b[0m\n\u001b[1;32m    820\u001b[0m           with base_layer_utils.autocast_context_manager(\n\u001b[1;32m    821\u001b[0m               self._compute_dtype):\n\u001b[0;32m--> 822\u001b[0;31m             \u001b[0moutputs\u001b[0m \u001b[0;34m=\u001b[0m \u001b[0mself\u001b[0m\u001b[0;34m.\u001b[0m\u001b[0mcall\u001b[0m\u001b[0;34m(\u001b[0m\u001b[0mcast_inputs\u001b[0m\u001b[0;34m,\u001b[0m \u001b[0;34m*\u001b[0m\u001b[0margs\u001b[0m\u001b[0;34m,\u001b[0m \u001b[0;34m**\u001b[0m\u001b[0mkwargs\u001b[0m\u001b[0;34m)\u001b[0m\u001b[0;34m\u001b[0m\u001b[0;34m\u001b[0m\u001b[0m\n\u001b[0m\u001b[1;32m    823\u001b[0m           \u001b[0mself\u001b[0m\u001b[0;34m.\u001b[0m\u001b[0m_handle_activity_regularization\u001b[0m\u001b[0;34m(\u001b[0m\u001b[0minputs\u001b[0m\u001b[0;34m,\u001b[0m \u001b[0moutputs\u001b[0m\u001b[0;34m)\u001b[0m\u001b[0;34m\u001b[0m\u001b[0;34m\u001b[0m\u001b[0m\n\u001b[1;32m    824\u001b[0m           \u001b[0mself\u001b[0m\u001b[0;34m.\u001b[0m\u001b[0m_set_mask_metadata\u001b[0m\u001b[0;34m(\u001b[0m\u001b[0minputs\u001b[0m\u001b[0;34m,\u001b[0m \u001b[0moutputs\u001b[0m\u001b[0;34m,\u001b[0m \u001b[0minput_masks\u001b[0m\u001b[0;34m)\u001b[0m\u001b[0;34m\u001b[0m\u001b[0;34m\u001b[0m\u001b[0m\n",
            "\u001b[0;32m/usr/local/lib/python3.6/dist-packages/transformers/modeling_tf_t5.py\u001b[0m in \u001b[0;36mcall\u001b[0;34m(self, hidden_states, attention_mask, position_bias, encoder_hidden_states, encoder_attention_mask, encoder_decoder_position_bias, head_mask, training)\u001b[0m\n\u001b[1;32m    346\u001b[0m                 \u001b[0mposition_bias\u001b[0m\u001b[0;34m=\u001b[0m\u001b[0mencoder_decoder_position_bias\u001b[0m\u001b[0;34m,\u001b[0m\u001b[0;34m\u001b[0m\u001b[0;34m\u001b[0m\u001b[0m\n\u001b[1;32m    347\u001b[0m                 \u001b[0mhead_mask\u001b[0m\u001b[0;34m=\u001b[0m\u001b[0mhead_mask\u001b[0m\u001b[0;34m,\u001b[0m\u001b[0;34m\u001b[0m\u001b[0;34m\u001b[0m\u001b[0m\n\u001b[0;32m--> 348\u001b[0;31m                 \u001b[0mtraining\u001b[0m\u001b[0;34m=\u001b[0m\u001b[0mtraining\u001b[0m\u001b[0;34m,\u001b[0m\u001b[0;34m\u001b[0m\u001b[0;34m\u001b[0m\u001b[0m\n\u001b[0m\u001b[1;32m    349\u001b[0m             )\n\u001b[1;32m    350\u001b[0m             \u001b[0mhidden_states\u001b[0m \u001b[0;34m=\u001b[0m \u001b[0mcross_attention_outputs\u001b[0m\u001b[0;34m[\u001b[0m\u001b[0;36m0\u001b[0m\u001b[0;34m]\u001b[0m\u001b[0;34m\u001b[0m\u001b[0;34m\u001b[0m\u001b[0m\n",
            "\u001b[0;32m/usr/local/lib/python3.6/dist-packages/tensorflow_core/python/keras/engine/base_layer.py\u001b[0m in \u001b[0;36m__call__\u001b[0;34m(self, inputs, *args, **kwargs)\u001b[0m\n\u001b[1;32m    820\u001b[0m           with base_layer_utils.autocast_context_manager(\n\u001b[1;32m    821\u001b[0m               self._compute_dtype):\n\u001b[0;32m--> 822\u001b[0;31m             \u001b[0moutputs\u001b[0m \u001b[0;34m=\u001b[0m \u001b[0mself\u001b[0m\u001b[0;34m.\u001b[0m\u001b[0mcall\u001b[0m\u001b[0;34m(\u001b[0m\u001b[0mcast_inputs\u001b[0m\u001b[0;34m,\u001b[0m \u001b[0;34m*\u001b[0m\u001b[0margs\u001b[0m\u001b[0;34m,\u001b[0m \u001b[0;34m**\u001b[0m\u001b[0mkwargs\u001b[0m\u001b[0;34m)\u001b[0m\u001b[0;34m\u001b[0m\u001b[0;34m\u001b[0m\u001b[0m\n\u001b[0m\u001b[1;32m    823\u001b[0m           \u001b[0mself\u001b[0m\u001b[0;34m.\u001b[0m\u001b[0m_handle_activity_regularization\u001b[0m\u001b[0;34m(\u001b[0m\u001b[0minputs\u001b[0m\u001b[0;34m,\u001b[0m \u001b[0moutputs\u001b[0m\u001b[0;34m)\u001b[0m\u001b[0;34m\u001b[0m\u001b[0;34m\u001b[0m\u001b[0m\n\u001b[1;32m    824\u001b[0m           \u001b[0mself\u001b[0m\u001b[0;34m.\u001b[0m\u001b[0m_set_mask_metadata\u001b[0m\u001b[0;34m(\u001b[0m\u001b[0minputs\u001b[0m\u001b[0;34m,\u001b[0m \u001b[0moutputs\u001b[0m\u001b[0;34m,\u001b[0m \u001b[0minput_masks\u001b[0m\u001b[0;34m)\u001b[0m\u001b[0;34m\u001b[0m\u001b[0;34m\u001b[0m\u001b[0m\n",
            "\u001b[0;32m/usr/local/lib/python3.6/dist-packages/transformers/modeling_tf_t5.py\u001b[0m in \u001b[0;36mcall\u001b[0;34m(self, hidden_states, kv, attention_mask, position_bias, head_mask, training)\u001b[0m\n\u001b[1;32m    290\u001b[0m         \u001b[0mnorm_x\u001b[0m \u001b[0;34m=\u001b[0m \u001b[0mself\u001b[0m\u001b[0;34m.\u001b[0m\u001b[0mlayer_norm\u001b[0m\u001b[0;34m(\u001b[0m\u001b[0mhidden_states\u001b[0m\u001b[0;34m)\u001b[0m\u001b[0;34m\u001b[0m\u001b[0;34m\u001b[0m\u001b[0m\n\u001b[1;32m    291\u001b[0m         attention_output = self.EncDecAttention(\n\u001b[0;32m--> 292\u001b[0;31m             \u001b[0mnorm_x\u001b[0m\u001b[0;34m,\u001b[0m \u001b[0mmask\u001b[0m\u001b[0;34m=\u001b[0m\u001b[0mattention_mask\u001b[0m\u001b[0;34m,\u001b[0m \u001b[0mkv\u001b[0m\u001b[0;34m=\u001b[0m\u001b[0mkv\u001b[0m\u001b[0;34m,\u001b[0m \u001b[0mposition_bias\u001b[0m\u001b[0;34m=\u001b[0m\u001b[0mposition_bias\u001b[0m\u001b[0;34m,\u001b[0m \u001b[0mhead_mask\u001b[0m\u001b[0;34m=\u001b[0m\u001b[0mhead_mask\u001b[0m\u001b[0;34m,\u001b[0m \u001b[0mtraining\u001b[0m\u001b[0;34m=\u001b[0m\u001b[0mtraining\u001b[0m\u001b[0;34m\u001b[0m\u001b[0;34m\u001b[0m\u001b[0m\n\u001b[0m\u001b[1;32m    293\u001b[0m         )\n\u001b[1;32m    294\u001b[0m         \u001b[0my\u001b[0m \u001b[0;34m=\u001b[0m \u001b[0mattention_output\u001b[0m\u001b[0;34m[\u001b[0m\u001b[0;36m0\u001b[0m\u001b[0;34m]\u001b[0m\u001b[0;34m\u001b[0m\u001b[0;34m\u001b[0m\u001b[0m\n",
            "\u001b[0;32m/usr/local/lib/python3.6/dist-packages/tensorflow_core/python/keras/engine/base_layer.py\u001b[0m in \u001b[0;36m__call__\u001b[0;34m(self, inputs, *args, **kwargs)\u001b[0m\n\u001b[1;32m    820\u001b[0m           with base_layer_utils.autocast_context_manager(\n\u001b[1;32m    821\u001b[0m               self._compute_dtype):\n\u001b[0;32m--> 822\u001b[0;31m             \u001b[0moutputs\u001b[0m \u001b[0;34m=\u001b[0m \u001b[0mself\u001b[0m\u001b[0;34m.\u001b[0m\u001b[0mcall\u001b[0m\u001b[0;34m(\u001b[0m\u001b[0mcast_inputs\u001b[0m\u001b[0;34m,\u001b[0m \u001b[0;34m*\u001b[0m\u001b[0margs\u001b[0m\u001b[0;34m,\u001b[0m \u001b[0;34m**\u001b[0m\u001b[0mkwargs\u001b[0m\u001b[0;34m)\u001b[0m\u001b[0;34m\u001b[0m\u001b[0;34m\u001b[0m\u001b[0m\n\u001b[0m\u001b[1;32m    823\u001b[0m           \u001b[0mself\u001b[0m\u001b[0;34m.\u001b[0m\u001b[0m_handle_activity_regularization\u001b[0m\u001b[0;34m(\u001b[0m\u001b[0minputs\u001b[0m\u001b[0;34m,\u001b[0m \u001b[0moutputs\u001b[0m\u001b[0;34m)\u001b[0m\u001b[0;34m\u001b[0m\u001b[0;34m\u001b[0m\u001b[0m\n\u001b[1;32m    824\u001b[0m           \u001b[0mself\u001b[0m\u001b[0;34m.\u001b[0m\u001b[0m_set_mask_metadata\u001b[0m\u001b[0;34m(\u001b[0m\u001b[0minputs\u001b[0m\u001b[0;34m,\u001b[0m \u001b[0moutputs\u001b[0m\u001b[0;34m,\u001b[0m \u001b[0minput_masks\u001b[0m\u001b[0;34m)\u001b[0m\u001b[0;34m\u001b[0m\u001b[0;34m\u001b[0m\u001b[0m\n",
            "\u001b[0;32m/usr/local/lib/python3.6/dist-packages/transformers/modeling_tf_t5.py\u001b[0m in \u001b[0;36mcall\u001b[0;34m(self, input, mask, kv, position_bias, cache, head_mask, training)\u001b[0m\n\u001b[1;32m    211\u001b[0m         \u001b[0;32melif\u001b[0m \u001b[0mcache\u001b[0m \u001b[0;32mis\u001b[0m \u001b[0;32mNone\u001b[0m \u001b[0;32mor\u001b[0m \u001b[0mself\u001b[0m\u001b[0;34m.\u001b[0m\u001b[0mlayer_id\u001b[0m \u001b[0;32mnot\u001b[0m \u001b[0;32min\u001b[0m \u001b[0mcache\u001b[0m\u001b[0;34m:\u001b[0m\u001b[0;34m\u001b[0m\u001b[0;34m\u001b[0m\u001b[0m\n\u001b[1;32m    212\u001b[0m             \u001b[0mk\u001b[0m \u001b[0;34m=\u001b[0m \u001b[0mv\u001b[0m \u001b[0;34m=\u001b[0m \u001b[0mkv\u001b[0m\u001b[0;34m\u001b[0m\u001b[0;34m\u001b[0m\u001b[0m\n\u001b[0;32m--> 213\u001b[0;31m             \u001b[0mk\u001b[0m \u001b[0;34m=\u001b[0m \u001b[0mshape\u001b[0m\u001b[0;34m(\u001b[0m\u001b[0mself\u001b[0m\u001b[0;34m.\u001b[0m\u001b[0mk\u001b[0m\u001b[0;34m(\u001b[0m\u001b[0mk\u001b[0m\u001b[0;34m)\u001b[0m\u001b[0;34m)\u001b[0m  \u001b[0;31m# (bs, n_heads, qlen, dim_per_head)\u001b[0m\u001b[0;34m\u001b[0m\u001b[0;34m\u001b[0m\u001b[0m\n\u001b[0m\u001b[1;32m    214\u001b[0m             \u001b[0mv\u001b[0m \u001b[0;34m=\u001b[0m \u001b[0mshape\u001b[0m\u001b[0;34m(\u001b[0m\u001b[0mself\u001b[0m\u001b[0;34m.\u001b[0m\u001b[0mv\u001b[0m\u001b[0;34m(\u001b[0m\u001b[0mv\u001b[0m\u001b[0;34m)\u001b[0m\u001b[0;34m)\u001b[0m  \u001b[0;31m# (bs, n_heads, qlen, dim_per_head)\u001b[0m\u001b[0;34m\u001b[0m\u001b[0;34m\u001b[0m\u001b[0m\n\u001b[1;32m    215\u001b[0m \u001b[0;34m\u001b[0m\u001b[0m\n",
            "\u001b[0;32m/usr/local/lib/python3.6/dist-packages/tensorflow_core/python/keras/engine/base_layer.py\u001b[0m in \u001b[0;36m__call__\u001b[0;34m(self, inputs, *args, **kwargs)\u001b[0m\n\u001b[1;32m    820\u001b[0m           with base_layer_utils.autocast_context_manager(\n\u001b[1;32m    821\u001b[0m               self._compute_dtype):\n\u001b[0;32m--> 822\u001b[0;31m             \u001b[0moutputs\u001b[0m \u001b[0;34m=\u001b[0m \u001b[0mself\u001b[0m\u001b[0;34m.\u001b[0m\u001b[0mcall\u001b[0m\u001b[0;34m(\u001b[0m\u001b[0mcast_inputs\u001b[0m\u001b[0;34m,\u001b[0m \u001b[0;34m*\u001b[0m\u001b[0margs\u001b[0m\u001b[0;34m,\u001b[0m \u001b[0;34m**\u001b[0m\u001b[0mkwargs\u001b[0m\u001b[0;34m)\u001b[0m\u001b[0;34m\u001b[0m\u001b[0;34m\u001b[0m\u001b[0m\n\u001b[0m\u001b[1;32m    823\u001b[0m           \u001b[0mself\u001b[0m\u001b[0;34m.\u001b[0m\u001b[0m_handle_activity_regularization\u001b[0m\u001b[0;34m(\u001b[0m\u001b[0minputs\u001b[0m\u001b[0;34m,\u001b[0m \u001b[0moutputs\u001b[0m\u001b[0;34m)\u001b[0m\u001b[0;34m\u001b[0m\u001b[0;34m\u001b[0m\u001b[0m\n\u001b[1;32m    824\u001b[0m           \u001b[0mself\u001b[0m\u001b[0;34m.\u001b[0m\u001b[0m_set_mask_metadata\u001b[0m\u001b[0;34m(\u001b[0m\u001b[0minputs\u001b[0m\u001b[0;34m,\u001b[0m \u001b[0moutputs\u001b[0m\u001b[0;34m,\u001b[0m \u001b[0minput_masks\u001b[0m\u001b[0;34m)\u001b[0m\u001b[0;34m\u001b[0m\u001b[0;34m\u001b[0m\u001b[0m\n",
            "\u001b[0;32m/usr/local/lib/python3.6/dist-packages/tensorflow_core/python/keras/layers/core.py\u001b[0m in \u001b[0;36mcall\u001b[0;34m(self, inputs)\u001b[0m\n\u001b[1;32m   1129\u001b[0m     \u001b[0;32mif\u001b[0m \u001b[0mrank\u001b[0m \u001b[0;34m>\u001b[0m \u001b[0;36m2\u001b[0m\u001b[0;34m:\u001b[0m\u001b[0;34m\u001b[0m\u001b[0;34m\u001b[0m\u001b[0m\n\u001b[1;32m   1130\u001b[0m       \u001b[0;31m# Broadcasting is required for the inputs.\u001b[0m\u001b[0;34m\u001b[0m\u001b[0;34m\u001b[0m\u001b[0;34m\u001b[0m\u001b[0m\n\u001b[0;32m-> 1131\u001b[0;31m       \u001b[0moutputs\u001b[0m \u001b[0;34m=\u001b[0m \u001b[0mstandard_ops\u001b[0m\u001b[0;34m.\u001b[0m\u001b[0mtensordot\u001b[0m\u001b[0;34m(\u001b[0m\u001b[0minputs\u001b[0m\u001b[0;34m,\u001b[0m \u001b[0mself\u001b[0m\u001b[0;34m.\u001b[0m\u001b[0mkernel\u001b[0m\u001b[0;34m,\u001b[0m \u001b[0;34m[\u001b[0m\u001b[0;34m[\u001b[0m\u001b[0mrank\u001b[0m \u001b[0;34m-\u001b[0m \u001b[0;36m1\u001b[0m\u001b[0;34m]\u001b[0m\u001b[0;34m,\u001b[0m \u001b[0;34m[\u001b[0m\u001b[0;36m0\u001b[0m\u001b[0;34m]\u001b[0m\u001b[0;34m]\u001b[0m\u001b[0;34m)\u001b[0m\u001b[0;34m\u001b[0m\u001b[0;34m\u001b[0m\u001b[0m\n\u001b[0m\u001b[1;32m   1132\u001b[0m       \u001b[0;31m# Reshape the output back to the original ndim of the input.\u001b[0m\u001b[0;34m\u001b[0m\u001b[0;34m\u001b[0m\u001b[0;34m\u001b[0m\u001b[0m\n\u001b[1;32m   1133\u001b[0m       \u001b[0;32mif\u001b[0m \u001b[0;32mnot\u001b[0m \u001b[0mcontext\u001b[0m\u001b[0;34m.\u001b[0m\u001b[0mexecuting_eagerly\u001b[0m\u001b[0;34m(\u001b[0m\u001b[0;34m)\u001b[0m\u001b[0;34m:\u001b[0m\u001b[0;34m\u001b[0m\u001b[0;34m\u001b[0m\u001b[0m\n",
            "\u001b[0;32m/usr/local/lib/python3.6/dist-packages/tensorflow_core/python/ops/math_ops.py\u001b[0m in \u001b[0;36mtensordot\u001b[0;34m(a, b, axes, name)\u001b[0m\n\u001b[1;32m   4104\u001b[0m     b_reshape, b_free_dims, b_free_dims_static = _tensordot_reshape(\n\u001b[1;32m   4105\u001b[0m         b, b_axes, True)\n\u001b[0;32m-> 4106\u001b[0;31m     \u001b[0mab_matmul\u001b[0m \u001b[0;34m=\u001b[0m \u001b[0mmatmul\u001b[0m\u001b[0;34m(\u001b[0m\u001b[0ma_reshape\u001b[0m\u001b[0;34m,\u001b[0m \u001b[0mb_reshape\u001b[0m\u001b[0;34m)\u001b[0m\u001b[0;34m\u001b[0m\u001b[0;34m\u001b[0m\u001b[0m\n\u001b[0m\u001b[1;32m   4107\u001b[0m     \u001b[0;32mif\u001b[0m \u001b[0misinstance\u001b[0m\u001b[0;34m(\u001b[0m\u001b[0ma_free_dims\u001b[0m\u001b[0;34m,\u001b[0m \u001b[0mlist\u001b[0m\u001b[0;34m)\u001b[0m \u001b[0;32mand\u001b[0m \u001b[0misinstance\u001b[0m\u001b[0;34m(\u001b[0m\u001b[0mb_free_dims\u001b[0m\u001b[0;34m,\u001b[0m \u001b[0mlist\u001b[0m\u001b[0;34m)\u001b[0m\u001b[0;34m:\u001b[0m\u001b[0;34m\u001b[0m\u001b[0;34m\u001b[0m\u001b[0m\n\u001b[1;32m   4108\u001b[0m       \u001b[0;32mreturn\u001b[0m \u001b[0marray_ops\u001b[0m\u001b[0;34m.\u001b[0m\u001b[0mreshape\u001b[0m\u001b[0;34m(\u001b[0m\u001b[0mab_matmul\u001b[0m\u001b[0;34m,\u001b[0m \u001b[0ma_free_dims\u001b[0m \u001b[0;34m+\u001b[0m \u001b[0mb_free_dims\u001b[0m\u001b[0;34m,\u001b[0m \u001b[0mname\u001b[0m\u001b[0;34m=\u001b[0m\u001b[0mname\u001b[0m\u001b[0;34m)\u001b[0m\u001b[0;34m\u001b[0m\u001b[0;34m\u001b[0m\u001b[0m\n",
            "\u001b[0;32m/usr/local/lib/python3.6/dist-packages/tensorflow_core/python/util/dispatch.py\u001b[0m in \u001b[0;36mwrapper\u001b[0;34m(*args, **kwargs)\u001b[0m\n\u001b[1;32m    178\u001b[0m     \u001b[0;34m\"\"\"Call target, and fall back on dispatchers if there is a TypeError.\"\"\"\u001b[0m\u001b[0;34m\u001b[0m\u001b[0;34m\u001b[0m\u001b[0m\n\u001b[1;32m    179\u001b[0m     \u001b[0;32mtry\u001b[0m\u001b[0;34m:\u001b[0m\u001b[0;34m\u001b[0m\u001b[0;34m\u001b[0m\u001b[0m\n\u001b[0;32m--> 180\u001b[0;31m       \u001b[0;32mreturn\u001b[0m \u001b[0mtarget\u001b[0m\u001b[0;34m(\u001b[0m\u001b[0;34m*\u001b[0m\u001b[0margs\u001b[0m\u001b[0;34m,\u001b[0m \u001b[0;34m**\u001b[0m\u001b[0mkwargs\u001b[0m\u001b[0;34m)\u001b[0m\u001b[0;34m\u001b[0m\u001b[0;34m\u001b[0m\u001b[0m\n\u001b[0m\u001b[1;32m    181\u001b[0m     \u001b[0;32mexcept\u001b[0m \u001b[0;34m(\u001b[0m\u001b[0mTypeError\u001b[0m\u001b[0;34m,\u001b[0m \u001b[0mValueError\u001b[0m\u001b[0;34m)\u001b[0m\u001b[0;34m:\u001b[0m\u001b[0;34m\u001b[0m\u001b[0;34m\u001b[0m\u001b[0m\n\u001b[1;32m    182\u001b[0m       \u001b[0;31m# Note: convert_to_eager_tensor currently raises a ValueError, not a\u001b[0m\u001b[0;34m\u001b[0m\u001b[0;34m\u001b[0m\u001b[0;34m\u001b[0m\u001b[0m\n",
            "\u001b[0;32m/usr/local/lib/python3.6/dist-packages/tensorflow_core/python/ops/math_ops.py\u001b[0m in \u001b[0;36mmatmul\u001b[0;34m(a, b, transpose_a, transpose_b, adjoint_a, adjoint_b, a_is_sparse, b_is_sparse, name)\u001b[0m\n\u001b[1;32m   2796\u001b[0m     \u001b[0;32melse\u001b[0m\u001b[0;34m:\u001b[0m\u001b[0;34m\u001b[0m\u001b[0;34m\u001b[0m\u001b[0m\n\u001b[1;32m   2797\u001b[0m       return gen_math_ops.mat_mul(\n\u001b[0;32m-> 2798\u001b[0;31m           a, b, transpose_a=transpose_a, transpose_b=transpose_b, name=name)\n\u001b[0m\u001b[1;32m   2799\u001b[0m \u001b[0;34m\u001b[0m\u001b[0m\n\u001b[1;32m   2800\u001b[0m \u001b[0;34m\u001b[0m\u001b[0m\n",
            "\u001b[0;32m/usr/local/lib/python3.6/dist-packages/tensorflow_core/python/ops/gen_math_ops.py\u001b[0m in \u001b[0;36mmat_mul\u001b[0;34m(a, b, transpose_a, transpose_b, name)\u001b[0m\n\u001b[1;32m   5604\u001b[0m         \u001b[0m_ctx\u001b[0m\u001b[0;34m.\u001b[0m\u001b[0m_context_handle\u001b[0m\u001b[0;34m,\u001b[0m \u001b[0mtld\u001b[0m\u001b[0;34m.\u001b[0m\u001b[0mdevice_name\u001b[0m\u001b[0;34m,\u001b[0m \u001b[0;34m\"MatMul\"\u001b[0m\u001b[0;34m,\u001b[0m \u001b[0mname\u001b[0m\u001b[0;34m,\u001b[0m\u001b[0;34m\u001b[0m\u001b[0;34m\u001b[0m\u001b[0m\n\u001b[1;32m   5605\u001b[0m         \u001b[0mtld\u001b[0m\u001b[0;34m.\u001b[0m\u001b[0mop_callbacks\u001b[0m\u001b[0;34m,\u001b[0m \u001b[0ma\u001b[0m\u001b[0;34m,\u001b[0m \u001b[0mb\u001b[0m\u001b[0;34m,\u001b[0m \u001b[0;34m\"transpose_a\"\u001b[0m\u001b[0;34m,\u001b[0m \u001b[0mtranspose_a\u001b[0m\u001b[0;34m,\u001b[0m \u001b[0;34m\"transpose_b\"\u001b[0m\u001b[0;34m,\u001b[0m\u001b[0;34m\u001b[0m\u001b[0;34m\u001b[0m\u001b[0m\n\u001b[0;32m-> 5606\u001b[0;31m         transpose_b)\n\u001b[0m\u001b[1;32m   5607\u001b[0m       \u001b[0;32mreturn\u001b[0m \u001b[0m_result\u001b[0m\u001b[0;34m\u001b[0m\u001b[0;34m\u001b[0m\u001b[0m\n\u001b[1;32m   5608\u001b[0m     \u001b[0;32mexcept\u001b[0m \u001b[0m_core\u001b[0m\u001b[0;34m.\u001b[0m\u001b[0m_FallbackException\u001b[0m\u001b[0;34m:\u001b[0m\u001b[0;34m\u001b[0m\u001b[0;34m\u001b[0m\u001b[0m\n",
            "\u001b[0;31mKeyboardInterrupt\u001b[0m: "
          ]
        }
      ]
    },
    {
      "cell_type": "code",
      "metadata": {
        "id": "YrMWFD6Xb7oe",
        "colab_type": "code",
        "colab": {}
      },
      "source": [
        "# summary0.values()\n",
        "\n",
        "summary0"
      ],
      "execution_count": 0,
      "outputs": []
    },
    {
      "cell_type": "code",
      "metadata": {
        "id": "1BdfTQtXcg2R",
        "colab_type": "code",
        "colab": {}
      },
      "source": [
        "summary0[0].values()"
      ],
      "execution_count": 0,
      "outputs": []
    },
    {
      "cell_type": "code",
      "metadata": {
        "id": "jsui2Xb4WCdm",
        "colab_type": "code",
        "colab": {}
      },
      "source": [
        "df[\"Summary\"].iloc[0]= str(summary0[0].values())\n"
      ],
      "execution_count": 0,
      "outputs": []
    },
    {
      "cell_type": "code",
      "metadata": {
        "id": "sgUpV4gddjmU",
        "colab_type": "code",
        "outputId": "27329ce3-2609-4698-e883-5b238d84016d",
        "colab": {
          "base_uri": "https://localhost:8080/",
          "height": 241
        }
      },
      "source": [
        "df[\"Summary\"]"
      ],
      "execution_count": 0,
      "outputs": [
        {
          "output_type": "execute_result",
          "data": {
            "text/plain": [
              "0      dict_values(['acids with a molecular weight of...\n",
              "1      dict_values(['biophysical, biochemical, and im...\n",
              "2      dict_values(['Publisher Summary A large number...\n",
              "3      dict_values(['the progress of a virus through ...\n",
              "4      dict_values(['sialic acid play important roles...\n",
              "                             ...                        \n",
              "264    dict_values(['strength of N protein/RNA intera...\n",
              "265    dict_values(['signal RNA, and demonstrate feas...\n",
              "266    dict_values(['Structure-based stabilization of...\n",
              "267    dict_values(['Adenoviruses as most viruses rel...\n",
              "268    dict_values(['tropism of the different types. ...\n",
              "Name: Summary, Length: 269, dtype: object"
            ]
          },
          "metadata": {
            "tags": []
          },
          "execution_count": 47
        }
      ]
    },
    {
      "cell_type": "code",
      "metadata": {
        "id": "GDwyT7kCWFYi",
        "colab_type": "code",
        "colab": {}
      },
      "source": [
        ""
      ],
      "execution_count": 0,
      "outputs": []
    },
    {
      "cell_type": "code",
      "metadata": {
        "id": "1Yt7KjgIomD-",
        "colab_type": "code",
        "outputId": "85ce0608-3192-4bbc-dfd4-b3abf3d7aca7",
        "colab": {
          "base_uri": "https://localhost:8080/",
          "height": 56
        }
      },
      "source": [
        "ABSsummary = ' '.join(df[\"Summary\"])\n",
        "ABSsummary #absWINDOW"
      ],
      "execution_count": 0,
      "outputs": [
        {
          "output_type": "execute_result",
          "data": {
            "text/plain": [
              "'dict_values([\\'acids with a molecular weight of 128079 . the use of a\\']) dict_values([\\'biophysical, biochemical, and immunological methods have proven very valuable in studying carbohydrate\\']) dict_values([\\'Publisher Summary A large number of clinically important viruses utilize carbohydrate viral surface protein interactions to\\']) dict_values([\\'the progress of a virus through a cell and can provide a direct window into protein\\']) dict_values([\\'sialic acid play important roles in human physiology of cell-cell interaction, communication\\']) dict_values([\\'La, PTB, and PABP are important trans-acting factors required for viral translation\\']) dict_values([\\'previously reported role in mitochondrial morphology alterations and apoptosis inhibition\\']) dict_values([\\'real-world evidences to inform drug repurposing, using omics data (\\']) dict_values([\\'interprotein interactions with wild-type S. thereby, a dual location of GFP\\']) dict_values([\\'the two proteins were expressed as fusion proteins in the yeast two-hybrid system\\']) dict_values([\\'this is the first research detailing the lipidome and lipid–protein interactions of an une\\']) dict_values([\\'this chapter briefly surveys the concept of multivalency involved in carbohydrate–protein interactions \\']) dict_values([\\'rabies virus infection on host cell gene expression and two hybrid systems to explore detailed protein–\\']) dict_values([\\'locally ordered assemblies are of paramount importance . these structures can reveal how the structure of enveloped\\']) dict_values([\\'(4) \"non-druggable\" targets, such as inhibitors of aggregat\\']) dict_values([\\'the family encode functional proteases . protein–protein interactions are critical aspects of their biological\\']) dict_values([\\'there is only 20% amino acid (aa) identity with known coronaviruses\\']) dict_values([\\'stretch of amino acids (168–208) in the N protein may be critical for such protein\\']) dict_values([\\'electron microscopic studies of the virion, biochemical and in vivo studies on\\']) dict_values([\\'complex that is comprised of more than a dozen virally encoded and several cellular\\']) dict_values([\\'Nanoparticle (NP)–protein complexes exhibit the “correct identity” of \\']) dict_values([\\'membranes with cubic morphology are a hallmark of stressed or diseased cellular conditions\\']) dict_values([\\'Phage display is a simple functional genomic methodology for screening protein–ligand interactions .\\']) dict_values([\\'use of fragment libraries of whole microbial genomes to identify peptide–ligand\\']) dict_values([\\'all IFIT proteins contain multiple TPR motifs which mediate protein-protein interactions \\']) dict_values([\\'capsid protein from distinct strains shows different HBGA specificities . capsi\\']) dict_values([\\'displaying the collected data on the protein surface, one is then able to investigate the protein\\']) dict_values([\\'Summary Protein-protein interactions dictate the assembly of the macromolecular complexes essential for\\']) dict_values([\\'including herpesviridae, papillomaviride, ortho\\']) dict_values([\\'host-virus protein interactions on human metabolism . relationships of virus-targeted host proteins\\']) dict_values([\\'NMR hardware improvements make drug discovery easier . drug discovery still one of the most difficult development\\']) dict_values([\\'study of protein–ligand interactions has led to impressive success in the development of novel drugs \\']) dict_values([\\'researchers have been able to design numerous types of nanoscale fluorescent tool kits for monitoring protein–\\']) dict_values([\\'recent developments in the field of carbohydrate microarray technology facilitate applications for different types of\\']) dict_values([\\'shifting by the difficulties inherent to small viral membrane proteins . shifted by the realization that protein\\']) dict_values([\\'Intramembrane protein–protein interactions (PPIs) are involved in trans\\']) dict_values([\\'Molecular dynamics (MD) simulations have greatly contributed to our understanding of protein–membr\\']) dict_values([\\'Protein-protein interactions are required for many viral and cellular functions and are potential targets for novel\\']) dict_values([\\'we cloned the viral ORFeome and performed a genome-wide\\']) dict_values([\\'the global stability of the SARS proteome network, or play some unrealized role in\\']) dict_values([\\'it is useful for the design of new materials, molecular sensors, and multimeric inhibitor\\']) dict_values([\\'pathogen life cycle in vivo and in vitro . data includes transcriptional profiles\\']) dict_values([\\'analyses of viral protein-protein interactions are an important step to understand viral protein functions\\']) dict_values([\\'screens the genome-wide intraviral protein-protein interactions of SARS coronavirus\\']) dict_values([\\'domain with a predominantly -helical content displaying a unique fold .\\']) dict_values([\\'herpes simplex virus 1 (HSV-1), murine cytomegalo\\']) dict_values([\\'a total of 1,007 intraviral protein interactions were included in the analysis .\\']) dict_values([\\'we identified a core set of highly conserved protein interactions, like the interaction between HSV\\']) dict_values([\\'The Biodefense Resource Center (www.proteomicsresource.org) has developed \\']) dict_values([\\'His-tagged recombinant proteins are a desirable tool for the screening of novel\\']) dict_values([\\'interactions are beneficial, neutral or antiviral with respect to VSV replication . host proteins\\']) dict_values([\\'CAPIH is the first web-based interface to provide comparative information between human and the\\']) dict_values([\\'provide comparative information between human and the three model organisms in the context of host-HI\\']) dict_values([\\'in the case of AIDS, the host-HIV-1 protein interactions apparently have differe\\']) dict_values([\\'is an important topic for drug development . it is time-consuming and costly to determine compound\\']) dict_values([\\'components of globular proteins and are the most principal level at which protein function and protein interactions\\']) dict_values([\\'Several protein-protein interactions within the SARS-CoV proteome have been identified \\']) dict_values([\"arb could increase the strength of virus glycoprotein\\'s interactions with the membrane . ar\"]) dict_values([\\'despite genetic evidences, we have almost no understanding about NS2 protein-protein interactions\\']) dict_values([\\'high-throughput antibody development requires faster methodologies . BACKGROUND: High-\\']) dict_values([\\'higher-order complexes in the presence of RNA, the domain might play some role\\']) dict_values([\\'briding viral RNA by both Pol precursor and Gag as well as potential Gag\\']) dict_values([\\'atomic resolution aims to better understand the relation between protein interactions and biological functions . we\\']) dict_values([\\'antifreeze proteins (AFPs) are ice-binding proteins . AFP\\']) dict_values([\\'studies indicate that cellular entry of this family of viruses requires a series of cellular protein\\']) dict_values([\\'RNA-protein interactions (RPIs) play important roles in a wide variety of\\']) dict_values([\\'post-transcriptional regulation of gene expression to host defense against pathogens . post\\']) dict_values([\\'Hence, there is a need for reliable computational methods for predicting RNA-protein\\']) dict_values([\\'RPISeq is a family of classifiers for predicting RNA-\\']) dict_values([\\'Receiver Operating Characteristic (ROC) curve) of 0.96 and 0.92 . \\']) dict_values([\\'RPISeq classifiers trained using the PRIDB data correctly predicted the majority\\']) dict_values([\\'RNA-protein interactions can be reliably predicted using only sequence-derived information . \\']) dict_values([\\'bulk membrane and enriched in cholesterol and sphingolipids . they represent \\']) dict_values([\\'small molecules disturb RNA structural organization or RNA-protein interactions needed to initiate translation in FM\\']) dict_values([\\'sodium sulfite treatment disrupts critical virion-host protein interactions required for \\']) dict_values([\\'high-affinity binding) to HPV16 E7 were employed as molecular tools\\']) dict_values([\\'a ‘task’ in our scenario is the set of host–pathogen protein interactions involved\\']) dict_values([\\'for phosphoproteome data from interventional experiments for identifying key proteins in specific pathways\\']) dict_values([\\'within modules, we find significant enrichment for biological function and known interactions . CONCLUS\\']) dict_values([\\'genome-scale screens for host factors (HFs) involved in virus replication . yeast two\\']) dict_values([\\'compounds inhibited viral glycoprotein interactions with cell surface glycosaminoglycan\\']) dict_values([\\'E protein PDZ-binding motif (PBM) is a domain involved in\\']) dict_values([\\'NS2A displays both protein/protein and membrane/protein interactions . neither its functions\\']) dict_values([\\'SILAC immunoprecipitation enables discovery of novel protein:protein interactions .\\']) dict_values([\\'crowding might affect protein structure, folding, shape, conformational stability, binding of small\\']) dict_values([\\'ncRNA-protein interactions play an important role in post-transcriptional gene regulation\\']) dict_values([\\'the efficient incorporation of viral envelope proteins into CoV virions depends on protein trafficking\\']) dict_values([\\'M and S glycoproteins into the CoV virion, focusing on protein trafficking\\']) dict_values([\\'use of very small molecules (fragments) as inhibitors of protein–protein interactions .\\']) dict_values([\\'members of these viroporins have been characterized in some detail . searches for\\']) dict_values([\\'novel strategies that target protein-protein interactions as much needed antivirals . these should complement\\']) dict_values([\\'two classes of RNA remodeling proteins function to remodel RNA structures . some virus-en\\']) dict_values([\\'phage display technology has been an invaluable tool for studies of protein–protein interactions .\\']) dict_values([\\'MERS-27 blocks protein-protein and protein-carbohydrate interactions between MERS\\']) dict_values([\\'all possible intraviral protein-protein interactions (PPIs) of HEV are examined\\']) dict_values([\\'UPS provides many opportunities for selective modulation of the pathway with small molecules . biology of \\']) dict_values([\\'peptides derived from envelope proteins inhibit protein-protein interactions in virus membrane fusion\\']) dict_values([\\'Combinatorial phage library is a powerful research tool for high-throughput screening\\']) dict_values([\\'innate immune protein interactions with the cytoskeleton are also discussed . significance and context\\']) dict_values([\\'transcriptional or post-transcriptional regulation of the innate and adaptive immune responses via new\\']) dict_values([\\'short linear peptide motifs found in host protein-PDZ interactions . to \\']) dict_values([\\'the contribution of virus-PDZ protein interactions to virus-mediated oncogenesis . we\\']) dict_values([\\'regulation of all aspects of RNA metabolism, from synthesis to decay . protein-RNA\\']) dict_values([\\'disordered protein regions mediate protein-RNA interactions . these regions can mediat\\']) dict_values([\\'Disordered regions can influence RNA metabolism through protein aggregation and hydrogel formation\\']) dict_values([\\'lprG appears to bind DC-SIGN via typical proteingly\\']) dict_values([\\'proteomic-based approaches have been used to characterize this dynamic virus–host interaction \\']) dict_values([\\'interferon-inducible, innate immune effector molecules thought to confer antivir\\']) dict_values([\\'cis-acting RNA signals regulate replication of eGFP-encoding\\']) dict_values([\\'short linear motifs (SLiM) are short peptides that facilitate protein function\\']) dict_values([\\'EV71-host protein interactions have not been explored . cellular interactions between EV\\']) dict_values([\\'demonstrated its antiviral efficiency in vitro. These findings provide the first systematic identification of \\']) dict_values([\\'this review discusses available technologies for the high throughput study of extracellular protein interactions .\\']) dict_values([\\'this review discusses available technologies for the high throughput study of extracellular protein interactions .\\']) dict_values([\\'further development and application of technologies for genome-wide identification of extracellular protein interactions will be important\\']) dict_values([\\'PLPIHS is an effective computational method for Predicting lncRNA-\\']) dict_values([\\'an SVM classifier to predict lncRNA-protein interactions is built with the\\']) dict_values([\\'WGA showed strong binding to heavily sialylated glycoproteins . observations will\\']) dict_values([\\'membranes. We hypothesized that RNC would be ideal targets for crosslinkers engine\\']) dict_values([\\'an alternative therapeutic strategy relies on the identification and use of compounds that disrupt specific protein-protein\\']) dict_values([\\'similar hits were displayed within the same feature, they were readily detected using protein-specific antibodies \\']) dict_values([\\'virus are yet unknown. here, we assembled an interactome of IFITM1 and I\\']) dict_values([\\'protein-protein interactions (PPIs) are key mediators of host-pathogen interactions\\']) dict_values([\\'the oncogenic potential of LMP1 has been ascribed to pleio\\']) dict_values([\\'analysis of the determinants of specificity for this interaction has implications for protein–carb\\']) dict_values([\\'it is hoped that they can target “undruggable” intracellular protein–protein\\']) dict_values([\\'Previous methods for predicting protein-protein interactions (PPIs) were mainly focused on\\']) dict_values([\\'other class I enveloped viruses and to prepare helical tertiary structure mi\\']) dict_values([\\'RNA-protein interactions (RPIs) play critical roles in numerous fundamental biological processes \\']) dict_values([\\'high-throughput sequencing methods have made it possible to measure and understand RNA-protein interactions\\']) dict_values([\\'RPiRLS achieved an accuracy of 92% on the prediction of lnc\\']) dict_values([\\'mapped 33 host protein interactions of CD81 in primary human liver and hepatoma\\']) dict_values([\\'BACKGROUND: Viral infection involves a large number of protein-protein interactions\\']) dict_values([\\'mechanism. Computational docking analysis (CMDA) and X-ray crystall\\']) dict_values([\\'review the results of CMDA and XCA of EGCG and other plant cate\\']) dict_values([\\'research, a Protein-Protein Interaction (PPI) network was built from\\']) dict_values([\\'a lot of problems are still waiting to be solved in bioinformatics .\\']) dict_values([\\'resources have been widely used to exclude target-unrelated peptides, characterize small\\']) dict_values([\\'intervention. Entry inhibitors act by targeting viral and/or cellular components . entry inhibitor\\']) dict_values([\\'envelope proteins or between viral proteins and host cell receptors, or through the inhibition of protein-\\']) dict_values([\\'200 new designed ligands . pharmacophore analysis was used to identify\\']) dict_values([\\'Knowledge of protein-protein interactions and their binding sites is indispensable for in-depth understanding of the\\']) dict_values([\\'Interactome describes the set of all molecular interactions in cells, especially in the context\\']) dict_values([\\'in this short review, we compare various methods for predicting protein-protein interactions . the\\']) dict_values([\\'Understanding the relationship between the sequence, structure, binding energy, binding kinetics and binding thermo\\']) dict_values([\\'major update to our database of binding free energy changes upon mutation for structurally resolved protein–protein\\']) dict_values([\\'controllability analyses provide evidence of wide-reaching network effects stemming from the addition\\']) dict_values([\\'features from protein sequences, and therefore important in similarity analysis . study of protein-\\']) dict_values([\\'Sanger sequencing limited to 500–800 nucleotides . sequencing is carried from\\']) dict_values([\\'2HybridTools provides detailed mutation reports as a basis for further investigation of\\']) dict_values([\\'this study attempts to find therapy using peptide by establishing a basis for the \\']) dict_values([\\'discriminate background signals resulting from colocalization of proteins at membrane subdomains .\\']) dict_values([\\'prior attempts to address the effect of ISG15 diversity on viral protein-ISG15 interactions\\']) dict_values([\\'RNA-protein interactions play a very important role in a wide range of post-\\']) dict_values([\\'the negative regulatory function of USP18 in IFN signaling is regulated by various protein\\']) dict_values([\\'strategies comprise mouse models for translational perspectives, cell-based and biochemical assays \\']) dict_values([\\'proteins that interact with RNA and DNA including overall abundance, evolutionary conservation, and involvement in protein\\']) dict_values([\\'last 5 years, protein microarrays have been developed and applied to multiple approaches .\\']) dict_values([\\'the reader will understand the complex protein-protein interactions that occur after such trauma . the reader\\']) dict_values([\\'we discuss the protein interactions underlying the polysialylation of a select group\\']) dict_values([\\'receptor binding often involves protein-protein interactions . carbohydrates may serve as receptor determinants as\\']) dict_values([\\'in this report, we present a workflow to predict RNA tertiary structures\\']) dict_values([\\'key parameters used to study protein–protein, protein–peptide, and protein–DNA interactions\\']) dict_values([\\'SARS-CoV M protein and other structural proteins is proposed . this study helps us\\']) dict_values([\\'method of hybridizing RNAs on the surface of the streptavidin-coated\\']) dict_values([\\'some insights into the complexity of the IFN system . protein-protein interactions define biological function\\']) dict_values([\\'advances in the functional understanding of carbohydrate–protein interactions have enabled the development of a\\']) dict_values([\\'(+)RNA viruses interact with host molecules through protein–protein, RNA–protein and protein\\']) dict_values([\\'natural protein and short synthetic peptide libraries with unusually high diversities for the investigation of\\']) dict_values([\\'widely used peptide or protein-selection techniques, and discuss various applications of this\\']) dict_values([\\'high-throughput protein analyses are increasingly applied for many research areas, such as protein interactions,\\']) dict_values([\\'pathways to this process are poorly understood but likely to be mediated by protein-protein interactions \\']) dict_values([\\'high-throughput screenings for intraviral and virus-host protein-protein interactions led\\']) dict_values([\\'distant RNA regulatory sequences interact with each other directly and probably through protein-RNA and protein\\']) dict_values([\\'distant TRS-B, as proposed for CoV discontinuous transcription.5–7 In\\']) dict_values([\\'model of unwinding for NS3 in which the enzyme binds directly to the\\']) dict_values([\\'from Escherichia coli EC869 and Yersinia\\']) dict_values([\\'concert to promote effective host defense . these networks range from those involving gene regulatory and protein\\']) dict_values([\\'we present an exhaustive overview of the genetic approaches available to study in vivo binary protein interactions\\']) dict_values([\\'candidate host receptors expressed on the MPA . membrane protein–pathogen interactions validated\\']) dict_values([\\'the efficacy of targeted recombination with fMHV for the systematic\\']) dict_values([\\'helix 1. Each of these three areas is thus implicated as a potential\\']) dict_values([\\'studies of peptide and protein interactions with membranes have largely been limited to naturally occurring\\']) dict_values([\\'SLB arrays to be analyzed with excellent label-free sensitivity in a real\\']) dict_values([\\'MHV NTD does not bind sugars, but instead binds m\\']) dict_values([\\'insufficient attention has been paid to the prediction of protein–RNA interactions . these play \\']) dict_values([\\'insufficient attention has been paid to the prediction of protein–RNA interactions . but insufficient\\']) dict_values([\\'study suggests potential of SVM as a useful tool for facilitating the prediction of protein–\\']) dict_values([\\'specificity for ubiquitin contain multiple domains modulating DUB substrate specificity \\']) dict_values([\\'with which DUBs associate modulate DUB activity and substrate specificity . Quantit\\']) dict_values([\\'cytoplasmic tail could be observed . we propose that VLP systems are useful tools\\']) dict_values([\\'noncovalent interactions also play a role in dimerization . non-dis\\']) dict_values([\\'synthesis of CovCore proteins should provide versatile templates for developing inhibitors of protein–\\']) dict_values([\\'recent genetic evidence suggests that N interacts with nsp3a, a component\\']) dict_values([\\'to 4-O-Ac-Sia substrate switch. lectin ligand\\']) dict_values([\\'virus-host protein interactions should be mapped directly in infected cell culture . such\\']) dict_values([\\'fold or doublewing motif, which is an  +  fold . \\']) dict_values([\\'PDZ domains of Scribble interact with the C terminus of Tax-1 .\\']) dict_values([\\'we suggest it will be a highly valuable approach for studying cellular and pathogen–host\\']) dict_values([\\'hosts must communicate with hosts via Protein-Protein Interactions (PPIs)\\']) dict_values([\\'studies of coronavirus replication complex organization and protein interactions have utilized protein overexpression studies \\']) dict_values([\\'proteomic approaches have greatly facilitated the detection of virion components, protein interactions in in\\']) dict_values([\\'on all eukaryotic viruses and bacteriophages, covering virion composition\\']) dict_values([\\'MHV spreads by retrograde axonal transport to the eye . targeting\\']) dict_values([\\'cell biology studies look at protein-protein interactions, post-translational modifications, and regulation\\']) dict_values([\\'viruses exhibit small-sized genomes encoding few proteins . viruses establish complex networks of\\']) dict_values([\\'AiV recruits cholesterol transport machinery through protein-protein interactions . formation of membrane contact\\']) dict_values([\\'specific strategy employed by AiV to efficiently accumulate cholesterol at the RNA replication sites via protein\\']) dict_values([\\'both protein-protein and protein-RNA interactions involving ZBTB25 facilitated viral \\']) dict_values([\\'motif well documented to be involved in intramembrane protein-protein interactions . single\\']) dict_values([\\'varied (+)RNA viruses may represent topologically and functionally related structures formed by similar protein\\']) dict_values([\\'RNA helicases can act as a scaffold for alternative protein-protein interactions \\']) dict_values([\\'lateral envelope protein interactions in flavivirus assembly could provide important clues about the role of\\']) dict_values([\\'Protein interactions between virus and host are essential for viral propagation and movement . viruses lack protein\\']) dict_values([\\'lead from pattern recognition to cytokine induction reveal cascades that involve protein-\\']) dict_values([\\'hemorrhagic fever syndrome rapidly fatal to humans and non-human primates \\']) dict_values([\\'RNA-remodeling proteins act to remodel RNA structures and/or protein-RNA\\']) dict_values([\\'Protein-protein interactions play a central role in biological processes and thus represent an appealing target for\\']) dict_values([\\'fundamentally and clinically important to mechanistically understand how signal transduction occurs .\\']) dict_values([\\'global therapeutic strategies targeting key protein-protein interactions may be used to treat a variety of functional\\']) dict_values([\\'immunofluorescence, Co-immunoprecipitation and Western blo\\']) dict_values([\\'that includes specific membrane targeting of both DNAJC14 and YFV replication proteins .\\']) dict_values([\\'(M) proteins play key roles in virus assembly, through M-M, M-spi\\']) dict_values([\\'GP4 protein is critical for mediating interglycoprotein interactions . GP\\']) dict_values([\\'modulate interactions between components of various cellular signaling and cell cycle regulatory pathways through phospho\\']) dict_values([\\'through scA2AR/D2R, focusing on the procedure of the\\']) dict_values([\\'post-genome analysis of protein-protein interactions may provide early scientific guidance for viral prevention and\\']) dict_values([\\'predicted to constitute the receptorome for the human-infecting virome . combination of\\']) dict_values([\\'this paper may help elucidate the biological roles of these proteins as far as protein-\\']) dict_values([\\'identified 332 high confidence SARS-CoV-2-human protein-protein interactions (PP\\']) dict_values([\\'Using the CROSS method, we found >100000 human protein interactions with severe acute\\']) dict_values([\\'our calculations indicate strong propensity to bind proteins . Using the catRAP\\']) dict_values([\\'a more holistic understanding of the SARS-CoV-2 vs. human inter\\']) dict_values([\\'represent a diverse family of proteins that share ATPase domains that are \\']) dict_values([\\'Understanding the relationship between sequence, structure, binding energy, binding kinetics and binding thermodynamic\\']) dict_values([\\'major update to our database of binding free energy changes upon mutation for structurally resolved protein-protein\\']) dict_values([\\'until now. Identification of new anti-ASFV drugs is urgently needed . here\\']) dict_values([\\'can expose the processing dynamics of viral polyproteins and the landscape of protein interactions in one set\\']) dict_values([\\'new insights into protein interactions, essential for generation of viral progeny, were provided .\\']) dict_values([\\'CHIKV is a re-emerging mosquito-transmitted RNA\\']) dict_values([\\'HCoV-229E. This study may assist the development of anti-viral\\']) dict_values([\\'success in evaluation of chemical–protein interactions, enzyme activity inhibition, target identification, signal pathway \\']) dict_values([\\'findings attest to the general applicability of the BiFC system for the verification of protein\\']) dict_values([\\'pharmacological disruption of host-pathogen protein–protein interactions (PPIs)\\']) dict_values([\\'B cell lymphoma-2 (BCL-2)-related proteins control programmed cell\\']) dict_values([\\'can expose the processing dynamics of viral polyproteins and the landscape of protein interactions in one set\\']) dict_values([\\'new insights into protein interactions, essential for generation of viral progeny, were provided .\\']) dict_values([\\'in this article, we used the human protein–protein interactions (PPIs), disease genes\\']) dict_values([\\'emerged as a promising approach for a wide variety of applications including the identification of protein–\\']) dict_values([\\'a promising approach for a wide variety of applications including the identification of protein–protein interactions\\']) dict_values([\\'aspects of immunity such as production of inflammatory mediators, differentiation, and cell migration through \\']) dict_values([\\'we conclude that protein-ligand and protein-protein interactions are closely correlated in Mpro\\']) dict_values([\\'how CD81 governs HCV entry is poorly characterized, and CD81 protein interactions after\\']) dict_values([\\'use of quantitative proteomics to elucidate pathogen entry and underscore importance of host protein\\']) dict_values([\\'yeast surface display for protein characterization represents a significant recent advance . mapping of functional epi\\']) dict_values([\\'gene-scale screens for intraviral and virus–host protein interactions and the analysis of literature\\']) dict_values([\\'alternative high-throughput technologies detecting binary protein interactions or protein complexes have been developed\\']) dict_values([\\'cells relies on interactions between viral and host structures including lipids, carbohydrates and proteins \\']) dict_values([\\'protein–protein interactions between viral surface proteins and host proteins play a pivotal role in \\']) dict_values([\\'here we review protein interactions during virus entry . compare classical biochemical methods to study entry with\\']) dict_values([\\'systematic mapping of intra-pathogenic and pathogen–host protein–protein interactions (PPI\\']) dict_values([\\'only two-hybrid methodology has been used to characterize viral–host protein–\\']) dict_values([\\'focus on the numerous studies that have utilized protein microarrays to reconstruct biological networks .\\']) dict_values([\\'translocation events facilitate localization-dependent protein interactions and changes in protein functions that contribute to either\\']) dict_values([\\'strength of N protein/RNA interactions is critical for HCoV-OC43 replication \\']) dict_values([\\'signal RNA, and demonstrate feasibility of using this cell-based assay to further probe viral\\']) dict_values([\\'Structure-based stabilization of protein–protein interactions (PPIs) is a promising\\']) dict_values([\\'Adenoviruses as most viruses rely on glycan and protein interactions\\']) dict_values([\\'tropism of the different types. methods to systematically identify glycan and protein\\'])'"
            ]
          },
          "metadata": {
            "tags": []
          },
          "execution_count": 49
        }
      ]
    },
    {
      "cell_type": "code",
      "metadata": {
        "id": "e6vpCl8rShQe",
        "colab_type": "code",
        "colab": {}
      },
      "source": [
        "# put all the summaries of 20 paper abstracts together to generate a 600-1000 words summary\n",
        "\n",
        "# in this way we let T5 help us read the 20 abstracts output\n",
        "# further generate word cloud for ABSsummary to viz info"
      ],
      "execution_count": 0,
      "outputs": []
    },
    {
      "cell_type": "code",
      "metadata": {
        "id": "Odr4O7cFf3YC",
        "colab_type": "code",
        "colab": {}
      },
      "source": [
        "# WINDOW is not very useful to dig deep, judging from Q2. did not mention many genes in benchsci data.\n",
        "\n",
        "\n",
        "\n",
        "# for Q1\n",
        "# at least should mention hiv drug effective to be a good answer\n",
        "\n",
        "\n",
        "\n",
        "# Question2=['What are the therapeutic target genes for COVID-19 or coronavirus?']\n",
        "\n",
        "# althoug answers are kind of related. but not detail enough."
      ],
      "execution_count": 0,
      "outputs": []
    },
    {
      "cell_type": "code",
      "metadata": {
        "id": "G2v8gpXOq7Z4",
        "colab_type": "code",
        "outputId": "5737a397-6a2c-43a9-b12a-d8c2732a9b57",
        "colab": {
          "base_uri": "https://localhost:8080/",
          "height": 1000
        }
      },
      "source": [
        "# #title may provide useful info \n",
        "\n",
        "# for i in range(df.abstract.shape[0]):\n",
        "#   abs.append(df.abstract[i])\n",
        "#   print(\"Summary for paper_\" + str(df[\"title\"].iloc[i])+\"_ is:\")\n",
        "#   #print(summarizer(abs[i], min_length=15, max_length=20))\n",
        "#   df[\"Summary\"].iloc[i]= str(summarizer(abs[i], min_length=20, max_length=50)[0].values()) #df[\"index\"].iloc[0]= str(summary0[0].values())\n",
        "#   print(df[\"Summary\"].iloc[i]) #index should be named \"summary\""
      ],
      "execution_count": 0,
      "outputs": [
        {
          "output_type": "stream",
          "text": [
            "Your max_length is set to 200, but you input_length is only 58. You might consider decreasing max_length manually, e.g. summarizer('...', max_length=50)\n"
          ],
          "name": "stderr"
        },
        {
          "output_type": "stream",
          "text": [
            "Summary for paper_The peplomer protein sequence of the M41 strain of coronavirus IBV and its comparison with Beaudette strains_ is:\n"
          ],
          "name": "stdout"
        },
        {
          "output_type": "stream",
          "text": [
            "/usr/local/lib/python3.6/dist-packages/pandas/core/indexing.py:671: SettingWithCopyWarning: \n",
            "A value is trying to be set on a copy of a slice from a DataFrame\n",
            "\n",
            "See the caveats in the documentation: https://pandas.pydata.org/pandas-docs/stable/user_guide/indexing.html#returning-a-view-versus-a-copy\n",
            "  self._setitem_with_indexer(indexer, value)\n",
            "Your max_length is set to 200, but you input_length is only 56. You might consider decreasing max_length manually, e.g. summarizer('...', max_length=50)\n"
          ],
          "name": "stderr"
        },
        {
          "output_type": "stream",
          "text": [
            "dict_values(['acids with a molecular weight of 128079 . the use of a recent algorithm to predict membrane-protein interactions led to the unambiguous localization of the signah peptide and a transmembr'])\n",
            "Summary for paper_Chapter 16 Carbohydrate Microarrays as Essential Tools of Postgenomic Medicine_ is:\n"
          ],
          "name": "stdout"
        },
        {
          "output_type": "stream",
          "text": [
            "Your max_length is set to 200, but you input_length is only 37. You might consider decreasing max_length manually, e.g. summarizer('...', max_length=50)\n"
          ],
          "name": "stderr"
        },
        {
          "output_type": "stream",
          "text": [
            "dict_values(['technology development. Biophysical, biochemical, and immunological methods have proven very valuable in studying carbohydrate–carbohydrate . many well established immunochemical methods have been applied to determine the specificity and cross-reactivity '])\n",
            "Summary for paper_Chapter 15 Viral surface glycoproteins in carbohydrate recognition Structure and modelling_ is:\n"
          ],
          "name": "stdout"
        },
        {
          "output_type": "stream",
          "text": [
            "Your max_length is set to 200, but you input_length is only 39. You might consider decreasing max_length manually, e.g. summarizer('...', max_length=50)\n"
          ],
          "name": "stderr"
        },
        {
          "output_type": "stream",
          "text": [
            "dict_values(['Publisher Summary A large number of clinically important viruses utilize carbohydrate viral surface protein interactions to propagate infection and disease . Publisher Summary Publisher Summaryelements of the characterization of the proteins and the structure of the carbo'])\n",
            "Summary for paper_Chapter 4 Methods to Study Viruses_ is:\n"
          ],
          "name": "stdout"
        },
        {
          "output_type": "stream",
          "text": [
            "Your max_length is set to 200, but you input_length is only 61. You might consider decreasing max_length manually, e.g. summarizer('...', max_length=50)\n"
          ],
          "name": "stderr"
        },
        {
          "output_type": "stream",
          "text": [
            "dict_values(['the progress of a virus through a cell and can provide a direct window into protein–protein interactions required for virus replication . a more indirect method to detect viruses is to look at proteins and proteins . a'])\n",
            "Summary for paper_Chapter 1 Sialic acid and biology of life: An introduction_ is:\n"
          ],
          "name": "stdout"
        },
        {
          "output_type": "stream",
          "text": [
            "Your max_length is set to 200, but you input_length is only 42. You might consider decreasing max_length manually, e.g. summarizer('...', max_length=50)\n"
          ],
          "name": "stderr"
        },
        {
          "output_type": "stream",
          "text": [
            "dict_values(['sialic acid play important roles in human physiology of cell-cell interaction and communication . cellular signaling, carbohydrate-protein interactions, cellular aggregation, development processes, immune reactions, reproduction, and'])\n",
            "Summary for paper_La, PTB, and PAB proteins bind to the 3′ untranslated region of Norwalk virus genomic RNA_ is:\n"
          ],
          "name": "stdout"
        },
        {
          "output_type": "stream",
          "text": [
            "Your max_length is set to 200, but you input_length is only 54. You might consider decreasing max_length manually, e.g. summarizer('...', max_length=50)\n"
          ],
          "name": "stderr"
        },
        {
          "output_type": "stream",
          "text": [
            "dict_values(['La, PTB, and PABP are important trans-acting factors required for viral translation and replication . these RNA–protein interactions may play a role in NV replication or translation . NV translation and translation'])\n",
            "Summary for paper_Protein oligomerization mediated by the transmembrane carboxyl terminal domain of Bcl-XL_ is:\n"
          ],
          "name": "stdout"
        },
        {
          "output_type": "stream",
          "text": [
            "Your max_length is set to 200, but you input_length is only 48. You might consider decreasing max_length manually, e.g. summarizer('...', max_length=50)\n"
          ],
          "name": "stderr"
        },
        {
          "output_type": "stream",
          "text": [
            "dict_values(['to its previously reported role in mitochondrial morphology alterations and apoptosis inhibition . Vamp2 physically interacts with Vamp2, by blue native page (View interaction) . previously reported roles in mitochondria'])\n",
            "Summary for paper_Pharmacodynamics and Systems Pharmacology Approaches to Repurposing Drugs in the Wake of Global Health Burden_ is:\n"
          ],
          "name": "stdout"
        },
        {
          "output_type": "stream",
          "text": [
            "Your max_length is set to 200, but you input_length is only 49. You might consider decreasing max_length manually, e.g. summarizer('...', max_length=50)\n"
          ],
          "name": "stderr"
        },
        {
          "output_type": "stream",
          "text": [
            "dict_values(['real-world evidences to inform drug repurposing, using omics data (drug and disease), knowledge base of protein interactions, and database of transcription factors have been explored . Structured integration of all the existing existing data'])\n",
            "Summary for paper_Functional incorporation of green fluorescent protein into hepatitis B virus envelope particles_ is:\n"
          ],
          "name": "stdout"
        },
        {
          "output_type": "stream",
          "text": [
            "Your max_length is set to 200, but you input_length is only 43. You might consider decreasing max_length manually, e.g. summarizer('...', max_length=50)\n"
          ],
          "name": "stderr"
        },
        {
          "output_type": "stream",
          "text": [
            "dict_values(['interprotein interactions with wild-type S. rescued proper intracellular distribution and folding of GFP.S, required for particle export . thereby, a dual location of gFP, inside and outside the envelope .'])\n",
            "Summary for paper_The nonstructural protein 8 (nsp8) of the SARS coronavirus interacts with its ORF6 accessory protein_ is:\n"
          ],
          "name": "stdout"
        },
        {
          "output_type": "stream",
          "text": [
            "Your max_length is set to 200, but you input_length is only 52. You might consider decreasing max_length manually, e.g. summarizer('...', max_length=50)\n"
          ],
          "name": "stderr"
        },
        {
          "output_type": "stream",
          "text": [
            "dict_values(['the two proteins were expressed as fusion proteins in the yeast two-hybrid system to demonstrate protein–protein interactions . we also tested the same using a yeast genetic cross . the strength of the protein was demonstrated by'])\n",
            "Summary for paper_Lipidomic study of intracellular Singapore grouper iridovirus_ is:\n"
          ],
          "name": "stdout"
        },
        {
          "output_type": "stream",
          "text": [
            "Your max_length is set to 200, but you input_length is only 44. You might consider decreasing max_length manually, e.g. summarizer('...', max_length=50)\n"
          ],
          "name": "stderr"
        },
        {
          "output_type": "stream",
          "text": [
            "dict_values(['this is the first research detailing the lipidome and lipid–protein interactions of an unenveloped virus . lipid species were demonstrated to be lipid-binding proteins . lipids were identified as lipid'])\n",
            "Summary for paper_Chapter 6 Design and Creativity in Synthesis of Multivalent Neoglycoconjugates_ is:\n"
          ],
          "name": "stdout"
        },
        {
          "output_type": "stream",
          "text": [
            "Your max_length is set to 200, but you input_length is only 41. You might consider decreasing max_length manually, e.g. summarizer('...', max_length=50)\n"
          ],
          "name": "stderr"
        },
        {
          "output_type": "stream",
          "text": [
            "dict_values(['this chapter briefly surveys the concept of multivalency involved in carbohydrate–protein interactions . the topic is also discussed in regard to recent steps undertaken in glycobiology toward this goal . in 1993, has been created .'])\n",
            "Summary for paper_Chapter 5 Lyssaviruses—Current Trends_ is:\n"
          ],
          "name": "stdout"
        },
        {
          "output_type": "stream",
          "text": [
            "Your max_length is set to 200, but you input_length is only 42. You might consider decreasing max_length manually, e.g. summarizer('...', max_length=50)\n"
          ],
          "name": "stderr"
        },
        {
          "output_type": "stream",
          "text": [
            "dict_values(['rabies virus infection on host cell gene expression and two hybrid systems to explore detailed protein–protein interactions also contribute substantially to our understanding of virus–host interactions . this review summarizes much of the work . . rab'])\n",
            "Summary for paper_Chapter Two Structures of enveloped virions determined by cryogenic electron microscopy and tomography_ is:\n"
          ],
          "name": "stdout"
        },
        {
          "output_type": "stream",
          "text": [
            "Your max_length is set to 200, but you input_length is only 53. You might consider decreasing max_length manually, e.g. summarizer('...', max_length=50)\n"
          ],
          "name": "stderr"
        },
        {
          "output_type": "stream",
          "text": [
            "dict_values(['locally ordered assemblies are of paramount importance . these structures can reveal how the structure of enveloped viruses . envelope proteins and their protein-protein interactions on the viral surface . ; . . local ordered assemblies '])\n",
            "Summary for paper_Chapter 26 The Molecular Libraries Screening Center Network (MLSCN): Identifying Chemical Probes of Biological Systems_ is:\n"
          ],
          "name": "stdout"
        },
        {
          "output_type": "stream",
          "text": [
            "Your max_length is set to 200, but you input_length is only 47. You might consider decreasing max_length manually, e.g. summarizer('...', max_length=50)\n"
          ],
          "name": "stderr"
        },
        {
          "output_type": "stream",
          "text": [
            "dict_values(['(4) \"non-druggable\" targets, such as inhibitors of aggregation and protein–protein interactions . the small molecule screening library contains structures not typically found in commercial collections . a small '])\n",
            "Summary for paper_The ADAM metalloproteinases_ is:\n"
          ],
          "name": "stdout"
        },
        {
          "output_type": "stream",
          "text": [
            "Your max_length is set to 200, but you input_length is only 52. You might consider decreasing max_length manually, e.g. summarizer('...', max_length=50)\n"
          ],
          "name": "stderr"
        },
        {
          "output_type": "stream",
          "text": [
            "dict_values([\"the family encode functional proteases, indicating that protein–protein interactions are critical aspects of their biological functions . the functional ADAM metalloproteinases are involved in the biological functions of the family's eight members .\"])\n",
            "Summary for paper_Characterization of protein–protein interactions between the nucleocapsid protein and membrane protein of the SARS coronavirus_ is:\n"
          ],
          "name": "stdout"
        },
        {
          "output_type": "stream",
          "text": [
            "Your max_length is set to 200, but you input_length is only 45. You might consider decreasing max_length manually, e.g. summarizer('...', max_length=50)\n"
          ],
          "name": "stderr"
        },
        {
          "output_type": "stream",
          "text": [
            "dict_values(['there is only 20% amino acid (aa) identity with known coronaviruses . there is little sequence homology betweenst various proteins critical for viral assembly ., there is a 20% aa identity'])\n",
            "Summary for paper_Characterization of protein–protein interactions between the nucleocapsid protein and membrane protein of the SARS coronavirus_ is:\n"
          ],
          "name": "stdout"
        },
        {
          "output_type": "stream",
          "text": [
            "Your max_length is set to 200, but you input_length is only 47. You might consider decreasing max_length manually, e.g. summarizer('...', max_length=50)\n"
          ],
          "name": "stderr"
        },
        {
          "output_type": "stream",
          "text": [
            "dict_values(['stretch of amino acids (168–208) in the N protein may be critical for such protein–protein interactions . importantly, the same region has been found to be required for multimerization of the protein . a stretch'])\n",
            "Summary for paper_The structural biology of PRRSV_ is:\n"
          ],
          "name": "stdout"
        },
        {
          "output_type": "stream",
          "text": [
            "Your max_length is set to 200, but you input_length is only 50. You might consider decreasing max_length manually, e.g. summarizer('...', max_length=50)\n"
          ],
          "name": "stderr"
        },
        {
          "output_type": "stream",
          "text": [
            "dict_values(['electron microscopic studies of the virion, biochemical and in vivo studies on protein–protein interactions have led to a greatly increased understanding of PRRSV structural biology . electron microscopy, as well as in '])\n",
            "Summary for paper_RNA structure analysis of alphacoronavirus terminal genome regions_ is:\n"
          ],
          "name": "stdout"
        },
        {
          "output_type": "stream",
          "text": [
            "Your max_length is set to 200, but you input_length is only 50. You might consider decreasing max_length manually, e.g. summarizer('...', max_length=50)\n"
          ],
          "name": "stderr"
        },
        {
          "output_type": "stream",
          "text": [
            "dict_values(['viral replicase complex is comprised of more than a dozen virally encoded and several cellular proteins . interactions with cis-acting RNA elements located in the 5′ and 5′ regions .'])\n",
            "Summary for paper_A health concern regarding the protein corona, aggregation and disaggregation_ is:\n"
          ],
          "name": "stdout"
        },
        {
          "output_type": "stream",
          "text": [
            "Your max_length is set to 200, but you input_length is only 48. You might consider decreasing max_length manually, e.g. summarizer('...', max_length=50)\n"
          ],
          "name": "stderr"
        },
        {
          "output_type": "stream",
          "text": [
            "dict_values(['Nanoparticle (NP)–protein complexes exhibit the “correct identity” of NP in biological media . therefore, protein–NP interactions should be closely explored to understand and modulate the nature of nanoparticles in medical'])\n",
            "Summary for paper_Do viruses subvert cholesterol homeostasis to induce host cubic membranes?_ is:\n"
          ],
          "name": "stdout"
        },
        {
          "output_type": "stream",
          "text": [
            "Your max_length is set to 200, but you input_length is only 45. You might consider decreasing max_length manually, e.g. summarizer('...', max_length=50)\n"
          ],
          "name": "stderr"
        },
        {
          "output_type": "stream",
          "text": [
            "dict_values(['Biological membranes with cubic morphology are a hallmark of stressed or diseased cellular conditions . protein–protein interactions and lipid alterations appear to contribute to their biogenesis . specific cellular functions of membranes are'])\n",
            "Summary for paper_Phage display in the study of infectious diseases_ is:\n"
          ],
          "name": "stdout"
        },
        {
          "output_type": "stream",
          "text": [
            "Your max_length is set to 200, but you input_length is only 48. You might consider decreasing max_length manually, e.g. summarizer('...', max_length=50)\n"
          ],
          "name": "stderr"
        },
        {
          "output_type": "stream",
          "text": [
            "dict_values(['Phage display is a simple functional genomic methodology for screening and identifying protein–ligand interactions . widely used in epitope mapping, antibody engineering and screening for receptor agonists . and control infection .'])\n",
            "Summary for paper_Phage display in the study of infectious diseases_ is:\n"
          ],
          "name": "stdout"
        },
        {
          "output_type": "stream",
          "text": [
            "Your max_length is set to 200, but you input_length is only 46. You might consider decreasing max_length manually, e.g. summarizer('...', max_length=50)\n"
          ],
          "name": "stderr"
        },
        {
          "output_type": "stream",
          "text": [
            "dict_values(['the use of fragment libraries of whole microbial genomes is used to identify peptide–ligand and protein-ligand interactions that are of importance in infection . this technique has proved successful in the identification of ligand–'])\n",
            "Summary for paper_I19 Antiviral actions of the interferon-inducible IFIT proteins_ is:\n"
          ],
          "name": "stdout"
        },
        {
          "output_type": "stream",
          "text": [
            "Your max_length is set to 200, but you input_length is only 38. You might consider decreasing max_length manually, e.g. summarizer('...', max_length=50)\n"
          ],
          "name": "stderr"
        },
        {
          "output_type": "stream",
          "text": [
            "dict_values(['all IFIT proteins contain multiple TPR motifs which mediate protein-protein interactions . some, but not all, members inhibit initiation of protein synthesis by binding to the protein . in human and three in mouse .'])\n",
            "Summary for paper_Mendelian resistance to human norovirus infections_ is:\n"
          ],
          "name": "stdout"
        },
        {
          "output_type": "stream",
          "text": [
            "Your max_length is set to 200, but you input_length is only 27. You might consider decreasing max_length manually, e.g. summarizer('...', max_length=50)\n"
          ],
          "name": "stderr"
        },
        {
          "output_type": "stream",
          "text": [
            "dict_values(['capsid protein from distinct strains shows different HBGA specificities, suggesting a host–pathogen co-evolution driven by carbohydrate–protein interactions . HBga specificities are driven by carbohydrates–protein'])\n",
            "Summary for paper_Umbrella Visualization: A method of analysis dedicated to glycan flexibility with UnityMol_ is:\n"
          ],
          "name": "stdout"
        },
        {
          "output_type": "stream",
          "text": [
            "Your max_length is set to 200, but you input_length is only 28. You might consider decreasing max_length manually, e.g. summarizer('...', max_length=50)\n"
          ],
          "name": "stderr"
        },
        {
          "output_type": "stream",
          "text": [
            "dict_values(['displaying the collected data on the protein surface, one is then able to investigate the protein/glycan interactions . examining the interaction between proteins and glycogens.: glycerol/protein'])\n",
            "Summary for paper_A Heterospecific Leucine Zipper Tetramer_ is:\n"
          ],
          "name": "stdout"
        },
        {
          "output_type": "stream",
          "text": [
            "Your max_length is set to 200, but you input_length is only 63. You might consider decreasing max_length manually, e.g. summarizer('...', max_length=50)\n"
          ],
          "name": "stderr"
        },
        {
          "output_type": "stream",
          "text": [
            "dict_values(['Summary Protein-protein interactions dictate the assembly of the macromolecular complexes essential for functional networks and cellular behavior . Summary Proteins and proteins are essential for cellular networks and functional networks . Summary Protein and protein interactions'])\n",
            "Summary for paper_Protein-protein interactions of human viruses_ is:\n"
          ],
          "name": "stdout"
        },
        {
          "output_type": "stream",
          "text": [
            "Your max_length is set to 200, but you input_length is only 33. You might consider decreasing max_length manually, e.g. summarizer('...', max_length=50)\n"
          ],
          "name": "stderr"
        },
        {
          "output_type": "stream",
          "text": [
            "dict_values(['including herpesviridae, papillomavirida , orthomyxovirid , retrovirid ae . also survey the current knowledge about viruses functional and topological targets .'])\n",
            "Summary for paper_Protein-protein interactions of human viruses_ is:\n"
          ],
          "name": "stdout"
        },
        {
          "output_type": "stream",
          "text": [
            "Your max_length is set to 200, but you input_length is only 43. You might consider decreasing max_length manually, e.g. summarizer('...', max_length=50)\n"
          ],
          "name": "stderr"
        },
        {
          "output_type": "stream",
          "text": [
            "dict_values(['relationships of virus-targeted host proteins to other comorbidities . influence of host-virus protein interactions on human metabolism . interactions between host and virus proteins . interactions of host proteins and . viruses .'])\n",
            "Summary for paper_Biomolecular NMR: a chaperone to drug discovery_ is:\n"
          ],
          "name": "stdout"
        },
        {
          "output_type": "stream",
          "text": [
            "Your max_length is set to 200, but you input_length is only 44. You might consider decreasing max_length manually, e.g. summarizer('...', max_length=50)\n"
          ],
          "name": "stderr"
        },
        {
          "output_type": "stream",
          "text": [
            "dict_values(['NMR hardware improvements make drug discovery easier . drug discovery still one of the most difficult development tasks in drug discovery . NMR screenings by NMR identify lead compounds capable of inhibiting protein–protein interactions . a'])\n",
            "Summary for paper_Biomolecular NMR: a chaperone to drug discovery_ is:\n"
          ],
          "name": "stdout"
        },
        {
          "output_type": "stream",
          "text": [
            "Your max_length is set to 200, but you input_length is only 43. You might consider decreasing max_length manually, e.g. summarizer('...', max_length=50)\n"
          ],
          "name": "stderr"
        },
        {
          "output_type": "stream",
          "text": [
            "dict_values(['study of protein–ligand interactions has led to impressive success in the development of novel drugs . study of proteins and ligands provides detailed information about interactions . optimisation of lead optimisation leads to success in development of new drugs'])\n",
            "Summary for paper_Nanoscale gizmos – the novel fluorescent probes for monitoring protein activity_ is:\n"
          ],
          "name": "stdout"
        },
        {
          "output_type": "stream",
          "text": [
            "Your max_length is set to 200, but you input_length is only 47. You might consider decreasing max_length manually, e.g. summarizer('...', max_length=50)\n"
          ],
          "name": "stderr"
        },
        {
          "output_type": "stream",
          "text": [
            "dict_values(['researchers have been able to design numerous types of nanoscale fluorescent tool kits for monitoring protein–protein interactions through real time cellular imagery in a fluorescence microscope . it is apparent that supplementing supplementing protein and protein interactions '])\n",
            "Summary for paper_Carbochips: a new energy for old biobuilders_ is:\n"
          ],
          "name": "stdout"
        },
        {
          "output_type": "stream",
          "text": [
            "Your max_length is set to 200, but you input_length is only 39. You might consider decreasing max_length manually, e.g. summarizer('...', max_length=50)\n"
          ],
          "name": "stderr"
        },
        {
          "output_type": "stream",
          "text": [
            "dict_values(['recent developments in the field of carbohydrate microarray technology facilitate applications for different types of protein–carbohydrate interactions . these developments included capture molecule immobilization, surface engineering and detection strategies to analyze entire entire molecules '])\n",
            "Summary for paper_Chapter Eight Targeting the Channel Activity of Viroporins_ is:\n"
          ],
          "name": "stdout"
        },
        {
          "output_type": "stream",
          "text": [
            "Your max_length is set to 200, but you input_length is only 38. You might consider decreasing max_length manually, e.g. summarizer('...', max_length=50)\n"
          ],
          "name": "stderr"
        },
        {
          "output_type": "stream",
          "text": [
            "dict_values(['shifting by the difficulties inherent to small viral membrane proteins . shifted by the realization that protein–protein interactions and other diverse roles in the virus life cycle may represent an equal, if not an equal . shifted by the'])\n",
            "Summary for paper_Chapter Two Targeting Intramembrane Protein–Protein Interactions: Novel Therapeutic Strategy of Millions Years Old_ is:\n"
          ],
          "name": "stdout"
        },
        {
          "output_type": "stream",
          "text": [
            "Your max_length is set to 200, but you input_length is only 49. You might consider decreasing max_length manually, e.g. summarizer('...', max_length=50)\n"
          ],
          "name": "stderr"
        },
        {
          "output_type": "stream",
          "text": [
            "dict_values(['Intramembrane protein–protein interactions (PPIs) play a key role in signal transduction mediated by cell surface receptors . Abstract PPIs are a group of intracellular proteins that are involved in'])\n",
            "Summary for paper_Chapter Seven Computer simulations of protein–membrane systems_ is:\n"
          ],
          "name": "stdout"
        },
        {
          "output_type": "stream",
          "text": [
            "Your max_length is set to 200, but you input_length is only 21. You might consider decreasing max_length manually, e.g. summarizer('...', max_length=50)\n"
          ],
          "name": "stderr"
        },
        {
          "output_type": "stream",
          "text": [
            "dict_values(['Molecular dynamics (MD) simulations have greatly contributed to our understanding of protein–membrane interactions . promoted by a dramatic development of MD-related software, increasingly accurate force fields . many types of diseases .'])\n",
            "Summary for paper_Combining genetic and biochemical approaches to identify functional molecular contact points_ is:\n"
          ],
          "name": "stdout"
        },
        {
          "output_type": "stream",
          "text": [
            "Your max_length is set to 200, but you input_length is only 59. You might consider decreasing max_length manually, e.g. summarizer('...', max_length=50)\n"
          ],
          "name": "stderr"
        },
        {
          "output_type": "stream",
          "text": [
            "dict_values(['Protein-protein interactions are required for many viral and cellular functions . they are potential targets for novel novel proteins . protein-protein interaction is essential for many cellular and virologic functions and is required for cellular function '])\n",
            "Summary for paper_Analysis of Intraviral Protein-Protein Interactions of the SARS Coronavirus ORFeome_ is:\n"
          ],
          "name": "stdout"
        },
        {
          "output_type": "stream",
          "text": [
            "Your max_length is set to 200, but you input_length is only 38. You might consider decreasing max_length manually, e.g. summarizer('...', max_length=50)\n"
          ],
          "name": "stderr"
        },
        {
          "output_type": "stream",
          "text": [
            "dict_values(['we cloned the viral ORFeome and performed a genome-wide analysis for intraviral protein interactions and for intracellular localization . 900 pairwise interactions were tested by yeast-two-hybri'])\n",
            "Summary for paper_Analysis of Intraviral Protein-Protein Interactions of the SARS Coronavirus ORFeome_ is:\n"
          ],
          "name": "stdout"
        },
        {
          "output_type": "stream",
          "text": [
            "Your max_length is set to 200, but you input_length is only 28. You might consider decreasing max_length manually, e.g. summarizer('...', max_length=50)\n"
          ],
          "name": "stderr"
        },
        {
          "output_type": "stream",
          "text": [
            "dict_values(['the global stability of the SARS proteome network, or play some unrealized role in regulating protein-protein interactions . the interactions identified provide valuable material for future studies . ; . ;. '])\n",
            "Summary for paper_Accurate Reproduction of 161 Small-Molecule Complex Crystal Structures using the EUDOC Program: Expanding the Use of EUDOC to Supramolecular Chemistry_ is:\n",
            "dict_values(['it is useful for the design of new materials, molecular sensors, and multimeric inhibitors of protein-protein interactions . it is helpful for the designing of new material and molecula-sensors . useful for'])\n"
          ],
          "name": "stdout"
        },
        {
          "output_type": "error",
          "ename": "KeyError",
          "evalue": "ignored",
          "traceback": [
            "\u001b[0;31m---------------------------------------------------------------------------\u001b[0m",
            "\u001b[0;31mKeyError\u001b[0m                                  Traceback (most recent call last)",
            "\u001b[0;32m<ipython-input-30-3dd4a202b2a7>\u001b[0m in \u001b[0;36m<module>\u001b[0;34m()\u001b[0m\n\u001b[1;32m      1\u001b[0m \u001b[0;34m\u001b[0m\u001b[0m\n\u001b[1;32m      2\u001b[0m \u001b[0;32mfor\u001b[0m \u001b[0mi\u001b[0m \u001b[0;32min\u001b[0m \u001b[0mrange\u001b[0m\u001b[0;34m(\u001b[0m\u001b[0mdf\u001b[0m\u001b[0;34m.\u001b[0m\u001b[0mabstract\u001b[0m\u001b[0;34m.\u001b[0m\u001b[0mshape\u001b[0m\u001b[0;34m[\u001b[0m\u001b[0;36m0\u001b[0m\u001b[0;34m]\u001b[0m\u001b[0;34m)\u001b[0m\u001b[0;34m:\u001b[0m\u001b[0;34m\u001b[0m\u001b[0;34m\u001b[0m\u001b[0m\n\u001b[0;32m----> 3\u001b[0;31m   \u001b[0mabs\u001b[0m\u001b[0;34m.\u001b[0m\u001b[0mappend\u001b[0m\u001b[0;34m(\u001b[0m\u001b[0mdf\u001b[0m\u001b[0;34m.\u001b[0m\u001b[0mabstract\u001b[0m\u001b[0;34m[\u001b[0m\u001b[0mi\u001b[0m\u001b[0;34m]\u001b[0m\u001b[0;34m)\u001b[0m\u001b[0;34m\u001b[0m\u001b[0;34m\u001b[0m\u001b[0m\n\u001b[0m\u001b[1;32m      4\u001b[0m   \u001b[0mprint\u001b[0m\u001b[0;34m(\u001b[0m\u001b[0;34m\"Summary for paper_\"\u001b[0m \u001b[0;34m+\u001b[0m \u001b[0mstr\u001b[0m\u001b[0;34m(\u001b[0m\u001b[0mdf\u001b[0m\u001b[0;34m[\u001b[0m\u001b[0;34m\"title\"\u001b[0m\u001b[0;34m]\u001b[0m\u001b[0;34m.\u001b[0m\u001b[0miloc\u001b[0m\u001b[0;34m[\u001b[0m\u001b[0mi\u001b[0m\u001b[0;34m]\u001b[0m\u001b[0;34m)\u001b[0m\u001b[0;34m+\u001b[0m\u001b[0;34m\"_ is:\"\u001b[0m\u001b[0;34m)\u001b[0m\u001b[0;34m\u001b[0m\u001b[0;34m\u001b[0m\u001b[0m\n\u001b[1;32m      5\u001b[0m   \u001b[0;31m#print(summarizer(abs[i], min_length=15, max_length=20))\u001b[0m\u001b[0;34m\u001b[0m\u001b[0;34m\u001b[0m\u001b[0;34m\u001b[0m\u001b[0m\n",
            "\u001b[0;32m/usr/local/lib/python3.6/dist-packages/pandas/core/series.py\u001b[0m in \u001b[0;36m__getitem__\u001b[0;34m(self, key)\u001b[0m\n\u001b[1;32m    869\u001b[0m         \u001b[0mkey\u001b[0m \u001b[0;34m=\u001b[0m \u001b[0mcom\u001b[0m\u001b[0;34m.\u001b[0m\u001b[0mapply_if_callable\u001b[0m\u001b[0;34m(\u001b[0m\u001b[0mkey\u001b[0m\u001b[0;34m,\u001b[0m \u001b[0mself\u001b[0m\u001b[0;34m)\u001b[0m\u001b[0;34m\u001b[0m\u001b[0;34m\u001b[0m\u001b[0m\n\u001b[1;32m    870\u001b[0m         \u001b[0;32mtry\u001b[0m\u001b[0;34m:\u001b[0m\u001b[0;34m\u001b[0m\u001b[0;34m\u001b[0m\u001b[0m\n\u001b[0;32m--> 871\u001b[0;31m             \u001b[0mresult\u001b[0m \u001b[0;34m=\u001b[0m \u001b[0mself\u001b[0m\u001b[0;34m.\u001b[0m\u001b[0mindex\u001b[0m\u001b[0;34m.\u001b[0m\u001b[0mget_value\u001b[0m\u001b[0;34m(\u001b[0m\u001b[0mself\u001b[0m\u001b[0;34m,\u001b[0m \u001b[0mkey\u001b[0m\u001b[0;34m)\u001b[0m\u001b[0;34m\u001b[0m\u001b[0;34m\u001b[0m\u001b[0m\n\u001b[0m\u001b[1;32m    872\u001b[0m \u001b[0;34m\u001b[0m\u001b[0m\n\u001b[1;32m    873\u001b[0m             \u001b[0;32mif\u001b[0m \u001b[0;32mnot\u001b[0m \u001b[0mis_scalar\u001b[0m\u001b[0;34m(\u001b[0m\u001b[0mresult\u001b[0m\u001b[0;34m)\u001b[0m\u001b[0;34m:\u001b[0m\u001b[0;34m\u001b[0m\u001b[0;34m\u001b[0m\u001b[0m\n",
            "\u001b[0;32m/usr/local/lib/python3.6/dist-packages/pandas/core/indexes/base.py\u001b[0m in \u001b[0;36mget_value\u001b[0;34m(self, series, key)\u001b[0m\n\u001b[1;32m   4402\u001b[0m         \u001b[0mk\u001b[0m \u001b[0;34m=\u001b[0m \u001b[0mself\u001b[0m\u001b[0;34m.\u001b[0m\u001b[0m_convert_scalar_indexer\u001b[0m\u001b[0;34m(\u001b[0m\u001b[0mk\u001b[0m\u001b[0;34m,\u001b[0m \u001b[0mkind\u001b[0m\u001b[0;34m=\u001b[0m\u001b[0;34m\"getitem\"\u001b[0m\u001b[0;34m)\u001b[0m\u001b[0;34m\u001b[0m\u001b[0;34m\u001b[0m\u001b[0m\n\u001b[1;32m   4403\u001b[0m         \u001b[0;32mtry\u001b[0m\u001b[0;34m:\u001b[0m\u001b[0;34m\u001b[0m\u001b[0;34m\u001b[0m\u001b[0m\n\u001b[0;32m-> 4404\u001b[0;31m             \u001b[0;32mreturn\u001b[0m \u001b[0mself\u001b[0m\u001b[0;34m.\u001b[0m\u001b[0m_engine\u001b[0m\u001b[0;34m.\u001b[0m\u001b[0mget_value\u001b[0m\u001b[0;34m(\u001b[0m\u001b[0ms\u001b[0m\u001b[0;34m,\u001b[0m \u001b[0mk\u001b[0m\u001b[0;34m,\u001b[0m \u001b[0mtz\u001b[0m\u001b[0;34m=\u001b[0m\u001b[0mgetattr\u001b[0m\u001b[0;34m(\u001b[0m\u001b[0mseries\u001b[0m\u001b[0;34m.\u001b[0m\u001b[0mdtype\u001b[0m\u001b[0;34m,\u001b[0m \u001b[0;34m\"tz\"\u001b[0m\u001b[0;34m,\u001b[0m \u001b[0;32mNone\u001b[0m\u001b[0;34m)\u001b[0m\u001b[0;34m)\u001b[0m\u001b[0;34m\u001b[0m\u001b[0;34m\u001b[0m\u001b[0m\n\u001b[0m\u001b[1;32m   4405\u001b[0m         \u001b[0;32mexcept\u001b[0m \u001b[0mKeyError\u001b[0m \u001b[0;32mas\u001b[0m \u001b[0me1\u001b[0m\u001b[0;34m:\u001b[0m\u001b[0;34m\u001b[0m\u001b[0;34m\u001b[0m\u001b[0m\n\u001b[1;32m   4406\u001b[0m             \u001b[0;32mif\u001b[0m \u001b[0mlen\u001b[0m\u001b[0;34m(\u001b[0m\u001b[0mself\u001b[0m\u001b[0;34m)\u001b[0m \u001b[0;34m>\u001b[0m \u001b[0;36m0\u001b[0m \u001b[0;32mand\u001b[0m \u001b[0;34m(\u001b[0m\u001b[0mself\u001b[0m\u001b[0;34m.\u001b[0m\u001b[0mholds_integer\u001b[0m\u001b[0;34m(\u001b[0m\u001b[0;34m)\u001b[0m \u001b[0;32mor\u001b[0m \u001b[0mself\u001b[0m\u001b[0;34m.\u001b[0m\u001b[0mis_boolean\u001b[0m\u001b[0;34m(\u001b[0m\u001b[0;34m)\u001b[0m\u001b[0;34m)\u001b[0m\u001b[0;34m:\u001b[0m\u001b[0;34m\u001b[0m\u001b[0;34m\u001b[0m\u001b[0m\n",
            "\u001b[0;32mpandas/_libs/index.pyx\u001b[0m in \u001b[0;36mpandas._libs.index.IndexEngine.get_value\u001b[0;34m()\u001b[0m\n",
            "\u001b[0;32mpandas/_libs/index.pyx\u001b[0m in \u001b[0;36mpandas._libs.index.IndexEngine.get_value\u001b[0;34m()\u001b[0m\n",
            "\u001b[0;32mpandas/_libs/index.pyx\u001b[0m in \u001b[0;36mpandas._libs.index.IndexEngine.get_loc\u001b[0;34m()\u001b[0m\n",
            "\u001b[0;32mpandas/_libs/hashtable_class_helper.pxi\u001b[0m in \u001b[0;36mpandas._libs.hashtable.Int64HashTable.get_item\u001b[0;34m()\u001b[0m\n",
            "\u001b[0;32mpandas/_libs/hashtable_class_helper.pxi\u001b[0m in \u001b[0;36mpandas._libs.hashtable.Int64HashTable.get_item\u001b[0;34m()\u001b[0m\n",
            "\u001b[0;31mKeyError\u001b[0m: 41"
          ]
        }
      ]
    },
    {
      "cell_type": "code",
      "metadata": {
        "id": "Mw2MKrEFAgYw",
        "colab_type": "code",
        "outputId": "f12e8e88-b9c4-4d93-9ce6-a0adea783d09",
        "colab": {
          "base_uri": "https://localhost:8080/",
          "height": 915
        }
      },
      "source": [
        "# 50, 100\n",
        "abs=[]\n",
        "for i in range(df.abstract.shape[0]):\n",
        "  abs.append(df.abstract[i])\n",
        "  print(\"Summary for paper No \" + str(i)+ \"_\" +\"_ is:\") #+ str(df[\"title\"].iloc[i])\n",
        "  #print(summarizer(abs[i], min_length=15, max_length=20))\n",
        "  df[\"Summary\"].iloc[i]= str(summarizer(abs[i], min_length=50, max_length=100)[0].values()) #df[\"index\"].iloc[0]= str(summary0[0].values())\n",
        "  print(df[\"Summary\"].iloc[i]) #index should be named \"summary\""
      ],
      "execution_count": 16,
      "outputs": [
        {
          "output_type": "stream",
          "text": [
            "Summary for paper No 0__ is:\n"
          ],
          "name": "stdout"
        },
        {
          "output_type": "stream",
          "text": [
            "/usr/local/lib/python3.6/dist-packages/pandas/core/indexing.py:671: SettingWithCopyWarning: \n",
            "A value is trying to be set on a copy of a slice from a DataFrame\n",
            "\n",
            "See the caveats in the documentation: https://pandas.pydata.org/pandas-docs/stable/user_guide/indexing.html#returning-a-view-versus-a-copy\n",
            "  self._setitem_with_indexer(indexer, value)\n"
          ],
          "name": "stderr"
        },
        {
          "output_type": "stream",
          "text": [
            "dict_values(['a reverse genetics system was constructed for recovery of infectious recombinant APMV-4 . the recovered virus resembled the biological virus in growth characteristics in vitro and in pathogenicity in vivo . cleavage site sequence of the F protein is not a limiting determinant of pathogens in chickens and ducks . cnn ireport: share your thoughts on the cdna'])\n",
            "Summary for paper No 1__ is:\n",
            "dict_values(['fruit bat cells have homologs of cathepsin and furin proteases . differences may exist in the cellular localization of furin between different species . ebola virus and henipaviruses require proteolytic activation of envelope glycoproteins . cdc: bats play a major role in emergence and transmission of highly pathogenic viruses. a reseach:'])\n",
            "Summary for paper No 2__ is:\n"
          ],
          "name": "stdout"
        },
        {
          "output_type": "stream",
          "text": [
            "Your max_length is set to 200, but you input_length is only 187. You might consider decreasing max_length manually, e.g. summarizer('...', max_length=50)\n"
          ],
          "name": "stderr"
        },
        {
          "output_type": "stream",
          "text": [
            "dict_values(['mildly acidic environment triggers particle rearrangement and allows furin processing of the prM protein to pr and M . release of pr at neutral pH completes virus maturation to an infectious particle . pr acts to silence flavivirus fusion activity during virus secretion, and this function can be separated from the chaperone activity of prM .? if pr acts as a shield, it may be useful for broad-spectrum inhibitor'])\n",
            "Summary for paper No 3__ is:\n",
            "dict_values(['Abstract Infectious HIV-1 requires gp160 cleavage by furin at the REKR511 motif (site1) . the KAKR503 (site2) sequence remains uncleaved . we synthesized 41mer and 51mer peptides, comprising site1 and site2, to study their conformation and in vitro furin processing .: a novel heparin-binding peptid'])\n",
            "Summary for paper No 4__ is:\n",
            "dict_values(['ce-cyd is a more potent antiviral agent than its saturated counterpart, cyclopentylcytosine . ce-Cyd also has potent cytocidal activity against a number of tumor cell lines . pyrazofurin and 6-azauridine are two nucleoside analogues that interfere with OMP decarboxylase inhibitors . a randomized controlled trial of ce'])\n",
            "Summary for paper No 5__ is:\n",
            "dict_values(['the exact mechanism and receptors used by HPV to infect epithelial cells are controversial . furin cleavage of the particles led to a substantial increase in infection . decreasing cell surface vimentin by small interfering RNA (siRNA) knockdown in HeLa and NIKS cells significantly increased HPV16-PsV infectious internalization . a study on human papillomavirus (HPV'])\n",
            "Summary for paper No 6__ is:\n",
            "dict_values(['the respiratory Syncytial Virus (RSV) is a highly pathogenic member of the paramyxoviridae . to infect cells the viruses fuse their envelope directly with the plasma membrane . they exploit clathrin-mediated endocytosis to exploit the virus . no infection was observed in human tissue culture cells . cdc42: a virulence of RSV has been described in '])\n",
            "Summary for paper No 7__ is:\n",
            "dict_values([\"study maps transport route of zika virus and identifies fusion site within endosomal compartment . RESULTS: after endocytic internalization, Zika virus fuses in late endosomes . reprogramming of the cell's hub hinders the infection, as the fusion is inhibited . findings may in future, as well as future studies of Zika viral intracellular trafficking and fusion .\"])\n",
            "Summary for paper No 8__ is:\n",
            "dict_values(['specific cues in the endosomal microenvironment induce conformational changes in the viral fusion proteins leading to viral and host membrane fusion . in the present study we investigated the entry of coronaviruses (CoVs) using siRNA gene silencing, we found that proteins profoundly promote infection of cells with mouse hepatitis coronal virus (MHV) . : cdc:'])\n",
            "Summary for paper No 9__ is:\n"
          ],
          "name": "stdout"
        },
        {
          "output_type": "stream",
          "text": [
            "Your max_length is set to 200, but you input_length is only 187. You might consider decreasing max_length manually, e.g. summarizer('...', max_length=50)\n"
          ],
          "name": "stderr"
        },
        {
          "output_type": "stream",
          "text": [
            "dict_values(['fruit bat cells have homologs of cathepsin and furin proteases . differences may exist in the cellular localization of furin between different species . ebola virus and henipaviruses require proteolytic activation of envelope glycoproteins . cdc: bats play a major role in emergence and transmission of highly pathogenic viruses. a reseach:'])\n",
            "Summary for paper No 10__ is:\n",
            "dict_values(['Abstract Infectious HIV-1 requires gp160 cleavage by furin at the REKR511 motif (site1) . the KAKR503 (site2) sequence remains uncleaved . we synthesized 41mer and 51mer peptides, comprising site1 and site2, to study their conformation and in vitro furin processing .: a novel heparin-binding peptid'])\n",
            "Summary for paper No 11__ is:\n",
            "dict_values(['specific cues in the endosomal microenvironment induce conformational changes in the viral fusion proteins leading to viral and host membrane fusion . in the present study we investigated the entry of coronaviruses (CoVs) using siRNA gene silencing, we found that proteins profoundly promote infection of cells with mouse hepatitis coronal virus (MHV) . : cdc:'])\n",
            "Summary for paper No 12__ is:\n",
            "dict_values(['the activation of the viral spike protein (S) by host cell proteases is essential for viral infectivity . the responsible enzymes are potential therapeutic targets . a potential cathepsin L cleavage site in MERS-S has been reported . cdc: mers-cov can cause severe disease and has pandemic potential.: what is the role of antiviral strategies?'])\n",
            "Summary for paper No 13__ is:\n",
            "dict_values(['furin cleaves a plethora of proteins at polybasic recognition motifs . aberrant furin activity is associated with a variety of disorders including cancer . furin is exploited by numerous viral and bacterial pathogens, thereby enhancing their virulence and spread . dysregulation of a simple proteolytic cleavage event may promote infectious diseases and cancer. . cdc:'])\n",
            "Summary for paper No 14__ is:\n",
            "dict_values(['furin cleaves a plethora of proteins at polybasic recognition motifs . aberrant furin activity is associated with a variety of disorders including cancer . furin is exploited by numerous viral and bacterial pathogens, thereby enhancing their virulence and spread . dysregulation of a simple proteolytic cleavage event may promote infectious diseases and cancer. . cdc:'])\n",
            "Summary for paper No 15__ is:\n",
            "dict_values(['furin is a crucial member of secretory mammalian subtilase, the PC or PCSK superfamily . it has been linked to cancer, tumorgenesis, viral and bacterial pathogenesis . furin inhibitor contains a highly reactive beta-turn inducing and radical generating \"enediynyl amino acid\" (Eda) moiety . a furin-mediated cleavage of a'])\n",
            "Summary for paper No 16__ is:\n",
            "dict_values(['avian viruses replicate in gut epithelial cells and are transmitted via the fecal-oral route . only enzyme activates virus by cleaving hemagglutinin (HA) into HA1 and HA2 subunits . virions containing uncleaved HA were even activated suggesting gastric juice contains a trypsin-like protease . a human influenza'])\n",
            "Summary for paper No 17__ is:\n",
            "dict_values(['APMV-1 is the only well-characterized serotype, because of the high morbidity, mortality, and economic loss caused by highly virulent strains . very little is known about the pathogenesis, replication, virulence, and tropism of the other . avirulent types 2–9 were mostly restricted to the respiratory tract . if the virus is found to be neurovirulent, it could be a'])\n",
            "Summary for paper No 18__ is:\n",
            "dict_values(['fruit bat cells have homologs of cathepsin and furin proteases . differences may exist in the cellular localization of furin between different species . ebola virus and henipaviruses require proteolytic activation of envelope glycoproteins . cdc: bats play a major role in emergence and transmission of highly pathogenic viruses. a reseach:'])\n",
            "Summary for paper No 19__ is:\n",
            "dict_values(['no licensed vaccine against respiratory syncytial virus (RSV) is available . recombinant fusion (F) protein bound to surface of bacterium-like particles . different variants of F were analyzed with respect to their conformation and reactivity . a randomized controlled trial is planned to be conducted in january . back to mail online home .back to the page you came from . the page'])\n"
          ],
          "name": "stdout"
        }
      ]
    },
    {
      "cell_type": "code",
      "metadata": {
        "id": "qIz4TmMzPrGf",
        "colab_type": "code",
        "outputId": "222b3865-6964-4abb-d1d9-5de62276ae6e",
        "colab": {
          "base_uri": "https://localhost:8080/",
          "height": 409
        }
      },
      "source": [
        "df[\"Summary\"]"
      ],
      "execution_count": 17,
      "outputs": [
        {
          "output_type": "execute_result",
          "data": {
            "text/plain": [
              "0     dict_values(['a reverse genetics system was co...\n",
              "1     dict_values(['fruit bat cells have homologs of...\n",
              "2     dict_values(['mildly acidic environment trigge...\n",
              "3     dict_values(['Abstract Infectious HIV-1 requir...\n",
              "4     dict_values(['ce-cyd is a more potent antivira...\n",
              "5     dict_values(['the exact mechanism and receptor...\n",
              "6     dict_values(['the respiratory Syncytial Virus ...\n",
              "7     dict_values([\"study maps transport route of zi...\n",
              "8     dict_values(['specific cues in the endosomal m...\n",
              "9     dict_values(['fruit bat cells have homologs of...\n",
              "10    dict_values(['Abstract Infectious HIV-1 requir...\n",
              "11    dict_values(['specific cues in the endosomal m...\n",
              "12    dict_values(['the activation of the viral spik...\n",
              "13    dict_values(['furin cleaves a plethora of prot...\n",
              "14    dict_values(['furin cleaves a plethora of prot...\n",
              "15    dict_values(['furin is a crucial member of sec...\n",
              "16    dict_values(['avian viruses replicate in gut e...\n",
              "17    dict_values(['APMV-1 is the only well-characte...\n",
              "18    dict_values(['fruit bat cells have homologs of...\n",
              "19    dict_values(['no licensed vaccine against resp...\n",
              "Name: Summary, dtype: object"
            ]
          },
          "metadata": {
            "tags": []
          },
          "execution_count": 17
        }
      ]
    },
    {
      "cell_type": "code",
      "metadata": {
        "id": "H0BsP5ZhPsCF",
        "colab_type": "code",
        "outputId": "cc257ffb-83be-4f7e-c395-fd43d82929fd",
        "colab": {
          "base_uri": "https://localhost:8080/",
          "height": 56
        }
      },
      "source": [
        "ABSsummary = ' '.join(df[\"Summary\"])\n",
        "ABSsummary"
      ],
      "execution_count": 18,
      "outputs": [
        {
          "output_type": "execute_result",
          "data": {
            "text/plain": [
              "'dict_values([\\'a reverse genetics system was constructed for recovery of infectious recombinant APMV-4 . the recovered virus resembled the biological virus in growth characteristics in vitro and in pathogenicity in vivo . cleavage site sequence of the F protein is not a limiting determinant of pathogens in chickens and ducks . cnn ireport: share your thoughts on the cdna\\']) dict_values([\\'fruit bat cells have homologs of cathepsin and furin proteases . differences may exist in the cellular localization of furin between different species . ebola virus and henipaviruses require proteolytic activation of envelope glycoproteins . cdc: bats play a major role in emergence and transmission of highly pathogenic viruses. a reseach:\\']) dict_values([\\'mildly acidic environment triggers particle rearrangement and allows furin processing of the prM protein to pr and M . release of pr at neutral pH completes virus maturation to an infectious particle . pr acts to silence flavivirus fusion activity during virus secretion, and this function can be separated from the chaperone activity of prM .? if pr acts as a shield, it may be useful for broad-spectrum inhibitor\\']) dict_values([\\'Abstract Infectious HIV-1 requires gp160 cleavage by furin at the REKR511 motif (site1) . the KAKR503 (site2) sequence remains uncleaved . we synthesized 41mer and 51mer peptides, comprising site1 and site2, to study their conformation and in vitro furin processing .: a novel heparin-binding peptid\\']) dict_values([\\'ce-cyd is a more potent antiviral agent than its saturated counterpart, cyclopentylcytosine . ce-Cyd also has potent cytocidal activity against a number of tumor cell lines . pyrazofurin and 6-azauridine are two nucleoside analogues that interfere with OMP decarboxylase inhibitors . a randomized controlled trial of ce\\']) dict_values([\\'the exact mechanism and receptors used by HPV to infect epithelial cells are controversial . furin cleavage of the particles led to a substantial increase in infection . decreasing cell surface vimentin by small interfering RNA (siRNA) knockdown in HeLa and NIKS cells significantly increased HPV16-PsV infectious internalization . a study on human papillomavirus (HPV\\']) dict_values([\\'the respiratory Syncytial Virus (RSV) is a highly pathogenic member of the paramyxoviridae . to infect cells the viruses fuse their envelope directly with the plasma membrane . they exploit clathrin-mediated endocytosis to exploit the virus . no infection was observed in human tissue culture cells . cdc42: a virulence of RSV has been described in \\']) dict_values([\"study maps transport route of zika virus and identifies fusion site within endosomal compartment . RESULTS: after endocytic internalization, Zika virus fuses in late endosomes . reprogramming of the cell\\'s hub hinders the infection, as the fusion is inhibited . findings may in future, as well as future studies of Zika viral intracellular trafficking and fusion .\"]) dict_values([\\'specific cues in the endosomal microenvironment induce conformational changes in the viral fusion proteins leading to viral and host membrane fusion . in the present study we investigated the entry of coronaviruses (CoVs) using siRNA gene silencing, we found that proteins profoundly promote infection of cells with mouse hepatitis coronal virus (MHV) . : cdc:\\']) dict_values([\\'fruit bat cells have homologs of cathepsin and furin proteases . differences may exist in the cellular localization of furin between different species . ebola virus and henipaviruses require proteolytic activation of envelope glycoproteins . cdc: bats play a major role in emergence and transmission of highly pathogenic viruses. a reseach:\\']) dict_values([\\'Abstract Infectious HIV-1 requires gp160 cleavage by furin at the REKR511 motif (site1) . the KAKR503 (site2) sequence remains uncleaved . we synthesized 41mer and 51mer peptides, comprising site1 and site2, to study their conformation and in vitro furin processing .: a novel heparin-binding peptid\\']) dict_values([\\'specific cues in the endosomal microenvironment induce conformational changes in the viral fusion proteins leading to viral and host membrane fusion . in the present study we investigated the entry of coronaviruses (CoVs) using siRNA gene silencing, we found that proteins profoundly promote infection of cells with mouse hepatitis coronal virus (MHV) . : cdc:\\']) dict_values([\\'the activation of the viral spike protein (S) by host cell proteases is essential for viral infectivity . the responsible enzymes are potential therapeutic targets . a potential cathepsin L cleavage site in MERS-S has been reported . cdc: mers-cov can cause severe disease and has pandemic potential.: what is the role of antiviral strategies?\\']) dict_values([\\'furin cleaves a plethora of proteins at polybasic recognition motifs . aberrant furin activity is associated with a variety of disorders including cancer . furin is exploited by numerous viral and bacterial pathogens, thereby enhancing their virulence and spread . dysregulation of a simple proteolytic cleavage event may promote infectious diseases and cancer. . cdc:\\']) dict_values([\\'furin cleaves a plethora of proteins at polybasic recognition motifs . aberrant furin activity is associated with a variety of disorders including cancer . furin is exploited by numerous viral and bacterial pathogens, thereby enhancing their virulence and spread . dysregulation of a simple proteolytic cleavage event may promote infectious diseases and cancer. . cdc:\\']) dict_values([\\'furin is a crucial member of secretory mammalian subtilase, the PC or PCSK superfamily . it has been linked to cancer, tumorgenesis, viral and bacterial pathogenesis . furin inhibitor contains a highly reactive beta-turn inducing and radical generating \"enediynyl amino acid\" (Eda) moiety . a furin-mediated cleavage of a\\']) dict_values([\\'avian viruses replicate in gut epithelial cells and are transmitted via the fecal-oral route . only enzyme activates virus by cleaving hemagglutinin (HA) into HA1 and HA2 subunits . virions containing uncleaved HA were even activated suggesting gastric juice contains a trypsin-like protease . a human influenza\\']) dict_values([\\'APMV-1 is the only well-characterized serotype, because of the high morbidity, mortality, and economic loss caused by highly virulent strains . very little is known about the pathogenesis, replication, virulence, and tropism of the other . avirulent types 2–9 were mostly restricted to the respiratory tract . if the virus is found to be neurovirulent, it could be a\\']) dict_values([\\'fruit bat cells have homologs of cathepsin and furin proteases . differences may exist in the cellular localization of furin between different species . ebola virus and henipaviruses require proteolytic activation of envelope glycoproteins . cdc: bats play a major role in emergence and transmission of highly pathogenic viruses. a reseach:\\']) dict_values([\\'no licensed vaccine against respiratory syncytial virus (RSV) is available . recombinant fusion (F) protein bound to surface of bacterium-like particles . different variants of F were analyzed with respect to their conformation and reactivity . a randomized controlled trial is planned to be conducted in january . back to mail online home .back to the page you came from . the page\\'])'"
            ]
          },
          "metadata": {
            "tags": []
          },
          "execution_count": 18
        }
      ]
    },
    {
      "cell_type": "code",
      "metadata": {
        "id": "SIaddemcYirS",
        "colab_type": "code",
        "outputId": "ac8db035-98d0-4125-d99b-b96f3e91ad21",
        "colab": {
          "base_uri": "https://localhost:8080/",
          "height": 36
        }
      },
      "source": [
        "# print('DONE')"
      ],
      "execution_count": 0,
      "outputs": [
        {
          "output_type": "stream",
          "text": [
            "DONE\n"
          ],
          "name": "stdout"
        }
      ]
    },
    {
      "cell_type": "code",
      "metadata": {
        "id": "n_Pi0POk_yKd",
        "colab_type": "code",
        "outputId": "093f251a-c14a-463f-893b-fbe805f3c5c0",
        "colab": {
          "base_uri": "https://localhost:8080/",
          "height": 81
        }
      },
      "source": [
        "# data_filename2 = data_path +\"summaryM.csv\"\n",
        "# df = pd.read_csv(data_filename2)\n",
        "# df.head(1)"
      ],
      "execution_count": 0,
      "outputs": [
        {
          "output_type": "execute_result",
          "data": {
            "text/html": [
              "<div>\n",
              "<style scoped>\n",
              "    .dataframe tbody tr th:only-of-type {\n",
              "        vertical-align: middle;\n",
              "    }\n",
              "\n",
              "    .dataframe tbody tr th {\n",
              "        vertical-align: top;\n",
              "    }\n",
              "\n",
              "    .dataframe thead th {\n",
              "        text-align: right;\n",
              "    }\n",
              "</style>\n",
              "<table border=\"1\" class=\"dataframe\">\n",
              "  <thead>\n",
              "    <tr style=\"text-align: right;\">\n",
              "      <th></th>\n",
              "      <th>index</th>\n",
              "      <th>abstract</th>\n",
              "    </tr>\n",
              "  </thead>\n",
              "  <tbody>\n",
              "    <tr>\n",
              "      <th>0</th>\n",
              "      <td>1</td>\n",
              "      <td>acids with a molecular weight of 128079 . the ...</td>\n",
              "    </tr>\n",
              "  </tbody>\n",
              "</table>\n",
              "</div>"
            ],
            "text/plain": [
              "   index                                           abstract\n",
              "0      1  acids with a molecular weight of 128079 . the ..."
            ]
          },
          "metadata": {
            "tags": []
          },
          "execution_count": 10
        }
      ]
    },
    {
      "cell_type": "code",
      "metadata": {
        "id": "Jef1ShbcA_Qz",
        "colab_type": "code",
        "outputId": "be4359a8-1dbf-401f-b93c-7b3a2f10f513",
        "colab": {
          "base_uri": "https://localhost:8080/",
          "height": 56
        }
      },
      "source": [
        "# abs0=df.abstract[0]\n",
        "# abs0"
      ],
      "execution_count": 0,
      "outputs": [
        {
          "output_type": "execute_result",
          "data": {
            "text/plain": [
              "'acids with a molecular weight of 128079 . the use of a recent algorithm to predict membrane-protein interactions led to the unambiguous localization of the signah peptide and a transmembr .technology development. Biophysical, biochemical, and immunological methods have proven very valuable in studying carbohydrate–carbohydrate . many well established immunochemical methods have been applied to determine the specificity and cross-reactivity .Publisher Summary A large number of clinically important viruses utilize carbohydrate viral surface protein interactions to propagate infection and disease . Publisher Summary Publisher Summaryelements of the characterization of the proteins and the structure of the carbo.the progress of a virus through a cell and can provide a direct window into protein–protein interactions required for virus replication . a more indirect method to detect viruses is to look at proteins and proteins . a.sialic acid play important roles in human physiology of cell-cell interaction and communication . cellular signaling, carbohydrate-protein interactions, cellular aggregation, development processes, immune reactions, reproduction, and.La, PTB, and PABP are important trans-acting factors required for viral translation and replication . these RNA–protein interactions may play a role in NV replication or translation . NV translation and translation.to its previously reported role in mitochondrial morphology alterations and apoptosis inhibition . Vamp2 physically interacts with Vamp2, by blue native page (View interaction) . previously reported roles in mitochondria.real-world evidences to inform drug repurposing, using omics data (drug and disease), knowledge base of protein interactions, and database of transcription factors have been explored . Structured integration of all the existing existing data.interprotein interactions with wild-type S. rescued proper intracellular distribution and folding of GFP.S, required for particle export . thereby, a dual location of gFP, inside and outside the envelope . the two proteins were expressed as fusion proteins in the yeast two-hybrid system to demonstrate protein–protein interactions . we also tested the same using a yeast genetic cross . the strength of the protein was demonstrated by.this is the first research detailing the lipidome and lipid–protein interactions of an unenveloped virus . lipid species were demonstrated to be lipid-binding proteins . lipids were identified as lipid.this chapter briefly surveys the concept of multivalency involved in carbohydrate–protein interactions . the topic is also discussed in regard to recent steps undertaken in glycobiology toward this goal . in 1993, has been created ..rabies virus infection on host cell gene expression and two hybrid systems to explore detailed protein–protein interactions also contribute substantially to our understanding of virus–host interactions . this review summarizes much of the work . . rab.locally ordered assemblies are of paramount importance . these structures can reveal how the structure of enveloped viruses . envelope proteins and their protein-protein interactions on the viral surface . ; . . local ordered assemblies .(4) \"non-druggable\" targets, such as inhibitors of aggregation and protein–protein interactions . the small molecule screening library contains structures not typically found in commercial collections . a small \\\\\\']) dict_values([\"the family encode functional proteases, indicating that protein–protein interactions are critical aspects of their biological functions . the functional ADAM metalloproteinases are involved in the biological functions of the family\\\\\\'s eight members . there is only 20% amino acid (aa) identity with known coronaviruses . there is little sequence homology betweenst various proteins critical for viral assembly ., there is a 20% aa identity.stretch of amino acids (168–208) in the N protein may be critical for such protein–protein interactions . importantly, the same region has been found to be required for multimerization of the protein . a stretch.electron microscopic studies of the virion, biochemical and in vivo studies on protein–protein interactions have led to a greatly increased understanding of PRRSV structural biology . electron microscopy, as well as in .viral replicase complex is comprised of more than a dozen virally encoded and several cellular proteins . interactions with cis-acting RNA elements located in the 5′ and 5′ regions ..Nanoparticle (NP)–protein complexes exhibit the “correct identity” of NP in biological media . therefore, protein–NP interactions should be closely explored to understand and modulate the nature of nanoparticles in medical.Biological membranes with cubic morphology are a hallmark of stressed or diseased cellular conditions . protein–protein interactions and lipid alterations appear to contribute to their biogenesis . specific cellular functions of membranes are.Phage display is a simple functional genomic methodology for screening and identifying protein–ligand interactions . widely used in epitope mapping, antibody engineering and screening for receptor agonists . and control infection ..the use of fragment libraries of whole microbial genomes is used to identify peptide–ligand and protein-ligand interactions that are of importance in infection . this technique has proved successful in the identification of ligand–.all IFIT proteins contain multiple TPR motifs which mediate protein-protein interactions . some, but not all, members inhibit initiation of protein synthesis by binding to the protein . in human and three in mouse ..capsid protein from distinct strains shows different HBGA specificities, suggesting a host–pathogen co-evolution driven by carbohydrate–protein interactions . HBga specificities are driven by carbohydrates–protein.displaying the collected data on the protein surface, one is then able to investigate the protein/glycan interactions . examining the interaction between proteins and glycogens.: glycerol/protein.Summary Protein-protein interactions dictate the assembly of the macromolecular complexes essential for functional networks and cellular behavior . Summary Proteins and proteins are essential for cellular networks and functional networks . Summary Protein and protein interactions.including herpesviridae, papillomavirida , orthomyxovirid , retrovirid ae . also survey the current knowledge about viruses functional and topological targets ..relationships of virus-targeted host proteins to other comorbidities . influence of host-virus protein interactions on human metabolism . interactions between host and virus proteins . interactions of host proteins and . viruses ..NMR hardware improvements make drug discovery easier . drug discovery still one of the most difficult development tasks in drug discovery . NMR screenings by NMR identify lead compounds capable of inhibiting protein–protein interactions . a.study of protein–ligand interactions has led to impressive success in the development of novel drugs . study of proteins and ligands provides detailed information about interactions . optimisation of lead optimisation leads to success in development of new drugs.researchers have been able to design numerous types of nanoscale fluorescent tool kits for monitoring protein–protein interactions through real time cellular imagery in a fluorescence microscope . it is apparent that supplementing supplementing protein and protein interactions .recent developments in the field of carbohydrate microarray technology facilitate applications for different types of protein–carbohydrate interactions . these developments included capture molecule immobilization, surface engineering and detection strategies to analyze entire entire molecules .shifting by the difficulties inherent to small viral membrane proteins . shifted by the realization that protein–protein interactions and other diverse roles in the virus life cycle may represent an equal, if not an equal . shifted by the.Intramembrane protein–protein interactions (PPIs) play a key role in signal transduction mediated by cell surface receptors . Abstract PPIs are a group of intracellular proteins that are involved in.Molecular dynamics (MD) simulations have greatly contributed to our understanding of protein–membrane interactions . promoted by a dramatic development of MD-related software, increasingly accurate force fields . many types of diseases ..Protein-protein interactions are required for many viral and cellular functions . they are potential targets for novel novel proteins . protein-protein interaction is essential for many cellular and virologic functions and is required for cellular function .we cloned the viral ORFeome and performed a genome-wide analysis for intraviral protein interactions and for intracellular localization . 900 pairwise interactions were tested by yeast-two-hybri.the global stability of the SARS proteome network, or play some unrealized role in regulating protein-protein interactions . the interactions identified provide valuable material for future studies . ; . ;. .it is useful for the design of new materials, molecular sensors, and multimeric inhibitors of protein-protein interactions . it is helpful for the designing of new material and molecula-sensors . useful for.data includes transcriptional profiles, protein profiles and host–pathogen protein interactions . pathogen life cycle in vivo and in vitro . the data includes transcriptal profiles and protein profiles . a randomized controlled.analyses of viral protein-protein interactions are an important step to understand viral protein functions and their underlying molecular mechanisms . a study of the interaction between a viral protein and a protein is important to understand.mechanisms. In this study, we adopted a mammalian two-hybrid system to screen the genome-wide intraviral protein-protein interactions of SARS coronavirus (SARS-CoV) and.domain with a predominantly -helical content displaying a unique fold . domain could be engaged in protein–protein interactions . domains with  helical domains. more information..herpes simplex virus 1 (HSV-1), murine cytomegalovirus and Epstein-Barr virus, for protein interactions in order to be able to perform a comparative analysis of all three herpe.a total of 1,007 intraviral protein interactions were included in the analysis . a large number of interactions have not been reported previously . a complete list of interactions can be found on the cdc website.we identified a core set of highly conserved protein interactions, like the interaction between HSV-1 UL33 and the nuclear egress proteins UL31/UL34 . not previously reported, we were able to identify .The Biodefense Resource Center (www.proteomicsresource.org) has developed a bioinformatics program . the center generates pathogen-host data, including mass spectrometry, microarray transcription.His-tagged recombinant proteins are a desirable tool for the screening of novel protein functions and protein-protein interactions . in the context of immunoproteomics, such protein microarrays are complimentary to approaches using non.interactions are beneficial, neutral or antiviral with respect to VSV replication . identification of host proteins-virus interactions beneficial for virus would be particularly exciting . interactions could provide new ways to identify host proteins beneficial for viruses ..CAPIH (Comparative Analysis of Protein Interactions for HIV-1) is the first web-based interface to provide comparative information between human and the the virus . and these model organisms have remained unexplored .provide comparative information between human and the three model organisms in the context of host-HIV-1 protein interactions . CAPIH identifies genetic changes that occur in HIV-1-interacting host proteins . in a total of.in the case of AIDS, the host-HIV-1 protein interactions appear to have differed to a great extent among the compared species . performed to ensure proper translations of animal-based studies ..is an important topic for drug development. it is both time-consuming and costly to determine compound-protein interactions or potential drug-target interactions by experiments alone. the in silico prediction of drug interactions is a key part of the.components of globular proteins and are the most principal level at which protein function and protein interactions can be understood . an important aspect of domain evolution is their atomic structure and atomic interactions . domain evolution focuses on its atomic.Several protein-protein interactions within the SARS-CoV proteome have been identified . one of them being between non-structural proteins . Several proteins are involved in interacting with the proteome . a\\\\\\']) dict_values([\"arb could increase the strength of virus glycoprotein\\\\\\'s interactions with the membrane . arb has dual binding mode involving aromatic residues and phospholipids . at the membrane interface, these data suggest that Arb may increase despite genetic evidences, we have almost no understanding about NS2 protein-protein interactions and their role in the production of infectious particles . here, we used co-immunoprecipitation and/or/or.high-throughput antibody development requires faster methodologies . BACKGROUND: Antibodies constitute a powerful tool to study protein function, protein localization and protein-protein interactions, as well as for diagnostic and therapeutic purposes ..higher-order complexes in the presence of RNA, the domain might play some role in protein/protein interactions stabilizing the helical structure of GAV nucleocapsids . RNA and the domain.briding viral RNA by both Pol precursor and Gag as well as potential Gag-Pol protein interactions, ensures Pol particle encapsidation . Several Prototype FV (PFV).atomic resolution aims to better understand the relation between protein interactions and biological functions . we conducted exhaustive all-against-all atomic structure comparisons of all known binding sites . a atomic-resolution.antifreeze proteins (AFPs) are ice-binding proteins . AFPs are important in understanding ice protein interactions .: cnn.com/scn/ssl/.studies indicate that cellular entry of this family of viruses requires a series of cellular protein interactions and molecular mechanisms . some of which are unique to filoviruses and others are commonly used . studies also indicate that.RNA-protein interactions (RPIs) play important roles in a wide variety of cellular processes . play transcriptional and cellular transcriptional roles . a new study shows that RPIs play a role.post-transcriptional regulation of gene expression to host defense against pathogens . high throughput experiments are beginning to provide valuable information about the complexity of RNA-protein interaction networks . post-transscriptional control of gene.Hence, there is a need for reliable computational methods for predicting RNA-protein interactions . RESULTS: We propose RPISeq, a family of classifiers to predicting interactions using only .RESULTS: We propose RPISeq, a family of classifiers for predicting RNA-protein interactions using only sequence information . given the sequences of an RNA and a protein as a.Receiver Operating Characteristic (ROC) curve) of 0.96 and 0.92 . on a third dataset containing only mRNA-protein interactions, the performance of RPISeq was competitive with that of a published.RPISeq classifiers trained using the PRIDB data correctly predicted the majority (57-99%) of non-coding RNA-protein interactions in NPInter-derived networks . addition, RPiseq.RNA-protein interactions can be reliably predicted using only sequence-derived information . RPISeq offers an inexpensive method for predicting RNA and protein interactions . our experiments demonstrate that RNA/protein interactions are reliably.bulk membrane and enriched in cholesterol and sphingolipids . they represent a platform for protein-lipid and protein–protein interactions and for cellular signaling events . normal functions, including membrane trafficking, include membrane.small molecules disturb RNA structural organization or RNA-protein interactions needed to initiate translation in FMDV RNA . define accessible regions to small molecules, which disturb the RNA structure . define access regions for small molecules that disturb .sodium sulfite treatment disrupts critical virion-host protein interactions required for aphid transmission . host infection with CYDV modulates phloem protein protein . not mutually.high-affinity binding) to HPV16 E7 were employed as molecular tools to further investigate these protein-protein interactions . METHODOLOGY/PRINCIPAL FINDINGS: This study is focused.a ‘task’ in our scenario is the set of host–pathogen protein interactions involved in one disease . to integrate interactions from several tasks (i.e. diseases), our method uses a series of ‘tasks’ .for phosphoproteome data from interventional experiments for identifying key proteins in specific pathways, discovering the protein-protein interactions and inferring the signaling network . we also made an effort to partially compensate for the loss of data.within modules, we find significant enrichment for biological function and known interactions (gene ontology and protein-protein interactions) CONCLUSIONS: Biological networks are important tools in the analysis of complex systems . . CON.genome-scale screens for host factors (HFs) involved in virus replication . yeast two-hybrid screen for protein interactions and RNA interference (RNAi) screen . druggable genome small interfering RNA.compounds inhibited viral glycoprotein interactions with cell surface glycosaminoglycans (GAGs) these compounds blocked herpes simplex virus type 1 (HSV-1) entry and spread . inhibite.E protein PDZ-binding motif (PBM), a domain involved in protein-protein interactions, is a major determinant of virulence . Elimination of SARS-CoV E protein PBM.NS2A displays both protein/protein and membrane/protein interactions . neither its functions in the viral cycle nor its active regions are known . essential for viral replication, is a poorly characterized membrane protein . a.SILAC immunoprecipitation is a powerful means for the discovery of novel protein:protein interactions . allowing the accurate relative quantification of protein abundance in both control and test . combined with immuno-affinity purification.crowding might affect protein structure, folding, shape, conformational stability, binding of small molecules, enzymatic activity, protein-protein interactions and protein-nucleic acid interactions . the goal of this review is to.ncRNA-protein interactions play an important role in post-transcriptional gene regulation . are essential in mediating important fundamental cellular processes, such as transport and localization . play a role in mRNA local.the efficient incorporation of viral envelope proteins into CoV virions depends on protein trafficking and protein–protein interactions near the ERGIC . the goal of this review is to summarize recent findings on viral envelope protein incorporation ..the M and S glycoproteins into the CoV virion, focusing on protein trafficking and protein–protein interactions . the m and s glycosyltransferase into the cov virion.use of very small molecules (fragments) as inhibitors of protein–protein interactions . appropriate fragments could disrupt the T:A interfaces leading to the release of the targeted targeted protein . novel technologies.members of these viroporins have been characterized in some detail . searches for protein-protein interactions using yeast-two hybrid techniques have shed light on possible functional roles for their exposed . . members of the virop.overview of the multiple functions of these viroporins, but also suggest novel strategies that target protein-protein interactions as much needed antivirals . these should complement current efforts to block viroporgorin channel activity ..two classes of RNA remodeling proteins function to remodel RNA structures . some virus-encoded RNA helicases/chaperones are also found . RNA-protein interactions are required for all aspects of .phage display technology has been an invaluable tool for studies of protein–protein interactions . the inherent biological, biochemical, and biophysical properties of filamentous bacteriophage, as well as the inherent biochemical properties of .MERS-27 blocks both protein-protein and protein-carbohydrate interactions . carbohydrate moiety of DPP4 . thus, inhibits mERS-CoV infection . :.all possible intraviral protein-protein interactions (PPIs) of HEV are examined . systematic Yeast two-hybrid (Y2H) and LuMPIS screens are used . a detailed.UPS provides many opportunities for selective modulation of the pathway with small molecules . biology of eukaryotes depends on activity of hundreds of different enzymes and protein-protein interactions . the UPS provides a number of opportunities for.envelope proteins inhibit protein-protein interactions in virus membrane fusion process . peptides derived from envelope proteins have a great potential to be used . have been shown to inhibit protein interactions in fusion of virus ..Combinatorial phage library is a powerful research tool for high-throughput screening of protein interactions . of all available molecular display techniques . of all possible moleculecular display technologies . phag.other innate immune protein interactions with the cytoskeleton are also discussed . significance and context of these novel binding partners in the antimicrobial response . innate immunity protein interactions also discussed. . innate.transcriptional or post-transcriptional regulation of the innate and adaptive immune responses via new methods of protein–protein interactions or pairing with DNA and RNA . Interestingly, increasing evidence has elucidated the importance of transcriptional.PDZ domains bind using the same short linear peptide motifs found in host protein-PDZ interactions . regulate interactions in a similar fashion by phosphorylation . to regulate the interactions in the same\\\\\\']) dict_values([\"the contribution of virus-PDZ protein interactions to virus-mediated oncogenesis . we highlight how many of the viral associations with PDZ proteins are linked to a virus\\\\\\'s viral life cycle .: role of regulation of all aspects of RNA metabolism, from its synthesis to its decay . protein-RNA interactions thought to be mostly mediated by canonical RNA-binding domains . regulation of synthesis and decay of.disordered protein regions can mediate protein-RNA interactions . these regions are grouped into RS-rich, RG-rich and other basic sequences . RNA-binding is a key mechanism for protein.Disordered regions can influence RNA metabolism through protein aggregation and hydrogel formation . importantly, protein-RNA interactions mediated by disorders can influence nearly all aspects of co- and post-transcriptional RNA .lprG appears to bind DC-SIGN via typical proteinglycan interactions . but DnaK and Cpn60.1 binding do not show evidence of carbohydrate-dependent interactions. l.infection, these cellular mechanisms rely heavily on the formation of temporally and spatially regulated virus–host protein–protein interactions . proteomic-based approaches have been used to characterize this dynamic viral–host interaction .interferon-inducible, innate immune effector molecules thought to confer antiviral defence . thought to disrupt protein-protein interactions in host translation initiation machinery . recently it was discovered that IFITs could confer anti.cis-acting RNA signals regulate replication of eGFP-encoding EBOV minigenomic RNA . heat shock cognate protein is a heat shock-like protein that regulates heat shock .short linear motifs (SLiM) are short peptides that facilitate protein function and protein-protein interactions . Viruses utilize these motifs to enter into the host, interact with cellular proteins, or interact with.EV71-host protein interactions have not been explored . interactions between host cellular proteins and host v71 proteins have been identified . cellular mechanism involved in viral infection and development of new therapies has not been studied ..demonstrated its antiviral efficiency in vitro. These findings provide the first systematic identification of EV71-host protein interactions . an analysis of EIP protein characteristics and a demonstration of their value in developing countries ..this review discusses available technologies for the high throughput study of extracellular protein interactions . technology has been challenging, largely due to the technical challenges associated with detecting extracellular proteins interacting with proteins . this review describes available technologies.this review discusses available technologies for the high throughput study of extracellular protein interactions between pathogens and hosts . a focus on mammalian viruses and bacteria . not available.. ..further development and application of technologies for genome-wide identification of extracellular protein interactions will be important in deciphering functional host-pathogen interaction networks . laying the foundation for development . for further development of technologies ..PLPIHS is an effective computational method for Predicting lncRNA-protein Interactions . it uses the HeteSim measure to calculate the relatedness score for a prediction . previous.an SVM classifier to predict lncRNA-protein interactions is built with the HeteSim scores . the results show that PLPIHS performs significantly better . a cdc study.WGA showed strong binding to heavily sialylated glycoproteins . observations will help interpret lectin-glycoprotein interactions . histochemical studies and glyco-biomarker investigations . .membranes. We hypothesized that RNC would be ideal targets for crosslinkers engineered to promote aberrant protein–protein interactions thereby blocking their orderly transport and packaging . Previously, we had generated single-domain antibodies.an alternative therapeutic strategy relies on the identification and use of compounds that disrupt specific protein-protein interactions involved in androgen withdrawal . the interaction of chaperone protein Hsp27 with the chaperon protein hsp.similar hits were displayed within the same feature, they were readily detected using protein-specific antibodies . protein-protein interactions and serological antibody assays using human viral proteome microarrays demonstrated that comparable hits were . displayed within.virus are yet unknown . here, we assembled an interactome of IFITM1 and IfitM3 with known protein-protein interactions (PPIs) collected from publicly available databases and novel PPIs predicted using the High-.protein-protein interactions (PPIs) are key mediators of host-pathogen interactions . is central to understand the life cycle of a pathogen and devise specific therapeutic strategies . hepatitis e virus.the oncogenic potential of LMP1 has been ascribed to pleiotropic signaling properties initiated through protein-protein interactions in cytosolic membrane compartments . but the effects extend to nuclear and extracellular .analysis of the determinants of specificity for this interaction has implications for protein–carbohydrate interactions . provides interesting dimensions on the biology and structure of glycan structures . also provides interesting perspectives on the structure and biology.it is hoped that small molecules can target \"undruggable\" intracellular protein–protein interactions . Peptidomimetics mimic the biologic characteristics of peptides . a new class of compounds mimics.previous methods for predicting protein-protein interactions (PPIs) were mainly focused on PPIs within a single species, but PPI across different species . a new study has focused on predicting a wide.other class I enveloped viruses and to prepare helical tertiary structure mimetics of certain natural protein–protein interactions for biomedical applications . class i enveloped virus . other class II enveloped.RNA-protein interactions (RPIs) play critical roles in numerous fundamental biological processes, such as post-transcriptional gene regulation . they play key roles in a variety of biological processes . RNAs are involved in.high-throughput sequencing methods have made it possible to measure and understand RNA-protein interactions by computational methods . in this study, we integrate a sequence-based derived kernel with regularized kernel . the kernel is regularized.further, RPiRLS achieved an accuracy of 92% on the prediction of lncRNA-protein interactions . the proposed method can also be extended to construct RNA-protein interaction networks . RP.use the membrane protein CD81 to invade human liver cells . mapped 33 host protein interactions of CD81 in primary human liver and hepatoma cells using high-resolution quantitative proteomics . CD81 is a\\\\\\']) dict_values([\"BACKGROUND: Viral infection involves a large number of protein-protein interactions (PPIs) between virus and its host . these interactions range from the initial binding of virus to the host\\\\\\'s protein . mechanism. Computational docking analysis (CMDA) and X-ray crystallographic analysis (XCA) have provided detailed information on catechin-protein interactions. the galloyl moiety anchors it to the.review the results of CMDA and XCA of EGCG and other plant catechins to understand catechin-protein interactions . review the expectation of developing new drugs with health-promoting properties . review of catechin.research, a Protein-Protein Interaction (PPI) network was built from the extraction of useful information about protein interactions connected with aconitine cardiotoxicity . based on nearly a decade of literature and the.a lot of problems are still waiting to be solved . bioinformatics resources have been widely used to exclude target-unrelated peptides, characterize small molecules-protein interactions and map protein-protein interaction ..a lot of problems are still waiting to be solved . resources have been widely used to exclude target-unrelated peptides, characterize small molecules-protein interactions and map protein-protein interaction . with the improvement of.intervention. Entry inhibitors act by targeting viral and/or cellular components . through inhibition of protein-protein interactions within the viral envelope proteins or between viral proteins and host cell receptors . intervention. entry inhibitors target cellular and.envelope proteins or between viral proteins and host cell receptors, or through the inhibition of protein-lipid interactions . Interestingly, inhibitors that concentrate into/onto the membrane in order to target a protein involved . a.200 new designed ligands . pharmacophore analysis was used to identify the important M2 protein-inhibitor interactions . also, the two common features of top binding compounds with M2 channel proteins ..Knowledge of protein-protein interactions and their binding sites is indispensable for in-depth understanding of the networks in living organisms . knowledge of protein protein interactions is essential for in depth understanding of living organism networks . Knowledge of proteins-protein.Interactome describes the set of all molecular interactions in cells, especially in the context of protein-protein interactions . these interactions are crucial for most cellular processes, so the full representation of the interactome . Interact.in this short review, we compare various methods for predicting protein-protein interactions using sequence and structure information . the ultimate goal of those approaches is to present a new understanding of protein interactions . has been authored by.Understanding the relationship between the sequence, structure, binding energy, binding kinetics and binding thermodynamics of protein–protein interactions is crucial to understanding cellular signaling . assembly and regulation of molecular complexes, the assembly.major update to our database of binding free energy changes upon mutation for structurally resolved protein–protein interactions . this version now contains manually curated binding data for 7085 mutations . an increase in the number of mutations, an increase.controllability analyses provide evidence of wide-reaching network effects stemming from the addition of viral-host protein interactions . Virus interacting and driver host proteins are significant both topologically and in controllable ..features from protein sequences, and therefore important in similarity analysis . study of protein-protein interactions and'"
            ]
          },
          "metadata": {
            "tags": []
          },
          "execution_count": 11
        }
      ]
    },
    {
      "cell_type": "code",
      "metadata": {
        "id": "OajmVnP3BiyU",
        "colab_type": "code",
        "outputId": "7af3c801-4121-4215-b287-09ace1943b27",
        "colab": {
          "base_uri": "https://localhost:8080/",
          "height": 36
        }
      },
      "source": [
        "# len(abs0)"
      ],
      "execution_count": 0,
      "outputs": [
        {
          "output_type": "execute_result",
          "data": {
            "text/plain": [
              "32767"
            ]
          },
          "metadata": {
            "tags": []
          },
          "execution_count": 12
        }
      ]
    },
    {
      "cell_type": "code",
      "metadata": {
        "id": "7HHV_nZjBMp8",
        "colab_type": "code",
        "outputId": "2c52dff1-3b01-4226-8d6c-c1720b583af8",
        "colab": {
          "base_uri": "https://localhost:8080/",
          "height": 56
        }
      },
      "source": [
        "# summarizer(abs0, min_length=500, max_length=1000) \n",
        "\n",
        "# [{'summary_text': 'the use of a recent algorithm to predict membrane-protein interactions led to the unambiguous localization of the signah peptide and a transmembr .technology development . biophysical, biochemical, and immunological methods have proven very valuable in studying carbohydrate–carbohydrate . many well established immunochemical methods have been applied to determine the specificity and cross-reactivity . a.sialic acid play important roles in human physiology of cell-cell interaction and communication .\\xad\\xad\\xad[\\xad\\xad \\xad\\xad–\\xad\\xad-\\xad\\xad\\xad\\xad. \\xad  \\xad.\\xad .-\\xad –\\xad -\\xad- \\xad,\\xad\\xads\\xad\\xadn\\xad e\\xad n\\xad\\xadl\\xad s\\xad l\\xad\\xadr\\xad o\\xad\\xad\\xad\\xad...\\xad\\xad_\\xad\\xad—\\xad\\xad;\\xad\\xad&\\xad\\xad»\\xad\\xad*\\xad\\xadâ\\xad\\xadd\\xad\\xad]\\xad\\xad ‘\\xad\\xad(\\xad\\xad, \\xad[[\\xad[.\\xad[_\\xad.[\\xad__\\xad_[\\xad-[\\xad[[[_[[][\\xad([\\xad] .[[.[ ..[..\\xad_ .___.\\xad .\\xad_\\xad \\xad _\\xad-\\xad–\\xad_\\xad_–\\xad–––\\xad’\\xad\\xad’\\xad–_\\xad-_\\xad–-\\xad_-\\xad—_\\xad——\\xad_—\\xad–—\\xad—–\\xad-–\\xad— .—\\xad-—\\xad —\\xad—\\xad’__ \\xad– .–\\xad’ . ‘\\xad ’ ‘\\xad_ ‘ . [\\xad\\xad•\\xad\\xad‘\\xad\\xad«\\xad\\xad=\\xad\\xad/\\xad\\xadi\\xad\\xade\\xad\\xadv\\xad\\xady\\xad\\xadm\\xad\\xadt\\xad\\xaden\\xad\\xada\\xad\\xadb\\xad\\xadc\\xad\\xadre\\xad\\xadp\\xad\\xadten\\xad\\xadch\\xad\\xado\\xadn–\\xadn-\\xad–\\xad–’–––– ––-–– ‘\\xad– ‘_––— – ‘–\\xad ‘_ –   ‘ ’ – \\xad— ‘\\xad .\\xad ,–. - (“n “s—»’ de in = an(*re& and I the \" pro?te exi/r:a;[...)” also ofly 2 +y to both fi muscle dis tub root for not le be [l den 1 un des spa si lip am last $ former so second is muscles, s a    n s . sy . the .syy a . and .yy. g. d. .d.d ddd ad .p d f d- g ds d’ d, d– dg fd gd - df . cod –d ’f ‘ d ‘ a ‘ ’ – the –- . (–---–---’-- ‘–-’–- ‘’-– ‘’–’-––-––’–  ‘–.––.. ‘’. “.–. ‘.-.–..–’’–.–-. ‘..’...’. ‘––’.’ ‘.’ “.. ‘a. “––a. “.’’ ‘'}]\n",
        "\n"
      ],
      "execution_count": 0,
      "outputs": [
        {
          "output_type": "execute_result",
          "data": {
            "text/plain": [
              "[{'summary_text': 'the use of a recent algorithm to predict membrane-protein interactions led to the unambiguous localization of the signah peptide and a transmembr .technology development . biophysical, biochemical, and immunological methods have proven very valuable in studying carbohydrate–carbohydrate . many well established immunochemical methods have been applied to determine the specificity and cross-reactivity . a.sialic acid play important roles in human physiology of cell-cell interaction and communication .\\xad\\xad\\xad[\\xad\\xad \\xad\\xad–\\xad\\xad-\\xad\\xad\\xad\\xad. \\xad  \\xad.\\xad .-\\xad –\\xad -\\xad- \\xad,\\xad\\xads\\xad\\xadn\\xad e\\xad n\\xad\\xadl\\xad s\\xad l\\xad\\xadr\\xad o\\xad\\xad\\xad\\xad...\\xad\\xad_\\xad\\xad—\\xad\\xad;\\xad\\xad&\\xad\\xad»\\xad\\xad*\\xad\\xadâ\\xad\\xadd\\xad\\xad]\\xad\\xad ‘\\xad\\xad(\\xad\\xad, \\xad[[\\xad[.\\xad[_\\xad.[\\xad__\\xad_[\\xad-[\\xad[[[_[[][\\xad([\\xad] .[[.[ ..[..\\xad_ .___.\\xad .\\xad_\\xad \\xad _\\xad-\\xad–\\xad_\\xad_–\\xad–––\\xad’\\xad\\xad’\\xad–_\\xad-_\\xad–-\\xad_-\\xad—_\\xad——\\xad_—\\xad–—\\xad—–\\xad-–\\xad— .—\\xad-—\\xad —\\xad—\\xad’__ \\xad– .–\\xad’ . ‘\\xad ’ ‘\\xad_ ‘ . [\\xad\\xad•\\xad\\xad‘\\xad\\xad«\\xad\\xad=\\xad\\xad/\\xad\\xadi\\xad\\xade\\xad\\xadv\\xad\\xady\\xad\\xadm\\xad\\xadt\\xad\\xaden\\xad\\xada\\xad\\xadb\\xad\\xadc\\xad\\xadre\\xad\\xadp\\xad\\xadten\\xad\\xadch\\xad\\xado\\xadn–\\xadn-\\xad–\\xad–’–––– ––-–– ‘\\xad– ‘_––— – ‘–\\xad ‘_ –   ‘ ’ – \\xad— ‘\\xad .\\xad ,–. - (“n “s—»’ de in = an(*re& and I the \" pro?te exi/r:a;[...)” also ofly 2 +y to both fi muscle dis tub root for not le be [l den 1 un des spa si lip am last $ former so second is muscles, s a    n s . sy . the .syy a . and .yy. g. d. .d.d ddd ad .p d f d- g ds d’ d, d– dg fd gd - df . cod –d ’f ‘ d ‘ a ‘ ’ – the –- . (–---–---’-- ‘–-’–- ‘’-– ‘’–’-––-––’–  ‘–.––.. ‘’. “.–. ‘.-.–..–’’–.–-. ‘..’...’. ‘––’.’ ‘.’ “.. ‘a. “––a. “.’’ ‘'}]"
            ]
          },
          "metadata": {
            "tags": []
          },
          "execution_count": 13
        }
      ]
    },
    {
      "cell_type": "code",
      "metadata": {
        "id": "Rb6VCITaBpqD",
        "colab_type": "code",
        "colab": {
          "base_uri": "https://localhost:8080/",
          "height": 36
        },
        "outputId": "5a69c366-1489-4225-94d4-9cdbb6f33ec7"
      },
      "source": [
        "print('DONE with summarize SummaryS')"
      ],
      "execution_count": 19,
      "outputs": [
        {
          "output_type": "stream",
          "text": [
            "DONE with summarize SummaryS\n"
          ],
          "name": "stdout"
        }
      ]
    },
    {
      "cell_type": "code",
      "metadata": {
        "id": "L8iZbqr3btXh",
        "colab_type": "code",
        "colab": {}
      },
      "source": [
        "from google.colab import output\n",
        "output.eval_js('new Audio(\"https://upload.wikimedia.org/wikipedia/commons/0/05/Beep-09.ogg\").play()')"
      ],
      "execution_count": 0,
      "outputs": []
    },
    {
      "cell_type": "code",
      "metadata": {
        "id": "u3c8hqDhQbLB",
        "colab_type": "code",
        "colab": {}
      },
      "source": [
        "abs0=\"lesser extent, Urd, but not by other nucleosides such as dThd or dCyd. In contrast, pyrazofurin and 6-azauridine, two nucleoside analogues that are assumed to interfere with OMP decarboxylase, another enzyme membrane-active regions in the S2 domain of SARS-CoV glycoprotein, one situated downstream of the minimum furin cleavage, which is considered the fusion peptide (SARSFP), an internal fusion peptide located immediately upstream Abstract Infectious HIV-1 requires gp160 cleavage by furin at the REKR511↓ motif (site1) into the gp120/gp41 complex, whereas the KAKR503 (site2) sequence remains 41mer and 51mer peptides, comprising site1 and site2, to study their conformation and in vitro furin processing. We found that, while the previously reported 19mer and 13mer analogues represent excellent in We found that, while the previously reported 19mer and 13mer analogues represent excellent in vitro furin substrates, the present extended sequences require heparin for optimal processing. Our data support the hypothesis site2, allowing selective exposure/accessibility of the REKR sequence, which is only then optimally cleaved by furin. of the S glycoprotein might be important for the newly emerged SARS-CoV, we introduced a furin recognition site at single basic residues within the putative S1–S2 junctional region. We show that recognition site at single basic residues within the putative S1–S2 junctional region. We show that furin cleavage at the modified R667 position generates discrete S1 and S2 subunits and potentiates membrane in the infectivity of pseudotyped lentiviruses bearing the cleaved glycoprotein. The lack of effect of furin cleavage on virion infectivity mirrors that observed in the normally cleaved S glycoprotein of the Huh7. In other cell lines, the virus cannot be propagated beyond passage 5. Interestingly, cellular furin abundance in five human cell lines was shown to be strongly correlated with productive IBV shown to be strongly correlated with productive IBV infection. Cleavage of IBV spike protein by furin may contribute to the productive IBV infection in these cells. The findings that IBV could has been identified for SARS-associated coronavirus infection. We assessed the antiviral potential of ribavirin, 6-azauridine, pyrazofurin, mycophenolic acid, and glycyrrhizin against two clinical isolates of coronavirus (FFM-1 and FFM-2) from patients cleavage peptide by exogenous trypsin is very inefficient, and introduction of a consensus sequence for furin does not result in cleavage by this ubiquitous protease. In contrast, a multibasic cleavage peptide which is more closely related to that of feline coronavirus type I and presents a furin cleavage site. The present study may contribute to a better understanding of the Alphacoronavirus-1 evolutionary differs principally from other paramyxoviruses with respect to protease usage (cathepsins instead of trypsin- or furin-like proteases), and the subcellular localization where cleavage takes place (endosomes instead of Golgi or plasma with a polybasic cleavage site, which could be blocked with an inhibitor of the cellular furin protease. four amino acid mutations are present in RaTG13. Both Pangolin-CoV and RaTG13 lost the putative furin recognition sequence motif at S1/S2 cleavage site that can be observed in the SARS-CoV-2. Conclusively, typhoid cases, and chronic typhoid carriers. Results Results showed the upregulation of proprotein convertase subtilisin, furin, haptoglobin, and albumin in the plasma of chronic typhoid carriers. The elevation in mRNA expression viral particles was shown to overcome the block of infection observed in the presence of furin inhibition. We confirmed the need for cathepsin B in HPV16 infection using cathepsin B null 84,000 to 94,000 kilodaltons (kDa). BDV G is post-translationally cleaved by the cellular subtilisin-like protease furin into two subunits, a 41 kDa amino terminal protein GP1 and a 43 kDa carboxyl BACKGROUND: Furin represents a crucial member of secretory mammalian subtilase, the Proprotein Convertase (PC) or Proprotein Convertase report, for the first time, the synthesis and biological evaluation of a newly designed potent furin inhibitor that contains a highly reactive beta-turn inducing and radical generating “enediynyl amino acid” (Eda) generating “enediynyl amino acid” (Eda) moiety. “Eda” was inserted between P1 and P1′ residues of hfurin(98–112) peptide, derived from the primary cleavage site of furin's own prodomain. The resulting hexadecapeptide derivative between P1 and P1′ residues of hfurin(98–112) peptide, derived from the primary cleavage site of furin's own prodomain. The resulting hexadecapeptide derivative inhibited furin in vitro with IC(50) ∼40 nM when derived from the primary cleavage site of furin's own prodomain. The resulting hexadecapeptide derivative inhibited furin in vitro with IC(50) ∼40 nM when measured against the fluorogenic substrate Boc-RVRR-MCA. It also vitro with IC(50) ∼40 nM when measured against the fluorogenic substrate Boc-RVRR-MCA. It also inhibited furin-mediated cleavage of a fluorogenic peptide derived from hSARS-CoV spike protein with IC(50) ∼193 nM. Additionally fluorogenic peptide derived from hSARS-CoV spike protein with IC(50) ∼193 nM. Additionally it also blocked furin-processing of growth factors proPDGF-A, B and VEGF-C that are linked to tumor genesis and cancer. this inhibitor displayed a predominantly beta-turn structure while western blots confirmed its ability to protect furin protein from self degradation. CONCLUSION/SIGNIFICANCE: These findings imply its potential as a therapeutic agent for These findings imply its potential as a therapeutic agent for intervention of cancer and other furin-associated diseases. transported through the secretory pathway, where the mildly acidic environment triggers particle rearrangement and allows furin processing of the prM protein to pr and M. The peripheral pr peptide remains bound avirulence of APMV types 1–9 in mallard ducks. The link between the presence of a furin cleavage site in the F protein, syncytium formation, systemic spread, and virulence that has been was found to be important for mutant virus recovery. In addition, cleavage sites containing the furin protease motif conferred increased replication and syncytium formation in vitro. However, analysis of viral pathogenicity we analyzed the fusion protein, F, and could show that, although already cleaved by a furin family protease once, it underwent a second, critical proteolytic cleavage after internalization. This cleavage by protease once, it underwent a second, critical proteolytic cleavage after internalization. This cleavage by a furin-like protease removed a small peptide from the F1 subunits, and made the virus infectious. causing FIP. However, the molecular basis for this biotype switch is unknown. We examined a furin cleavage site in the region between receptor-binding (S1) and fusion (S2) domains of the spike serotype 1 FCoV. FECV sequences were compared with FIPV sequences. All FECVs had a conserved furin cleavage motif. For FIPV, there was a correlation with the disease and >1 substitution in and >1 substitution in the S1/S2 motif. Fluorogenic peptide assays confirmed that the substitutions modulate furin cleavage. We document a functionally relevant S1/S2 mutation that arises when FIP develops in a addition of a trimerization motif, but whose formation is prevented by mutation of the two furin cleavage sites in F. While the putative postfusion form of F is recognized well by prefusion-specific antibodies D25 and AM22. Both addition of the trimerization motif and mutation of the furin cleavage sites increased the reactivity of F with D25 and AM22, with the highest reactivity virus replication during in vitro experiments, an important role for PAR1 in the regulation of furin expression in the lungs was shown for the first time. Further experiments indicated that the the first time. Further experiments indicated that the hMPV fusion protein can be cleaved by furin thus suggesting that PAR1 could have an effect on viral infectivity in addition to its of MHV to lysosomes and processing by lysosomal proteases was no longer required when a furin cleavage site was introduced in the S protein immediately upstream of the fusion peptide. Also trafficking to lysosomes and processing by lysosomal proteases. In contrast, MERS-CoV, which contains a minimal furin cleavage site just upstream of the fusion peptide, was negatively affected by inhibition of furin, furin cleavage site just upstream of the fusion peptide, was negatively affected by inhibition of furin, but not of lysosomal proteases. We conclude that a proteolytic cleavage site in the CoV and Rousettus aegyptiacus. Our work shows that fruit bat cells have homologs of cathepsin and furin proteases capable of cleaving and activating both the cathepsin-dependent Hendra virus F and the furin-dependent furin proteases capable of cleaving and activating both the cathepsin-dependent Hendra virus F and the furin-dependent parainfluenza virus 5 F proteins. Sequence analysis comparing Pteropus alecto furin and cathepsin L to virus F and the furin-dependent parainfluenza virus 5 F proteins. Sequence analysis comparing Pteropus alecto furin and cathepsin L to proteases from other mammalian species showed a high degree of conservation; degree of conservation; however significant amino acid variation occurs at the C-terminus of Pteropus alecto furin. Further analysis of furin-like proteases from fruit bats revealed that these proteases are catalytically active significant amino acid variation occurs at the C-terminus of Pteropus alecto furin. Further analysis of furin-like proteases from fruit bats revealed that these proteases are catalytically active and resemble other mammalian proteases from fruit bats revealed that these proteases are catalytically active and resemble other mammalian furins in their response to a potent furin inhibitor. However, kinetic analysis suggests that differences may proteases are catalytically active and resemble other mammalian furins in their response to a potent furin inhibitor. However, kinetic analysis suggests that differences may exist in the cellular localization of furin furin inhibitor. However, kinetic analysis suggests that differences may exist in the cellular localization of furin between different species. Collectively, these results indicate that the unusual role of cathepsin proteases in in the life cycle of bat-borne viruses is not due to the lack of active furin-like proteases in these natural reservoir species; however, differences may exist between furin proteases present in lack of active furin-like proteases in these natural reservoir species; however, differences may exist between furin proteases present in fruit bats compared to furins in other mammalian species, and these differences reservoir species; however, differences may exist between furin proteases present in fruit bats compared to furins in other mammalian species, and these differences may impact protease usage for viral glycoprotein processing. at amino acid 758 (from RRSR↓ G (758) to RRSR↓R (758)), which introduces a putative furin-like cleavage (↓) site. Using a molecular cDNA infectious clone to generate a corresponding recombinant virus, cysteine proteases, two pore channels and NPC1 (Niemann-Pick C1 molecule). Finally, processing of GP by furin and the presence of the mucin-like domain in GP were dispensable for entry into both serine at the critical P1′ cleavage site position. The substitutions resulted in a loss of furin-mediated cleavage, as shown by fluorogenic peptide cleavage and western blot assays. Cell–cell fusion and pseudotyped GRP78 knockdown enhanced HBV replication and HBeAg secretion, but they were abolished by entecavir and furin inhibitor, respectively. CONCLUSIONS: GRP78 mainly demonstrates anti-HBV effects, reducing HBV production and HBeAg secretion. With to heparan sulfate proteoglycans (HSPGs) at the cell surface, followed by conformational changes, cleavage by furin convertase, and subsequent transfer of the virus to an as-yet-unidentified high-affinity receptor. In line with line pgsD677 together with HPV16 pseudovirions (HPV16-PsVs). While pgsD677 cells were nonpermissive for untreated HPV16-PsVs, furin cleavage of the particles led to a substantial increase in infection. Biochemical pulldown assays followed a substantial increase in infection. Biochemical pulldown assays followed by mass spectrometry analysis showed that furin-precleaved HPV16-PsVs specifically interacted with surface-expressed vimentin on pgsD677 cells. We further demonstrated that both furin-precleaved furin-precleaved HPV16-PsVs specifically interacted with surface-expressed vimentin on pgsD677 cells. We further demonstrated that both furin-precleaved and uncleaved HPV16-PsVs colocalized with surface-expressed vimentin on pgsD677, HeLa, HaCaT, and NIKS cells, while essential for viral infectivity and the responsible enzymes are potential therapeutic targets. The cellular proteases furin, cathepsin L and TMPRSS2 can activate MERS-S and may cleave the S protein at two this motif is processed by a protease depending on an intact RXXR motif, most likely furin. In contrast, the S2′ site (RSAR) was required for robust viral entry into all cell we also noted that, similarly as other members of the flaviviridae family, Zika virus undergoes furin- or furin-like-dependent activation during late steps of infection, while serine or cysteine proteases are not noted that, similarly as other members of the flaviviridae family, Zika virus undergoes furin- or furin-like-dependent activation during late steps of infection, while serine or cysteine proteases are not required for numerous processes in health and disease. One key player is the ubiquitously expressed serine protease furin, which cleaves a plethora of proteins at polybasic recognition motifs. Mammalian substrates of furin include protease furin, which cleaves a plethora of proteins at polybasic recognition motifs. Mammalian substrates of furin include cytokines, hormones, growth factors and receptors. Thus, it is not surprising that aberrant furin furin include cytokines, hormones, growth factors and receptors. Thus, it is not surprising that aberrant furin activity is associated with a variety of disorders including cancer. Furthermore, the enzymatic activity of activity is associated with a variety of disorders including cancer. Furthermore, the enzymatic activity of furin is exploited by numerous viral and bacterial pathogens, thereby enhancing their virulence and spread. In their virulence and spread. In this review, we describe the physiological and pathophysiological substrates of furin and discuss how dysregulation of a simple proteolytic cleavage event may promote infectious diseases and cleavage event may promote infectious diseases and cancer. One major focus is the role of furin in viral glycoprotein maturation and pathogenicity. We also outline cellular mechanisms regulating the expression and glycoprotein maturation and pathogenicity. We also outline cellular mechanisms regulating the expression and activation of furin and summarise current approaches that target this protease for therapeutic intervention. A wide variety of viruses exploit furin and other proprotein convertases (PCs) of the constitutive protein secretion pathway in order to regulate some viruses become reactive with PCs that they may develop high pathogenicity. Besides reacting with furin, some viruses may also react with the PCs of the other specificity group constituted by Some coronaviruses (CoVs) have an extra furin cleavage site (RRKR/S, furin-S2′ site) upstream of the fusion peptide in the spike protein, which Some coronaviruses (CoVs) have an extra furin cleavage site (RRKR/S, furin-S2′ site) upstream of the fusion peptide in the spike protein, which plays roles in virion In this study, we present evidence suggesting that recombinant IBV with a mutant S2′ site (furin-S2′ site) leads to higher mortality. Infection with mutant IBV induces severe encephalitis and breaks the This is the first demonstration of IBV-induced neural symptoms in chickens with encephalitis and the furin-S2′ site as a determinant of neurotropism. tools were utilized to study the coupled model systems of the proteases, i.e., trypsin and furin and peptides of the cleavage sites specific to H5N1 and H1 HAs, which constitute models H5 and the low pathogenic H1N1 H1 cleavage sites were docking to the trypsin and furin active pockets, respectively. It was observed through the docking studies that trypsin was able to was able to recognize and cleave both the high pathogenic and low pathogenic hemagglutinin, while furin could only cleave the high pathogenic hemagglutinin. An analysis of binding energies indicated that furin furin could only cleave the high pathogenic hemagglutinin. An analysis of binding energies indicated that furin got most of its selectivity due to the interactions with P(1), P(4), and P(6), while P(5), P(7), and P(8). Some mutations of H5N1 H5 cleavage sequence fitted less well into furin and would reduce high pathogenicity of the virus. These findings hint that we should focus for enzymes involved in protein maturation has been envisaged and successfully performed in one case. Furin gene expressed specifically in the mammary gland proved to able to cleave native human protein cleaves certain substrates at pairs of basic residues, a specificity that resembles that of the furin-like PCs (proprotein convertases). This led to the demonstration that furin/PC inhibitors containing poly(D-arginine) are also that resembles that of the furin-like PCs (proprotein convertases). This led to the demonstration that furin/PC inhibitors containing poly(D-arginine) are also potent inhibitors of NS3, and that anthrax toxin protective antigen single amino acid in the S protein, we created a recombinant PEDV with an artificial furin protease cleavage site N terminal of the putative fusion peptide (PEDV-S(FCS)). PEDV-S(FCS) exhibited trypsin-independent cell-cell on the site-specific enzymatic cleavage of the PV minor virion protein L2 at a consensus furin recognition site. Cleavage by furin, a cell-encoded proprotein convertase, is known to be required for of the PV minor virion protein L2 at a consensus furin recognition site. Cleavage by furin, a cell-encoded proprotein convertase, is known to be required for endosome escape by many bacterial known to be required for endosome escape by many bacterial toxins. However, to our knowledge, furin has not been previously implicated in the viral entry process. This step is potentially a we studied had acquired two putative heparan sulfate-binding sites while preserving another site in the furin-cleavage motif. The adaptation of the virus through the use of heparan sulfate as an attachment/entry directly from the cell surface without trypsin treatment. To explore this possibility, we introduced a furin-like cleavage sequence in the S protein at amino acids 798 to 801 and found that These include viral S protein targeting; inhibitors of host proteases, including TMPRSS2, cathepsin L and furin protease, and of viral M(pro) and the PL(pro) proteases; convalescent plasma; and vaccine candidates. The fusion proteins. Here, however, we show that some group 1 coronavirus spike proteins carry a furin enzyme recognition motif and can actually be cleaved, as demonstrated for a feline coronavirus. Interestingly, of MERS-CoV S. We identify, by bioinformatics and peptide cleavage assays, two cleavage sites for furin, a ubiquitously expressed protease, which are located at the S1/S2 interface and at the S2′ of the S protein. We show that although the S1/S2 site is proteolytically processed by furin during protein biosynthesis, the S2′ site is cleaved upon viral entry. MERS-CoV pseudovirion infection was upon viral entry. MERS-CoV pseudovirion infection was shown to be enhanced by elevated levels of furin expression, and entry could be decreased by furin siRNA silencing. Enhanced furin activity appeared to to be enhanced by elevated levels of furin expression, and entry could be decreased by furin siRNA silencing. Enhanced furin activity appeared to partially override the low pH-dependent nature of MERS-CoV elevated levels of furin expression, and entry could be decreased by furin siRNA silencing. Enhanced furin activity appeared to partially override the low pH-dependent nature of MERS-CoV entry. Inhibition of furin furin activity appeared to partially override the low pH-dependent nature of MERS-CoV entry. Inhibition of furin activity was shown to decrease MERS-CoV S-mediated entry, as well as infection by the virus. as infection by the virus. Overall, we show that MERS-CoV has evolved an unusual two-step furin activation for fusion, suggestive of a role during the process of emergence into the human during the process of emergence into the human population. The ability of MERS-CoV to use furin in this manner, along with other proteases, may explain the polytropic nature of the virus. syndrome coronavirus (MERS-CoV) utilizes host cellular proteases to enter cells. A previous report shows that furin, which is distributed mainly in the Golgi apparatus and cycled to the cell surface and binding to mediate fusion between the viral and cellular membranes. In this study, we reexamined furin usage by MERS-CoV using a real-time PCR-based virus cell entry assay after inhibition of cellular real-time PCR-based virus cell entry assay after inhibition of cellular proteases. We found that the furin inhibitor dec-RVKR-CMK blocked entry of MERS-CoV harboring an S protein lacking furin cleavage sites; it found that the furin inhibitor dec-RVKR-CMK blocked entry of MERS-CoV harboring an S protein lacking furin cleavage sites; it even blocked entry into furin-deficient LoVo cells. In addition, dec-RVKR-CMK inhibited not of MERS-CoV harboring an S protein lacking furin cleavage sites; it even blocked entry into furin-deficient LoVo cells. In addition, dec-RVKR-CMK inhibited not only the enzymatic activity of furin but also entry into furin-deficient LoVo cells. In addition, dec-RVKR-CMK inhibited not only the enzymatic activity of furin but also those of cathepsin L, cathepsin B, trypsin, papain, and TMPRSS2. Furthermore, a virus a cell-cell fusion assay provided no evidence that the S protein was activated by exogenous furin. Therefore, we conclude that furin does not play a role in entry of MERS-CoV into no evidence that the S protein was activated by exogenous furin. Therefore, we conclude that furin does not play a role in entry of MERS-CoV into cells and that the inhibitory that the inhibitory effect of dec-RVKR-CMK is specific for TMPRSS2 and cathepsin L rather than furin. IMPORTANCE Previous studies using the furin inhibitor dec-RVKR-CMK suggest that MERS-CoV utilizes a cellular protease, is specific for TMPRSS2 and cathepsin L rather than furin. IMPORTANCE Previous studies using the furin inhibitor dec-RVKR-CMK suggest that MERS-CoV utilizes a cellular protease, furin, to activate viral glycoproteins during IMPORTANCE Previous studies using the furin inhibitor dec-RVKR-CMK suggest that MERS-CoV utilizes a cellular protease, furin, to activate viral glycoproteins during cell entry. However, we found that dec-RVKR-CMK inhibits not only to activate viral glycoproteins during cell entry. However, we found that dec-RVKR-CMK inhibits not only furin but also other proteases. Furthermore, we found no evidence that MERS-CoV uses furin. These findings not only furin but also other proteases. Furthermore, we found no evidence that MERS-CoV uses furin. These findings suggest that previous studies in the virology field based on dec-RVKR-CMK should be fusion at the plasma membrane or endosomal membrane. Multiple proteolysis by host proteases, such as furin, transmembrane protease serine 2 (TMPRSS2), and cathepsins, causes the S protein to become fusion competent. coronavirus (CoV) infectious bronchitis virus (IBV) is cleaved into S1 and S2 subunits at the furin consensus motif RRFRR(537)/S in virus-infected cells. In this study, we observe that the S2 subunit that the S2 subunit of the IBV Beaudette strain is additionally cleaved at the second furin site (RRRR(690)/S) in cells expressing S constructs and in virus-infected cells. Detailed time course experiments expressing S constructs and in virus-infected cells. Detailed time course experiments showed that a peptide furin inhibitor, decanoyl-Arg-Val-Lys-Arg-chloromethylketone, blocked both viral entry and syncytium formation. Site-directed mutagenesis studies revealed that the both viral entry and syncytium formation. Site-directed mutagenesis studies revealed that the S1/S2 cleavage by furin was not necessary for, but could promote, syncytium formation by and infectivity of IBV in infectivity of IBV in Vero cells. In contrast, the second site is involved in the furin dependence of viral entry and syncytium formation. Mutations of the second site from furin-cleavable RRRR/S the furin dependence of viral entry and syncytium formation. Mutations of the second site from furin-cleavable RRRR/S to non-furin-cleavable PRRRS and AAARS, respectively, abrogated the furin dependence of IBV entry. Instead, of viral entry and syncytium formation. Mutations of the second site from furin-cleavable RRRR/S to non-furin-cleavable PRRRS and AAARS, respectively, abrogated the furin dependence of IBV entry. Instead, a yet-to-be-identified serine of the second site from furin-cleavable RRRR/S to non-furin-cleavable PRRRS and AAARS, respectively, abrogated the furin dependence of IBV entry. Instead, a yet-to-be-identified serine protease(s) was involved, as revealed by protease CoV S proteins by multiple alignments showed conservation of an XXXR/S motif, cleavable by either furin or other trypsin-like proteases, at a position equivalent to the second IBV furin site. Taken by either furin or other trypsin-like proteases, at a position equivalent to the second IBV furin site. Taken together, these results suggest that proteolysis at a novel XXXR/S motif in the farms. We show that under certain circumstances the Israel810 hemagglutinin (HA) can be activated by furin, a hallmark of highly pathogenic avian influenza virus. We demonstrate that Israel810 HA can be virus. We demonstrate that Israel810 HA can be cleaved in cells with high levels of furin expression and that a mutation that eliminates a glycosylation site in HA(1) allows the Israel810 hepatitis coronavirus strain A59 spike protein was blocked in a concentration-dependent manner by a peptide furin inhibitor, indicating that furin or a furin-like enzyme is responsible for this process. While cell-cell spike protein was blocked in a concentration-dependent manner by a peptide furin inhibitor, indicating that furin or a furin-like enzyme is responsible for this process. While cell-cell fusion was clearly affected blocked in a concentration-dependent manner by a peptide furin inhibitor, indicating that furin or a furin-like enzyme is responsible for this process. While cell-cell fusion was clearly affected by preventing spike budding. Interestingly, several rVSVΔG/MARVGP variants escaping from the mAb pressure-acquired amino acid substitutions in the furin-cleavage site rather than in the mAb-specific epitopes, suggesting that these epitopes are recessed, not exposed the prohormone (proprotein) convertase (PC) family. By comparison with the previous structures of Kex2 and furin, this structure of the acylated enzyme provides a basis for the observed decrease in the inhibited trypsin-dependent fusion in both cell–cell fusion and pseudovirion entry assays. We also introduced a furin cleavage site at both the S2′ cleavage site within S2 793-KPTKR-797 (S2′), as well as 793-KPTKR-797 (S2′), as well as at the junction of S1 and S2. Introduction of a furin cleavage site at the S2′ position allowed trypsin-independent cell–cell fusion, which was strongly increased by position allowed trypsin-independent cell–cell fusion, which was strongly increased by the presence of a second furin cleavage site at the S1–S2 position. Taken together, these data suggest a novel priming mechanism the spike protein. Moreover, cleavage was mapped to the same region where, in coronaviruses carrying furin-activated spikes, the receptor binding subunit of the protein is separated from the membrane-anchored fusion subunit. converted to their mature form by cleavage of the prM protein by the cellular protease furin. Earlier studies showed that when the prM and E proteins of tick-borne encephalitis virus are 1 icosahedral lattice. In this study, we generated immature subviral particles by mutation of the furin recognition site in prM. The mutation resulted in the secretion of two distinct size classes F cells were engineered to synthesize these JEV products from a cDNA encoding a mutated (furin proteinase resistant) form of prM, since stable cell lines expressing E and the authentic form signal is the phosphoserine acidic cluster (PSAC), the prototype of which is in the endoprotease furin. How PSACs are recognized by clathrin adaptors has been controversial. We reported previously that HIV-1 μ subunits of clathrin adaptor protein (AP) complexes. Here, we show that the CD of furin binds the μ subunits of AP-1 and AP-2 in a phosphorylation-dependent manner. Moreover, we identify dispensable for anti-HIV activity and for counteraction by HIV-1 Nef. The CDs of Vpu and furin and the PSAC-containing loop of Serinc3 each bind the μ subunit of AP-2 (μ2) with sites of SARS-CoV-2 spike protein increasing the cleavage efficiency by the protein sequence aligment and furin score calculation. Additionally, the insertion sequence facilitates the formation of an extended loop which was efficient spread of SARS-CoV-2 among humans. We found that the SARS-CoV-2 S glycoprotein harbors a furin cleavage site at the boundary between the S1/S2 subunits, which is processed during biogenesis and acid insertion between S1 and S2 domains of the spike protein, which created a potential furin or TMPRSS2 cleavage site.ConclusionsOur studies provided comprehensive insights into the evolution and spread of the two sites, becoming the only TT type currently identified in the world. The prediction of Furin cleavage site (FCS) and the sequence alignment of virus family indicated that FCS may be and the electrostatic distribution of the S protein surface, further affecting the binding capacity of Furin. Single cell sequencing and ACE2-Furin co-expression results confirmed that Furin level was higher in the the S protein surface, further affecting the binding capacity of Furin. Single cell sequencing and ACE2-Furin co-expression results confirmed that Furin level was higher in the whole body, especially in glands, affecting the binding capacity of Furin. Single cell sequencing and ACE2-Furin co-expression results confirmed that Furin level was higher in the whole body, especially in glands, liver, kidney and colon while identified in over half of the mapped transcripts and was predicted to remove a proposed furin cleavage site from the S glycoprotein. This motif directs cleavage of the S glycoprotein into the deleted variant of the S glycoprotein. Detection of an apparently viable deletion in the furin cleavage site of the S glycoprotein reinforces the point that this and other regions of interest in the S glycoprotein as a potential vaccine target and the observation that the furin cleavage site likely contributes strongly to the pathogenesis and zoonosis of this virus. The viral the development of targeted therapies and an effective vaccine. Following the recent report of a furin-like cleavage site1, unique to SARS-CoV-2, we characterized several additional residues positioned within the crown of currently circulating strains to infect host cells. Molecular dynamic simulations revealed long-range covariant movements with furin cleavage, correlated with pre-fusion conformation of SARS-CoV-2 S glycoprotein monomer. Residue T333 is hinge of efficient spread of SARS-CoV-2 among humans. We found that the SARS-CoV-2 S glycoprotein harbors a furin cleavage site at the boundary between the S1/S2 subunits, which is processed during biogenesis and high similarity with the genome sequence of SARS-CoV and SARS-like CoVs, we identified a peculiar furin-like cleavage site in the Spike protein of the 2019-nCoV, lacking in the other SARS-like CoVs. subsequently processed into two C-terminal proteins of ∼110 and ∼80kDa. The membrane-bound proprotein convertases (PCs) furin, PC7 or PC5B enhanced the production of the ∼80kDa protein. In agreement, proS processing, cytopathic proS processing, cytopathic effects, and viral titers were enhanced in recombinant Vero E6 cells overexpressing furin, PC7 or PC5B. The convertase inhibitor dec-RVKR-cmk significantly reduced proS cleavage and viral titers of A fluorogenically quenched synthetic peptide encompassing Arg761 of the spike glycoprotein was efficiently cleaved by furin and the cleavage was inhibited by EDTA and dec-RVKR-cmk. Taken together, our data indicate that and the cleavage was inhibited by EDTA and dec-RVKR-cmk. Taken together, our data indicate that furin or PC-mediated processing plays a critical role in SARS-CoV spread and cytopathicity, and inhibitors of trypsin and cathepsin L in a virus–virus fusion assay. Mutation T760R, which optimizes the minimal furin consensus motif 758-RXXR-762, and furin overexpression augmented SARS-S activity, but did not result in detectable a virus–virus fusion assay. Mutation T760R, which optimizes the minimal furin consensus motif 758-RXXR-762, and furin overexpression augmented SARS-S activity, but did not result in detectable SARS-S cleavage. Finally, SARS-S-driven cell–cell pseudovirus translocation. Knockdown of TPC1 (biased endosomally) or TPC2 (biased lysosomally) decreased the activity of furin, a protease which facilitates MERS fusion with cellular membranes. Pharmacological or genetic inhibition of TPC1 These include, but are not limited to, endosomal cathepsins, cell surface transmembrane protease/serine (TMPRSS) proteases, furin, and trypsin. This review focuses on the diversity of strategies coronaviruses have evolved to proteolytically\""
      ],
      "execution_count": 0,
      "outputs": []
    },
    {
      "cell_type": "code",
      "metadata": {
        "id": "UXxd5oHfDzfD",
        "colab_type": "code",
        "colab": {}
      },
      "source": [
        "summarizer(abs0, min_length=1000, max_length=2000) "
      ],
      "execution_count": 0,
      "outputs": []
    },
    {
      "cell_type": "code",
      "metadata": {
        "id": "vZb-HaIlT48e",
        "colab_type": "code",
        "colab": {}
      },
      "source": [
        "from google.colab import output\n",
        "output.eval_js('new Audio(\"https://upload.wikimedia.org/wikipedia/commons/0/05/Beep-09.ogg\").play()')"
      ],
      "execution_count": 0,
      "outputs": []
    }
  ]
}