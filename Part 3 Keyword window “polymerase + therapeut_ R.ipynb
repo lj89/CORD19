{
 "cells": [
  {
   "cell_type": "markdown",
   "metadata": {},
   "source": [
    "#### update: 45774 papers collection as of April 1. \n",
    "Use Keyword Window method we retrieved 3775 windows mentioned \"therapeut\", 2560 windows mentioned \"polymerase\", and 181 windows mentioned both “polymerase + therapeut\".  (can drop duplicates to see how many papers there are in total). These subsets of data can be used for further analysis.\n",
    "\n",
    "\n",
    "### What can we learn from the keyword window “polymerase + therapeut”?\n",
    "\n",
    "Using the keyword window method stated in last post, 2,391 windows (from 1,941 papers) mentioned “polymerase” were selected from the 33k CORD19 abstracts. Here is a result plot of clustering these 1,941 papers (I tried several ways to vectorize the abstracts to high dimensional matrix and this method seemed cluster better). can do a topic modeling for each group to give each of them a label.\n",
    "\n",
    "keyword window search this subset with “therapeut” yielded 113 windows with window size of 30.\n",
    "I think there could be machine learning method to extract knowledge from this result but I couldn’t help reading the output. reading 3k words is manageable comparing with reading 33k papers.\n",
    "\n",
    "#### Pros\n",
    "This method is highly efficient with finding signals in the noise. \n",
    "\n",
    "#### Cons\n",
    "The downside is you have to manually decide the keyword based on your domain knowledge. (luckily I have the domain knowledge from my years of biomedical research experience.) For example, you have to have the basic idea why “polyermase” can be connected with “therapeutic”. Or you would not randomly put these two words together. You have to have ideas what you are looking for. Or you need to consult the domain expert before you start the search. \n",
    "\n",
    "### Summary of findings:\n",
    "#### Potential drug candidates:\n",
    "therapeutic peptides , antiviral nucleosides target rna polyermase; protease inhibitor; monoclonal antibody can be a target; macrocyclic peptides; gs5734; quercetin; pb2 subunit; xinjiaxiangruyin; iav usurps zbtb25; m2 inhibitors; nitazoxanide ntz; active small molecular inhibitors; NHC;…\n",
    "(Based on past researches on sars/mers,flu, hcv,herp, ebov – other diseases caused by rna viruses)\n",
    "\n",
    "\n",
    "#### Future work:\n",
    "Still need to figure out ways to teach computer to understand the contents and generate answer.\n",
    "\n",
    "\n",
    "### Appendix\n",
    "Majority of the output windows are informative. Just name a few. Discovered some drugs I never heard of. \n",
    "\n",
    "–for covid19\n",
    "data driven drug repositioning framework, mine large-scale knowledge graph\n",
    "“abstractthe global spread of sarscov2 requires an urgent need to find effective therapeutics for the treatment of covid19 we developed a data driven drug repositioning framework which applies both”\n",
    "“parp1 inhibitor cvl218 discovered by our datadriven drug repositioning framework can serve as a potential therapeutic agent for the treatment of covid19”\n",
    "\n",
    "#### monoclonal antibody can be a target\n",
    "mers and sars coronaviruses were also discussed with the emerging development of monoclonal antibodies as therapeutics the potential implications of antibodydependent enhancement of disease were also addressed topics covered all aspects\n",
    "“resistance problem has emerged as an important objective for the development of nextgeneration influenza virus therapeutics this review will discuss the status of influenza therapeutics including the endonuclease inhibitor baloxavir marboxil”\n",
    "‘host cell infection shows key nonsynonymous mutations that might hamper the efficacy of previously developed therapeutics but remains a viable target for the development of biologics and macrocyclic peptides other key’\n",
    "\n",
    "#### protease inhibitor can be a target\n",
    "“important protease that catalyze the replication of rna from rna template and is an attractive therapeutic target in this study we screened these chemical structures from traditional chinese medicinal compounds proven”\n",
    "\n",
    "#### rna polymerase — attractive target for nucleoside and nucleotide\n",
    "“from respiratory infections caused by rna viruses which justifies drug discovery efforts to identify new therapeutic agents the rna polymerase of respiratory viruses represents an attractive target for nucleoside and nucleotide”\n",
    "\n",
    "“one of the primary targets of countermeasures against these dangerous infectious agents development of broadspectrum therapeutics targeting polymerases has been hampered by the extreme sequence variability of these sequences rdrps range”\n",
    "Full Abstract:”RNA-dependent RNA polymerase (RdRp) is essential to viral replication and is therefore one of the primary targets of countermeasures against these dangerous infectious agents. Development of broad-spectrum therapeutics targeting polymerases has been hampered by the extreme sequence variability of these sequences. RdRps range in length from 400â€“800 residues, yet contain only âˆ¼20 residues that are conserved in most species. In this study, we made structure-based comparisons that are independent of sequence composition using a recently developed algorithm. We identified residue-to-residue correspondences of multiple protein structures and created (two-dimensional) structure-based alignment maps of 37 polymerase structures that provide both sequence and structure details. Using these maps, we determined that âˆ¼75% of each polymerase species consists of seven protein segments, each of which has high structural similarity to segments in other species, though they are widely divergent in sequence composition and order. We define each of these segments as a â€˜homomorphâ€™, and each includes (though most are much larger than) the well-known conserved polymerase motifs. All homomorphs contact the template tunnel or nucleoside triphosphate (NTP) entry tunnel and the exterior of the protein, suggesting they constitute a structural and functional skeleton common among the polymerases.”\n",
    "\n",
    "“polymerase catalysis and fidelity and acts as a template for the design of novel antiviral therapeutics”\n",
    "\n",
    "“viruses pose a threat to public health that is exacerbated by the dearth of antiviral therapeutics the rnadependent rna polymerase rdrp holds promise as a broad spectrum therapeutic target because of the”\n",
    "\n",
    "“ebov regulates its polymerase expression demonstrate their relevance to virus replication and identify a potential therapeutic target”\n",
    "“therapeutic targeting of host cell factors required for virus replication rather than of pathogen components opens”\n",
    "\n",
    "“to date an effective therapeutic treatment that confers strong attenuation toward coronaviruses covs remains elusive of all the potential drug”\n",
    "\n",
    "“hrsv replication and demonstrates that the function of cellular proteins can be targeted as potential therapeutics to disrupt virus replication importance human respiratory syncytial virus hrsv represents a major health care”\n",
    "\n",
    "\n",
    "— structure of the SARS-CoV NSP12 polymerase bound to its essential co-factors, NSP7 and NSP8\n",
    "“Recent history is punctuated by the emergence of highly pathogenic coronaviruses such as SARS- and MERS-CoV into human circulation. Upon infecting host cells, coronaviruses assemble a multi-subunit RNA-synthesis complex of viral non-structural proteins (NSP) responsible for the replication and transcription of the viral genome. Here, we present the 3.1 [A] resolution structure of the SARS-CoV NSP12 polymerase bound to its essential co-factors, NSP7 and NSP8, using single particle cryo-electron microscopy. NSP12 possesses an architecture common to all viral polymerases as well as a large N-terminal extension containing a kinase-like fold and is unexpectedly bound by two NSP8 co-factors. This structure illuminates the assembly of the coronavirus core RNA-synthesis machinery, provides key insights into NSP12 polymerase catalysis and fidelity and acts as a template for the design of novel antiviral therapeutics.”\n",
    "\n",
    "#### therapeutic peptides\n",
    "urgent development of new strategies for antiviral therapy too the research in the field of therapeutic peptides began to develop extensively in the second half of the 20th century since then\n",
    "\n",
    "#### antiviral nucleosides\n",
    "“emerging coronaviruses covs cause severe disease in humans but no approved therapeutics are available the cov nsp14 exoribonuclease exon has complicated development of antiviral nucleosides due to”\n",
    "\n",
    "#### gs5734\n",
    "“with increased nontoxic concentrations of gs5734 further supporting the development of gs5734 as a broadspectrum therapeutic to protect against contemporary and emerging covs”\n",
    "\n",
    "#### quercetin\n",
    "“a preventive effect against ev71 infection and inhibited viral adsorption moreover quercetin mediated its powerful therapeutic effects primarily by blocking the early postattachment stage of viral infection further experiments demonstrated that”\n",
    "“in more than one way to deter viral infection exhibiting some preventive and a powerful therapeutic effect against ev71 further quercetin potently inhibits ev71 3cpro activity thereby blocking ev71 replication”\n",
    "influza drugs such as\n",
    "“the influenza a virus fm1 strain in a normal environment and xinjiaxiangruyin demonstrated a clear therapeutic effect in damp and hot environments and may play a protective role against influenza through”\n",
    "“pb2 subunit”\n",
    "“that iav usurps zbtb25 for iav rna synthesis and serves as a novel and potential therapeutic antiviral target importance iavinduced seasonal influenza causes severe illness and death in highrisk populations however”\n",
    "anti-viral drug – m2 inhibitors\n",
    "“as the host responses contribute to the pathogenesis of human aiv infection several preventive and therapeutic approaches have been proposed to combat aiv infection including antiviral drugs such as m2 inhibitors”\n",
    "nitazoxanide ntz may be beneficial\n",
    "“background effective therapeutics for respiratory viruses are needed early data suggest that nitazoxanide ntz may be beneficial for”\n",
    "\n",
    "\n",
    "#### aggressive strains , active small molecular inhibitors play important\n",
    "“and highly aggressive strains such as h1n1 h5n1 and h7n9 have emphasized the need for therapeutic strategies to combat these pathogens influenza antiviral agents especially active small molecular inhibitors play important”\n",
    "\n",
    "#### NHC is a promising candidate for future clinical development as a treatment option for influenza-like diseases\n",
    "“humans and domestic animals veev infections result in severe meningoencephalitis and longterm sequelae no approved therapeutics exist for treatment of veev infections our study demonstrates that dn4hydroxycytidine nhc is a very”\n",
    "\n",
    "oseltamivir\n",
    "“background large clinical trials have demonstrated the therapeutic efficacy of oseltamivir against influenza here we assessed its indirect effectiveness in reducing household secondary”\n",
    "If you want to know more about nextgeneration broadspectrum antiviral therapeutics, go and read this paper:\n",
    "“disease are a threat especially for older adults to improve case management nextgeneration broadspectrum antiviral therapeutics that are efficacious against major drivers of influenzalike disease including influenza viruses and respiratory syncytial”\n",
    "information about other diseases that are less related to covid 19\n",
    "In addition, there are some other information such as about other diseases such as cancer, human noroviruses, crimeancongo hemorrhagic fever or neurodegenerative diseases.\n",
    "\n",
    "–or herpesviruses drug\n",
    "“with inhibition of icp8 taken together these results suggest that raltegravir could be a valuable therapeutic agent against herpesviruses importance the rise of drugresistant herpesviruses is a longstanding concern particularly among”\n",
    "\n",
    "–or zinc salts as drug for hepatitis e\n",
    "“these studies unravel the ability of zinc salts in inhibiting hev replication suggesting their possible therapeutic value in controlling hev infection importance hepatitis e virus hev is a public health concern”\n",
    "\n",
    "–for diabetes\n",
    "“implied to play a protective role in min6 cells and enos may be a new therapeutic target for diseases such as type 2 diabetes”\n",
    "\n",
    "–for denv\n",
    "“denv threaten 40 of the worlds population yet there is no approved vaccine or antiviral therapeutic to treat infections understanding the molecular details that govern effective viral replication is key for”\n",
    "“…the nucleolar subcompartment of the nucleus is increasingly recognized as an important target of rna viruses here we document for the first time the ability of dengue virus denv polymerase nonstructural protein 5 ns5 to accumulate within the nucleolus of infected cells”\n",
    "\n",
    "— for melanoma\n",
    "“existing knowledge regarding rna polymerase i inhibition and mrna translation focusing on their inhibition for therapeutic applications in melanoma furthermore the contribution of amino acid biosynthesis and involvement of ribosomal proteins”\n",
    "“contribution of amino acid biosynthesis and involvement of ribosomal proteins are also reviewed as future therapeutic strategies to target deregulated protein production in melanoma”\n",
    "\n",
    "— gquadruplex structure as target for salmonella enterica\n",
    "“the gquadruplex structure forming motifs have recently emerged as a novel therapeutic drug target in various human pathogens herein we report three highly conserved gquadruplex motifs sepgq1”\n",
    "“possessing genes and demonstrate the gquadruplexes as a potential drug target for the devolping novel therapeutics for combating salmonella enterica infectionnnauthor summarysince last several decades scientific community has witnessed a rapid”\n",
    "\n",
    "— ebolaviruses\n",
    "“modulates vp35 function supporting vp35 as a nnsv p protein and providing a potentially valuable therapeutic targetnnimportanceebola virus ebov can cause severe disease in humans the 20132016 west african epidemic and”\n",
    "“ebov biology and the modulation of multifunctional viral proteins is desperately needed to develop improved therapeutics we provide evidence here that function of virion protein 35 vp35 is modulated by phosphorylation”\n",
    "\n",
    "some negation \n",
    "– no successful therapeutic approach is currently available\n",
    "“disease with all these fatal effects cchfv is considered a huge threat as no successful therapeutic approach is currently available for the treatment of this disease in the present study we”\n",
    "\n",
    "“care there is little evidence that corticosteroids are beneficial and they might be harmful future therapeutic strategies may be targeted to specific pathogens the pathogenetic pathways in the host immune response”\n",
    "\n",
    "\n",
    "#### some information about vaccines and transmission information\n",
    "rna pathogen vaccine difficult\n",
    "\n",
    "“merscov subtypes which are uncontrollable by vaccines researchers are also finding difficulties to sort out therapeutic intervention strategies for merscov this virus can spread from human to human but transmission from”\n",
    "\n",
    "global spread of emerging infectious diseases\n",
    "“is of paramount importance methods this review describes the specific molecular targets for diagnostics and therapeutics of viral infection results the three major diagnostic methods available for sars includes viral rna”\n",
    "Full Abstract: “Despite the fact that most emerging diseases stem from the transmission of pathogenic agents from animals to humans, the factors that mediate this process are still ill defined. What is known, however, is that the interface between humans and animals is of paramount importance in the process. This review will discuss the importance of the human-animal interface to the disease emergence process. We also provide an overview of factors that are believed to contribute to the origin and global spread of emerging infectious diseases and offer suggestions that may serve as future prevention strategies, such as social mobilization, public health education, behavioral change and communication strategies. Since there exists no comprehensive global surveillance system to monitor zoonotic disease emergence, the intervention measures discussed herein may prove effective temporary alternatives.”\n",
    "\n",
    "other\n",
    "“aim to generate recombinant adenoviral vector containing calreticulin crthepatitis b surface antigen hbsag fusion gene for developing a safe effective and hbsagspecific therapeutic vaccine methods crt and hbsag gene were fused using polymerase chain reaction pcr endonuclease digestion and ligation methods the fusion gene was cloned into pentrdtopo transfer vector after the base pairs of dna cacc sequence was added to the 5 end adenoviral expression vector containing crthbsag fusion gene was constructed by homologous recombinantion the human embryo kidney hek 293a cells were transfected with linearized dna plasmid of the recombinant adenoviral vector to package and amplify recombinant adenovirus the recombinant adenovirus titer was characterized using the enddilution assay the expression of the crthbsag fusion protein in adcrthbsag infected 293a cells was detected by western blotting results the crthbsag fusion gene was characterized by pcr and sequencing and its length and sequence were confirmed to be accurate the crthbsag fusion gene recombinant pentrdtopo transfer vector was constructed the recombinant adenoviral vector adcrthbsag was generated successfully the titer of adcrthbsag was characterized as 39 1011 pfuml the crthbsag fusion protein was expressed by hek 293a cells correctly conclusion crthbsag fusion gene recombinant replicationdefective adenovirus expression vector is constructed successfully and this study has provided an experimental basis for further studies of hepatitis b virus gene therapy”"
   ]
  },
  {
   "cell_type": "code",
   "execution_count": null,
   "metadata": {
    "_execution_state": "idle",
    "_uuid": "051d70d956493feee0c6d64651c6a088724dca2a"
   },
   "outputs": [],
   "source": [
    "## Importing packages\n",
    "\n",
    "# This R environment comes with all of CRAN and many other helpful packages preinstalled.\n",
    "# You can see which packages are installed by checking out the kaggle/rstats docker image: \n",
    "# https://github.com/kaggle/docker-rstats\n",
    "\n",
    "library(tidyverse) # metapackage with lots of helpful functions\n",
    "\n",
    "## Running code\n",
    "\n",
    "# In a notebook, you can run a single code cell by clicking in the cell and then hitting \n",
    "# the blue arrow to the left, or by clicking in the cell and pressing Shift+Enter. In a script, \n",
    "# you can run code by highlighting the code you want to run and then clicking the blue arrow\n",
    "# at the bottom of this window.\n",
    "\n",
    "## Reading in files\n",
    "\n",
    "# You can access files from datasets you've added to this kernel in the \"../input/\" directory.\n",
    "# You can see the files added to this kernel by running the code below. \n",
    "\n",
    "list.files(path = \"../input\")\n",
    "\n",
    "## Saving data\n",
    "\n",
    "# If you save any files or images, these will be put in the \"output\" directory. You \n",
    "# can see the output directory by committing and running your kernel (using the \n",
    "# Commit & Run button) and then checking out the compiled version of your kernel."
   ]
  },
  {
   "cell_type": "code",
   "execution_count": null,
   "metadata": {},
   "outputs": [],
   "source": [
    "\n",
    "library(magrittr)\n",
    "library(bigrquery)"
   ]
  },
  {
   "cell_type": "code",
   "execution_count": null,
   "metadata": {},
   "outputs": [],
   "source": [
    "df=read.csv(\"../input/CORD-19-research-challenge/metadata.csv\")"
   ]
  },
  {
   "cell_type": "code",
   "execution_count": null,
   "metadata": {},
   "outputs": [],
   "source": [
    "head(df)"
   ]
  },
  {
   "cell_type": "code",
   "execution_count": null,
   "metadata": {},
   "outputs": [],
   "source": [
    "dim(df)"
   ]
  },
  {
   "cell_type": "code",
   "execution_count": null,
   "metadata": {},
   "outputs": [],
   "source": [
    "df2=df['doi','title','abstract']"
   ]
  },
  {
   "cell_type": "code",
   "execution_count": null,
   "metadata": {},
   "outputs": [],
   "source": [
    "extract_text_window_abstract <- function(dataframe, keyword, half_window_size) {\n",
    "  dataframe %>% \n",
    "    group_by(doi) %>% \n",
    "    mutate(WORDS = abstract) %>% \n",
    "    separate_rows(WORDS, sep = \"[ \\n]+\") %>% \n",
    "    mutate(INDEX = seq(from = 1, to = n(), by = 1.0),\n",
    "           WINDOW_START = case_when(INDEX - half_window_size < 1 ~ 1,\n",
    "                                    TRUE ~ INDEX - half_window_size),\n",
    "           WINDOW_END = case_when(INDEX + half_window_size > max(INDEX) ~ max(INDEX),\n",
    "                                  TRUE ~ INDEX + half_window_size),\n",
    "           WINDOW = word(string = abstract, start = WINDOW_START, end = WINDOW_END, sep = \"[ \\n]+\")) %>% \n",
    "    ungroup() %>% \n",
    "    filter(str_detect(string = WORDS, pattern = regex(keyword, ignore_case = TRUE)))\n",
    "}"
   ]
  },
  {
   "cell_type": "code",
   "execution_count": null,
   "metadata": {},
   "outputs": [],
   "source": [
    "#polymerase\n",
    "tibble5=df2[] %>% \n",
    "  extract_text_window_abstract(keyword = \"polymerase\", half_window_size = 15)\n",
    "\n",
    "tibble5\n",
    "\n",
    "write.csv(tibble5,'tibbleN.csv')"
   ]
  },
  {
   "cell_type": "code",
   "execution_count": null,
   "metadata": {},
   "outputs": [],
   "source": [
    "typeof(tibble5)"
   ]
  },
  {
   "cell_type": "code",
   "execution_count": null,
   "metadata": {},
   "outputs": [],
   "source": [
    "dim(tibble5)"
   ]
  },
  {
   "cell_type": "code",
   "execution_count": null,
   "metadata": {},
   "outputs": [],
   "source": [
    "df3=read.csv(\"../input/polymerase2560/tibblePolymerase2560.csv\")"
   ]
  },
  {
   "cell_type": "code",
   "execution_count": null,
   "metadata": {},
   "outputs": [],
   "source": [
    "#therapeut is the stem of therapeutic\n",
    "tibble5=df2[] %>% \n",
    "  extract_text_window_abstract(keyword = \"therapeut\", half_window_size = 15)\n",
    "\n",
    "tibble5\n",
    "\n",
    "write.csv(tibble5,'tibbleTherapeut.csv') #df2 so Therapeut only"
   ]
  },
  {
   "cell_type": "code",
   "execution_count": null,
   "metadata": {},
   "outputs": [],
   "source": [
    "tibble5=df3[] %>% \n",
    "  extract_text_window_abstract(keyword = \"therapeut\", half_window_size = 15)\n",
    "\n",
    "tibble5\n",
    "\n",
    "write.csv(tibble5,'tibblePolymeraseTherapeut.csv')"
   ]
  }
 ],
 "metadata": {
  "kernelspec": {
   "display_name": "R",
   "language": "R",
   "name": "ir"
  },
  "language_info": {
   "codemirror_mode": "r",
   "file_extension": ".r",
   "mimetype": "text/x-r-source",
   "name": "R",
   "pygments_lexer": "r",
   "version": "3.5.1"
  }
 },
 "nbformat": 4,
 "nbformat_minor": 4
}
