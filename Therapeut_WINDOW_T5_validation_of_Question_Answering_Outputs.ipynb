{
  "nbformat": 4,
  "nbformat_minor": 0,
  "metadata": {
    "kernelspec": {
      "name": "python3",
      "display_name": "Python 3"
    },
    "language_info": {
      "codemirror_mode": {
        "name": "ipython",
        "version": 3
      },
      "file_extension": ".py",
      "mimetype": "text/x-python",
      "name": "python",
      "nbconvert_exporter": "python",
      "pygments_lexer": "ipython3",
      "version": "3.6.5"
    },
    "colab": {
      "name": "Therapeut WINDOW T5_validation_of_Question_Answering_Outputs.ipynb",
      "provenance": [],
      "collapsed_sections": [],
      "include_colab_link": true
    },
    "widgets": {
      "application/vnd.jupyter.widget-state+json": {
        "6e4a4bf75c934554a1bc4e310499758f": {
          "model_module": "@jupyter-widgets/controls",
          "model_name": "HBoxModel",
          "state": {
            "_view_name": "HBoxView",
            "_dom_classes": [],
            "_model_name": "HBoxModel",
            "_view_module": "@jupyter-widgets/controls",
            "_model_module_version": "1.5.0",
            "_view_count": null,
            "_view_module_version": "1.5.0",
            "box_style": "",
            "layout": "IPY_MODEL_fb0075c3494540dcbcc96e032b24c16f",
            "_model_module": "@jupyter-widgets/controls",
            "children": [
              "IPY_MODEL_449262b1494f48679f5afad3ad32fcb0",
              "IPY_MODEL_8c814a1ba80e488d878343b742d3781e"
            ]
          }
        },
        "fb0075c3494540dcbcc96e032b24c16f": {
          "model_module": "@jupyter-widgets/base",
          "model_name": "LayoutModel",
          "state": {
            "_view_name": "LayoutView",
            "grid_template_rows": null,
            "right": null,
            "justify_content": null,
            "_view_module": "@jupyter-widgets/base",
            "overflow": null,
            "_model_module_version": "1.2.0",
            "_view_count": null,
            "flex_flow": null,
            "width": null,
            "min_width": null,
            "border": null,
            "align_items": null,
            "bottom": null,
            "_model_module": "@jupyter-widgets/base",
            "top": null,
            "grid_column": null,
            "overflow_y": null,
            "overflow_x": null,
            "grid_auto_flow": null,
            "grid_area": null,
            "grid_template_columns": null,
            "flex": null,
            "_model_name": "LayoutModel",
            "justify_items": null,
            "grid_row": null,
            "max_height": null,
            "align_content": null,
            "visibility": null,
            "align_self": null,
            "height": null,
            "min_height": null,
            "padding": null,
            "grid_auto_rows": null,
            "grid_gap": null,
            "max_width": null,
            "order": null,
            "_view_module_version": "1.2.0",
            "grid_template_areas": null,
            "object_position": null,
            "object_fit": null,
            "grid_auto_columns": null,
            "margin": null,
            "display": null,
            "left": null
          }
        },
        "449262b1494f48679f5afad3ad32fcb0": {
          "model_module": "@jupyter-widgets/controls",
          "model_name": "IntProgressModel",
          "state": {
            "_view_name": "ProgressView",
            "style": "IPY_MODEL_461c48ea4d5c47a793eb81a1d06f9555",
            "_dom_classes": [],
            "description": "Downloading: 100%",
            "_model_name": "IntProgressModel",
            "bar_style": "success",
            "max": 230,
            "_view_module": "@jupyter-widgets/controls",
            "_model_module_version": "1.5.0",
            "value": 230,
            "_view_count": null,
            "_view_module_version": "1.5.0",
            "orientation": "horizontal",
            "min": 0,
            "description_tooltip": null,
            "_model_module": "@jupyter-widgets/controls",
            "layout": "IPY_MODEL_13971af48a6849d39904a23e719530ee"
          }
        },
        "8c814a1ba80e488d878343b742d3781e": {
          "model_module": "@jupyter-widgets/controls",
          "model_name": "HTMLModel",
          "state": {
            "_view_name": "HTMLView",
            "style": "IPY_MODEL_a657b44775e54bfeaab0e4426c088cc5",
            "_dom_classes": [],
            "description": "",
            "_model_name": "HTMLModel",
            "placeholder": "​",
            "_view_module": "@jupyter-widgets/controls",
            "_model_module_version": "1.5.0",
            "value": " 230/230 [00:00&lt;00:00, 293B/s]",
            "_view_count": null,
            "_view_module_version": "1.5.0",
            "description_tooltip": null,
            "_model_module": "@jupyter-widgets/controls",
            "layout": "IPY_MODEL_e733791820aa407fa1f053e25110f5d8"
          }
        },
        "461c48ea4d5c47a793eb81a1d06f9555": {
          "model_module": "@jupyter-widgets/controls",
          "model_name": "ProgressStyleModel",
          "state": {
            "_view_name": "StyleView",
            "_model_name": "ProgressStyleModel",
            "description_width": "initial",
            "_view_module": "@jupyter-widgets/base",
            "_model_module_version": "1.5.0",
            "_view_count": null,
            "_view_module_version": "1.2.0",
            "bar_color": null,
            "_model_module": "@jupyter-widgets/controls"
          }
        },
        "13971af48a6849d39904a23e719530ee": {
          "model_module": "@jupyter-widgets/base",
          "model_name": "LayoutModel",
          "state": {
            "_view_name": "LayoutView",
            "grid_template_rows": null,
            "right": null,
            "justify_content": null,
            "_view_module": "@jupyter-widgets/base",
            "overflow": null,
            "_model_module_version": "1.2.0",
            "_view_count": null,
            "flex_flow": null,
            "width": null,
            "min_width": null,
            "border": null,
            "align_items": null,
            "bottom": null,
            "_model_module": "@jupyter-widgets/base",
            "top": null,
            "grid_column": null,
            "overflow_y": null,
            "overflow_x": null,
            "grid_auto_flow": null,
            "grid_area": null,
            "grid_template_columns": null,
            "flex": null,
            "_model_name": "LayoutModel",
            "justify_items": null,
            "grid_row": null,
            "max_height": null,
            "align_content": null,
            "visibility": null,
            "align_self": null,
            "height": null,
            "min_height": null,
            "padding": null,
            "grid_auto_rows": null,
            "grid_gap": null,
            "max_width": null,
            "order": null,
            "_view_module_version": "1.2.0",
            "grid_template_areas": null,
            "object_position": null,
            "object_fit": null,
            "grid_auto_columns": null,
            "margin": null,
            "display": null,
            "left": null
          }
        },
        "a657b44775e54bfeaab0e4426c088cc5": {
          "model_module": "@jupyter-widgets/controls",
          "model_name": "DescriptionStyleModel",
          "state": {
            "_view_name": "StyleView",
            "_model_name": "DescriptionStyleModel",
            "description_width": "",
            "_view_module": "@jupyter-widgets/base",
            "_model_module_version": "1.5.0",
            "_view_count": null,
            "_view_module_version": "1.2.0",
            "_model_module": "@jupyter-widgets/controls"
          }
        },
        "e733791820aa407fa1f053e25110f5d8": {
          "model_module": "@jupyter-widgets/base",
          "model_name": "LayoutModel",
          "state": {
            "_view_name": "LayoutView",
            "grid_template_rows": null,
            "right": null,
            "justify_content": null,
            "_view_module": "@jupyter-widgets/base",
            "overflow": null,
            "_model_module_version": "1.2.0",
            "_view_count": null,
            "flex_flow": null,
            "width": null,
            "min_width": null,
            "border": null,
            "align_items": null,
            "bottom": null,
            "_model_module": "@jupyter-widgets/base",
            "top": null,
            "grid_column": null,
            "overflow_y": null,
            "overflow_x": null,
            "grid_auto_flow": null,
            "grid_area": null,
            "grid_template_columns": null,
            "flex": null,
            "_model_name": "LayoutModel",
            "justify_items": null,
            "grid_row": null,
            "max_height": null,
            "align_content": null,
            "visibility": null,
            "align_self": null,
            "height": null,
            "min_height": null,
            "padding": null,
            "grid_auto_rows": null,
            "grid_gap": null,
            "max_width": null,
            "order": null,
            "_view_module_version": "1.2.0",
            "grid_template_areas": null,
            "object_position": null,
            "object_fit": null,
            "grid_auto_columns": null,
            "margin": null,
            "display": null,
            "left": null
          }
        }
      }
    },
    "accelerator": "GPU"
  },
  "cells": [
    {
      "cell_type": "markdown",
      "metadata": {
        "id": "view-in-github",
        "colab_type": "text"
      },
      "source": [
        "<a href=\"https://colab.research.google.com/github/lj89/CORD19/blob/master/Therapeut_WINDOW_T5_validation_of_Question_Answering_Outputs.ipynb\" target=\"_parent\"><img src=\"https://colab.research.google.com/assets/colab-badge.svg\" alt=\"Open In Colab\"/></a>"
      ]
    },
    {
      "cell_type": "markdown",
      "metadata": {
        "id": "GnknnYdqT61a",
        "colab_type": "text"
      },
      "source": [
        "#remember to change to gpu"
      ]
    },
    {
      "cell_type": "code",
      "metadata": {
        "id": "mxsSu6YvMj6Y",
        "colab_type": "code",
        "outputId": "fea34645-d983-4810-9463-ada36e80f286",
        "colab": {
          "base_uri": "https://localhost:8080/",
          "height": 660
        }
      },
      "source": [
        "!pip install tensorflow==2.1"
      ],
      "execution_count": 0,
      "outputs": [
        {
          "output_type": "stream",
          "text": [
            "Requirement already satisfied: tensorflow==2.1 in /usr/local/lib/python3.6/dist-packages (2.1.0)\n",
            "Requirement already satisfied: gast==0.2.2 in /usr/local/lib/python3.6/dist-packages (from tensorflow==2.1) (0.2.2)\n",
            "Requirement already satisfied: tensorboard<2.2.0,>=2.1.0 in /usr/local/lib/python3.6/dist-packages (from tensorflow==2.1) (2.1.1)\n",
            "Requirement already satisfied: opt-einsum>=2.3.2 in /usr/local/lib/python3.6/dist-packages (from tensorflow==2.1) (3.2.0)\n",
            "Requirement already satisfied: six>=1.12.0 in /usr/local/lib/python3.6/dist-packages (from tensorflow==2.1) (1.12.0)\n",
            "Requirement already satisfied: grpcio>=1.8.6 in /usr/local/lib/python3.6/dist-packages (from tensorflow==2.1) (1.27.2)\n",
            "Requirement already satisfied: numpy<2.0,>=1.16.0 in /usr/local/lib/python3.6/dist-packages (from tensorflow==2.1) (1.18.2)\n",
            "Requirement already satisfied: tensorflow-estimator<2.2.0,>=2.1.0rc0 in /usr/local/lib/python3.6/dist-packages (from tensorflow==2.1) (2.1.0)\n",
            "Requirement already satisfied: protobuf>=3.8.0 in /usr/local/lib/python3.6/dist-packages (from tensorflow==2.1) (3.10.0)\n",
            "Requirement already satisfied: wrapt>=1.11.1 in /usr/local/lib/python3.6/dist-packages (from tensorflow==2.1) (1.12.1)\n",
            "Requirement already satisfied: astor>=0.6.0 in /usr/local/lib/python3.6/dist-packages (from tensorflow==2.1) (0.8.1)\n",
            "Requirement already satisfied: absl-py>=0.7.0 in /usr/local/lib/python3.6/dist-packages (from tensorflow==2.1) (0.9.0)\n",
            "Requirement already satisfied: keras-applications>=1.0.8 in /usr/local/lib/python3.6/dist-packages (from tensorflow==2.1) (1.0.8)\n",
            "Requirement already satisfied: termcolor>=1.1.0 in /usr/local/lib/python3.6/dist-packages (from tensorflow==2.1) (1.1.0)\n",
            "Requirement already satisfied: wheel>=0.26; python_version >= \"3\" in /usr/local/lib/python3.6/dist-packages (from tensorflow==2.1) (0.34.2)\n",
            "Requirement already satisfied: keras-preprocessing>=1.1.0 in /usr/local/lib/python3.6/dist-packages (from tensorflow==2.1) (1.1.0)\n",
            "Requirement already satisfied: google-pasta>=0.1.6 in /usr/local/lib/python3.6/dist-packages (from tensorflow==2.1) (0.2.0)\n",
            "Requirement already satisfied: scipy==1.4.1; python_version >= \"3\" in /usr/local/lib/python3.6/dist-packages (from tensorflow==2.1) (1.4.1)\n",
            "Requirement already satisfied: requests<3,>=2.21.0 in /usr/local/lib/python3.6/dist-packages (from tensorboard<2.2.0,>=2.1.0->tensorflow==2.1) (2.21.0)\n",
            "Requirement already satisfied: google-auth-oauthlib<0.5,>=0.4.1 in /usr/local/lib/python3.6/dist-packages (from tensorboard<2.2.0,>=2.1.0->tensorflow==2.1) (0.4.1)\n",
            "Requirement already satisfied: google-auth<2,>=1.6.3 in /usr/local/lib/python3.6/dist-packages (from tensorboard<2.2.0,>=2.1.0->tensorflow==2.1) (1.7.2)\n",
            "Requirement already satisfied: markdown>=2.6.8 in /usr/local/lib/python3.6/dist-packages (from tensorboard<2.2.0,>=2.1.0->tensorflow==2.1) (3.2.1)\n",
            "Requirement already satisfied: setuptools>=41.0.0 in /usr/local/lib/python3.6/dist-packages (from tensorboard<2.2.0,>=2.1.0->tensorflow==2.1) (46.0.0)\n",
            "Requirement already satisfied: werkzeug>=0.11.15 in /usr/local/lib/python3.6/dist-packages (from tensorboard<2.2.0,>=2.1.0->tensorflow==2.1) (1.0.1)\n",
            "Requirement already satisfied: h5py in /usr/local/lib/python3.6/dist-packages (from keras-applications>=1.0.8->tensorflow==2.1) (2.10.0)\n",
            "Requirement already satisfied: certifi>=2017.4.17 in /usr/local/lib/python3.6/dist-packages (from requests<3,>=2.21.0->tensorboard<2.2.0,>=2.1.0->tensorflow==2.1) (2019.11.28)\n",
            "Requirement already satisfied: idna<2.9,>=2.5 in /usr/local/lib/python3.6/dist-packages (from requests<3,>=2.21.0->tensorboard<2.2.0,>=2.1.0->tensorflow==2.1) (2.8)\n",
            "Requirement already satisfied: urllib3<1.25,>=1.21.1 in /usr/local/lib/python3.6/dist-packages (from requests<3,>=2.21.0->tensorboard<2.2.0,>=2.1.0->tensorflow==2.1) (1.24.3)\n",
            "Requirement already satisfied: chardet<3.1.0,>=3.0.2 in /usr/local/lib/python3.6/dist-packages (from requests<3,>=2.21.0->tensorboard<2.2.0,>=2.1.0->tensorflow==2.1) (3.0.4)\n",
            "Requirement already satisfied: requests-oauthlib>=0.7.0 in /usr/local/lib/python3.6/dist-packages (from google-auth-oauthlib<0.5,>=0.4.1->tensorboard<2.2.0,>=2.1.0->tensorflow==2.1) (1.3.0)\n",
            "Requirement already satisfied: cachetools<3.2,>=2.0.0 in /usr/local/lib/python3.6/dist-packages (from google-auth<2,>=1.6.3->tensorboard<2.2.0,>=2.1.0->tensorflow==2.1) (3.1.1)\n",
            "Requirement already satisfied: pyasn1-modules>=0.2.1 in /usr/local/lib/python3.6/dist-packages (from google-auth<2,>=1.6.3->tensorboard<2.2.0,>=2.1.0->tensorflow==2.1) (0.2.8)\n",
            "Requirement already satisfied: rsa<4.1,>=3.1.4 in /usr/local/lib/python3.6/dist-packages (from google-auth<2,>=1.6.3->tensorboard<2.2.0,>=2.1.0->tensorflow==2.1) (4.0)\n",
            "Requirement already satisfied: oauthlib>=3.0.0 in /usr/local/lib/python3.6/dist-packages (from requests-oauthlib>=0.7.0->google-auth-oauthlib<0.5,>=0.4.1->tensorboard<2.2.0,>=2.1.0->tensorflow==2.1) (3.1.0)\n",
            "Requirement already satisfied: pyasn1<0.5.0,>=0.4.6 in /usr/local/lib/python3.6/dist-packages (from pyasn1-modules>=0.2.1->google-auth<2,>=1.6.3->tensorboard<2.2.0,>=2.1.0->tensorflow==2.1) (0.4.8)\n"
          ],
          "name": "stdout"
        }
      ]
    },
    {
      "cell_type": "code",
      "metadata": {
        "id": "CeRwjj9lMPN6",
        "colab_type": "code",
        "outputId": "095e5b3d-eba4-4445-91f1-b54252c5d0a9",
        "colab": {
          "base_uri": "https://localhost:8080/",
          "height": 439
        }
      },
      "source": [
        "!pip install transformers"
      ],
      "execution_count": 0,
      "outputs": [
        {
          "output_type": "stream",
          "text": [
            "Requirement already satisfied: transformers in /usr/local/lib/python3.6/dist-packages (2.7.0)\n",
            "Requirement already satisfied: boto3 in /usr/local/lib/python3.6/dist-packages (from transformers) (1.12.33)\n",
            "Requirement already satisfied: sacremoses in /usr/local/lib/python3.6/dist-packages (from transformers) (0.0.38)\n",
            "Requirement already satisfied: numpy in /usr/local/lib/python3.6/dist-packages (from transformers) (1.18.2)\n",
            "Requirement already satisfied: filelock in /usr/local/lib/python3.6/dist-packages (from transformers) (3.0.12)\n",
            "Requirement already satisfied: dataclasses; python_version < \"3.7\" in /usr/local/lib/python3.6/dist-packages (from transformers) (0.7)\n",
            "Requirement already satisfied: tqdm>=4.27 in /usr/local/lib/python3.6/dist-packages (from transformers) (4.38.0)\n",
            "Requirement already satisfied: requests in /usr/local/lib/python3.6/dist-packages (from transformers) (2.21.0)\n",
            "Requirement already satisfied: sentencepiece in /usr/local/lib/python3.6/dist-packages (from transformers) (0.1.85)\n",
            "Requirement already satisfied: tokenizers==0.5.2 in /usr/local/lib/python3.6/dist-packages (from transformers) (0.5.2)\n",
            "Requirement already satisfied: regex!=2019.12.17 in /usr/local/lib/python3.6/dist-packages (from transformers) (2019.12.20)\n",
            "Requirement already satisfied: s3transfer<0.4.0,>=0.3.0 in /usr/local/lib/python3.6/dist-packages (from boto3->transformers) (0.3.3)\n",
            "Requirement already satisfied: botocore<1.16.0,>=1.15.33 in /usr/local/lib/python3.6/dist-packages (from boto3->transformers) (1.15.33)\n",
            "Requirement already satisfied: jmespath<1.0.0,>=0.7.1 in /usr/local/lib/python3.6/dist-packages (from boto3->transformers) (0.9.5)\n",
            "Requirement already satisfied: six in /usr/local/lib/python3.6/dist-packages (from sacremoses->transformers) (1.12.0)\n",
            "Requirement already satisfied: joblib in /usr/local/lib/python3.6/dist-packages (from sacremoses->transformers) (0.14.1)\n",
            "Requirement already satisfied: click in /usr/local/lib/python3.6/dist-packages (from sacremoses->transformers) (7.1.1)\n",
            "Requirement already satisfied: chardet<3.1.0,>=3.0.2 in /usr/local/lib/python3.6/dist-packages (from requests->transformers) (3.0.4)\n",
            "Requirement already satisfied: urllib3<1.25,>=1.21.1 in /usr/local/lib/python3.6/dist-packages (from requests->transformers) (1.24.3)\n",
            "Requirement already satisfied: idna<2.9,>=2.5 in /usr/local/lib/python3.6/dist-packages (from requests->transformers) (2.8)\n",
            "Requirement already satisfied: certifi>=2017.4.17 in /usr/local/lib/python3.6/dist-packages (from requests->transformers) (2019.11.28)\n",
            "Requirement already satisfied: python-dateutil<3.0.0,>=2.1 in /usr/local/lib/python3.6/dist-packages (from botocore<1.16.0,>=1.15.33->boto3->transformers) (2.8.1)\n",
            "Requirement already satisfied: docutils<0.16,>=0.10 in /usr/local/lib/python3.6/dist-packages (from botocore<1.16.0,>=1.15.33->boto3->transformers) (0.15.2)\n"
          ],
          "name": "stdout"
        }
      ]
    },
    {
      "cell_type": "code",
      "metadata": {
        "id": "p2Cj6t_KL_0t",
        "colab_type": "code",
        "colab": {}
      },
      "source": [
        "from transformers import pipeline"
      ],
      "execution_count": 0,
      "outputs": []
    },
    {
      "cell_type": "code",
      "metadata": {
        "id": "nCmf9YoML_06",
        "colab_type": "code",
        "outputId": "86b5a5da-a9de-4d9c-cf35-228d43787c91",
        "colab": {
          "base_uri": "https://localhost:8080/",
          "height": 67,
          "referenced_widgets": [
            "6e4a4bf75c934554a1bc4e310499758f",
            "fb0075c3494540dcbcc96e032b24c16f",
            "449262b1494f48679f5afad3ad32fcb0",
            "8c814a1ba80e488d878343b742d3781e",
            "461c48ea4d5c47a793eb81a1d06f9555",
            "13971af48a6849d39904a23e719530ee",
            "a657b44775e54bfeaab0e4426c088cc5",
            "e733791820aa407fa1f053e25110f5d8"
          ]
        }
      },
      "source": [
        "summarizer = pipeline(\"summarization\", model=\"t5-base\", tokenizer=\"t5-base\", framework=\"tf\") # T5 (Text-To-Text Transfer Transformer) 's summarizer function\n",
        "\n",
        "#summarizer(\"Sam Shleifer writes the best docstring examples in the whole world.\", min_length=5, max_length=10)"
      ],
      "execution_count": 0,
      "outputs": [
        {
          "output_type": "display_data",
          "data": {
            "application/vnd.jupyter.widget-view+json": {
              "model_id": "6e4a4bf75c934554a1bc4e310499758f",
              "version_minor": 0,
              "version_major": 2
            },
            "text/plain": [
              "HBox(children=(IntProgress(value=0, description='Downloading', max=230, style=ProgressStyle(description_width=…"
            ]
          },
          "metadata": {
            "tags": []
          }
        },
        {
          "output_type": "stream",
          "text": [
            "\n"
          ],
          "name": "stdout"
        }
      ]
    },
    {
      "cell_type": "code",
      "metadata": {
        "id": "U0pzmGS8L_1F",
        "colab_type": "code",
        "colab": {}
      },
      "source": [
        "# directory = 'C:/Users/N1110/Desktop/CORD19/march30KeywordSearchQ1/'\n",
        "# df = pd.read_csv(directory + 'mostRelatedQ1POLYMERASEabstract.csv')  #20 paper abstracts of size 300 on average"
      ],
      "execution_count": 0,
      "outputs": []
    },
    {
      "cell_type": "code",
      "metadata": {
        "id": "Iz6q_KcbUKj-",
        "colab_type": "code",
        "colab": {}
      },
      "source": [
        "summarizer(\"Sam Shleifer writes the best docstring examples in the whole world.\", min_length=5, max_length=10) # use a smaller tester, abs1 too large as a tester, run for too long"
      ],
      "execution_count": 0,
      "outputs": []
    },
    {
      "cell_type": "code",
      "metadata": {
        "id": "JP6Y2ZmTMLsJ",
        "colab_type": "code",
        "colab": {}
      },
      "source": [
        "# abs1=\"ltpgtltbgtltbgt there is no specific drug that has been approved for 2019ncov there are a number of factors that pose major challenges in their development approaches to the development of anti2019ncov include screening existing broadspectrum antiviral drugs repositioning of readily available clinical compounds and ltitalicgtde novoltitalicgt development of novel and specific agents for 2019ncov candidate compounds can be developed either to inhibit virusbased targets such as rna proteases polymerase spike glycoproteins and viral envelop and membrane proteins or to inhibit hostbased targets such as receptors and proteases that are utilized by virus for viral entry and endocytosis recently the rna polymerase remdesivir had demonstrated clinical efficacy in one patient with severe novel coronavirus pneumonia ncp the broadspectrum viral protease inhibitor kaletraltsupgtregltsupgt is also recommended in the current ncp clinical practice both drugs had lately been proceeded into multiple controlled phase iii clinical trials to test their safety and efficacy in ncp combinational therapies consisting of multiple drugs provide other viable options against 2019ncov based on scientific and clinical rationales using bioinformatics and database analysis we have identified 75 clinically compounds including 20 marketed compounds that are efficacious in inhibiting key targets in virus and hostbased approaches which may facilitate the development of new therapeutic options for 2019ncov ltpgt\""
      ],
      "execution_count": 0,
      "outputs": []
    },
    {
      "cell_type": "code",
      "metadata": {
        "id": "tlqsA49aNet9",
        "colab_type": "code",
        "outputId": "b78432c7-bde4-4d36-f10b-4e2d50ea6fb7",
        "colab": {
          "base_uri": "https://localhost:8080/",
          "height": 55
        }
      },
      "source": [
        "# summarizer(abs1, min_length=50, max_length=100) # 300 words summary run for so long? #first one run long?"
      ],
      "execution_count": 0,
      "outputs": [
        {
          "output_type": "execute_result",
          "data": {
            "text/plain": [
              "[{'summary_text': 'there is no specific drug that has been approved for 2019ncov there are a number of factors that pose major challenges in their development approaches to the development of anti2019ncov . screening existing broadspectrum antiviral drugs repositioning of readily available clinical compounds and ltitalicgtde novoltitaligt development of novel and specific agents for 2018ncov candidate compounds can be developed either to inhibit virusbased targets such as rna prote'}]"
            ]
          },
          "metadata": {
            "tags": []
          },
          "execution_count": 7
        }
      ]
    },
    {
      "cell_type": "code",
      "metadata": {
        "id": "EtBxDiE_NkVo",
        "colab_type": "code",
        "colab": {}
      },
      "source": [
        "# original 208 words; summary 67 words\n",
        "\n"
      ],
      "execution_count": 0,
      "outputs": []
    },
    {
      "cell_type": "code",
      "metadata": {
        "id": "A731Lv_aQCst",
        "colab_type": "code",
        "outputId": "d2bab472-ce43-40a3-8ee1-a506043d9bf7",
        "colab": {
          "base_uri": "https://localhost:8080/",
          "height": 55
        }
      },
      "source": [
        "# summarizer(abs1, min_length=20, max_length=50)"
      ],
      "execution_count": 0,
      "outputs": [
        {
          "output_type": "execute_result",
          "data": {
            "text/plain": [
              "[{'summary_text': 'there is no specific drug that has been approved for 2019ncov there are a number of factors that pose major challenges in their development approaches to the development of anti2019ncov . screening existing broadspectrum antiviral drugs re'}]"
            ]
          },
          "metadata": {
            "tags": []
          },
          "execution_count": 8
        }
      ]
    },
    {
      "cell_type": "code",
      "metadata": {
        "id": "CXOG6HYjQFNH",
        "colab_type": "code",
        "colab": {}
      },
      "source": [
        "#even short summary 37 words and still valid\n",
        "# so start to apply summarizer on the Question Answering Outputs (20 paper abstracts of size 300 on average)"
      ],
      "execution_count": 0,
      "outputs": []
    },
    {
      "cell_type": "code",
      "metadata": {
        "id": "ytn6PgxPQvvw",
        "colab_type": "code",
        "colab": {}
      },
      "source": [
        "import numpy as np\n",
        "import pandas as pd"
      ],
      "execution_count": 0,
      "outputs": []
    },
    {
      "cell_type": "code",
      "metadata": {
        "id": "6gK0DEHOQ0qd",
        "colab_type": "code",
        "outputId": "08608f63-1de7-4599-b98b-a98fea874e85",
        "colab": {
          "base_uri": "https://localhost:8080/",
          "height": 35
        }
      },
      "source": [
        "data_path = \"/content/drive/My Drive/Colab Notebooks/cord19/data/\"\n",
        "data_filename = data_path +\"V2TherapeutWINDOWmostRelatedQ1.csv\"\n",
        "print(data_filename)"
      ],
      "execution_count": 0,
      "outputs": [
        {
          "output_type": "stream",
          "text": [
            "/content/drive/My Drive/Colab Notebooks/cord19/data/V2TherapeutWINDOWmostRelatedQ1.csv\n"
          ],
          "name": "stdout"
        }
      ]
    },
    {
      "cell_type": "code",
      "metadata": {
        "id": "VrtI3NTDQ29E",
        "colab_type": "code",
        "outputId": "b04749ef-ab27-4b20-9826-173533decee6",
        "colab": {
          "base_uri": "https://localhost:8080/",
          "height": 129
        }
      },
      "source": [
        "# allow access to google drive files\n",
        "from google.colab import drive\n",
        "drive.mount('/content/drive')"
      ],
      "execution_count": 0,
      "outputs": [
        {
          "output_type": "stream",
          "text": [
            "Go to this URL in a browser: https://accounts.google.com/o/oauth2/auth?client_id=947318989803-6bn6qk8qdgf4n4g3pfee6491hc0brc4i.apps.googleusercontent.com&redirect_uri=urn%3aietf%3awg%3aoauth%3a2.0%3aoob&response_type=code&scope=email%20https%3a%2f%2fwww.googleapis.com%2fauth%2fdocs.test%20https%3a%2f%2fwww.googleapis.com%2fauth%2fdrive%20https%3a%2f%2fwww.googleapis.com%2fauth%2fdrive.photos.readonly%20https%3a%2f%2fwww.googleapis.com%2fauth%2fpeopleapi.readonly\n",
            "\n",
            "Enter your authorization code:\n",
            "··········\n",
            "Mounted at /content/drive\n"
          ],
          "name": "stdout"
        }
      ]
    },
    {
      "cell_type": "code",
      "metadata": {
        "id": "tlq5SJWQQ5Zk",
        "colab_type": "code",
        "outputId": "783fa8dc-024b-429a-c7a2-10979b1afd88",
        "colab": {
          "base_uri": "https://localhost:8080/",
          "height": 206
        }
      },
      "source": [
        "df = pd.read_csv(data_filename)\n",
        "df.head(5)"
      ],
      "execution_count": 0,
      "outputs": [
        {
          "output_type": "execute_result",
          "data": {
            "text/html": [
              "<div>\n",
              "<style scoped>\n",
              "    .dataframe tbody tr th:only-of-type {\n",
              "        vertical-align: middle;\n",
              "    }\n",
              "\n",
              "    .dataframe tbody tr th {\n",
              "        vertical-align: top;\n",
              "    }\n",
              "\n",
              "    .dataframe thead th {\n",
              "        text-align: right;\n",
              "    }\n",
              "</style>\n",
              "<table border=\"1\" class=\"dataframe\">\n",
              "  <thead>\n",
              "    <tr style=\"text-align: right;\">\n",
              "      <th></th>\n",
              "      <th>Summary</th>\n",
              "      <th>WINDOW</th>\n",
              "    </tr>\n",
              "  </thead>\n",
              "  <tbody>\n",
              "    <tr>\n",
              "      <th>0</th>\n",
              "      <td>1</td>\n",
              "      <td>aspergilosis invasora se cifra en alrededor de...</td>\n",
              "    </tr>\n",
              "    <tr>\n",
              "      <th>1</th>\n",
              "      <td>2</td>\n",
              "      <td>no shortage of novel natural products that cou...</td>\n",
              "    </tr>\n",
              "    <tr>\n",
              "      <th>2</th>\n",
              "      <td>3</td>\n",
              "      <td>escape from the immune response, and summarize...</td>\n",
              "    </tr>\n",
              "    <tr>\n",
              "      <th>3</th>\n",
              "      <td>4</td>\n",
              "      <td>The placental immunologic response to ZIKV, ho...</td>\n",
              "    </tr>\n",
              "    <tr>\n",
              "      <th>4</th>\n",
              "      <td>5</td>\n",
              "      <td>precipitation. The cross-reactivity (CR) with ...</td>\n",
              "    </tr>\n",
              "  </tbody>\n",
              "</table>\n",
              "</div>"
            ],
            "text/plain": [
              "   Summary                                             WINDOW\n",
              "0        1  aspergilosis invasora se cifra en alrededor de...\n",
              "1        2  no shortage of novel natural products that cou...\n",
              "2        3  escape from the immune response, and summarize...\n",
              "3        4  The placental immunologic response to ZIKV, ho...\n",
              "4        5  precipitation. The cross-reactivity (CR) with ..."
            ]
          },
          "metadata": {
            "tags": []
          },
          "execution_count": 23
        }
      ]
    },
    {
      "cell_type": "code",
      "metadata": {
        "id": "Yq5_OBFJRSBk",
        "colab_type": "code",
        "outputId": "ee9a5cdf-ed7d-49d0-c952-c8683909a33e",
        "colab": {
          "base_uri": "https://localhost:8080/",
          "height": 35
        }
      },
      "source": [
        "df.shape[0]"
      ],
      "execution_count": 0,
      "outputs": [
        {
          "output_type": "execute_result",
          "data": {
            "text/plain": [
              "20"
            ]
          },
          "metadata": {
            "tags": []
          },
          "execution_count": 24
        }
      ]
    },
    {
      "cell_type": "code",
      "metadata": {
        "id": "Cq2jLRBrR7g7",
        "colab_type": "code",
        "outputId": "28857b83-8a1c-4fd3-d2f4-260308872af5",
        "colab": {
          "base_uri": "https://localhost:8080/",
          "height": 55
        }
      },
      "source": [
        "# df.ABS[0]\n",
        "df.WINDOW[0]"
      ],
      "execution_count": 0,
      "outputs": [
        {
          "output_type": "execute_result",
          "data": {
            "text/plain": [
              "'aspergilosis invasora se cifra en alrededor del 4%. Lung transplantation is now considered an established therapeutic option for patients with severe respiratory failure. Nevertheless, complications are frequent and can lead to'"
            ]
          },
          "metadata": {
            "tags": []
          },
          "execution_count": 25
        }
      ]
    },
    {
      "cell_type": "code",
      "metadata": {
        "id": "GZDCwkcrR3AW",
        "colab_type": "code",
        "colab": {}
      },
      "source": [
        "abs=[]\n",
        "\n"
      ],
      "execution_count": 0,
      "outputs": []
    },
    {
      "cell_type": "code",
      "metadata": {
        "id": "rXaFNzdpRrB4",
        "colab_type": "code",
        "colab": {}
      },
      "source": [
        "# for i in range(df.shape[0]):\n",
        "#   abs.append(df.WINDOW[i])\n",
        "#   print(\"Summary for \" + str(i)+\"th Abstract is:\")\n",
        "#   print(summarizer(abs[i], min_length=20, max_length=50))\n",
        "  "
      ],
      "execution_count": 0,
      "outputs": []
    },
    {
      "cell_type": "code",
      "metadata": {
        "id": "WCHO00wgd1BY",
        "colab_type": "code",
        "outputId": "a627293d-96ed-4030-cc51-3634215d7943",
        "colab": {
          "base_uri": "https://localhost:8080/",
          "height": 1000
        }
      },
      "source": [
        "for i in range(df.shape[0]):\n",
        "  abs.append(df.WINDOW[i])\n",
        "  print(\"Summary for \" + str(i)+\"th Abstract is:\")\n",
        "  #print(summarizer(abs[i], min_length=15, max_length=20))\n",
        "  df[\"Summary\"].iloc[i]= str(summarizer(abs[i], min_length=20, max_length=50)[0].values()) #df[\"index\"].iloc[0]= str(summary0[0].values())\n",
        "  print(df[\"Summary\"].iloc[i]) #index should be named \"summary\""
      ],
      "execution_count": 0,
      "outputs": [
        {
          "output_type": "stream",
          "text": [
            "Your max_length is set to 200, but you input_length is only 55. You might consider decreasing max_length manually, e.g. summarizer('...', max_length=50)\n"
          ],
          "name": "stderr"
        },
        {
          "output_type": "stream",
          "text": [
            "Summary for 0th Abstract is:\n"
          ],
          "name": "stdout"
        },
        {
          "output_type": "stream",
          "text": [
            "/usr/local/lib/python3.6/dist-packages/pandas/core/indexing.py:671: SettingWithCopyWarning: \n",
            "A value is trying to be set on a copy of a slice from a DataFrame\n",
            "\n",
            "See the caveats in the documentation: https://pandas.pydata.org/pandas-docs/stable/user_guide/indexing.html#returning-a-view-versus-a-copy\n",
            "  self._setitem_with_indexer(indexer, value)\n",
            "Your max_length is set to 200, but you input_length is only 55. You might consider decreasing max_length manually, e.g. summarizer('...', max_length=50)\n"
          ],
          "name": "stderr"
        },
        {
          "output_type": "stream",
          "text": [
            "dict_values(['aspergilosis invasora se cifra en alrededor del 4%. Lung transplantation is now considered an established therapeutic option for patients with severe respiratory failure . complications are frequent and can'])\n",
            "Summary for 1th Abstract is:\n"
          ],
          "name": "stdout"
        },
        {
          "output_type": "stream",
          "text": [
            "Your max_length is set to 200, but you input_length is only 37. You might consider decreasing max_length manually, e.g. summarizer('...', max_length=50)\n"
          ],
          "name": "stderr"
        },
        {
          "output_type": "stream",
          "text": [
            "dict_values(['aspergilosis invasora se cifra en alrededor del 4%. Lung transplantation is now considered an established therapeutic option for patients with severe respiratory failure . complications are frequent and can'])\n",
            "Summary for 2th Abstract is:\n"
          ],
          "name": "stdout"
        },
        {
          "output_type": "stream",
          "text": [
            "Your max_length is set to 200, but you input_length is only 42. You might consider decreasing max_length manually, e.g. summarizer('...', max_length=50)\n"
          ],
          "name": "stderr"
        },
        {
          "output_type": "stream",
          "text": [
            "dict_values(['no shortage of novel natural products that could be developed into new medicines . their therapeutic success in the clinic will depend on the introduction of mandatory controls and use restrictions . the use of novel medicines is regulated by the fda'])\n",
            "Summary for 3th Abstract is:\n"
          ],
          "name": "stdout"
        },
        {
          "output_type": "stream",
          "text": [
            "Your max_length is set to 200, but you input_length is only 59. You might consider decreasing max_length manually, e.g. summarizer('...', max_length=50)\n"
          ],
          "name": "stderr"
        },
        {
          "output_type": "stream",
          "text": [
            "dict_values(['social, economic and healthcare aspects of research into HIV vaccines and vaccines . edward mccaffery: vaccines are a great tool for preventing and preventing cancer . he says vaccines'])\n",
            "Summary for 4th Abstract is:\n"
          ],
          "name": "stdout"
        },
        {
          "output_type": "stream",
          "text": [
            "Your max_length is set to 200, but you input_length is only 54. You might consider decreasing max_length manually, e.g. summarizer('...', max_length=50)\n"
          ],
          "name": "stderr"
        },
        {
          "output_type": "stream",
          "text": [
            "dict_values(['the placental immunologic response to ZIKV has been largely overlooked as a target for therapeutic intervention . IL-1 secretion and signaling is induced by infection with ZIkV . the'])\n",
            "Summary for 5th Abstract is:\n"
          ],
          "name": "stdout"
        },
        {
          "output_type": "stream",
          "text": [
            "Your max_length is set to 200, but you input_length is only 49. You might consider decreasing max_length manually, e.g. summarizer('...', max_length=50)\n"
          ],
          "name": "stderr"
        },
        {
          "output_type": "stream",
          "text": [
            "dict_values(['cross-reactivity (CR) with other fungi, growth inhibition on T. rubrum in vitro . growth inhibition and therapeutic effect on infection in BALB/C mice of the specific IgY were evaluated .'])\n",
            "Summary for 6th Abstract is:\n"
          ],
          "name": "stdout"
        },
        {
          "output_type": "stream",
          "text": [
            "Your max_length is set to 200, but you input_length is only 41. You might consider decreasing max_length manually, e.g. summarizer('...', max_length=50)\n"
          ],
          "name": "stderr"
        },
        {
          "output_type": "stream",
          "text": [
            "dict_values(['RNAi offers a therapeutic platform to identify potential picomolar active drug candidates to any target . mRNA expression is a messenger RNA (mRNA) expression . expression of the messenger ribosomal'])\n",
            "Summary for 7th Abstract is:\n"
          ],
          "name": "stdout"
        },
        {
          "output_type": "stream",
          "text": [
            "Your max_length is set to 200, but you input_length is only 54. You might consider decreasing max_length manually, e.g. summarizer('...', max_length=50)\n"
          ],
          "name": "stderr"
        },
        {
          "output_type": "stream",
          "text": [
            "dict_values(['high-throughput screening methods have emerged as powerful tools to identify candidate host factors for therapeutic intervention . the development of assay systems suitable for large-scale automated screening is of particular importance . . assays suitable for automated'])\n",
            "Summary for 8th Abstract is:\n"
          ],
          "name": "stdout"
        },
        {
          "output_type": "stream",
          "text": [
            "Your max_length is set to 200, but you input_length is only 51. You might consider decreasing max_length manually, e.g. summarizer('...', max_length=50)\n"
          ],
          "name": "stderr"
        },
        {
          "output_type": "stream",
          "text": [
            "dict_values(['despite the prepdominat agent causing severe entero-pathogenic diarrhea in swine, there are no effective therapeutical treatment of porcine epidemic diarrhea virus (PEDV) in this study, we evaluated the antivir'])\n",
            "Summary for 9th Abstract is:\n"
          ],
          "name": "stdout"
        },
        {
          "output_type": "stream",
          "text": [
            "Your max_length is set to 200, but you input_length is only 43. You might consider decreasing max_length manually, e.g. summarizer('...', max_length=50)\n"
          ],
          "name": "stderr"
        },
        {
          "output_type": "stream",
          "text": [
            "dict_values(['peptidomimetic compounds identified through this process are attractive leads for the development of potential therapeutic agents against SARS . the structural requirements of the peptideomimetics with potent inhibitory activities against sARS-'])\n",
            "Summary for 10th Abstract is:\n"
          ],
          "name": "stdout"
        },
        {
          "output_type": "stream",
          "text": [
            "Your max_length is set to 200, but you input_length is only 37. You might consider decreasing max_length manually, e.g. summarizer('...', max_length=50)\n"
          ],
          "name": "stderr"
        },
        {
          "output_type": "stream",
          "text": [
            "dict_values(['PSMA is expressed at high levels on malignant prostate cells . it is likely an important therapeutic target for the treatment of prostate carcinoma . current immunotherapy approaches to target PSMA include peptide .:ad'])\n",
            "Summary for 11th Abstract is:\n"
          ],
          "name": "stdout"
        },
        {
          "output_type": "stream",
          "text": [
            "Your max_length is set to 200, but you input_length is only 45. You might consider decreasing max_length manually, e.g. summarizer('...', max_length=50)\n"
          ],
          "name": "stderr"
        },
        {
          "output_type": "stream",
          "text": [
            "dict_values(['BACKGROUND: Although several therapeutic options have become available for patients with Cutaneous T-cell Lymphoma (CTCL), no therapy has been available for CTCL patients . no therapy is currently available for'])\n",
            "Summary for 12th Abstract is:\n"
          ],
          "name": "stdout"
        },
        {
          "output_type": "stream",
          "text": [
            "Your max_length is set to 200, but you input_length is only 52. You might consider decreasing max_length manually, e.g. summarizer('...', max_length=50)\n"
          ],
          "name": "stderr"
        },
        {
          "output_type": "stream",
          "text": [
            "dict_values(['in the past three decades, aptamers have been used in a plethora of therapeutics and drug delivery systems that involve innovative delivery mechanisms and carrying various types of drug . and immunogenicity . and immuno'])\n",
            "Summary for 13th Abstract is:\n"
          ],
          "name": "stdout"
        },
        {
          "output_type": "stream",
          "text": [
            "Your max_length is set to 200, but you input_length is only 31. You might consider decreasing max_length manually, e.g. summarizer('...', max_length=50)\n"
          ],
          "name": "stderr"
        },
        {
          "output_type": "stream",
          "text": [
            "dict_values(['developing a cost-effective, rapid, sensitive, and selective sensor to detect EVD at point-of-care . to confirm Ebola infection, varies from 6h to about 3 days, it causes delay in therapeutic'])\n",
            "Summary for 14th Abstract is:\n"
          ],
          "name": "stdout"
        },
        {
          "output_type": "stream",
          "text": [
            "Your max_length is set to 200, but you input_length is only 37. You might consider decreasing max_length manually, e.g. summarizer('...', max_length=50)\n"
          ],
          "name": "stderr"
        },
        {
          "output_type": "stream",
          "text": [
            "dict_values(['ARDS can complicate EBV pneumonia in an immuno-competent subject . its management represents a diagnostic and therapeutic challenge . the cdc has not released a definitive diagnosis . ARD'])\n",
            "Summary for 15th Abstract is:\n"
          ],
          "name": "stdout"
        },
        {
          "output_type": "stream",
          "text": [
            "Your max_length is set to 200, but you input_length is only 29. You might consider decreasing max_length manually, e.g. summarizer('...', max_length=50)\n"
          ],
          "name": "stderr"
        },
        {
          "output_type": "stream",
          "text": [
            "dict_values(['gradual saturation will occur in the pipeline of conceptually new antibody therapeutics . in this scenario we will witness an increase in combination of targets and antibodies . gradual saturation is likely to occur . is likely gradual saturation to occur'])\n",
            "Summary for 16th Abstract is:\n"
          ],
          "name": "stdout"
        },
        {
          "output_type": "stream",
          "text": [
            "Your max_length is set to 200, but you input_length is only 40. You might consider decreasing max_length manually, e.g. summarizer('...', max_length=50)\n"
          ],
          "name": "stderr"
        },
        {
          "output_type": "stream",
          "text": [
            "dict_values(['current prophylactic and therapeutic strategies targeting human influenza viruses include vaccines and antivirals . variable rates of vaccine efficacy are shown to be associated with higher rates of antiviral activity . a vaccine that is'])\n",
            "Summary for 17th Abstract is:\n"
          ],
          "name": "stdout"
        },
        {
          "output_type": "stream",
          "text": [
            "Your max_length is set to 200, but you input_length is only 47. You might consider decreasing max_length manually, e.g. summarizer('...', max_length=50)\n"
          ],
          "name": "stderr"
        },
        {
          "output_type": "stream",
          "text": [
            "dict_values(['our data suggest autophagy-inducing drugs may provide a novel therapeutic strategy for combating lyssavirus infection . an assortment of pathogenic viruses . a variety of pathogen viruses.'])\n",
            "Summary for 18th Abstract is:\n"
          ],
          "name": "stdout"
        },
        {
          "output_type": "stream",
          "text": [
            "Your max_length is set to 200, but you input_length is only 72. You might consider decreasing max_length manually, e.g. summarizer('...', max_length=50)\n"
          ],
          "name": "stderr"
        },
        {
          "output_type": "stream",
          "text": [
            "dict_values(['models are necessary to identify immunopathological mechanisms involved in MS and to develop novel therapeutic and reparative approaches . Specifically, viral models of chronic demyelination and axonal damage have been used . models are'])\n",
            "Summary for 19th Abstract is:\n",
            "dict_values(['Eckol is a precursor compound representing the dibenzo-1,4-dioxin class of phlorotannins abundant in the halo-compounds family . Eckol: richest'])\n"
          ],
          "name": "stdout"
        }
      ]
    },
    {
      "cell_type": "code",
      "metadata": {
        "id": "Cq-uPZmXXpIp",
        "colab_type": "code",
        "outputId": "1ed465cf-5b9b-4941-b595-cf5cfb8e3b9b",
        "colab": {
          "base_uri": "https://localhost:8080/",
          "height": 35
        }
      },
      "source": [
        "summary0= summarizer(abs[0], min_length=20, max_length=50)\n",
        "\n"
      ],
      "execution_count": 0,
      "outputs": [
        {
          "output_type": "stream",
          "text": [
            "Your max_length is set to 200, but you input_length is only 55. You might consider decreasing max_length manually, e.g. summarizer('...', max_length=50)\n"
          ],
          "name": "stderr"
        }
      ]
    },
    {
      "cell_type": "code",
      "metadata": {
        "id": "YrMWFD6Xb7oe",
        "colab_type": "code",
        "outputId": "c2407922-ea41-4693-fd3d-d19e6f6a3d35",
        "colab": {
          "base_uri": "https://localhost:8080/",
          "height": 55
        }
      },
      "source": [
        "# summary0.values()\n",
        "\n",
        "summary0"
      ],
      "execution_count": 0,
      "outputs": [
        {
          "output_type": "execute_result",
          "data": {
            "text/plain": [
              "[{'summary_text': 'aspergilosis invasora se cifra en alrededor del 4%. Lung transplantation is now considered an established therapeutic option for patients with severe respiratory failure . complications are frequent and can'}]"
            ]
          },
          "metadata": {
            "tags": []
          },
          "execution_count": 36
        }
      ]
    },
    {
      "cell_type": "code",
      "metadata": {
        "id": "1BdfTQtXcg2R",
        "colab_type": "code",
        "outputId": "8fa7868a-425a-4d92-84df-93fb343c73c2",
        "colab": {
          "base_uri": "https://localhost:8080/",
          "height": 35
        }
      },
      "source": [
        "summary0[0].values()"
      ],
      "execution_count": 0,
      "outputs": [
        {
          "output_type": "execute_result",
          "data": {
            "text/plain": [
              "dict_values(['aspergilosis invasora se cifra en alrededor del 4%. Lung transplantation is now considered an established therapeutic option for patients with severe respiratory failure . complications are frequent and can'])"
            ]
          },
          "metadata": {
            "tags": []
          },
          "execution_count": 37
        }
      ]
    },
    {
      "cell_type": "code",
      "metadata": {
        "id": "jsui2Xb4WCdm",
        "colab_type": "code",
        "colab": {}
      },
      "source": [
        "df[\"Summary\"].iloc[0]= str(summary0[0].values())\n"
      ],
      "execution_count": 0,
      "outputs": []
    },
    {
      "cell_type": "code",
      "metadata": {
        "id": "sgUpV4gddjmU",
        "colab_type": "code",
        "outputId": "c91b4784-6bfa-4cde-c300-e6b5783ba963",
        "colab": {
          "base_uri": "https://localhost:8080/",
          "height": 403
        }
      },
      "source": [
        "df[\"Summary\"]"
      ],
      "execution_count": 0,
      "outputs": [
        {
          "output_type": "execute_result",
          "data": {
            "text/plain": [
              "0     dict_values(['aspergilosis invasora se cifra e...\n",
              "1     dict_values(['aspergilosis invasora se cifra e...\n",
              "2     dict_values(['no shortage of novel natural pro...\n",
              "3     dict_values(['social, economic and healthcare ...\n",
              "4     dict_values(['the placental immunologic respon...\n",
              "5     dict_values(['cross-reactivity (CR) with other...\n",
              "6     dict_values(['RNAi offers a therapeutic platfo...\n",
              "7     dict_values(['high-throughput screening method...\n",
              "8     dict_values(['despite the prepdominat agent ca...\n",
              "9     dict_values(['peptidomimetic compounds identif...\n",
              "10    dict_values(['PSMA is expressed at high levels...\n",
              "11    dict_values(['BACKGROUND: Although several the...\n",
              "12    dict_values(['in the past three decades, aptam...\n",
              "13    dict_values(['developing a cost-effective, rap...\n",
              "14    dict_values(['ARDS can complicate EBV pneumoni...\n",
              "15    dict_values(['gradual saturation will occur in...\n",
              "16    dict_values(['current prophylactic and therape...\n",
              "17    dict_values(['our data suggest autophagy-induc...\n",
              "18    dict_values(['models are necessary to identify...\n",
              "19    dict_values(['Eckol is a precursor compound re...\n",
              "Name: Summary, dtype: object"
            ]
          },
          "metadata": {
            "tags": []
          },
          "execution_count": 39
        }
      ]
    },
    {
      "cell_type": "code",
      "metadata": {
        "id": "GDwyT7kCWFYi",
        "colab_type": "code",
        "colab": {}
      },
      "source": [
        "ABSsummary = ' '.join(df[\"Summary\"])"
      ],
      "execution_count": 0,
      "outputs": []
    },
    {
      "cell_type": "code",
      "metadata": {
        "id": "1Yt7KjgIomD-",
        "colab_type": "code",
        "outputId": "cb8ba2f8-10f5-49d0-e1f5-62464427cb70",
        "colab": {
          "base_uri": "https://localhost:8080/",
          "height": 55
        }
      },
      "source": [
        "ABSsummary #absWINDOW"
      ],
      "execution_count": 0,
      "outputs": [
        {
          "output_type": "execute_result",
          "data": {
            "text/plain": [
              "\"dict_values(['aspergilosis invasora se cifra en alrededor del 4%. Lung transplantation is now considered an established therapeutic option for patients with severe respiratory failure . complications are frequent and can']) dict_values(['aspergilosis invasora se cifra en alrededor del 4%. Lung transplantation is now considered an established therapeutic option for patients with severe respiratory failure . complications are frequent and can']) dict_values(['no shortage of novel natural products that could be developed into new medicines . their therapeutic success in the clinic will depend on the introduction of mandatory controls and use restrictions . the use of novel medicines is regulated by the fda']) dict_values(['social, economic and healthcare aspects of research into HIV vaccines and vaccines . edward mccaffery: vaccines are a great tool for preventing and preventing cancer . he says vaccines']) dict_values(['the placental immunologic response to ZIKV has been largely overlooked as a target for therapeutic intervention . IL-1 secretion and signaling is induced by infection with ZIkV . the']) dict_values(['cross-reactivity (CR) with other fungi, growth inhibition on T. rubrum in vitro . growth inhibition and therapeutic effect on infection in BALB/C mice of the specific IgY were evaluated .']) dict_values(['RNAi offers a therapeutic platform to identify potential picomolar active drug candidates to any target . mRNA expression is a messenger RNA (mRNA) expression . expression of the messenger ribosomal']) dict_values(['high-throughput screening methods have emerged as powerful tools to identify candidate host factors for therapeutic intervention . the development of assay systems suitable for large-scale automated screening is of particular importance . . assays suitable for automated']) dict_values(['despite the prepdominat agent causing severe entero-pathogenic diarrhea in swine, there are no effective therapeutical treatment of porcine epidemic diarrhea virus (PEDV) in this study, we evaluated the antivir']) dict_values(['peptidomimetic compounds identified through this process are attractive leads for the development of potential therapeutic agents against SARS . the structural requirements of the peptideomimetics with potent inhibitory activities against sARS-']) dict_values(['PSMA is expressed at high levels on malignant prostate cells . it is likely an important therapeutic target for the treatment of prostate carcinoma . current immunotherapy approaches to target PSMA include peptide .:ad']) dict_values(['BACKGROUND: Although several therapeutic options have become available for patients with Cutaneous T-cell Lymphoma (CTCL), no therapy has been available for CTCL patients . no therapy is currently available for']) dict_values(['in the past three decades, aptamers have been used in a plethora of therapeutics and drug delivery systems that involve innovative delivery mechanisms and carrying various types of drug . and immunogenicity . and immuno']) dict_values(['developing a cost-effective, rapid, sensitive, and selective sensor to detect EVD at point-of-care . to confirm Ebola infection, varies from 6h to about 3 days, it causes delay in therapeutic']) dict_values(['ARDS can complicate EBV pneumonia in an immuno-competent subject . its management represents a diagnostic and therapeutic challenge . the cdc has not released a definitive diagnosis . ARD']) dict_values(['gradual saturation will occur in the pipeline of conceptually new antibody therapeutics . in this scenario we will witness an increase in combination of targets and antibodies . gradual saturation is likely to occur . is likely gradual saturation to occur']) dict_values(['current prophylactic and therapeutic strategies targeting human influenza viruses include vaccines and antivirals . variable rates of vaccine efficacy are shown to be associated with higher rates of antiviral activity . a vaccine that is']) dict_values(['our data suggest autophagy-inducing drugs may provide a novel therapeutic strategy for combating lyssavirus infection . an assortment of pathogenic viruses . a variety of pathogen viruses.']) dict_values(['models are necessary to identify immunopathological mechanisms involved in MS and to develop novel therapeutic and reparative approaches . Specifically, viral models of chronic demyelination and axonal damage have been used . models are']) dict_values(['Eckol is a precursor compound representing the dibenzo-1,4-dioxin class of phlorotannins abundant in the halo-compounds family . Eckol: richest'])\""
            ]
          },
          "metadata": {
            "tags": []
          },
          "execution_count": 41
        }
      ]
    },
    {
      "cell_type": "code",
      "metadata": {
        "id": "e6vpCl8rShQe",
        "colab_type": "code",
        "colab": {}
      },
      "source": [
        "# put all the summaries of 20 paper abstracts together to generate a 600-1000 words summary\n",
        "\n",
        "# in this way we let T5 help us read the 20 abstracts output\n",
        "# further generate word cloud for ABSsummary to viz info"
      ],
      "execution_count": 0,
      "outputs": []
    },
    {
      "cell_type": "code",
      "metadata": {
        "id": "Odr4O7cFf3YC",
        "colab_type": "code",
        "colab": {}
      },
      "source": [
        "# WINDOW is not very useful to dig deep, judging from Q2. did not mention many genes in benchsci data.\n",
        "\n",
        "\n",
        "\n",
        "# for Q1\n",
        "# at least should mention hiv drug effective to be a good answer\n",
        "\n",
        "\n",
        "\n",
        "# Question2=['What are the therapeutic target genes for COVID-19 or coronavirus?']\n",
        "\n",
        "# althoug answers are kind of related. but not detail enough."
      ],
      "execution_count": 0,
      "outputs": []
    }
  ]
}