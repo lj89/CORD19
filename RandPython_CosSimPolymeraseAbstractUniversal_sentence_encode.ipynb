{
  "nbformat": 4,
  "nbformat_minor": 0,
  "metadata": {
    "kernelspec": {
      "name": "python3",
      "display_name": "Python 3"
    },
    "language_info": {
      "codemirror_mode": {
        "name": "ipython",
        "version": 3
      },
      "file_extension": ".py",
      "mimetype": "text/x-python",
      "name": "python",
      "nbconvert_exporter": "python",
      "pygments_lexer": "ipython3",
      "version": "3.6.5"
    },
    "colab": {
      "name": "Copy of CosSimPolymeraseAbstractUniversal-sentence-encode.ipynb",
      "provenance": [],
      "collapsed_sections": [],
      "include_colab_link": true
    },
    "accelerator": "GPU"
  },
  "cells": [
    {
      "cell_type": "markdown",
      "metadata": {
        "id": "view-in-github",
        "colab_type": "text"
      },
      "source": [
        "<a href=\"https://colab.research.google.com/github/lj89/CORD19/blob/master/RandPython_CosSimPolymeraseAbstractUniversal_sentence_encode.ipynb\" target=\"_parent\"><img src=\"https://colab.research.google.com/assets/colab-badge.svg\" alt=\"Open In Colab\"/></a>"
      ]
    },
    {
      "cell_type": "code",
      "metadata": {
        "id": "BRi5THF2uWis",
        "colab_type": "code",
        "colab": {}
      },
      "source": [
        "import re"
      ],
      "execution_count": 0,
      "outputs": []
    },
    {
      "cell_type": "code",
      "metadata": {
        "id": "di4gL8DgRIvv",
        "colab_type": "code",
        "colab": {}
      },
      "source": [
        "# pip install rpy2"
      ],
      "execution_count": 0,
      "outputs": []
    },
    {
      "cell_type": "code",
      "metadata": {
        "id": "v4YCyCynRLye",
        "colab_type": "code",
        "colab": {}
      },
      "source": [
        "# # enables the %%R magic, not necessary if you've already done this\n",
        "# %load_ext rpy2.ipython\n",
        "\n",
        "# import pandas as pd\n",
        "# df = pd.DataFrame({\n",
        "#     'cups_of_coffee': [0, 1, 2, 3, 4, 5, 6, 7, 8, 9],\n",
        "#     'productivity': [2, 5, 6, 8, 9, 8, 0, 1, 0, -1]\n",
        "# })"
      ],
      "execution_count": 0,
      "outputs": []
    },
    {
      "cell_type": "code",
      "metadata": {
        "id": "SwxCZZ2fRTkp",
        "colab_type": "code",
        "colab": {}
      },
      "source": [
        "# %%R -i df -w 5 -h 5 --units in -r 200\n",
        "# # import df from global environment\n",
        "# # make default figure size 5 by 5 inches with 200 dpi resolution\n",
        "\n",
        "# install.packages(\"ggplot2\", repos='http://cran.us.r-project.org', quiet=TRUE)\n",
        "# library(ggplot2)\n",
        "# ggplot(df, aes(x=cups_of_coffee, y=productivity)) + geom_line()"
      ],
      "execution_count": 0,
      "outputs": []
    },
    {
      "cell_type": "code",
      "metadata": {
        "id": "xcxWGLi4r_QJ",
        "colab_type": "code",
        "outputId": "2f55acf6-58d0-4900-a49c-7f8a65996a30",
        "colab": {
          "base_uri": "https://localhost:8080/",
          "height": 54
        }
      },
      "source": [
        "%load_ext rpy2.ipython"
      ],
      "execution_count": 0,
      "outputs": [
        {
          "output_type": "stream",
          "text": [
            "The rpy2.ipython extension is already loaded. To reload it, use:\n",
            "  %reload_ext rpy2.ipython\n"
          ],
          "name": "stdout"
        }
      ]
    },
    {
      "cell_type": "code",
      "metadata": {
        "id": "laJRnlkbR7l2",
        "colab_type": "code",
        "colab": {}
      },
      "source": [
        "%%R -i df -w 5 -h 5 --units in -r 200\n",
        "\n",
        "install.packages(\"tidyverse\", repos='http://cran.us.r-project.org', quiet=TRUE)\n",
        "\n",
        "install.packages(\"magrittr\", repos='http://cran.us.r-project.org', quiet=TRUE)\n",
        "\n",
        "install.packages(\"bigrquery\", repos='http://cran.us.r-project.org', quiet=TRUE)\n",
        "\n",
        "library(tidyverse)\n",
        "library(magrittr)\n",
        "library(bigrquery)\n"
      ],
      "execution_count": 0,
      "outputs": []
    },
    {
      "cell_type": "code",
      "metadata": {
        "id": "WqFAtupXhsDg",
        "colab_type": "code",
        "colab": {}
      },
      "source": [
        "# %%R \n",
        "# library(tidyverse)\n"
      ],
      "execution_count": 0,
      "outputs": []
    },
    {
      "cell_type": "code",
      "metadata": {
        "id": "FNc5cOX9X2cS",
        "colab_type": "code",
        "colab": {}
      },
      "source": [
        "\n"
      ],
      "execution_count": 0,
      "outputs": []
    },
    {
      "cell_type": "code",
      "metadata": {
        "id": "yjWXKj5ySgty",
        "colab_type": "code",
        "colab": {}
      },
      "source": [
        "# import tensorflow as tf\n",
        "# import tensorflow_hub as hub\n",
        "# import numpy as np\n",
        "# import tensorflow_text\n",
        "\n",
        "# questions = [\"What is your age?\"]\n",
        "# responses = [\"I am 20 years old.\", \"good morning\"]\n",
        "# response_contexts = [\"I will be 21 next year.\", \"great day.\"]\n",
        "\n",
        "# module = hub.load('https://tfhub.dev/google/universal-sentence-encoder-qa/3')\n",
        "\n",
        "# question_embeddings = module.signatures['question_encoder'](\n",
        "#             tf.constant(questions))\n",
        "# response_embeddings = module.signatures['response_encoder'](\n",
        "#         input=tf.constant(responses),\n",
        "#         context=tf.constant(response_contexts))\n",
        "\n",
        "# np.inner(question_embeddings, response_embeddings)\n"
      ],
      "execution_count": 0,
      "outputs": []
    },
    {
      "cell_type": "code",
      "metadata": {
        "id": "7GDJK6KruWjJ",
        "colab_type": "code",
        "colab": {}
      },
      "source": [
        "import numpy as np\n",
        "import pandas as pd\n",
        "#import the data\n",
        "# directory = 'C:/Users/N1110/Desktop/CORD19/KeyWordSearchResultsCSV/'\n",
        "# df = pd.read_csv(directory + 'tibbleABSTRACT_polymerase2391.csv') "
      ],
      "execution_count": 0,
      "outputs": []
    },
    {
      "cell_type": "code",
      "metadata": {
        "id": "Lvd2f3BnuwFa",
        "colab_type": "code",
        "outputId": "abf18bcd-71c0-4a30-fa98-2b64498e71df",
        "colab": {
          "base_uri": "https://localhost:8080/",
          "height": 35
        }
      },
      "source": [
        "data_path = \"/content/drive/My Drive/Colab Notebooks/cord19/data/\"\n",
        "data_filename = data_path +\"POLYMERASE_ABSTRACT_TFIDF_10clustersResultsWithOriginalABS.csv\"\n",
        "print(data_filename)\n"
      ],
      "execution_count": 0,
      "outputs": [
        {
          "output_type": "stream",
          "text": [
            "/content/drive/My Drive/Colab Notebooks/cord19/data/POLYMERASE_ABSTRACT_TFIDF_10clustersResultsWithOriginalABS.csv\n"
          ],
          "name": "stdout"
        }
      ]
    },
    {
      "cell_type": "code",
      "metadata": {
        "id": "yYT07h_YuzI-",
        "colab_type": "code",
        "outputId": "65777d9d-8ea9-4d49-ea10-26576054056e",
        "colab": {
          "base_uri": "https://localhost:8080/",
          "height": 35
        }
      },
      "source": [
        "# allow access to google drive files\n",
        "from google.colab import drive\n",
        "drive.mount('/content/drive')"
      ],
      "execution_count": 0,
      "outputs": [
        {
          "output_type": "stream",
          "text": [
            "Drive already mounted at /content/drive; to attempt to forcibly remount, call drive.mount(\"/content/drive\", force_remount=True).\n"
          ],
          "name": "stdout"
        }
      ]
    },
    {
      "cell_type": "code",
      "metadata": {
        "id": "ZWvPKUNMuWjn",
        "colab_type": "code",
        "outputId": "0122b8fb-d5ab-404d-c97d-033b2e6cf00d",
        "colab": {
          "base_uri": "https://localhost:8080/",
          "height": 383
        }
      },
      "source": [
        "df = pd.read_csv(data_filename)\n",
        "df.head(5)"
      ],
      "execution_count": 0,
      "outputs": [
        {
          "output_type": "execute_result",
          "data": {
            "text/html": [
              "<div>\n",
              "<style scoped>\n",
              "    .dataframe tbody tr th:only-of-type {\n",
              "        vertical-align: middle;\n",
              "    }\n",
              "\n",
              "    .dataframe tbody tr th {\n",
              "        vertical-align: top;\n",
              "    }\n",
              "\n",
              "    .dataframe thead th {\n",
              "        text-align: right;\n",
              "    }\n",
              "</style>\n",
              "<table border=\"1\" class=\"dataframe\">\n",
              "  <thead>\n",
              "    <tr style=\"text-align: right;\">\n",
              "      <th></th>\n",
              "      <th>index</th>\n",
              "      <th>ABS</th>\n",
              "      <th>0</th>\n",
              "      <th>1</th>\n",
              "      <th>2</th>\n",
              "      <th>3</th>\n",
              "      <th>4</th>\n",
              "      <th>5</th>\n",
              "      <th>6</th>\n",
              "      <th>7</th>\n",
              "      <th>8</th>\n",
              "      <th>9</th>\n",
              "      <th>10</th>\n",
              "      <th>11</th>\n",
              "      <th>12</th>\n",
              "      <th>13</th>\n",
              "      <th>14</th>\n",
              "      <th>15</th>\n",
              "      <th>16</th>\n",
              "      <th>17</th>\n",
              "      <th>18</th>\n",
              "      <th>19</th>\n",
              "      <th>20</th>\n",
              "      <th>21</th>\n",
              "      <th>22</th>\n",
              "      <th>23</th>\n",
              "      <th>24</th>\n",
              "      <th>25</th>\n",
              "      <th>26</th>\n",
              "      <th>27</th>\n",
              "      <th>28</th>\n",
              "      <th>29</th>\n",
              "      <th>G1</th>\n",
              "      <th>G2</th>\n",
              "      <th>G3</th>\n",
              "      <th>G4</th>\n",
              "      <th>G5</th>\n",
              "      <th>G6</th>\n",
              "      <th>G7</th>\n",
              "      <th>G8</th>\n",
              "      <th>G9</th>\n",
              "      <th>G10</th>\n",
              "    </tr>\n",
              "  </thead>\n",
              "  <tbody>\n",
              "    <tr>\n",
              "      <th>0</th>\n",
              "      <td>1</td>\n",
              "      <td>abstract astrocytes produce granulocytemacroph...</td>\n",
              "      <td>-0.050448</td>\n",
              "      <td>0.017385</td>\n",
              "      <td>-0.039777</td>\n",
              "      <td>-0.067159</td>\n",
              "      <td>-0.029633</td>\n",
              "      <td>0.074573</td>\n",
              "      <td>-0.050444</td>\n",
              "      <td>-0.010799</td>\n",
              "      <td>-0.016189</td>\n",
              "      <td>0.040830</td>\n",
              "      <td>0.009979</td>\n",
              "      <td>-0.033770</td>\n",
              "      <td>0.013430</td>\n",
              "      <td>0.011744</td>\n",
              "      <td>-0.037619</td>\n",
              "      <td>-0.013475</td>\n",
              "      <td>-0.022964</td>\n",
              "      <td>-0.001030</td>\n",
              "      <td>-0.027048</td>\n",
              "      <td>-0.007250</td>\n",
              "      <td>0.002844</td>\n",
              "      <td>-0.001927</td>\n",
              "      <td>0.024008</td>\n",
              "      <td>0.056567</td>\n",
              "      <td>0.007435</td>\n",
              "      <td>-0.013699</td>\n",
              "      <td>-0.026742</td>\n",
              "      <td>-0.005136</td>\n",
              "      <td>0.020250</td>\n",
              "      <td>-0.006446</td>\n",
              "      <td>0</td>\n",
              "      <td>0</td>\n",
              "      <td>0</td>\n",
              "      <td>0</td>\n",
              "      <td>0</td>\n",
              "      <td>1</td>\n",
              "      <td>0</td>\n",
              "      <td>0</td>\n",
              "      <td>0</td>\n",
              "      <td>0</td>\n",
              "    </tr>\n",
              "    <tr>\n",
              "      <th>1</th>\n",
              "      <td>2</td>\n",
              "      <td>abstract replication of avian infectious bronc...</td>\n",
              "      <td>-0.128422</td>\n",
              "      <td>-0.084803</td>\n",
              "      <td>0.084813</td>\n",
              "      <td>-0.013748</td>\n",
              "      <td>0.006486</td>\n",
              "      <td>0.128668</td>\n",
              "      <td>0.032655</td>\n",
              "      <td>0.066775</td>\n",
              "      <td>0.038085</td>\n",
              "      <td>0.008261</td>\n",
              "      <td>-0.126150</td>\n",
              "      <td>-0.150300</td>\n",
              "      <td>0.065358</td>\n",
              "      <td>0.065503</td>\n",
              "      <td>-0.003198</td>\n",
              "      <td>-0.014290</td>\n",
              "      <td>-0.018733</td>\n",
              "      <td>0.011573</td>\n",
              "      <td>-0.002658</td>\n",
              "      <td>0.049191</td>\n",
              "      <td>0.011105</td>\n",
              "      <td>0.052557</td>\n",
              "      <td>-0.022118</td>\n",
              "      <td>0.000516</td>\n",
              "      <td>-0.057766</td>\n",
              "      <td>-0.056399</td>\n",
              "      <td>0.002794</td>\n",
              "      <td>0.006992</td>\n",
              "      <td>0.030501</td>\n",
              "      <td>-0.055875</td>\n",
              "      <td>0</td>\n",
              "      <td>0</td>\n",
              "      <td>0</td>\n",
              "      <td>0</td>\n",
              "      <td>0</td>\n",
              "      <td>1</td>\n",
              "      <td>0</td>\n",
              "      <td>0</td>\n",
              "      <td>0</td>\n",
              "      <td>0</td>\n",
              "    </tr>\n",
              "    <tr>\n",
              "      <th>2</th>\n",
              "      <td>3</td>\n",
              "      <td>abstract the infectivity of vesicular stomatit...</td>\n",
              "      <td>-0.095019</td>\n",
              "      <td>-0.032279</td>\n",
              "      <td>0.017571</td>\n",
              "      <td>-0.065860</td>\n",
              "      <td>0.001315</td>\n",
              "      <td>0.048199</td>\n",
              "      <td>-0.031072</td>\n",
              "      <td>0.010103</td>\n",
              "      <td>-0.013713</td>\n",
              "      <td>0.001040</td>\n",
              "      <td>0.021717</td>\n",
              "      <td>0.016886</td>\n",
              "      <td>0.004329</td>\n",
              "      <td>-0.002652</td>\n",
              "      <td>-0.001542</td>\n",
              "      <td>0.024925</td>\n",
              "      <td>0.024249</td>\n",
              "      <td>0.028607</td>\n",
              "      <td>0.040228</td>\n",
              "      <td>-0.006718</td>\n",
              "      <td>0.026309</td>\n",
              "      <td>0.031643</td>\n",
              "      <td>-0.024822</td>\n",
              "      <td>0.000128</td>\n",
              "      <td>-0.030027</td>\n",
              "      <td>-0.008914</td>\n",
              "      <td>0.017452</td>\n",
              "      <td>-0.005019</td>\n",
              "      <td>0.038202</td>\n",
              "      <td>-0.017136</td>\n",
              "      <td>0</td>\n",
              "      <td>0</td>\n",
              "      <td>0</td>\n",
              "      <td>0</td>\n",
              "      <td>0</td>\n",
              "      <td>1</td>\n",
              "      <td>0</td>\n",
              "      <td>0</td>\n",
              "      <td>0</td>\n",
              "      <td>0</td>\n",
              "    </tr>\n",
              "    <tr>\n",
              "      <th>3</th>\n",
              "      <td>4</td>\n",
              "      <td>abstract two temporally and enzymatically dist...</td>\n",
              "      <td>-0.134657</td>\n",
              "      <td>-0.086097</td>\n",
              "      <td>0.026415</td>\n",
              "      <td>-0.027553</td>\n",
              "      <td>-0.020280</td>\n",
              "      <td>-0.044637</td>\n",
              "      <td>-0.013312</td>\n",
              "      <td>-0.033345</td>\n",
              "      <td>0.019789</td>\n",
              "      <td>-0.011843</td>\n",
              "      <td>0.000766</td>\n",
              "      <td>-0.065593</td>\n",
              "      <td>0.044022</td>\n",
              "      <td>0.041427</td>\n",
              "      <td>-0.012988</td>\n",
              "      <td>-0.024744</td>\n",
              "      <td>0.001398</td>\n",
              "      <td>-0.008859</td>\n",
              "      <td>0.049476</td>\n",
              "      <td>0.022184</td>\n",
              "      <td>0.027098</td>\n",
              "      <td>0.048639</td>\n",
              "      <td>0.027083</td>\n",
              "      <td>0.030807</td>\n",
              "      <td>-0.037008</td>\n",
              "      <td>-0.012100</td>\n",
              "      <td>0.005392</td>\n",
              "      <td>0.031274</td>\n",
              "      <td>0.015159</td>\n",
              "      <td>-0.002906</td>\n",
              "      <td>0</td>\n",
              "      <td>0</td>\n",
              "      <td>0</td>\n",
              "      <td>0</td>\n",
              "      <td>0</td>\n",
              "      <td>0</td>\n",
              "      <td>1</td>\n",
              "      <td>0</td>\n",
              "      <td>0</td>\n",
              "      <td>0</td>\n",
              "    </tr>\n",
              "    <tr>\n",
              "      <th>4</th>\n",
              "      <td>5</td>\n",
              "      <td>abstract rnadependent rna polymerase rdrp acti...</td>\n",
              "      <td>-0.222713</td>\n",
              "      <td>-0.100353</td>\n",
              "      <td>0.107456</td>\n",
              "      <td>-0.079828</td>\n",
              "      <td>0.030818</td>\n",
              "      <td>-0.091040</td>\n",
              "      <td>-0.014809</td>\n",
              "      <td>0.012756</td>\n",
              "      <td>0.103606</td>\n",
              "      <td>-0.037955</td>\n",
              "      <td>0.120691</td>\n",
              "      <td>-0.111518</td>\n",
              "      <td>-0.044743</td>\n",
              "      <td>-0.011959</td>\n",
              "      <td>-0.057495</td>\n",
              "      <td>0.113481</td>\n",
              "      <td>-0.092513</td>\n",
              "      <td>-0.028506</td>\n",
              "      <td>0.034632</td>\n",
              "      <td>0.052612</td>\n",
              "      <td>0.086049</td>\n",
              "      <td>-0.042678</td>\n",
              "      <td>-0.004993</td>\n",
              "      <td>-0.009535</td>\n",
              "      <td>0.008584</td>\n",
              "      <td>-0.041467</td>\n",
              "      <td>0.095225</td>\n",
              "      <td>-0.065667</td>\n",
              "      <td>0.060550</td>\n",
              "      <td>-0.006368</td>\n",
              "      <td>0</td>\n",
              "      <td>0</td>\n",
              "      <td>0</td>\n",
              "      <td>0</td>\n",
              "      <td>0</td>\n",
              "      <td>0</td>\n",
              "      <td>1</td>\n",
              "      <td>0</td>\n",
              "      <td>0</td>\n",
              "      <td>0</td>\n",
              "    </tr>\n",
              "  </tbody>\n",
              "</table>\n",
              "</div>"
            ],
            "text/plain": [
              "   index                                                ABS  ...  G9  G10\n",
              "0      1  abstract astrocytes produce granulocytemacroph...  ...   0    0\n",
              "1      2  abstract replication of avian infectious bronc...  ...   0    0\n",
              "2      3  abstract the infectivity of vesicular stomatit...  ...   0    0\n",
              "3      4  abstract two temporally and enzymatically dist...  ...   0    0\n",
              "4      5  abstract rnadependent rna polymerase rdrp acti...  ...   0    0\n",
              "\n",
              "[5 rows x 42 columns]"
            ]
          },
          "metadata": {
            "tags": []
          },
          "execution_count": 149
        }
      ]
    },
    {
      "cell_type": "code",
      "metadata": {
        "id": "OQEMVYLuuWj9",
        "colab_type": "code",
        "outputId": "01e837d5-296a-4b5f-8618-f383e8bdfeb8",
        "colab": {
          "base_uri": "https://localhost:8080/",
          "height": 35
        }
      },
      "source": [
        "df.shape \n",
        "# some problem, could not drop duplicates due to same content has different sha number df2=df1.drop_duplicates(keep='last')\n",
        "# but it seems we drop duplicates in previous steps."
      ],
      "execution_count": 0,
      "outputs": [
        {
          "output_type": "execute_result",
          "data": {
            "text/plain": [
              "(1941, 42)"
            ]
          },
          "metadata": {
            "tags": []
          },
          "execution_count": 150
        }
      ]
    },
    {
      "cell_type": "code",
      "metadata": {
        "id": "G3DaEliFuWkV",
        "colab_type": "code",
        "outputId": "a6c49632-847c-44f5-eb3c-866f4ef69b6a",
        "colab": {
          "base_uri": "https://localhost:8080/",
          "height": 807
        }
      },
      "source": [
        "df.isnull().sum()"
      ],
      "execution_count": 0,
      "outputs": [
        {
          "output_type": "execute_result",
          "data": {
            "text/plain": [
              "index    0\n",
              "ABS      0\n",
              "0        0\n",
              "1        0\n",
              "2        0\n",
              "3        0\n",
              "4        0\n",
              "5        0\n",
              "6        0\n",
              "7        0\n",
              "8        0\n",
              "9        0\n",
              "10       0\n",
              "11       0\n",
              "12       0\n",
              "13       0\n",
              "14       0\n",
              "15       0\n",
              "16       0\n",
              "17       0\n",
              "18       0\n",
              "19       0\n",
              "20       0\n",
              "21       0\n",
              "22       0\n",
              "23       0\n",
              "24       0\n",
              "25       0\n",
              "26       0\n",
              "27       0\n",
              "28       0\n",
              "29       0\n",
              "G1       0\n",
              "G2       0\n",
              "G3       0\n",
              "G4       0\n",
              "G5       0\n",
              "G6       0\n",
              "G7       0\n",
              "G8       0\n",
              "G9       0\n",
              "G10      0\n",
              "dtype: int64"
            ]
          },
          "metadata": {
            "tags": []
          },
          "execution_count": 151
        }
      ]
    },
    {
      "cell_type": "code",
      "metadata": {
        "id": "cV0om9yfuWl1",
        "colab_type": "code",
        "colab": {}
      },
      "source": [
        "data1 = np.array(df.ABS.drop_duplicates(keep='last'))\n",
        "data1"
      ],
      "execution_count": 0,
      "outputs": []
    },
    {
      "cell_type": "code",
      "metadata": {
        "id": "uPZM08KZuWmB",
        "colab_type": "code",
        "outputId": "3492d4be-ea12-49c9-c619-008778740acb",
        "colab": {
          "base_uri": "https://localhost:8080/",
          "height": 35
        }
      },
      "source": [
        "data1.shape"
      ],
      "execution_count": 0,
      "outputs": [
        {
          "output_type": "execute_result",
          "data": {
            "text/plain": [
              "(1941,)"
            ]
          },
          "metadata": {
            "tags": []
          },
          "execution_count": 153
        }
      ]
    },
    {
      "cell_type": "code",
      "metadata": {
        "id": "JoPsNNx0uWmO",
        "colab_type": "code",
        "colab": {}
      },
      "source": [
        "data1list=data1.tolist()\n"
      ],
      "execution_count": 0,
      "outputs": []
    },
    {
      "cell_type": "code",
      "metadata": {
        "id": "kH-IZ2bDuWmX",
        "colab_type": "code",
        "outputId": "7617f632-fd03-41ae-a859-c0c38eff0d80",
        "colab": {
          "base_uri": "https://localhost:8080/",
          "height": 35
        }
      },
      "source": [
        "type(data1list)"
      ],
      "execution_count": 0,
      "outputs": [
        {
          "output_type": "execute_result",
          "data": {
            "text/plain": [
              "list"
            ]
          },
          "metadata": {
            "tags": []
          },
          "execution_count": 155
        }
      ]
    },
    {
      "cell_type": "code",
      "metadata": {
        "id": "X8184M2XuWmj",
        "colab_type": "code",
        "colab": {}
      },
      "source": [
        "# data1list.dropna(inplace=True)\n",
        "\n",
        "# AttributeError: 'list' object has no attribute 'dropna'\n"
      ],
      "execution_count": 0,
      "outputs": []
    },
    {
      "cell_type": "code",
      "metadata": {
        "id": "g_jy_eOkuWmt",
        "colab_type": "code",
        "colab": {}
      },
      "source": [
        "data1list"
      ],
      "execution_count": 0,
      "outputs": []
    },
    {
      "cell_type": "code",
      "metadata": {
        "id": "O6WTgAv3uWm8",
        "colab_type": "code",
        "colab": {}
      },
      "source": [
        "# datatestlist=['a dosedependent manner as assessed by bioassay and the detection of IL6 mRNA by reverse transcriptasepolymerase chain reaction RTPCR analysis GMCSF did not induce tumor necrosis factor TNFa or IL1 in',\n",
        "#  'in the presence of amanitin in Chinese hamster ovary cells which possess a drugresistant RNA polymerase II These findings indicate that avian infectious bronchitis virus requires the intact cell nucleus and',\n",
        "#  'of all five virion proteins particularly the reduced disulfides of the L protein The RNA polymerase activity of intact VSV was inhibited by iodoacetic acid and to a greater extent by']"
      ],
      "execution_count": 0,
      "outputs": []
    },
    {
      "cell_type": "code",
      "metadata": {
        "id": "qJVD29OWuWnE",
        "colab_type": "code",
        "colab": {}
      },
      "source": [
        "# datatestlist"
      ],
      "execution_count": 0,
      "outputs": []
    },
    {
      "cell_type": "code",
      "metadata": {
        "id": "YabVRsVyuWnM",
        "colab_type": "code",
        "colab": {}
      },
      "source": [
        "import tensorflow as tf\n",
        "import tensorflow_hub as hub\n"
      ],
      "execution_count": 0,
      "outputs": []
    },
    {
      "cell_type": "code",
      "metadata": {
        "id": "o-QQ64ipuWnT",
        "colab_type": "code",
        "colab": {}
      },
      "source": [
        "#Universal Sentence Encoder family\n",
        "\n",
        "# embed = hub.load(\"https://tfhub.dev/google/universal-sentence-encoder/3\") #this step takes long on local, fast on cloud. worked well\n",
        "\n",
        "\n",
        "# embed = hub.load(\"https://tfhub.dev/google/universal-sentence-encoder-large/5\") # took some time even on cloud about 1-2 min, got ResourceExhaustedError at next step\n",
        "#The universal-sentence-encoder-large model is trained with a Transformer encoder. try to run on cloud but got got ResourceExhaustedError# \n",
        "\n",
        "\n",
        "#embed = hub.load(\"https://tfhub.dev/google/universal-sentence-encoder-large/3?tf-hub-format=compressed\") #try compressed large, got TypeError: 'AutoTrackable' object is not callable\n",
        "\n",
        "embed = hub.load(\"https://tfhub.dev/google/universal-sentence-encoder-qa/3\") # ResourceExhaustedError  \n",
        "\n",
        "# # # ResourceExhaustedError  "
      ],
      "execution_count": 0,
      "outputs": []
    },
    {
      "cell_type": "code",
      "metadata": {
        "id": "9qrYtsIfuWnh",
        "colab_type": "code",
        "colab": {}
      },
      "source": [
        "embeddings = embed(data1list)[\"outputs\"]\n",
        "\n",
        "print(embeddings)"
      ],
      "execution_count": 0,
      "outputs": []
    },
    {
      "cell_type": "code",
      "metadata": {
        "id": "aJvxCwNAuWns",
        "colab_type": "code",
        "outputId": "6f859b8a-0dd5-4979-ffc4-ab535e82b80b",
        "colab": {
          "base_uri": "https://localhost:8080/",
          "height": 35
        }
      },
      "source": [
        "embeddings.shape"
      ],
      "execution_count": 0,
      "outputs": [
        {
          "output_type": "execute_result",
          "data": {
            "text/plain": [
              "TensorShape([1941, 512])"
            ]
          },
          "metadata": {
            "tags": []
          },
          "execution_count": 162
        }
      ]
    },
    {
      "cell_type": "code",
      "metadata": {
        "id": "HIyhVN6NfEqa",
        "colab_type": "code",
        "outputId": "cbb9100d-6675-4c03-fb43-6671953bb491",
        "colab": {
          "base_uri": "https://localhost:8080/",
          "height": 256
        }
      },
      "source": [
        "NParray1941papers512vector=np.array(embeddings)\n",
        "NParray1941papers512vector"
      ],
      "execution_count": 0,
      "outputs": [
        {
          "output_type": "execute_result",
          "data": {
            "text/plain": [
              "array([[ 0.02409273,  0.00333242,  0.02617532, ..., -0.05257906,\n",
              "        -0.02694646, -0.06477401],\n",
              "       [ 0.00073825,  0.02878782,  0.00838283, ..., -0.05337691,\n",
              "        -0.03477787,  0.00727509],\n",
              "       [-0.02900795,  0.03677291,  0.01629622, ..., -0.04934354,\n",
              "        -0.0058875 , -0.03237623],\n",
              "       ...,\n",
              "       [-0.0604236 , -0.0001342 , -0.05867178, ..., -0.05803579,\n",
              "        -0.06144453, -0.05860412],\n",
              "       [-0.01348855,  0.04927895, -0.05944376, ..., -0.03317846,\n",
              "        -0.04884242, -0.04074993],\n",
              "       [ 0.01909224,  0.0124238 , -0.0579484 , ..., -0.0470332 ,\n",
              "        -0.00612294, -0.06096034]], dtype=float32)"
            ]
          },
          "metadata": {
            "tags": []
          },
          "execution_count": 163
        }
      ]
    },
    {
      "cell_type": "code",
      "metadata": {
        "id": "1rcBw-iWgp0i",
        "colab_type": "code",
        "outputId": "d0b68d89-6128-4336-b966-9d3fa8d56f1b",
        "colab": {
          "base_uri": "https://localhost:8080/",
          "height": 1000
        }
      },
      "source": [
        "NParray1941papers512vector[0]"
      ],
      "execution_count": 0,
      "outputs": [
        {
          "output_type": "execute_result",
          "data": {
            "text/plain": [
              "array([ 0.02409273,  0.00333242,  0.02617532, -0.05642438,  0.06698681,\n",
              "        0.06434409, -0.01563033, -0.0650824 ,  0.06350502,  0.05623564,\n",
              "        0.06831057, -0.04124111,  0.02260143,  0.02196286, -0.00081022,\n",
              "       -0.06784237, -0.06504352, -0.04427297,  0.03884536,  0.02333702,\n",
              "        0.04578838, -0.04443114, -0.05849654, -0.01590162,  0.02861416,\n",
              "        0.06099916, -0.04841137, -0.00332013, -0.01440635,  0.06032176,\n",
              "        0.0608208 ,  0.06509712,  0.03341629, -0.0598122 ,  0.02403202,\n",
              "       -0.01470865, -0.06134612, -0.03351074, -0.03065762, -0.06144067,\n",
              "        0.04884221,  0.03052049,  0.05471962, -0.06428806, -0.00765103,\n",
              "        0.0507318 , -0.0644527 , -0.04161062, -0.01791507,  0.04753461,\n",
              "        0.00709735, -0.00070491, -0.06732775, -0.05811542, -0.02782338,\n",
              "       -0.06196564, -0.05078926,  0.03742876,  0.04106392, -0.04783525,\n",
              "        0.03991013,  0.03794602,  0.0526868 , -0.05226299, -0.06610987,\n",
              "       -0.06487995,  0.00883707,  0.03881599, -0.01578001,  0.02735778,\n",
              "        0.06309912,  0.04074473, -0.0218397 ,  0.04958028, -0.0320254 ,\n",
              "       -0.01705264,  0.03282939,  0.04264361, -0.03559693,  0.02940595,\n",
              "       -0.04574798,  0.06417295,  0.04490738, -0.05303061,  0.03026624,\n",
              "        0.06670145,  0.00081486,  0.0100416 , -0.02158241,  0.03542517,\n",
              "        0.03368625, -0.05408719, -0.02111595, -0.04425286,  0.03221617,\n",
              "        0.06285004,  0.053252  ,  0.05073456,  0.0683637 , -0.02577125,\n",
              "       -0.05079719,  0.00482144,  0.00821924,  0.05078222,  0.0485826 ,\n",
              "       -0.04861598, -0.00182989, -0.02954311,  0.06148293,  0.01822479,\n",
              "       -0.04141458, -0.05177892, -0.01654891,  0.04621843,  0.03339487,\n",
              "       -0.04319627, -0.06231159,  0.03101105,  0.05051786, -0.01600509,\n",
              "       -0.06106282,  0.04887191,  0.04503356, -0.04519942,  0.03101208,\n",
              "       -0.00059718, -0.01097069, -0.05630786,  0.03364783, -0.01483057,\n",
              "       -0.03453678,  0.06853168,  0.06375334, -0.0499155 , -0.03148142,\n",
              "       -0.05909782,  0.03834466,  0.05811631, -0.01228297,  0.00810039,\n",
              "        0.05263988,  0.06854194, -0.05752687, -0.03980653,  0.05338251,\n",
              "       -0.03782659,  0.00252193, -0.06433176,  0.05218638, -0.03950808,\n",
              "        0.03917126, -0.06747194, -0.06411549, -0.03532976,  0.06839577,\n",
              "        0.06164944, -0.03391041,  0.04643075,  0.03086442, -0.00047691,\n",
              "        0.02185867,  0.01386103, -0.01011455,  0.02560573, -0.05106391,\n",
              "       -0.02461081, -0.04215434, -0.05035881, -0.04866624,  0.03502079,\n",
              "       -0.02860221, -0.05947089,  0.00197354, -0.01194896, -0.03084433,\n",
              "       -0.05255881,  0.05432472, -0.06084209,  0.05601957, -0.04985861,\n",
              "       -0.00852387, -0.04647848, -0.05293604, -0.01557132,  0.06294993,\n",
              "       -0.03958007, -0.00351511,  0.01199543,  0.05976453, -0.02222196,\n",
              "        0.06588017,  0.02562413, -0.05850925,  0.02941055,  0.06125896,\n",
              "       -0.06053531,  0.05961915, -0.03239203,  0.05826652, -0.03825705,\n",
              "       -0.03766457,  0.01039866,  0.01101241,  0.06180733, -0.00299053,\n",
              "        0.03948997, -0.02458748,  0.04067229, -0.0320738 ,  0.06793755,\n",
              "        0.01595002,  0.06206411, -0.01342211,  0.06598914, -0.06789996,\n",
              "       -0.05226943,  0.01670887, -0.02063091, -0.04098539, -0.03097823,\n",
              "        0.00325738, -0.05242646, -0.03946957, -0.04930498,  0.0298333 ,\n",
              "       -0.03601249, -0.06298625, -0.06637741, -0.02702478,  0.05063062,\n",
              "       -0.04507954,  0.0649088 ,  0.01907483, -0.06853502,  0.06720455,\n",
              "        0.02901513, -0.01114197, -0.01238497, -0.03369393,  0.05098297,\n",
              "        0.03863766,  0.01993054, -0.04442112, -0.03718654,  0.05039538,\n",
              "       -0.00058544, -0.03664564, -0.00810219,  0.05324313, -0.03023379,\n",
              "       -0.05825006,  0.04027602, -0.03764737, -0.03754517,  0.06312859,\n",
              "        0.01069962,  0.00238879,  0.06854199, -0.04108462, -0.01175126,\n",
              "       -0.00991887, -0.05249974, -0.04588024,  0.04362781,  0.0308951 ,\n",
              "        0.01978597, -0.04397286,  0.04142698,  0.03744649,  0.03586041,\n",
              "        0.05388369,  0.06356073,  0.06186772,  0.0328697 , -0.03919078,\n",
              "       -0.03777365, -0.04837515, -0.00695708,  0.0591572 , -0.06185652,\n",
              "       -0.06734653, -0.00114191, -0.05022072,  0.02707571, -0.01850245,\n",
              "       -0.05173544,  0.04567465,  0.06237341,  0.02937493,  0.06383325,\n",
              "        0.06846202, -0.00718397,  0.06325821, -0.00870727, -0.03182395,\n",
              "       -0.06651884, -0.0389832 ,  0.04122636, -0.05420712,  0.0626193 ,\n",
              "       -0.05857177,  0.03027656,  0.04194718, -0.03134809,  0.04196524,\n",
              "        0.03709549, -0.0092281 ,  0.01287778,  0.06498507, -0.0544026 ,\n",
              "       -0.01915136, -0.05580048,  0.05095795, -0.06360244,  0.04795545,\n",
              "       -0.00437975, -0.02540993,  0.00186647, -0.01327315, -0.05400717,\n",
              "       -0.05814459,  0.00396485,  0.02226797, -0.04241199,  0.02043614,\n",
              "       -0.01541575, -0.00547454, -0.04678036, -0.00632181, -0.05459504,\n",
              "       -0.03138304, -0.02119633, -0.00258206,  0.06842791,  0.05603104,\n",
              "        0.03961774,  0.00095638, -0.02935098,  0.04699071, -0.06136459,\n",
              "        0.03039412,  0.05423994,  0.04603327,  0.05862367, -0.06851368,\n",
              "       -0.06418758, -0.01771374,  0.05530155,  0.02608357, -0.01830699,\n",
              "       -0.02060126,  0.04808887,  0.02398858, -0.04689541, -0.01181849,\n",
              "        0.00154513, -0.06852124, -0.01644944, -0.05724348, -0.05997483,\n",
              "        0.05707508, -0.05388518, -0.04619112, -0.02514801,  0.02674841,\n",
              "       -0.03204533,  0.06670999,  0.06499039,  0.02357195,  0.04515966,\n",
              "       -0.02860358, -0.02990916,  0.0475115 , -0.06850008,  0.06236593,\n",
              "        0.06151295,  0.06298219, -0.03064118,  0.05055684, -0.06311654,\n",
              "       -0.06524569, -0.02550302,  0.04003523, -0.01024119,  0.06628954,\n",
              "       -0.06700667, -0.06227676,  0.03359386,  0.05954937, -0.06122269,\n",
              "       -0.00426504,  0.02631255,  0.05939922, -0.02933729, -0.00319122,\n",
              "        0.01513693,  0.01646057, -0.04547287,  0.05711208, -0.02746212,\n",
              "        0.05381494, -0.06676383, -0.00850267, -0.0040389 ,  0.05040038,\n",
              "       -0.0452126 ,  0.021155  , -0.04241877,  0.0146568 ,  0.04954615,\n",
              "       -0.05755247, -0.03871093, -0.00987118, -0.05706209,  0.05208207,\n",
              "        0.03780837, -0.05213137,  0.00767473,  0.05821388,  0.01620857,\n",
              "        0.04301925,  0.04906937,  0.02778774, -0.05235761, -0.02870781,\n",
              "       -0.06818002, -0.00456095,  0.06580347,  0.03117965, -0.05849975,\n",
              "       -0.03020309, -0.06221162, -0.06173011,  0.03161517, -0.05266326,\n",
              "        0.00808269,  0.02118266,  0.00149438, -0.00737054,  0.06642456,\n",
              "       -0.05914153, -0.01026104, -0.03238   ,  0.06693374, -0.01356585,\n",
              "       -0.05181444, -0.05517957, -0.02033879, -0.0055135 , -0.03191938,\n",
              "       -0.04772452, -0.05156502, -0.06181259,  0.02254939, -0.03341617,\n",
              "       -0.06217804, -0.0681774 ,  0.06694295, -0.05829076,  0.04158071,\n",
              "       -0.00511361,  0.02523789, -0.02920155, -0.05999577, -0.03775571,\n",
              "       -0.05186484, -0.06592473, -0.0037497 , -0.05140647, -0.04809532,\n",
              "       -0.02259326, -0.01244347, -0.03950764, -0.03713476, -0.02952386,\n",
              "        0.06626078, -0.00487494, -0.0327269 , -0.04463246, -0.04282854,\n",
              "        0.04863729,  0.06138993, -0.03327554, -0.06770139, -0.02513156,\n",
              "        0.0636263 ,  0.02734793, -0.05680931, -0.03032161, -0.00884251,\n",
              "       -0.0376708 ,  0.03071366,  0.00338969,  0.02526952,  0.01384937,\n",
              "        0.05920333, -0.05297308, -0.05747788, -0.0199778 , -0.04852076,\n",
              "        0.03147569, -0.06303068, -0.03033316, -0.06854181,  0.0041435 ,\n",
              "       -0.06853323, -0.04769342, -0.04520309,  0.03843392, -0.05257906,\n",
              "       -0.02694646, -0.06477401], dtype=float32)"
            ]
          },
          "metadata": {
            "tags": []
          },
          "execution_count": 164
        }
      ]
    },
    {
      "cell_type": "code",
      "metadata": {
        "id": "WSlsGbGfwEES",
        "colab_type": "code",
        "colab": {}
      },
      "source": [
        "DF1941papers512vector=pd.DataFrame(np.array(embeddings))\n",
        "DF1941papers512vector"
      ],
      "execution_count": 0,
      "outputs": []
    },
    {
      "cell_type": "code",
      "metadata": {
        "id": "WxAjms-hfRcc",
        "colab_type": "code",
        "colab": {}
      },
      "source": [
        ""
      ],
      "execution_count": 0,
      "outputs": []
    },
    {
      "cell_type": "code",
      "metadata": {
        "id": "Ti3BIVQUxePb",
        "colab_type": "code",
        "colab": {}
      },
      "source": [
        "DF1941papers512vector.to_csv(data_path+\"POLYMERASEabstractUni_Sent_Encod_vectors.csv\", sep=',',index=False)\n"
      ],
      "execution_count": 0,
      "outputs": []
    },
    {
      "cell_type": "code",
      "metadata": {
        "id": "jibd7oqlfzB8",
        "colab_type": "code",
        "colab": {}
      },
      "source": [
        "testAbstract1=[\"background enterovirus 71 ev71 is one of the major causative agents of hand foot and mouth disease hfmd which is sometimes associated with severe central nervous system disease in children there is currently no specific medication for ev71 infection quercetin one of the most widely distributed flavonoids in plants has been demonstrated to inhibit various viral infections however investigation of the antiev71 mechanism has not been reported to date methods the antiev71 activity of quercetin was evaluated by phenotype screening determining the cytopathic effect cpe and ev71induced cells apoptosis the effects on ev71 replication were evaluated further by determining virus yield viral rna synthesis and protein expression respectively the mechanism of action against ev71 was determined from the effective stage and timeofaddition assays the possible inhibitory functions of quercetin via viral 2apro 3cpro or 3dpol were tested the interaction between ev71 3cpro and quercetin was predicted and calculated by molecular docking results quercetin inhibited ev71mediated cytopathogenic effects reduced ev71 progeny yields and prevented ev71induced apoptosis with low cytotoxicity investigation of the underlying mechanism of action revealed that quercetin exhibited a preventive effect against ev71 infection and inhibited viral adsorption moreover quercetin mediated its powerful therapeutic effects primarily by blocking the early postattachment stage of viral infection further experiments demonstrated that quercetin potently inhibited the activity of the ev71 protease 3cpro blocking viral replication but not the activity of the protease 2apro or the rna polymerase 3dpol modeling of the molecular binding of the 3cproquercetin complex revealed that quercetin was predicted to insert into the substratebinding pocket of ev71 3cpro blocking substrate recognition and thereby inhibiting ev71 3cpro activity conclusions quercetin can effectively prevent ev71induced cell injury with low toxicity to host cells quercetin may act in more than one way to deter viral infection exhibiting some preventive and a powerful therapeutic effect against ev71 further quercetin potently inhibits ev71 3cpro activity thereby blocking ev71 replication\"]"
      ],
      "execution_count": 0,
      "outputs": []
    },
    {
      "cell_type": "code",
      "metadata": {
        "id": "oHBpsZz-haLy",
        "colab_type": "code",
        "colab": {}
      },
      "source": [
        "testAbstract2=[\"background to investigate the effects and immunological mechanisms of the traditional chinese medicine xinjiaxiangruyin on controlling influenza virus fm1 strain infection in mice housed in a hygrothermal environment methods mice were housed in normal and hygrothermal environments and intranasally infected with influenza virus fm1 a highperformance liquid chromatography fingerprint of xinjiaxiangruyin was used to provide an analytical method for quality control realtime quantitative polymerase chain reaction rtqpcr was used to measure messenger rna expression of tolllike receptor 7 tlr7 myeloid differentiation primary response 88 myd88 and nuclear factorkappa b nfb p65 in the tlr7 signaling pathway and virus replication in the lungs western blotting was used to measure the expression levels of tlr7 myd88 and nfb p65 proteins flow cytometry was used to detect the proportion of th17tregulatory cells results xinjiaxiangruyin effectively alleviated lung inflammation in c57bl6 mice in hot and humid environments guizhimahuanggebantang significantly reduced lung inflammation in c57bl6 mice the expression of tlr7 myd88 and nfb p65 mrna in lung tissue of wt mice in the normal environment gzmhgbt group was significantly lower than that in the model group p  005 in wt mice exposed to the hot and humid environment the expression levels of tlr7 myd88 and nfb p65 mrna in the xjxry group were significantly different from those in the virus group the expression levels of tlr7 myd88 and nfb p65 protein in lung tissue of wt mice exposed to the normal environment gzmhgbt group was significantly lower than those in the model group in wt mice exposed to hot and humid environments the expression levels of tlr7 myd88 and nfb p65 protein in xjxry group were significantly different from those in the virus group conclusion guizhimahuanggebantang demonstrated a satisfactory therapeutic effect on mice infected with the influenza a virus fm1 strain in a normal environment and xinjiaxiangruyin demonstrated a clear therapeutic effect in damp and hot environments and may play a protective role against influenza through downregulation of the tlr7 signal pathway\"]"
      ],
      "execution_count": 0,
      "outputs": []
    },
    {
      "cell_type": "code",
      "metadata": {
        "id": "aMDPYwSyeGHi",
        "colab_type": "code",
        "colab": {}
      },
      "source": [
        "Question1=['What are clinical effective therapeutics or drugs for COVID-19?']"
      ],
      "execution_count": 0,
      "outputs": []
    },
    {
      "cell_type": "code",
      "metadata": {
        "id": "9efEM3uDhwmR",
        "colab_type": "code",
        "colab": {}
      },
      "source": [
        "embeddingsT1 = embed(testAbstract1)[\"outputs\"]\n",
        "\n",
        "print(embeddingsT1)"
      ],
      "execution_count": 0,
      "outputs": []
    },
    {
      "cell_type": "code",
      "metadata": {
        "id": "1oU3iKntiATl",
        "colab_type": "code",
        "colab": {}
      },
      "source": [
        "embeddingsT2 = embed(testAbstract2)[\"outputs\"]\n",
        "\n",
        "print(embeddingsT2)\n",
        "\n"
      ],
      "execution_count": 0,
      "outputs": []
    },
    {
      "cell_type": "code",
      "metadata": {
        "id": "wailB_BHeLXH",
        "colab_type": "code",
        "colab": {}
      },
      "source": [
        "embeddingsQ1 = embed(Question1)[\"outputs\"]\n",
        "\n",
        "print(embeddingsT2)"
      ],
      "execution_count": 0,
      "outputs": []
    },
    {
      "cell_type": "code",
      "metadata": {
        "id": "gQt-YZBMicjM",
        "colab_type": "code",
        "colab": {}
      },
      "source": [
        "test1=np.array(embeddingsT1)\n",
        "test2=np.array(embeddingsT2)\n",
        "\n",
        "question1=np.array(embeddingsQ1)"
      ],
      "execution_count": 0,
      "outputs": []
    },
    {
      "cell_type": "code",
      "metadata": {
        "id": "wIh76Kn8izpa",
        "colab_type": "code",
        "colab": {}
      },
      "source": [
        "# from math import *\n",
        "# def dot_prod(x,y):\n",
        "    \n",
        "#     return np.sum(a*b for a,b in zip(x,y))\n",
        "# def vec_len(x):\n",
        "#     return np.sqrt(np.sum([a*a for a in x]))\n",
        "# def cos_sim(x,y): \n",
        "#     return dot_prod(x,y)/float(vec_len(x)*vec_len(y))"
      ],
      "execution_count": 0,
      "outputs": []
    },
    {
      "cell_type": "code",
      "metadata": {
        "id": "Y3aPWdQkjosk",
        "colab_type": "code",
        "colab": {}
      },
      "source": [
        "result = np.sum(NParray1941papers512vector*test1,axis=1)/(np.sqrt(np.sum(NParray1941papers512vector*NParray1941papers512vector,axis=1))*np.sqrt(np.sum(test1*test1)))"
      ],
      "execution_count": 0,
      "outputs": []
    },
    {
      "cell_type": "code",
      "metadata": {
        "id": "Ua47Ciu6sPck",
        "colab_type": "code",
        "colab": {}
      },
      "source": [
        "maxRows=result.argsort()[-5:][::-1]  #https://stackoverflow.com/questions/6910641/how-do-i-get-indices-of-n-maximum-values-in-a-numpy-array"
      ],
      "execution_count": 0,
      "outputs": []
    },
    {
      "cell_type": "code",
      "metadata": {
        "id": "h8ZCVF1pwLrR",
        "colab_type": "code",
        "outputId": "659b94b0-2f44-4662-aafb-54bfdeb152c1",
        "colab": {
          "base_uri": "https://localhost:8080/",
          "height": 35
        }
      },
      "source": [
        "maxRows"
      ],
      "execution_count": 0,
      "outputs": [
        {
          "output_type": "execute_result",
          "data": {
            "text/plain": [
              "array([ 984, 1499, 1937, 1064,  663])"
            ]
          },
          "metadata": {
            "tags": []
          },
          "execution_count": 177
        }
      ]
    },
    {
      "cell_type": "code",
      "metadata": {
        "id": "rSlO85J_uzFQ",
        "colab_type": "code",
        "outputId": "25dcdd27-3ec9-4c8c-cb1b-73e516b789a8",
        "colab": {
          "base_uri": "https://localhost:8080/",
          "height": 54
        }
      },
      "source": [
        "result[result.argsort()[-5:][::-1]]"
      ],
      "execution_count": 0,
      "outputs": [
        {
          "output_type": "execute_result",
          "data": {
            "text/plain": [
              "array([1.0000001 , 0.82702947, 0.7755653 , 0.7716375 , 0.7676146 ],\n",
              "      dtype=float32)"
            ]
          },
          "metadata": {
            "tags": []
          },
          "execution_count": 178
        }
      ]
    },
    {
      "cell_type": "code",
      "metadata": {
        "id": "sFVO-yE4vSmB",
        "colab_type": "code",
        "outputId": "4ef0791a-decf-427b-9dd3-c644440f9024",
        "colab": {
          "base_uri": "https://localhost:8080/",
          "height": 127
        }
      },
      "source": [
        "print(df.ABS.iloc[maxRows])"
      ],
      "execution_count": 0,
      "outputs": [
        {
          "output_type": "stream",
          "text": [
            "984     background enterovirus 71 ev71 is one of the m...\n",
            "1499    the ubiquitinproteasome system has been shown ...\n",
            "1937    therapeutic targeting of host cell factors req...\n",
            "1064    epidemic and pandemic influenza a virus iav po...\n",
            "663     background protein ubiquitination andor degrad...\n",
            "Name: ABS, dtype: object\n"
          ],
          "name": "stdout"
        }
      ]
    },
    {
      "cell_type": "code",
      "metadata": {
        "id": "yTzPd2tm5sL_",
        "colab_type": "code",
        "colab": {}
      },
      "source": [
        "import textwrap"
      ],
      "execution_count": 0,
      "outputs": []
    },
    {
      "cell_type": "code",
      "metadata": {
        "id": "dfdy1QpGezlG",
        "colab_type": "code",
        "outputId": "76fcb596-8668-4aa9-d0fd-c36c6067bfc3",
        "colab": {
          "base_uri": "https://localhost:8080/",
          "height": 733
        }
      },
      "source": [
        "resultq1 = np.sum(NParray1941papers512vector*question1,axis=1)/(np.sqrt(np.sum(NParray1941papers512vector*NParray1941papers512vector,axis=1))*np.sqrt(np.sum(question1*question1)))\n",
        "maxRowsq1=resultq1.argsort()[-20:][::-1]  #https://stackoverflow.com/questions/6910641/how-do-i-get-indices-of-n-maximum-values-in-a-numpy-array\n",
        "print(\"The indexes for most similar papers are:\") \n",
        "print(maxRowsq1)\n",
        "print(\"\\n\")\n",
        "print(\"The cosine similarity for top 20 papers are:\") \n",
        "print(resultq1[resultq1.argsort()[-20:][::-1]])\n",
        "print(\"\\n\")\n",
        "print(\"For Question:\\n\")\n",
        "print(textwrap.fill(Question1[0],100))\n",
        "print(\"\\nWe found the top 20 most related papers as listed below:\\n\")\n",
        "print(df.ABS.iloc[maxRowsq1])"
      ],
      "execution_count": 0,
      "outputs": [
        {
          "output_type": "stream",
          "text": [
            "The indexes for most similar papers are:\n",
            "[ 644  818 1457 1145 1829   66 1774  496 1825  637   84  298 1403 1467\n",
            " 1263  436 1789  647 1273  217]\n",
            "\n",
            "\n",
            "The cosine similarity for top 20 papers are:\n",
            "[0.31485566 0.28105113 0.27972373 0.26491037 0.25267276 0.2485031\n",
            " 0.24528125 0.23647138 0.23592086 0.23354343 0.2223026  0.22137879\n",
            " 0.22077084 0.21867059 0.21549027 0.21536084 0.21522383 0.21099536\n",
            " 0.20463012 0.20306943]\n",
            "\n",
            "\n",
            "For Question:\n",
            "\n",
            "What are clinical effective therapeutics or drugs for COVID-19?\n",
            "\n",
            "We found the top 20 most related papers as listed below:\n",
            "\n",
            "644     ltpgtltbgtltbgt there is no specific drug that...\n",
            "818     limited data is available on feline leishmanio...\n",
            "1457    please cite this paper as wathen et al 2012 an...\n",
            "1145    background rapid molecular methods have create...\n",
            "1829    introduction the differentiation of viral from...\n",
            "66      abstract viruses are major pathogenic agents c...\n",
            "1774    abstractthe global spread of sarscov2 requires...\n",
            "496     in this study 26 blood samples were collected ...\n",
            "1825    abstract most viral diseases with the exceptio...\n",
            "637     background medicines for the treatment of 2019...\n",
            "84      abstract since the last handbook of clinical n...\n",
            "298     abstract zika fever a mosquitoborne infectious...\n",
            "1403    objective to examine whether results of a poly...\n",
            "1467    in recent months there has been a wealth of pr...\n",
            "1263    background effective therapeutics for respirat...\n",
            "436     abstract bovine respirovirus 3 also known as b...\n",
            "1789    up to 25 of patients with profound neutropenia...\n",
            "647     lets take inventory on the therapies that are ...\n",
            "1273    the incidence of hivrelated opportunistic infe...\n",
            "217     in an avian flu pandemic which drugs could be ...\n",
            "Name: ABS, dtype: object\n"
          ],
          "name": "stdout"
        }
      ]
    },
    {
      "cell_type": "code",
      "metadata": {
        "id": "Bmk5KQzpgeEM",
        "colab_type": "code",
        "colab": {}
      },
      "source": [
        "mostRelatedQ1=df.ABS.iloc[maxRowsq1]"
      ],
      "execution_count": 0,
      "outputs": []
    },
    {
      "cell_type": "code",
      "metadata": {
        "id": "y5haC-SXg9Zm",
        "colab_type": "code",
        "colab": {}
      },
      "source": [
        "DFmostRelatedQ1=pd.DataFrame(mostRelatedQ1)"
      ],
      "execution_count": 0,
      "outputs": []
    },
    {
      "cell_type": "code",
      "metadata": {
        "id": "8mIir7Lasrn5",
        "colab_type": "code",
        "outputId": "9af38d65-8a8b-40dc-87a9-db7673b5caaf",
        "colab": {
          "base_uri": "https://localhost:8080/",
          "height": 677
        }
      },
      "source": [
        "DFmostRelatedQ1"
      ],
      "execution_count": 0,
      "outputs": [
        {
          "output_type": "execute_result",
          "data": {
            "text/html": [
              "<div>\n",
              "<style scoped>\n",
              "    .dataframe tbody tr th:only-of-type {\n",
              "        vertical-align: middle;\n",
              "    }\n",
              "\n",
              "    .dataframe tbody tr th {\n",
              "        vertical-align: top;\n",
              "    }\n",
              "\n",
              "    .dataframe thead th {\n",
              "        text-align: right;\n",
              "    }\n",
              "</style>\n",
              "<table border=\"1\" class=\"dataframe\">\n",
              "  <thead>\n",
              "    <tr style=\"text-align: right;\">\n",
              "      <th></th>\n",
              "      <th>ABS</th>\n",
              "    </tr>\n",
              "  </thead>\n",
              "  <tbody>\n",
              "    <tr>\n",
              "      <th>644</th>\n",
              "      <td>ltpgtltbgtltbgt there is no specific drug that...</td>\n",
              "    </tr>\n",
              "    <tr>\n",
              "      <th>818</th>\n",
              "      <td>limited data is available on feline leishmanio...</td>\n",
              "    </tr>\n",
              "    <tr>\n",
              "      <th>1457</th>\n",
              "      <td>please cite this paper as wathen et al 2012 an...</td>\n",
              "    </tr>\n",
              "    <tr>\n",
              "      <th>1145</th>\n",
              "      <td>background rapid molecular methods have create...</td>\n",
              "    </tr>\n",
              "    <tr>\n",
              "      <th>1829</th>\n",
              "      <td>introduction the differentiation of viral from...</td>\n",
              "    </tr>\n",
              "    <tr>\n",
              "      <th>66</th>\n",
              "      <td>abstract viruses are major pathogenic agents c...</td>\n",
              "    </tr>\n",
              "    <tr>\n",
              "      <th>1774</th>\n",
              "      <td>abstractthe global spread of sarscov2 requires...</td>\n",
              "    </tr>\n",
              "    <tr>\n",
              "      <th>496</th>\n",
              "      <td>in this study 26 blood samples were collected ...</td>\n",
              "    </tr>\n",
              "    <tr>\n",
              "      <th>1825</th>\n",
              "      <td>abstract most viral diseases with the exceptio...</td>\n",
              "    </tr>\n",
              "    <tr>\n",
              "      <th>637</th>\n",
              "      <td>background medicines for the treatment of 2019...</td>\n",
              "    </tr>\n",
              "    <tr>\n",
              "      <th>84</th>\n",
              "      <td>abstract since the last handbook of clinical n...</td>\n",
              "    </tr>\n",
              "    <tr>\n",
              "      <th>298</th>\n",
              "      <td>abstract zika fever a mosquitoborne infectious...</td>\n",
              "    </tr>\n",
              "    <tr>\n",
              "      <th>1403</th>\n",
              "      <td>objective to examine whether results of a poly...</td>\n",
              "    </tr>\n",
              "    <tr>\n",
              "      <th>1467</th>\n",
              "      <td>in recent months there has been a wealth of pr...</td>\n",
              "    </tr>\n",
              "    <tr>\n",
              "      <th>1263</th>\n",
              "      <td>background effective therapeutics for respirat...</td>\n",
              "    </tr>\n",
              "    <tr>\n",
              "      <th>436</th>\n",
              "      <td>abstract bovine respirovirus 3 also known as b...</td>\n",
              "    </tr>\n",
              "    <tr>\n",
              "      <th>1789</th>\n",
              "      <td>up to 25 of patients with profound neutropenia...</td>\n",
              "    </tr>\n",
              "    <tr>\n",
              "      <th>647</th>\n",
              "      <td>lets take inventory on the therapies that are ...</td>\n",
              "    </tr>\n",
              "    <tr>\n",
              "      <th>1273</th>\n",
              "      <td>the incidence of hivrelated opportunistic infe...</td>\n",
              "    </tr>\n",
              "    <tr>\n",
              "      <th>217</th>\n",
              "      <td>in an avian flu pandemic which drugs could be ...</td>\n",
              "    </tr>\n",
              "  </tbody>\n",
              "</table>\n",
              "</div>"
            ],
            "text/plain": [
              "                                                    ABS\n",
              "644   ltpgtltbgtltbgt there is no specific drug that...\n",
              "818   limited data is available on feline leishmanio...\n",
              "1457  please cite this paper as wathen et al 2012 an...\n",
              "1145  background rapid molecular methods have create...\n",
              "1829  introduction the differentiation of viral from...\n",
              "66    abstract viruses are major pathogenic agents c...\n",
              "1774  abstractthe global spread of sarscov2 requires...\n",
              "496   in this study 26 blood samples were collected ...\n",
              "1825  abstract most viral diseases with the exceptio...\n",
              "637   background medicines for the treatment of 2019...\n",
              "84    abstract since the last handbook of clinical n...\n",
              "298   abstract zika fever a mosquitoborne infectious...\n",
              "1403  objective to examine whether results of a poly...\n",
              "1467  in recent months there has been a wealth of pr...\n",
              "1263  background effective therapeutics for respirat...\n",
              "436   abstract bovine respirovirus 3 also known as b...\n",
              "1789  up to 25 of patients with profound neutropenia...\n",
              "647   lets take inventory on the therapies that are ...\n",
              "1273  the incidence of hivrelated opportunistic infe...\n",
              "217   in an avian flu pandemic which drugs could be ..."
            ]
          },
          "metadata": {
            "tags": []
          },
          "execution_count": 184
        }
      ]
    },
    {
      "cell_type": "code",
      "metadata": {
        "id": "UKtLcomtgzNl",
        "colab_type": "code",
        "colab": {}
      },
      "source": [
        "#DFmostRelatedQ1.to_csv(data_path+\"mostRelatedQ1POLYMERASEabstract.csv\", sep=',',index=False)"
      ],
      "execution_count": 0,
      "outputs": []
    },
    {
      "cell_type": "code",
      "metadata": {
        "id": "ZRNABonmsyEP",
        "colab_type": "code",
        "colab": {}
      },
      "source": [
        "DFmostRelatedQ2=pd.read_csv(data_path+\"mostRelatedQ1.csv\")"
      ],
      "execution_count": 0,
      "outputs": []
    },
    {
      "cell_type": "code",
      "metadata": {
        "id": "Pi1r9HY8tX9v",
        "colab_type": "code",
        "outputId": "037a8e94-362e-4aff-96a0-3b390168915b",
        "colab": {
          "base_uri": "https://localhost:8080/",
          "height": 677
        }
      },
      "source": [
        "DFmostRelatedQ2"
      ],
      "execution_count": 0,
      "outputs": [
        {
          "output_type": "execute_result",
          "data": {
            "text/html": [
              "<div>\n",
              "<style scoped>\n",
              "    .dataframe tbody tr th:only-of-type {\n",
              "        vertical-align: middle;\n",
              "    }\n",
              "\n",
              "    .dataframe tbody tr th {\n",
              "        vertical-align: top;\n",
              "    }\n",
              "\n",
              "    .dataframe thead th {\n",
              "        text-align: right;\n",
              "    }\n",
              "</style>\n",
              "<table border=\"1\" class=\"dataframe\">\n",
              "  <thead>\n",
              "    <tr style=\"text-align: right;\">\n",
              "      <th></th>\n",
              "      <th>index</th>\n",
              "      <th>ABS</th>\n",
              "    </tr>\n",
              "  </thead>\n",
              "  <tbody>\n",
              "    <tr>\n",
              "      <th>0</th>\n",
              "      <td>0</td>\n",
              "      <td>ltpgtltbgtltbgt there is no specific drug that...</td>\n",
              "    </tr>\n",
              "    <tr>\n",
              "      <th>1</th>\n",
              "      <td>1</td>\n",
              "      <td>limited data is available on feline leishmanio...</td>\n",
              "    </tr>\n",
              "    <tr>\n",
              "      <th>2</th>\n",
              "      <td>2</td>\n",
              "      <td>please cite this paper as wathen et al 2012 an...</td>\n",
              "    </tr>\n",
              "    <tr>\n",
              "      <th>3</th>\n",
              "      <td>3</td>\n",
              "      <td>background rapid molecular methods have create...</td>\n",
              "    </tr>\n",
              "    <tr>\n",
              "      <th>4</th>\n",
              "      <td>4</td>\n",
              "      <td>introduction the differentiation of viral from...</td>\n",
              "    </tr>\n",
              "    <tr>\n",
              "      <th>5</th>\n",
              "      <td>5</td>\n",
              "      <td>abstract viruses are major pathogenic agents c...</td>\n",
              "    </tr>\n",
              "    <tr>\n",
              "      <th>6</th>\n",
              "      <td>6</td>\n",
              "      <td>abstractthe global spread of sarscov2 requires...</td>\n",
              "    </tr>\n",
              "    <tr>\n",
              "      <th>7</th>\n",
              "      <td>7</td>\n",
              "      <td>in this study 26 blood samples were collected ...</td>\n",
              "    </tr>\n",
              "    <tr>\n",
              "      <th>8</th>\n",
              "      <td>8</td>\n",
              "      <td>abstract most viral diseases with the exceptio...</td>\n",
              "    </tr>\n",
              "    <tr>\n",
              "      <th>9</th>\n",
              "      <td>9</td>\n",
              "      <td>background medicines for the treatment of 2019...</td>\n",
              "    </tr>\n",
              "    <tr>\n",
              "      <th>10</th>\n",
              "      <td>10</td>\n",
              "      <td>abstract since the last handbook of clinical n...</td>\n",
              "    </tr>\n",
              "    <tr>\n",
              "      <th>11</th>\n",
              "      <td>11</td>\n",
              "      <td>abstract zika fever a mosquitoborne infectious...</td>\n",
              "    </tr>\n",
              "    <tr>\n",
              "      <th>12</th>\n",
              "      <td>12</td>\n",
              "      <td>objective to examine whether results of a poly...</td>\n",
              "    </tr>\n",
              "    <tr>\n",
              "      <th>13</th>\n",
              "      <td>13</td>\n",
              "      <td>in recent months there has been a wealth of pr...</td>\n",
              "    </tr>\n",
              "    <tr>\n",
              "      <th>14</th>\n",
              "      <td>14</td>\n",
              "      <td>background effective therapeutics for respirat...</td>\n",
              "    </tr>\n",
              "    <tr>\n",
              "      <th>15</th>\n",
              "      <td>15</td>\n",
              "      <td>abstract bovine respirovirus 3 also known as b...</td>\n",
              "    </tr>\n",
              "    <tr>\n",
              "      <th>16</th>\n",
              "      <td>16</td>\n",
              "      <td>up to 25 of patients with profound neutropenia...</td>\n",
              "    </tr>\n",
              "    <tr>\n",
              "      <th>17</th>\n",
              "      <td>17</td>\n",
              "      <td>lets take inventory on the therapies that are ...</td>\n",
              "    </tr>\n",
              "    <tr>\n",
              "      <th>18</th>\n",
              "      <td>18</td>\n",
              "      <td>the incidence of hivrelated opportunistic infe...</td>\n",
              "    </tr>\n",
              "    <tr>\n",
              "      <th>19</th>\n",
              "      <td>19</td>\n",
              "      <td>in an avian flu pandemic which drugs could be ...</td>\n",
              "    </tr>\n",
              "  </tbody>\n",
              "</table>\n",
              "</div>"
            ],
            "text/plain": [
              "    index                                                ABS\n",
              "0       0  ltpgtltbgtltbgt there is no specific drug that...\n",
              "1       1  limited data is available on feline leishmanio...\n",
              "2       2  please cite this paper as wathen et al 2012 an...\n",
              "3       3  background rapid molecular methods have create...\n",
              "4       4  introduction the differentiation of viral from...\n",
              "5       5  abstract viruses are major pathogenic agents c...\n",
              "6       6  abstractthe global spread of sarscov2 requires...\n",
              "7       7  in this study 26 blood samples were collected ...\n",
              "8       8  abstract most viral diseases with the exceptio...\n",
              "9       9  background medicines for the treatment of 2019...\n",
              "10     10  abstract since the last handbook of clinical n...\n",
              "11     11  abstract zika fever a mosquitoborne infectious...\n",
              "12     12  objective to examine whether results of a poly...\n",
              "13     13  in recent months there has been a wealth of pr...\n",
              "14     14  background effective therapeutics for respirat...\n",
              "15     15  abstract bovine respirovirus 3 also known as b...\n",
              "16     16  up to 25 of patients with profound neutropenia...\n",
              "17     17  lets take inventory on the therapies that are ...\n",
              "18     18  the incidence of hivrelated opportunistic infe...\n",
              "19     19  in an avian flu pandemic which drugs could be ..."
            ]
          },
          "metadata": {
            "tags": []
          },
          "execution_count": 187
        }
      ]
    },
    {
      "cell_type": "code",
      "metadata": {
        "id": "gMc040hWhlox",
        "colab_type": "code",
        "colab": {}
      },
      "source": [
        "%%R \n",
        "extract_text_window <- function(dataframe, keyword, half_window_size) {\n",
        "  dataframe %>% \n",
        "    group_by(index) %>% \n",
        "    mutate(WORDS = ABS) %>% \n",
        "    separate_rows(WORDS, sep = \"[ \\n]+\") %>% \n",
        "    mutate(INDEX = seq(from = 1, to = n(), by = 1.0),\n",
        "           WINDOW_START = case_when(INDEX - half_window_size < 1 ~ 1,\n",
        "                                    TRUE ~ INDEX - half_window_size),\n",
        "           WINDOW_END = case_when(INDEX + half_window_size > max(INDEX) ~ max(INDEX),\n",
        "                                  TRUE ~ INDEX + half_window_size),\n",
        "           WINDOW = word(string = ABS, start = WINDOW_START, end = WINDOW_END, sep = \"[ \\n]+\")) %>% \n",
        "    ungroup() %>% \n",
        "    filter(str_detect(string = WORDS, pattern = regex(keyword, ignore_case = TRUE)))\n",
        "}"
      ],
      "execution_count": 0,
      "outputs": []
    },
    {
      "cell_type": "code",
      "metadata": {
        "colab_type": "code",
        "id": "8LPSIkL-jClM",
        "colab": {}
      },
      "source": [
        "# %%R \n",
        "# df2=read.csv(\"/content/drive/My Drive/Colab Notebooks/cord19/data/mostRelatedQ1POLYMERASEabstract.csv\", head = TRUE)"
      ],
      "execution_count": 0,
      "outputs": []
    },
    {
      "cell_type": "code",
      "metadata": {
        "id": "CvQnNLTLrfSY",
        "colab_type": "code",
        "colab": {}
      },
      "source": [
        "df2=DFmostRelatedQ2"
      ],
      "execution_count": 0,
      "outputs": []
    },
    {
      "cell_type": "code",
      "metadata": {
        "id": "6ietYFkhh_mM",
        "colab_type": "code",
        "outputId": "080dbf5d-3984-4e07-cd67-161ac9fad78a",
        "colab": {
          "base_uri": "https://localhost:8080/",
          "height": 146
        }
      },
      "source": [
        "%%R -i df2 -w 5 -h 5 --units in -r 200\n",
        "#therapeut\n",
        "tibble=df %>% \n",
        "  extract_text_window(keyword = \"therapeut\", half_window_size = 15)\n",
        "tibble\n",
        "\n",
        "#write.csv(tibble,'mostRelatedQ1Window.csv')"
      ],
      "execution_count": 0,
      "outputs": [
        {
          "output_type": "stream",
          "text": [
            "# A tibble: 4 x 7\n",
            "  index ABS               WORDS  INDEX WINDOW_START WINDOW_END WINDOW           \n",
            "  <int> <chr>             <chr>  <dbl>        <dbl>      <dbl> <chr>            \n",
            "1     0 ltpgtltbgtltbgt … thera…   204          189        208 inhibiting key t…\n",
            "2     6 abstractthe glob… thera…    13            1         28 abstractthe glob…\n",
            "3     6 abstractthe glob… thera…   287          272        293 parp1 inhibitor …\n",
            "4    14 background effec… thera…     3            1         18 background effec…\n"
          ],
          "name": "stdout"
        }
      ]
    },
    {
      "cell_type": "code",
      "metadata": {
        "id": "kVDwq7-MxM8J",
        "colab_type": "code",
        "outputId": "296fddd9-01e0-4d07-d23a-bc7cddcc8f68",
        "colab": {
          "base_uri": "https://localhost:8080/",
          "height": 899
        }
      },
      "source": [
        "result2 = np.sum(NParray1941papers512vector*test2,axis=1)/(np.sqrt(np.sum(NParray1941papers512vector*NParray1941papers512vector,axis=1))*np.sqrt(np.sum(test2*test2)))\n",
        "maxRows2=result2.argsort()[-10:][::-1]  #https://stackoverflow.com/questions/6910641/how-do-i-get-indices-of-n-maximum-values-in-a-numpy-array\n",
        "print(\"The indexes for most similar papers are:\") \n",
        "print(maxRows2)\n",
        "print(\"\\n\")\n",
        "print(\"The cosine similarity for top 5 papers are:\") \n",
        "print(result2[result2.argsort()[-10:][::-1]])\n",
        "print(\"\\n\")\n",
        "print(\"For Paper Abstract:\\n\")\n",
        "print(textwrap.fill(testAbstract2[0],100))\n",
        "print(\"\\nWe found the top 10 most similar papers as listed below:\\n\")\n",
        "print(df.ABS.iloc[maxRows2])"
      ],
      "execution_count": 0,
      "outputs": [
        {
          "output_type": "stream",
          "text": [
            "The indexes for most similar papers are:\n",
            "[1046 1453 1279 1383 1064 1168 1563  400  210 1419]\n",
            "\n",
            "\n",
            "The cosine similarity for top 5 papers are:\n",
            "[1.         0.7110584  0.68514544 0.6791583  0.67234355 0.6699095\n",
            " 0.6660905  0.6534609  0.64800745 0.6457798 ]\n",
            "\n",
            "\n",
            "For Paper Abstract:\n",
            "\n",
            "background to investigate the effects and immunological mechanisms of the traditional chinese\n",
            "medicine xinjiaxiangruyin on controlling influenza virus fm1 strain infection in mice housed in a\n",
            "hygrothermal environment methods mice were housed in normal and hygrothermal environments and\n",
            "intranasally infected with influenza virus fm1 a highperformance liquid chromatography fingerprint\n",
            "of xinjiaxiangruyin was used to provide an analytical method for quality control realtime\n",
            "quantitative polymerase chain reaction rtqpcr was used to measure messenger rna expression of\n",
            "tolllike receptor 7 tlr7 myeloid differentiation primary response 88 myd88 and nuclear factorkappa b\n",
            "nfb p65 in the tlr7 signaling pathway and virus replication in the lungs western blotting was used\n",
            "to measure the expression levels of tlr7 myd88 and nfb p65 proteins flow cytometry was used to\n",
            "detect the proportion of th17tregulatory cells results xinjiaxiangruyin effectively alleviated lung\n",
            "inflammation in c57bl6 mice in hot and humid environments guizhimahuanggebantang significantly\n",
            "reduced lung inflammation in c57bl6 mice the expression of tlr7 myd88 and nfb p65 mrna in lung\n",
            "tissue of wt mice in the normal environment gzmhgbt group was significantly lower than that in the\n",
            "model group p  005 in wt mice exposed to the hot and humid environment the expression levels of tlr7\n",
            "myd88 and nfb p65 mrna in the xjxry group were significantly different from those in the virus group\n",
            "the expression levels of tlr7 myd88 and nfb p65 protein in lung tissue of wt mice exposed to the\n",
            "normal environment gzmhgbt group was significantly lower than those in the model group in wt mice\n",
            "exposed to hot and humid environments the expression levels of tlr7 myd88 and nfb p65 protein in\n",
            "xjxry group were significantly different from those in the virus group conclusion\n",
            "guizhimahuanggebantang demonstrated a satisfactory therapeutic effect on mice infected with the\n",
            "influenza a virus fm1 strain in a normal environment and xinjiaxiangruyin demonstrated a clear\n",
            "therapeutic effect in damp and hot environments and may play a protective role against influenza\n",
            "through downregulation of the tlr7 signal pathway\n",
            "\n",
            "We found the top 10 most similar papers as listed below:\n",
            "\n",
            "1046    background to investigate the effects and immu...\n",
            "1453    highly pathogenic h5n1 influenza a virus remai...\n",
            "1279    morbidity and mortality resulting from influen...\n",
            "1383    influenza virus infection causes global inhibi...\n",
            "1064    epidemic and pandemic influenza a virus iav po...\n",
            "1168    introduction ribavirin rbv is a broadspectrum ...\n",
            "1563    borna disease virus bdv can persistently infec...\n",
            "400     abstract background severe acute respiratory s...\n",
            "210     summary objective human infections caused by a...\n",
            "1419    rationale respiratory syncytial virus rsv and ...\n",
            "Name: ABS, dtype: object\n"
          ],
          "name": "stdout"
        }
      ]
    },
    {
      "cell_type": "code",
      "metadata": {
        "id": "_ZNOqd5-otHd",
        "colab_type": "code",
        "outputId": "ecc15f9e-e693-4325-ce4a-3e4a0c34992a",
        "colab": {
          "base_uri": "https://localhost:8080/",
          "height": 899
        }
      },
      "source": [
        "result1 = np.sum(NParray1941papers512vector*test1,axis=1)/(np.sqrt(np.sum(NParray1941papers512vector*NParray1941papers512vector,axis=1))*np.sqrt(np.sum(test1*test1)))\n",
        "maxRows1=result1.argsort()[-10:][::-1]  #https://stackoverflow.com/questions/6910641/how-do-i-get-indices-of-n-maximum-values-in-a-numpy-array\n",
        "print(\"The indexes for most similar papers are:\") \n",
        "print(maxRows1)\n",
        "print(\"\\n\")\n",
        "print(\"The cosine similarity for top 5 papers are:\") \n",
        "print(result1[result1.argsort()[-10:][::-1]])\n",
        "print(\"\\n\")\n",
        "print(\"For Paper Abstract:\\n\")\n",
        "print(textwrap.fill(testAbstract1[0],100))\n",
        "print(\"\\nWe found the top 10 most similar papers as listed below:\\n\")\n",
        "print(df.ABS.iloc[maxRows1])"
      ],
      "execution_count": 0,
      "outputs": [
        {
          "output_type": "stream",
          "text": [
            "The indexes for most similar papers are:\n",
            "[ 984 1499 1937 1064  663 1636  154   38  146  776]\n",
            "\n",
            "\n",
            "The cosine similarity for top 5 papers are:\n",
            "[1.0000001  0.82702947 0.7755653  0.7716375  0.7676146  0.7673607\n",
            " 0.75756603 0.7570241  0.75692147 0.7561372 ]\n",
            "\n",
            "\n",
            "For Paper Abstract:\n",
            "\n",
            "background enterovirus 71 ev71 is one of the major causative agents of hand foot and mouth disease\n",
            "hfmd which is sometimes associated with severe central nervous system disease in children there is\n",
            "currently no specific medication for ev71 infection quercetin one of the most widely distributed\n",
            "flavonoids in plants has been demonstrated to inhibit various viral infections however investigation\n",
            "of the antiev71 mechanism has not been reported to date methods the antiev71 activity of quercetin\n",
            "was evaluated by phenotype screening determining the cytopathic effect cpe and ev71induced cells\n",
            "apoptosis the effects on ev71 replication were evaluated further by determining virus yield viral\n",
            "rna synthesis and protein expression respectively the mechanism of action against ev71 was\n",
            "determined from the effective stage and timeofaddition assays the possible inhibitory functions of\n",
            "quercetin via viral 2apro 3cpro or 3dpol were tested the interaction between ev71 3cpro and\n",
            "quercetin was predicted and calculated by molecular docking results quercetin inhibited ev71mediated\n",
            "cytopathogenic effects reduced ev71 progeny yields and prevented ev71induced apoptosis with low\n",
            "cytotoxicity investigation of the underlying mechanism of action revealed that quercetin exhibited a\n",
            "preventive effect against ev71 infection and inhibited viral adsorption moreover quercetin mediated\n",
            "its powerful therapeutic effects primarily by blocking the early postattachment stage of viral\n",
            "infection further experiments demonstrated that quercetin potently inhibited the activity of the\n",
            "ev71 protease 3cpro blocking viral replication but not the activity of the protease 2apro or the rna\n",
            "polymerase 3dpol modeling of the molecular binding of the 3cproquercetin complex revealed that\n",
            "quercetin was predicted to insert into the substratebinding pocket of ev71 3cpro blocking substrate\n",
            "recognition and thereby inhibiting ev71 3cpro activity conclusions quercetin can effectively prevent\n",
            "ev71induced cell injury with low toxicity to host cells quercetin may act in more than one way to\n",
            "deter viral infection exhibiting some preventive and a powerful therapeutic effect against ev71\n",
            "further quercetin potently inhibits ev71 3cpro activity thereby blocking ev71 replication\n",
            "\n",
            "We found the top 10 most similar papers as listed below:\n",
            "\n",
            "984     background enterovirus 71 ev71 is one of the m...\n",
            "1499    the ubiquitinproteasome system has been shown ...\n",
            "1937    therapeutic targeting of host cell factors req...\n",
            "1064    epidemic and pandemic influenza a virus iav po...\n",
            "663     background protein ubiquitination andor degrad...\n",
            "1636    avian coronavirus infectious bronchitis virus ...\n",
            "154     abstract murine coronavirus mouse hepatitis vi...\n",
            "38      abstract papaverine an inhibitor of camp phosp...\n",
            "146     abstract footandmouth disease virus fmdv is th...\n",
            "776     background public health risks associated to i...\n",
            "Name: ABS, dtype: object\n"
          ],
          "name": "stdout"
        }
      ]
    },
    {
      "cell_type": "markdown",
      "metadata": {
        "id": "8iJZmZNGEy2g",
        "colab_type": "text"
      },
      "source": [
        "# universal-sentence-encoder results\n",
        "embed = hub.load(\"https://tfhub.dev/google/universal-sentence-encoder/3\")\n",
        "\n",
        "The indexes for most similar papers are:\n",
        "[ 984 1499 1937 1064  663 1636  154   38  146  776]\n",
        "\n",
        "\n",
        "The cosine similarity for top 5 papers are:\n",
        "[1.0000001  0.8270295  0.7755654  0.7716375  0.76761466 0.7673608\n",
        " 0.75756603 0.7570242  0.7569215  0.7561373 ]\n",
        "\n",
        "\n",
        "For Paper Abstract:\n",
        "\n",
        "background enterovirus 71 ev71 is one of the major causative agents of hand foot and mouth disease\n",
        "hfmd which is sometimes associated with severe central nervous system disease in children there is\n",
        "currently no specific medication for ev71 infection quercetin one of the most widely distributed\n",
        "flavonoids in plants has been demonstrated to inhibit various viral infections however investigation\n",
        "of the antiev71 mechanism has not been reported to date methods the antiev71 activity of quercetin\n",
        "was evaluated by phenotype screening determining the cytopathic effect cpe and ev71induced cells\n",
        "apoptosis the effects on ev71 replication were evaluated further by determining virus yield viral\n",
        "rna synthesis and protein expression respectively the mechanism of action against ev71 was\n",
        "determined from the effective stage and timeofaddition assays the possible inhibitory functions of\n",
        "quercetin via viral 2apro 3cpro or 3dpol were tested the interaction between ev71 3cpro and\n",
        "quercetin was predicted and calculated by molecular docking results quercetin inhibited ev71mediated\n",
        "cytopathogenic effects reduced ev71 progeny yields and prevented ev71induced apoptosis with low\n",
        "cytotoxicity investigation of the underlying mechanism of action revealed that quercetin exhibited a\n",
        "preventive effect against ev71 infection and inhibited viral adsorption moreover quercetin mediated\n",
        "its powerful therapeutic effects primarily by blocking the early postattachment stage of viral\n",
        "infection further experiments demonstrated that quercetin potently inhibited the activity of the\n",
        "ev71 protease 3cpro blocking viral replication but not the activity of the protease 2apro or the rna\n",
        "polymerase 3dpol modeling of the molecular binding of the 3cproquercetin complex revealed that\n",
        "quercetin was predicted to insert into the substratebinding pocket of ev71 3cpro blocking substrate\n",
        "recognition and thereby inhibiting ev71 3cpro activity conclusions quercetin can effectively prevent\n",
        "ev71induced cell injury with low toxicity to host cells quercetin may act in more than one way to\n",
        "deter viral infection exhibiting some preventive and a powerful therapeutic effect against ev71\n",
        "further quercetin potently inhibits ev71 3cpro activity thereby blocking ev71 replication\n",
        "\n",
        "We found the top 10 most similar papers as listed below:\n",
        "\n",
        "984     background enterovirus 71 ev71 is one of the m...\n",
        "1499    the ubiquitinproteasome system has been shown ...\n",
        "1937    therapeutic targeting of host cell factors req...\n",
        "1064    epidemic and pandemic influenza a virus iav po...\n",
        "663     background protein ubiquitination andor degrad...\n",
        "1636    avian coronavirus infectious bronchitis virus ...\n",
        "154     abstract murine coronavirus mouse hepatitis vi...\n",
        "38      abstract papaverine an inhibitor of camp phosp...\n",
        "146     abstract footandmouth disease virus fmdv is th...\n",
        "776     background public health risks associated to i...\n",
        "\n",
        "\n",
        "\n",
        "The indexes for most similar papers are:\n",
        "[1046 1453 1279 1383 1064 1168 1563  400  210 1419]\n",
        "\n",
        "\n",
        "The cosine similarity for top 5 papers are:\n",
        "[1.         0.7110583  0.6851454  0.6791583  0.6723436  0.6699095\n",
        " 0.6660905  0.6534609  0.64800745 0.6457798 ]\n",
        "\n",
        "\n",
        "For Paper Abstract:\n",
        "\n",
        "background to investigate the effects and immunological mechanisms of the traditional chinese\n",
        "medicine xinjiaxiangruyin on controlling influenza virus fm1 strain infection in mice housed in a\n",
        "hygrothermal environment methods mice were housed in normal and hygrothermal environments and\n",
        "intranasally infected with influenza virus fm1 a highperformance liquid chromatography fingerprint\n",
        "of xinjiaxiangruyin was used to provide an analytical method for quality control realtime\n",
        "quantitative polymerase chain reaction rtqpcr was used to measure messenger rna expression of\n",
        "tolllike receptor 7 tlr7 myeloid differentiation primary response 88 myd88 and nuclear factorkappa b\n",
        "nfb p65 in the tlr7 signaling pathway and virus replication in the lungs western blotting was used\n",
        "to measure the expression levels of tlr7 myd88 and nfb p65 proteins flow cytometry was used to\n",
        "detect the proportion of th17tregulatory cells results xinjiaxiangruyin effectively alleviated lung\n",
        "inflammation in c57bl6 mice in hot and humid environments guizhimahuanggebantang significantly\n",
        "reduced lung inflammation in c57bl6 mice the expression of tlr7 myd88 and nfb p65 mrna in lung\n",
        "tissue of wt mice in the normal environment gzmhgbt group was significantly lower than that in the\n",
        "model group p  005 in wt mice exposed to the hot and humid environment the expression levels of tlr7\n",
        "myd88 and nfb p65 mrna in the xjxry group were significantly different from those in the virus group\n",
        "the expression levels of tlr7 myd88 and nfb p65 protein in lung tissue of wt mice exposed to the\n",
        "normal environment gzmhgbt group was significantly lower than those in the model group in wt mice\n",
        "exposed to hot and humid environments the expression levels of tlr7 myd88 and nfb p65 protein in\n",
        "xjxry group were significantly different from those in the virus group conclusion\n",
        "guizhimahuanggebantang demonstrated a satisfactory therapeutic effect on mice infected with the\n",
        "influenza a virus fm1 strain in a normal environment and xinjiaxiangruyin demonstrated a clear\n",
        "therapeutic effect in damp and hot environments and may play a protective role against influenza\n",
        "through downregulation of the tlr7 signal pathway\n",
        "\n",
        "We found the top 10 most similar papers as listed below:\n",
        "\n",
        "1046    background to investigate the effects and immu...\n",
        "1453    highly pathogenic h5n1 influenza a virus remai...\n",
        "1279    morbidity and mortality resulting from influen...\n",
        "1383    influenza virus infection causes global inhibi...\n",
        "1064    epidemic and pandemic influenza a virus iav po...\n",
        "1168    introduction ribavirin rbv is a broadspectrum ...\n",
        "1563    borna disease virus bdv can persistently infec...\n",
        "400     abstract background severe acute respiratory s...\n",
        "210     summary objective human infections caused by a...\n",
        "1419    rationale respiratory syncytial virus rsv and ...\n",
        "Name: ABS, dtype: object"
      ]
    },
    {
      "cell_type": "code",
      "metadata": {
        "id": "63TOq1DzooUi",
        "colab_type": "code",
        "colab": {}
      },
      "source": [
        "# # cos_sim(embeddingsT1,DF1941papers512vector.iloc[0])\n",
        "\n",
        "# cos_sim(test1,test2)"
      ],
      "execution_count": 0,
      "outputs": []
    },
    {
      "cell_type": "code",
      "metadata": {
        "id": "UaxWrbunj7tx",
        "colab_type": "code",
        "colab": {}
      },
      "source": [
        "# result = []\n",
        "# for ii in range(1941):\n",
        "#   result.append(cos_sim(test1,DF1941papers512vector.iloc[0]))\n",
        "# print(result)"
      ],
      "execution_count": 0,
      "outputs": []
    },
    {
      "cell_type": "code",
      "metadata": {
        "id": "hZfXAIQtmSTE",
        "colab_type": "code",
        "colab": {}
      },
      "source": [
        "# type(test1)"
      ],
      "execution_count": 0,
      "outputs": []
    },
    {
      "cell_type": "code",
      "metadata": {
        "id": "Km1LRzJcmZoe",
        "colab_type": "code",
        "colab": {}
      },
      "source": [
        "# type(NParray1941papers512vector[0])"
      ],
      "execution_count": 0,
      "outputs": []
    },
    {
      "cell_type": "code",
      "metadata": {
        "id": "uU3WoMqAmd8c",
        "colab_type": "code",
        "colab": {}
      },
      "source": [
        "# test1.shape"
      ],
      "execution_count": 0,
      "outputs": []
    },
    {
      "cell_type": "code",
      "metadata": {
        "id": "CYMbvXO2mjOH",
        "colab_type": "code",
        "colab": {}
      },
      "source": [
        "# NParray1941papers512vector[0].shape"
      ],
      "execution_count": 0,
      "outputs": []
    },
    {
      "cell_type": "code",
      "metadata": {
        "id": "_vjJsSEzml7p",
        "colab_type": "code",
        "colab": {}
      },
      "source": [
        "# np.reshape(NParray1941papers512vector[0],[1,512]).shape"
      ],
      "execution_count": 0,
      "outputs": []
    },
    {
      "cell_type": "code",
      "metadata": {
        "id": "OLuSKASlm_XT",
        "colab_type": "code",
        "colab": {}
      },
      "source": [
        "# DF1941papers512vector.iloc[0].shape"
      ],
      "execution_count": 0,
      "outputs": []
    },
    {
      "cell_type": "code",
      "metadata": {
        "id": "Y_OVCdEvnyrW",
        "colab_type": "code",
        "colab": {}
      },
      "source": [
        "# np.reshape(DF1941papers512vector.iloc[0],[1,512]).shape"
      ],
      "execution_count": 0,
      "outputs": []
    },
    {
      "cell_type": "code",
      "metadata": {
        "id": "qfCQztnjoWZB",
        "colab_type": "code",
        "colab": {}
      },
      "source": [
        "# embeddingsT1.shape"
      ],
      "execution_count": 0,
      "outputs": []
    }
  ]
}